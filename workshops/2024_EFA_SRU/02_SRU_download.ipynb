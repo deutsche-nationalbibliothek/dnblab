{
 "cells": [
  {
   "cell_type": "code",
   "execution_count": null,
   "id": "2ad597dd-e973-4ebc-9e4a-a550adc10af4",
   "metadata": {},
   "outputs": [],
   "source": [
    "import pandas as pd\n",
    "import os\n",
    "import wget\n",
    "import PyPDF2\n",
    "from PyPDF2 import PdfReader\n",
    "import urllib.parse"
   ]
  },
  {
   "cell_type": "code",
   "execution_count": null,
   "id": "6ef6a896-af1a-4332-9d4c-4fba15e243ff",
   "metadata": {},
   "outputs": [],
   "source": [
    "df = pd.read_csv(\"Studentenbewegung_free_pdf.csv\", encoding=\"utf-8\")\n",
    "df"
   ]
  },
  {
   "cell_type": "markdown",
   "id": "b135d39a-a10a-49aa-bf39-60517bdc48de",
   "metadata": {},
   "source": [
    "### Linkliste erstellen"
   ]
  },
  {
   "cell_type": "code",
   "execution_count": null,
   "id": "0db1a760-9507-4478-bee1-7e1b8d651265",
   "metadata": {},
   "outputs": [],
   "source": [
    "links = df[\"links\"]\n",
    "print(links)"
   ]
  },
  {
   "cell_type": "code",
   "execution_count": null,
   "id": "c6298a8a-32ef-4184-ba09-c446880e07f1",
   "metadata": {},
   "outputs": [],
   "source": [
    "print(links[0])"
   ]
  },
  {
   "cell_type": "code",
   "execution_count": null,
   "id": "aece24bb-6f26-402a-9c9a-ad7610b5c9ea",
   "metadata": {},
   "outputs": [],
   "source": [
    "linklist = []\n",
    "\n",
    "for element in links:\n",
    "    related_links = element.split(\"; \")\n",
    "    for link in related_links: \n",
    "        if link.startswith(\"https://d-nb.info/\"):\n",
    "            #print(link)\n",
    "            linklist.append(link)"
   ]
  },
  {
   "cell_type": "code",
   "execution_count": null,
   "id": "e7c5914e-70f1-4647-b531-e5703a5a2c6c",
   "metadata": {},
   "outputs": [],
   "source": [
    "print(len(linklist))"
   ]
  },
  {
   "cell_type": "markdown",
   "id": "27f40318-f243-4f4c-a6cc-d89373d70136",
   "metadata": {},
   "source": [
    "#### Alternative:"
   ]
  },
  {
   "cell_type": "markdown",
   "id": "b36a981e-9297-494b-9831-e63ad38568c1",
   "metadata": {},
   "source": [
    "```\n",
    "linklist = []\n",
    "\n",
    "for idn in df.idn: \n",
    "    link = \"https://d-nb.info/\" + idn + \"/34\"\n",
    "    linklist.append(link) \n",
    "```"
   ]
  },
  {
   "cell_type": "markdown",
   "id": "412e43f1-96b1-4a10-9bcc-aa0e689f0fa5",
   "metadata": {},
   "source": [
    "## Download der PDFs\n",
    "\n",
    "Gekürzte Liste erstellen (damit es schneller geht):"
   ]
  },
  {
   "cell_type": "code",
   "execution_count": null,
   "id": "207e9ea3-b091-492b-aa09-4296c566ca8a",
   "metadata": {},
   "outputs": [],
   "source": [
    "testlist = linklist[60:70]\n",
    "print(testlist)"
   ]
  },
  {
   "cell_type": "markdown",
   "id": "f1c2e428-f1c7-45ec-ba54-1fdce4bc05b5",
   "metadata": {},
   "source": [
    "Funktion zum Herunterladen definieren, die zunächst ein neues Verzeichnis für die gesammelten Dateien erstellt und diese dann herunterlädt und unter Nutzung der IDN als Dateiname abspeichert:"
   ]
  },
  {
   "cell_type": "code",
   "execution_count": null,
   "id": "fa8cc3d0-075c-4b02-a2fd-f2c96f61f6db",
   "metadata": {},
   "outputs": [],
   "source": [
    "import requests\n",
    "\n",
    "def download_text(testlist, save_directory):\n",
    "    # Erstellen des später definierten Speicherverzeichnis, falls es dieses noch nicht gibt\n",
    "    if not os.path.exists(save_directory):\n",
    "        os.makedirs(save_directory)\n",
    "    \n",
    "    for link in testlist: \n",
    "        # IDN ermitteln:\n",
    "        idn = link.split('/')[-2]\n",
    "        # Original-Dateiname und -Endung aus Content-Disposition header ermitteln und als Basis nutzen:\n",
    "        response = requests.head(link)\n",
    "        content_disposition = response.headers.get('Content-Disposition')\n",
    "        orig_filename = content_disposition.split('filename=')[-1].strip('\";')\n",
    "        orig_extension = orig_filename.split(\".\")[-1]\n",
    "        #print(orig_extension)\n",
    "\n",
    "        # Dateiname aus IDN und originalem Dateiname zusammensetzen: \n",
    "        file_name = f\"{idn}.{orig_extension}\"\n",
    "        file_path = os.path.join(save_directory, file_name)\n",
    "        print(f\" Starte Download: {file_name}\")\n",
    "        try: \n",
    "            #Datei herunterladen:\n",
    "            wget.download(link, out=file_path)\n",
    "        except Exception as e:\n",
    "            print(f\"Fehler beim Herunterladen von {link}: {e}\")"
   ]
  },
  {
   "cell_type": "code",
   "execution_count": null,
   "id": "edcc7be4-a3a4-4733-b41e-95f826ba771d",
   "metadata": {},
   "outputs": [],
   "source": [
    "save_directory = \"downloads\"\n",
    "\n",
    "download_text(testlist, save_directory)"
   ]
  },
  {
   "cell_type": "code",
   "execution_count": null,
   "id": "ff4b60dc-0dea-4441-806e-9c404c0b6c2c",
   "metadata": {},
   "outputs": [],
   "source": []
  }
 ],
 "metadata": {
  "kernelspec": {
   "display_name": "Python 3 (ipykernel)",
   "language": "python",
   "name": "python3"
  },
  "language_info": {
   "codemirror_mode": {
    "name": "ipython",
    "version": 3
   },
   "file_extension": ".py",
   "mimetype": "text/x-python",
   "name": "python",
   "nbconvert_exporter": "python",
   "pygments_lexer": "ipython3",
   "version": "3.12.4"
  }
 },
 "nbformat": 4,
 "nbformat_minor": 5
}
