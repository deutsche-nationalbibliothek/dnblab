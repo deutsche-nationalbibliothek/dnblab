{
 "cells": [
  {
   "cell_type": "code",
   "execution_count": null,
   "id": "2348b1e0-b63f-4e84-bec7-65b609e6d66b",
   "metadata": {},
   "outputs": [],
   "source": [
    "import pandas as pd\n",
    "import os\n",
    "import wget\n",
    "import PyPDF2\n",
    "from PyPDF2 import PdfReader\n",
    "import urllib.parse"
   ]
  },
  {
   "cell_type": "markdown",
   "id": "e1689330-f383-453b-81c8-274d5c3dbc91",
   "metadata": {},
   "source": [
    "### Test: Einlesen einer Seite eines PDFs"
   ]
  },
  {
   "cell_type": "code",
   "execution_count": null,
   "id": "0a1dbe30-3480-47bd-9983-02de309e2936",
   "metadata": {},
   "outputs": [],
   "source": [
    "def test_read_pdf(file_path, file_name):\n",
    "    reader = PdfReader(file_path + \"/\" + file_name)\n",
    "    number_of_pages = len(reader.pages)\n",
    "    page = reader.pages[10]\n",
    "    text = page.extract_text()\n",
    "    print(text)"
   ]
  },
  {
   "cell_type": "code",
   "execution_count": null,
   "id": "46060f70-734a-4a40-9d63-7311834da5f9",
   "metadata": {},
   "outputs": [],
   "source": [
    "test_read_pdf(\"downloads\", \"1192182693.pdf\")"
   ]
  },
  {
   "cell_type": "markdown",
   "id": "2e3c1400-59f4-4eaa-86f9-0012cc7b2c50",
   "metadata": {},
   "source": [
    "### Einlesen einer kompletten PDF-Datei:"
   ]
  },
  {
   "cell_type": "code",
   "execution_count": null,
   "id": "d794f824-cc2f-4963-8769-7d7201d4afa3",
   "metadata": {},
   "outputs": [],
   "source": [
    "def read_pdf_content(file_path, filename):\n",
    "    try:\n",
    "        reader = PdfReader(file_path + \"/\" + filename)\n",
    "        number_of_pages = len(reader.pages)\n",
    "        text = \"\"\n",
    "        for page in reader.pages:\n",
    "            text += page.extract_text()  # + \"\\n\"\n",
    "        return text\n",
    "    except Exception as e:\n",
    "        print(f\"Fehler beim Einlesen der Datei {filename}: {e}\")\n",
    "        return \"Fehler beim Einlesen der Datei\""
   ]
  },
  {
   "cell_type": "code",
   "execution_count": null,
   "id": "9385024a-5006-4fed-9efb-7c39042ab389",
   "metadata": {
    "scrolled": true
   },
   "outputs": [],
   "source": [
    "test = read_pdf_content(\"downloads\", \"1192182693.pdf\")\n",
    "print(test)"
   ]
  },
  {
   "cell_type": "markdown",
   "id": "ac4f76e3-be18-46f8-8c4b-eb284365b765",
   "metadata": {},
   "source": [
    "#### Einlesen aller Dateien aus dem \"downloads\"-Verzeichnis, die auf .pdf enden. Anschließend werden die Texte im Zusammenhang mit ihrem Dateinamen in ein Pandas_Dataframe überführt:"
   ]
  },
  {
   "cell_type": "code",
   "execution_count": null,
   "id": "33cac2a1-6489-4bae-8ac7-320184ac6fde",
   "metadata": {},
   "outputs": [],
   "source": [
    "def get_text_from_pdfs(file_path):\n",
    "    pdf_text = {}\n",
    "    for filename in os.listdir(file_path):\n",
    "        if filename.endswith(\".pdf\"):\n",
    "            text = read_pdf_content(file_path, filename)\n",
    "            pdf_text[filename] = text\n",
    "    return pdf_text"
   ]
  },
  {
   "cell_type": "code",
   "execution_count": null,
   "id": "6976feff-ebd8-4c67-be8f-eb515c0e351f",
   "metadata": {},
   "outputs": [],
   "source": [
    "pdf_texts = get_text_from_pdfs(\"downloads\")"
   ]
  },
  {
   "cell_type": "code",
   "execution_count": null,
   "id": "5c460177-b3c0-42c1-8c1e-1d00e8c7591e",
   "metadata": {
    "scrolled": true
   },
   "outputs": [],
   "source": [
    "print(pdf_texts)"
   ]
  },
  {
   "cell_type": "code",
   "execution_count": null,
   "id": "7f309149-2f5c-4e83-b6b6-997bb6040391",
   "metadata": {},
   "outputs": [],
   "source": [
    "#Löschen der ganzen Zeilenumbrüche (\"\\n\"): \n",
    "pdf_texts = {key: value.replace('\\n', ' ') for key, value in pdf_texts.items()}\n"
   ]
  },
  {
   "cell_type": "code",
   "execution_count": null,
   "id": "ba089e6f-56ec-45da-9e35-990599d2a7a7",
   "metadata": {},
   "outputs": [],
   "source": [
    "for key, value in pdf_texts.items():\n",
    "    print(f\"Key: {key}, Type of value: {type(value)}\")\n",
    "    if value is None:\n",
    "        print(f\"None value found for key: {key}\")"
   ]
  },
  {
   "cell_type": "code",
   "execution_count": null,
   "id": "6a55d0ff-081c-4287-83cf-df7361f8c0ee",
   "metadata": {},
   "outputs": [],
   "source": [
    "#Umwandeln in ein Dataframe:\n",
    "df_texts = pd.DataFrame.from_dict(pdf_texts, orient='index', columns=['Text'])\n",
    "df_texts.reset_index(inplace=True)\n",
    "df_texts.columns = ['filename', 'text']\n",
    "df_texts"
   ]
  },
  {
   "cell_type": "code",
   "execution_count": null,
   "id": "e72b2ead-85ad-4a34-aad9-31f0668d6393",
   "metadata": {},
   "outputs": [],
   "source": [
    "df_texts.to_hdf(\"pdf_texts.h5\", key=\"df_texts\")"
   ]
  },
  {
   "cell_type": "code",
   "execution_count": null,
   "id": "87d04053-451d-4bf5-b9f9-6bea45714952",
   "metadata": {},
   "outputs": [],
   "source": []
  }
 ],
 "metadata": {
  "kernelspec": {
   "display_name": "Python 3 (ipykernel)",
   "language": "python",
   "name": "python3"
  },
  "language_info": {
   "codemirror_mode": {
    "name": "ipython",
    "version": 3
   },
   "file_extension": ".py",
   "mimetype": "text/x-python",
   "name": "python",
   "nbconvert_exporter": "python",
   "pygments_lexer": "ipython3",
   "version": "3.12.4"
  }
 },
 "nbformat": 4,
 "nbformat_minor": 5
}
