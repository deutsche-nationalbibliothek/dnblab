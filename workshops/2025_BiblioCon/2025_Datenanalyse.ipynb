{
 "cells": [
  {
   "cell_type": "markdown",
   "id": "b77bb8ff-5f39-4e00-8e88-100a9bf314d5",
   "metadata": {},
   "source": [
    "# Hands-On-Lab: Datenanalyse für Bibliothekar*innen mit dem DNBLab\n",
    "\n",
    "## Inhalt dieses Workshops: \n",
    "\n",
    "  1.  Kurze Vorstellung DNBLab\n",
    "  2.  Einführung in das Thema Datenanalyse und möglicher Mehrwerte\n",
    "  3.  Sammlung konkreter Anliegen der Teilnehmer*innen\n",
    "  4.  Gemeinsame exemplarische Aufbereitung eines Datensets mit beispielhafter Analyse\n",
    "  5.  Gruppen- oder Einzelarbeit an weiteren Fragestellungen\n",
    "  6.  Sammlung der Ergebnisse und Erkenntnisse\n",
    "  7.  Abschlussdiskussion"
   ]
  },
  {
   "cell_type": "markdown",
   "id": "63275b32-8851-466f-98aa-a9901d334cfc",
   "metadata": {},
   "source": [
    "### 3. Sammlung konkreter Anliegen\n",
    "\n",
    "https://tinyurl.com/bid25datenanalyse"
   ]
  },
  {
   "cell_type": "markdown",
   "id": "e91d34ef-f612-48a3-8e97-61127d9bb198",
   "metadata": {
    "jp-MarkdownHeadingCollapsed": true
   },
   "source": [
    "### 4. Gemeinsame Aufbereitung und erste Analyse eines Datensets\n",
    "\n",
    "Bitte folgendes Datenset nutzen `/shared/dataset_turorial_eco.xml` oder hier herunterladen: https://github.com/deutsche-nationalbibliothek/dnblab/blob/main/dataset_tutorial_eco.xml\n",
    "\n",
    "Wichtigste MARC21-xml-Felder: https://www.dnb.de/SharedDocs/Downloads/DE/Professionell/Services/efa2023HandoutInhalteInMarc.pdf?__blob=publicationFile&v=2\n",
    "\n",
    "\n",
    "#### Bibliotheken importieren und Arbeitsumgebung einrichten\n",
    "\n",
    "Zuerst werden die notwendigen Bibliotheken importiert:\n",
    "\n",
    "  - `pandas`: Biblikothek für die Datenmanipulation\n",
    "  - `lxml` bzw. etree: für das Parsen von XML-Daten\n",
    "  - `unicodedata`: Für die Arbeit mit Unicode-Zeichen und -Strings\n",
    "  - `plotly.express`: leistungsstarke Bibliothek in Python für die Erstellung von interaktiven Visualisierungen und Diagrammen\n"
   ]
  },
  {
   "cell_type": "code",
   "execution_count": null,
   "id": "c452a676-1fb1-49ff-a001-2b280d387a4d",
   "metadata": {},
   "outputs": [],
   "source": [
    "# Benötigte Python-Bibliotheken importieren\n",
    "import pandas as pd\n",
    "from lxml import etree\n",
    "import plotly.express as px"
   ]
  },
  {
   "cell_type": "code",
   "execution_count": null,
   "id": "59929e1f-f010-451f-aac2-3a266c1c13e4",
   "metadata": {},
   "outputs": [],
   "source": [
    "with open (\"shared/dataset_tutorial_eco.xml\", encoding=\"utf-8\") as f: \n",
    "    xml = f.read()"
   ]
  },
  {
   "cell_type": "code",
   "execution_count": null,
   "id": "debc90ee-2620-4f64-86fe-457d14fcb5ff",
   "metadata": {},
   "outputs": [],
   "source": [
    "print(xml[:1000])"
   ]
  },
  {
   "cell_type": "code",
   "execution_count": null,
   "id": "96072ee9-ab56-4ca3-b59d-812a70b61103",
   "metadata": {},
   "outputs": [],
   "source": [
    "#df = pd.read_xml(\"shared/dataset_tutorial_eco.xml\", xpath=\"//marc:controlfield\", namespaces={\"marc\":\"http://www.loc.gov/MARC21/slim\"})\n",
    "#df"
   ]
  },
  {
   "cell_type": "code",
   "execution_count": null,
   "id": "d5e5123b-09c1-4916-8b96-7f4015bd000a",
   "metadata": {},
   "outputs": [],
   "source": [
    "# Laden der MARC-xml-Datei in ElementTree: \n",
    "tree = etree.parse('shared/dataset_tutorial_eco.xml')\n",
    "\n",
    "# Laden des Root-Verzeichnisses des XML:\n",
    "root = tree.getroot()                \n",
    "\n",
    "# Definiere den Namensraum für MARC21 - muss bei Bedarf angepasst werden (wenn bspw. ein anderes Metadatenformat genutzt wird):\n",
    "ns = {'marc': 'http://www.loc.gov/MARC21/slim'} \n",
    "# Einlesen der einzelnen enthaltenen Datensätze (records) in eine Liste: \n",
    "records = root.findall('.//marc:record', namespaces=ns)\n",
    "\n",
    "#Ausgabe der Länge der Liste als Kontrolle für die Anzahl der enthaltenen Datensätze:\n",
    "print(\"Gefundene Records:\", len(records))"
   ]
  },
  {
   "cell_type": "markdown",
   "id": "e501905a-7c1d-4f52-972b-faf9871023ef",
   "metadata": {},
   "source": [
    "#### Direkter Zugriff auf die Inhalte des XML\n",
    "\n",
    "Im Folgenden wird beispielhaft einer der Datensätze aus der Variable \"records\" separat gespeichert. Daraufhin wird er in einen String umgewandelt, um ihn betrachten zu können. Im Anschluss wird aus diesem Datensatz das \"Controlfield\" mit dem Tag 001 extrahiert und dessen Inhalt exemplarisch ausgegeben.\n"
   ]
  },
  {
   "cell_type": "code",
   "execution_count": null,
   "id": "7857c458-2033-4780-97ef-75fc85fa9894",
   "metadata": {},
   "outputs": [],
   "source": [
    "# Beispielhaft einen der Datensätze aus der Liste als eigene Variable speichern:\n",
    "test_record = records[0]\n",
    "\n",
    "# In einen String umwandeln: \n",
    "test_record_string = etree.tostring(test_record, encoding=\"utf-8\")\n",
    "print(test_record_string)"
   ]
  },
  {
   "cell_type": "markdown",
   "id": "3c12dfae-e36c-42ec-be91-36763d9785d5",
   "metadata": {},
   "source": [
    "Extrahieren des Inhalts des Controlfields mit dem Tag \"001\" aus \"test_record\":"
   ]
  },
  {
   "cell_type": "code",
   "execution_count": null,
   "id": "29046d06-5875-49cd-8b77-ba28f71964a5",
   "metadata": {},
   "outputs": [],
   "source": [
    "# Angabe des Namespaces: \n",
    "ns = {'marc': 'http://www.loc.gov/MARC21/slim'}\n",
    "\n",
    "# Extraktion des Elements \"Controlfield\" mit dem Tag \"001\"\n",
    "controlfield_001 = test_record.find(\"marc:controlfield[@tag='001']\", namespaces=ns)\n",
    "print(controlfield_001)"
   ]
  },
  {
   "cell_type": "code",
   "execution_count": null,
   "id": "7cd8ce24-2b45-42f4-8b01-cb9a78a2972f",
   "metadata": {},
   "outputs": [],
   "source": [
    "# Ausgabe des Inhalts des Controlfields: \n",
    "print(controlfield_001.text)"
   ]
  },
  {
   "cell_type": "markdown",
   "id": "9a469a7d-6bb6-4e9a-83f1-26c8af12aaf8",
   "metadata": {},
   "source": [
    "#### Funktion zur Extraktion mehrerer Inhalte aus den einzelnen Datensätzen:\n",
    "\n",
    "Die Funktion `parse_record` erwartet nun immer einen einzelnen Datensatz (record), den sie verarbeitet. Hierzu ist zunächst wieder der passende Namespace defininiert.\n",
    "\n",
    "Zusätzlich wurde eine weitere Funktion `extract_text` definiert. Diese erwartet eine Pfadangabe zu einem XML-Element wie bspw. `marc:controlfield[@tag='001']` oder auch `marc:datafield[@tag='245']/marc:subfield[@code='a']`. Die Funktion sucht dann nach den entsprechenden Elementen im XML und extrahiert den Inhalt. Falls mehrere Felder mit demselben Pfad enthalten sind, werden die Inhalte durch \"; \" zu einem String verbunden.\n",
    "\n",
    "Anschließend wird für jeden gewünschten Inhalt eine Variable definiert (bspw. \"titel\"), die dann auf die Funktion `extract_text` zugreift, dieser den angegebenen Pfad übergibt und den zurückgegebenen Inhalt speichert.\n",
    "\n",
    "Zuletzt werden die Inhalte jeder erstellten Variable einem passenden Schlüssel zugeordnet und als einfaches Dictionary (Sammlung von Schlüssel-Werte-Paaren) zurückgegeben."
   ]
  },
  {
   "cell_type": "code",
   "execution_count": null,
   "id": "55f7aabb-758a-492a-9f49-7fb5da32a595",
   "metadata": {},
   "outputs": [],
   "source": [
    "# Funktion zum Extrahieren von Datensätzen\n",
    "def parse_record(record):\n",
    "    ns = {\"marc\": \"http://www.loc.gov/MARC21/slim\"}\n",
    "    \n",
    "    def extract_text(xpath_query):\n",
    "        fields = record.xpath(xpath_query, namespaces=ns)\n",
    "        if fields:\n",
    "            return \"; \".join(field.text.replace('\\x98', '').replace('\\x9c', '') for field in fields if field.text)\n",
    "        return \"unknown\"\n",
    "\n",
    "    idn = extract_text(\"marc:controlfield[@tag='001']\")\n",
    "    titel = extract_text(\"marc:datafield[@tag='245']/marc:subfield[@code='a']\")\n",
    "    author = extract_text(\"marc:datafield[@tag='100']/marc:subfield[@code='a']\")\n",
    "    author_rela = extract_text(\"marc:datafield[@tag='100']/marc:subfield[@code='e']\")\n",
    "    add_author = extract_text(\"marc:datafield[@tag='700']/marc:subfield[@code='a']\")\n",
    "    add_author_rela = extract_text(\"marc:datafield[@tag='700']/marc:subfield[@code='e']\")\n",
    "    jahr = extract_text(\"marc:datafield[@tag='264']/marc:subfield[@code='c']\")\n",
    "\n",
    "    return {\n",
    "        \"idn\": idn,\n",
    "        \"author\": author,\n",
    "        \"titel\": titel,\n",
    "        \"author_rela\": author_rela,\n",
    "        \"additional_author\": add_author,\n",
    "        \"added_rela\": add_author_rela,\n",
    "        \"jahr\": jahr        \n",
    "    }"
   ]
  },
  {
   "cell_type": "markdown",
   "id": "2c8250a3-9516-44f1-998c-064066e236d7",
   "metadata": {},
   "source": [
    "Nun werden die einzelnen Datensätze aus der Menge der gesammelten Datensätze in der Variable `records` nacheinander (Datensatz für Datensatz) der Funktion `parse_record` übergeben und die zurückgewonnenen Inhalte in der Variable `result` gespeichert:"
   ]
  },
  {
   "cell_type": "code",
   "execution_count": null,
   "id": "adeddd6a-e220-4f24-9407-76fbdb75fabc",
   "metadata": {},
   "outputs": [],
   "source": [
    "# Übergabe der einzelnen Datensätze an die Funktion \"parse_record\":\n",
    "result = [parse_record(record) for record in records]"
   ]
  },
  {
   "cell_type": "code",
   "execution_count": null,
   "id": "d77228dc-5886-401d-8840-fbf4f9e41998",
   "metadata": {
    "scrolled": true
   },
   "outputs": [],
   "source": [
    "print(result)"
   ]
  },
  {
   "cell_type": "markdown",
   "id": "c511209b-2d1e-4730-ac29-2eae8303dca6",
   "metadata": {},
   "source": [
    "Abschließend können die Inhalte aus der Variable result in eine Tabelle in Form eines Pandas-Dataframes für die weitere Arbeit umgewandelt werden:"
   ]
  },
  {
   "cell_type": "code",
   "execution_count": null,
   "id": "f9c6d1e8-5a09-468f-bac7-bece1d1e3edd",
   "metadata": {},
   "outputs": [],
   "source": [
    "# Umwandlung in ein Pandas-Dataframe\n",
    "df = pd.DataFrame(result)\n",
    "df#.head()"
   ]
  },
  {
   "cell_type": "markdown",
   "id": "1e4e4df3-cc3e-4c48-92cf-5ccc91c68719",
   "metadata": {},
   "source": [
    "#### Speichern des Dataframes\n",
    "\n",
    "Dataframes können in mehreren Formaten gespeichert werden:\n",
    "\n",
    "Speichern als CSV, Excel oder hdf:"
   ]
  },
  {
   "cell_type": "code",
   "execution_count": null,
   "id": "ff495b3f-9da2-4c75-8b7c-f46795e0f50e",
   "metadata": {},
   "outputs": [],
   "source": [
    "df.to_csv(\"Publiaktionsdaten.csv\", encoding=\"utf-8\")"
   ]
  },
  {
   "cell_type": "code",
   "execution_count": null,
   "id": "5a1fe5c1-d250-448c-9c82-3107498812dd",
   "metadata": {},
   "outputs": [],
   "source": [
    "df.to_excel(\"Publiaktionsdaten.xlsx\")"
   ]
  },
  {
   "cell_type": "code",
   "execution_count": null,
   "id": "a2453810-29de-4b5b-92d3-752dc4242e4e",
   "metadata": {},
   "outputs": [],
   "source": [
    "df.to_hdf(\"Publiaktionsdaten.h5\", key=\"df\")"
   ]
  },
  {
   "cell_type": "markdown",
   "id": "936945c3-3549-4b1c-9ce8-fcd236bf8785",
   "metadata": {},
   "source": [
    "#### Erste Analyse"
   ]
  },
  {
   "cell_type": "code",
   "execution_count": null,
   "id": "fca32178-eade-49e1-8fe9-09929436b460",
   "metadata": {},
   "outputs": [],
   "source": [
    "# Häufigkeit der Autoren zählen\n",
    "author_counts = df['author'].value_counts().head(15).reset_index()"
   ]
  },
  {
   "cell_type": "code",
   "execution_count": null,
   "id": "b8c8b72c-b370-4134-bcf2-321062c90b54",
   "metadata": {},
   "outputs": [],
   "source": [
    "#Augabe im Dataframe\n",
    "author_counts.columns=['author', 'count']\n",
    "author_counts"
   ]
  },
  {
   "cell_type": "code",
   "execution_count": null,
   "id": "047bba93-27e6-4837-9401-a9daedaf2ec4",
   "metadata": {},
   "outputs": [],
   "source": [
    "# Balkendiagramm erstellen\n",
    "fig1 = px.bar(author_counts, x='author', y='count', height=550,\n",
    "             title='Häufigste Autoren im Datenset', color='count', color_continuous_scale='Viridis')\n",
    "\n",
    "# Diagramm anzeigen\n",
    "fig1.show()"
   ]
  },
  {
   "cell_type": "markdown",
   "id": "ebc0c879-5be8-4746-8fa2-6e1357b3547e",
   "metadata": {},
   "source": [
    "### 5. Selbst aktiv werden\n",
    "\n",
    "https://portal.dnb.de und \n",
    "https://srudump.streamlit.app/\n",
    "\n",
    "oder\n",
    "\n",
    "https://github.com/ssp24/dnb_dump_app"
   ]
  },
  {
   "cell_type": "markdown",
   "id": "e2f05dd9-2a77-48c9-9c0e-f8ad1e42ec21",
   "metadata": {},
   "source": [
    "### 6. Sammlung Ergebnisse\n",
    "\n",
    "https://tinyurl.com/bid25datenanalyse"
   ]
  }
 ],
 "metadata": {
  "kernelspec": {
   "display_name": "Python 3 (ipykernel)",
   "language": "python",
   "name": "python3"
  },
  "language_info": {
   "codemirror_mode": {
    "name": "ipython",
    "version": 3
   },
   "file_extension": ".py",
   "mimetype": "text/x-python",
   "name": "python",
   "nbconvert_exporter": "python",
   "pygments_lexer": "ipython3",
   "version": "3.12.6"
  }
 },
 "nbformat": 4,
 "nbformat_minor": 5
}
