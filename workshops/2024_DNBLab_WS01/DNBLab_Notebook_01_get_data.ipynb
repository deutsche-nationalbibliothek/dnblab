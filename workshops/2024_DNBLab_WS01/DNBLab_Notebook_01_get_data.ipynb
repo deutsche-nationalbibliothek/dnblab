{
 "cells": [
  {
   "cell_type": "code",
   "execution_count": 1,
   "id": "330496bb-982f-478f-ac3c-8da7ab94bfbe",
   "metadata": {},
   "outputs": [],
   "source": [
    "import requests\n",
    "import pandas as pd\n",
    "import lxml.etree as ET\n",
    "from bs4 import BeautifulSoup as soup\n",
    "import unicodedata\n"
   ]
  },
  {
   "cell_type": "markdown",
   "id": "425e38d6-d65c-4cfa-a1c9-0d47705b1741",
   "metadata": {},
   "source": [
    "## Herunterladen der Dateien: "
   ]
  },
  {
   "cell_type": "code",
   "execution_count": 2,
   "id": "15a83e44-bec6-41ff-957b-4050d956642a",
   "metadata": {},
   "outputs": [],
   "source": [
    "def dnb_sru(query):\n",
    "    \n",
    "    base_url = \"https://services.dnb.de/sru/dnb\"\n",
    "    params = {'recordSchema' : 'MARC21-xml',\n",
    "          'operation': 'searchRetrieve',\n",
    "          'version': '1.1',\n",
    "          'maximumRecords': '100',\n",
    "          'query': query\n",
    "         }\n",
    "    r = requests.get(base_url, params=params)\n",
    "    xml = soup(r.content, features=\"xml\")\n",
    "    records = xml.find_all('record', {'type':'Bibliographic'})\n",
    "    treffer = xml.find_all(\"numberOfRecords\")[0].text\n",
    "    treffer = int(treffer)\n",
    "    loops = int(treffer/100)\n",
    "        \n",
    "    if len(records) < 100:\n",
    "        \n",
    "        return records\n",
    "    \n",
    "    else:\n",
    "        \n",
    "        num_results = 100\n",
    "        i = 101\n",
    "        #pbar = tqdm(total=loops)\n",
    "        while num_results == 100:\n",
    "            \n",
    "            params.update({'startRecord': i})\n",
    "            r = requests.get(base_url, params=params)\n",
    "            xml = soup(r.content, features=\"xml\")\n",
    "            new_records = xml.find_all('record', {'type':'Bibliographic'})\n",
    "            records+=new_records\n",
    "            i+=100\n",
    "            num_results = len(new_records)\n",
    "            #pbar.update()\n",
    "            \n",
    "        return records"
   ]
  },
  {
   "cell_type": "code",
   "execution_count": 3,
   "id": "589b052a-ff71-4a14-a8bf-fcf33fd4be54",
   "metadata": {},
   "outputs": [
    {
     "name": "stdout",
     "output_type": "stream",
     "text": [
      "773 Ergebnisse\n"
     ]
    }
   ],
   "source": [
    "myquery = dnb_sru('tit=Pandemie and location=onlinefree and cod=pdf')\n",
    "print(len(myquery), \"Ergebnisse\")"
   ]
  },
  {
   "cell_type": "markdown",
   "id": "2132cbd9-3946-44b4-ad76-b0b924ace6eb",
   "metadata": {},
   "source": [
    "## Speichern des Datendumps: "
   ]
  },
  {
   "cell_type": "code",
   "execution_count": 4,
   "id": "61186364-97f9-46cd-9cac-9c9c5d5bf09e",
   "metadata": {},
   "outputs": [],
   "source": [
    "# simple dump as string\n",
    "with open('titel_pandemie_oa_pdf.xml', 'w', encoding=\"utf-8\") as f:\n",
    "    f.write(str(myquery))"
   ]
  },
  {
   "cell_type": "code",
   "execution_count": null,
   "id": "f0fffdc9-1625-43c7-9653-e4525ca47d27",
   "metadata": {},
   "outputs": [],
   "source": []
  }
 ],
 "metadata": {
  "kernelspec": {
   "display_name": "Python 3 (ipykernel)",
   "language": "python",
   "name": "python3"
  },
  "language_info": {
   "codemirror_mode": {
    "name": "ipython",
    "version": 3
   },
   "file_extension": ".py",
   "mimetype": "text/x-python",
   "name": "python",
   "nbconvert_exporter": "python",
   "pygments_lexer": "ipython3",
   "version": "3.11.7"
  }
 },
 "nbformat": 4,
 "nbformat_minor": 5
}
