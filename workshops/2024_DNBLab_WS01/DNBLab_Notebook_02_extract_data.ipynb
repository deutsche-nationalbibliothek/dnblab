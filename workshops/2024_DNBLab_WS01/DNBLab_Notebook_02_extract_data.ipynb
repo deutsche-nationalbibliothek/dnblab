{
 "cells": [
  {
   "cell_type": "code",
   "execution_count": 1,
   "id": "5822ae30-ba11-46f3-a22f-c6d85d11ff9f",
   "metadata": {},
   "outputs": [],
   "source": [
    "import requests\n",
    "import pandas as pd\n",
    "import lxml.etree as ET\n",
    "from bs4 import BeautifulSoup as soup\n",
    "import unicodedata"
   ]
  },
  {
   "cell_type": "markdown",
   "id": "f9a991ba-b854-48e4-9877-1b3520b5352c",
   "metadata": {},
   "source": [
    "## Laden der Daten aus Datei: "
   ]
  },
  {
   "cell_type": "code",
   "execution_count": 2,
   "id": "23cbec67-9978-43b5-939c-649f536e08fd",
   "metadata": {},
   "outputs": [],
   "source": [
    "# open from file: \n",
    "with open(\"titel_pandemie_oa_pdf.xml\", \"r\", encoding=\"utf-8\") as f2:\n",
    "    result = f2.readlines()"
   ]
  },
  {
   "cell_type": "code",
   "execution_count": null,
   "id": "fcca0e06-cd38-4e9d-8338-5150dcc38d01",
   "metadata": {},
   "outputs": [],
   "source": [
    "#print(result[0:500])"
   ]
  },
  {
   "cell_type": "markdown",
   "id": "4b8c7362-da4f-4735-bc92-8cc13ee03563",
   "metadata": {},
   "source": [
    "Parsen des XML aus Datei:"
   ]
  },
  {
   "cell_type": "code",
   "execution_count": 4,
   "id": "37e24366-8cf4-47d7-acec-1c1e2160c642",
   "metadata": {},
   "outputs": [],
   "source": [
    "content = \"\".join(result)\n",
    "#print(content[0:500])"
   ]
  },
  {
   "cell_type": "code",
   "execution_count": 5,
   "id": "3ce4f2ed-122e-48ca-8880-b71e0454e525",
   "metadata": {},
   "outputs": [],
   "source": [
    "xml = soup(content, \"lxml\")"
   ]
  },
  {
   "cell_type": "code",
   "execution_count": 6,
   "id": "d373f058-bfed-45b5-b211-eccb1aa21c56",
   "metadata": {},
   "outputs": [],
   "source": [
    "#print(xml.prettify()[:500])"
   ]
  },
  {
   "cell_type": "markdown",
   "id": "18cf94c9-e5bd-4561-9bdd-c8ee7c95e8f6",
   "metadata": {},
   "source": [
    "Heraussuchen aller Datensätze des Typs \"Bibliographic\" aus dem XML:"
   ]
  },
  {
   "cell_type": "code",
   "execution_count": 7,
   "id": "27eaef66-6bab-4c17-8ccb-0040e68c39be",
   "metadata": {},
   "outputs": [
    {
     "name": "stdout",
     "output_type": "stream",
     "text": [
      "773\n"
     ]
    }
   ],
   "source": [
    "myquery = xml.find_all('record', {'type':'Bibliographic'})\n",
    "print(len(myquery))"
   ]
  },
  {
   "cell_type": "code",
   "execution_count": null,
   "id": "545e8c48-d8bf-4781-b1c3-bbee197cc626",
   "metadata": {},
   "outputs": [],
   "source": [
    "#print(myquery[1].prettify())\n"
   ]
  },
  {
   "cell_type": "markdown",
   "id": "fb7da37e-ed4d-4efa-bd84-849afd6ef969",
   "metadata": {},
   "source": [
    "## Suche nach benötigten Informationen in den einzelnen Datensätzen: "
   ]
  },
  {
   "cell_type": "code",
   "execution_count": 16,
   "id": "b2d2703e-ce32-4451-bc33-34d28dbacb3c",
   "metadata": {},
   "outputs": [],
   "source": [
    "#Funktion für Titeldaten in MARC21\n",
    "\n",
    "def parse_record_marc(item):\n",
    "\n",
    "    ns = {\"marc\":\"http://www.loc.gov/MARC21/slim\"}\n",
    "    xml = ET.fromstring(unicodedata.normalize(\"NFC\", str(item)))\n",
    "    \n",
    "    #idn\n",
    "    idn = xml.findall(\"marc:controlfield[@tag = '001']\", namespaces=ns)\n",
    "    try:\n",
    "        idn = idn[0].text\n",
    "    except:\n",
    "        idn = 'N/A' \n",
    "        \n",
    "    \n",
    "    #Titel \n",
    "    title = xml.findall(\"marc:datafield[@tag = '245']/marc:subfield[@code = 'a']\", namespaces=ns)\n",
    "    title2 = xml.findall(\"marc:datafield[@tag = '245']/marc:subfield[@code = 'b']\", namespaces=ns)\n",
    "    \n",
    "    if title and not title2:\n",
    "        titletext = title[0].text\n",
    "    elif title and title2:     \n",
    "        titletext = title[0].text + \" \" + title2[0].text   #Hier wird extra nur mit einem Leerzeichen getrennt statt eines Separators\n",
    "    else:\n",
    "        titletext = \"N/A\"\n",
    "    \n",
    "\n",
    "    #date\n",
    "    date = xml.findall(\"marc:controlfield[@tag = '008']\", namespaces=ns)\n",
    "    if date: \n",
    "        date = date[0].text\n",
    "        date = date[7:11]\n",
    "    else:\n",
    "        date = 'N/A'\n",
    "\n",
    "    \n",
    "    #lang:\n",
    "    lang = xml.findall(\"marc:datafield[@tag = '041']/marc:subfield[@code = 'a']\", namespaces=ns)\n",
    "    try:\n",
    "        lang = lang[0].text\n",
    "    except:\n",
    "        lang = 'N/A'\n",
    "    \n",
    "    \n",
    "    #URN: \n",
    "    for urn in xml.findall(\"marc:datafield[@tag = '024']/marc:subfield[@code = 'a']\", namespaces=ns):\n",
    "        if urn.text.startswith(\"urn:nbn\"):\n",
    "            urn = urn.text\n",
    "        else: \n",
    "            urn = \"N/A\"\n",
    "\n",
    "\n",
    "    #Links: \n",
    "    links = \"\"\n",
    "    for link in xml.findall(\"marc:datafield[@tag = '856']/marc:subfield[@code = 'u']\", namespaces=ns):\n",
    "        link = link.text + \" \"\n",
    "        links += link\n",
    "        \n",
    "    \n",
    "    \n",
    "    meta_dict = {\"idn\":idn, \"title\": titletext, \"date\":date, \"lang\":lang, \"urn\":urn, \"links\":links} \n",
    "               \n",
    "    return meta_dict\n",
    "    "
   ]
  },
  {
   "cell_type": "code",
   "execution_count": 17,
   "id": "6597d705-6952-44d0-b0f4-d0c6b3599954",
   "metadata": {},
   "outputs": [],
   "source": [
    "output = [parse_record_marc(record) for record in myquery]"
   ]
  },
  {
   "cell_type": "code",
   "execution_count": 18,
   "id": "84639af9-da1e-4039-bec7-d7743682cf2e",
   "metadata": {},
   "outputs": [
    {
     "data": {
      "text/html": [
       "<div>\n",
       "<style scoped>\n",
       "    .dataframe tbody tr th:only-of-type {\n",
       "        vertical-align: middle;\n",
       "    }\n",
       "\n",
       "    .dataframe tbody tr th {\n",
       "        vertical-align: top;\n",
       "    }\n",
       "\n",
       "    .dataframe thead th {\n",
       "        text-align: right;\n",
       "    }\n",
       "</style>\n",
       "<table border=\"1\" class=\"dataframe\">\n",
       "  <thead>\n",
       "    <tr style=\"text-align: right;\">\n",
       "      <th></th>\n",
       "      <th>idn</th>\n",
       "      <th>title</th>\n",
       "      <th>date</th>\n",
       "      <th>lang</th>\n",
       "      <th>urn</th>\n",
       "      <th>links</th>\n",
       "    </tr>\n",
       "  </thead>\n",
       "  <tbody>\n",
       "    <tr>\n",
       "      <th>0</th>\n",
       "      <td>131701071X</td>\n",
       "      <td>Auswirkungen der COVID-19-Pandemie auf die Pri...</td>\n",
       "      <td>2024</td>\n",
       "      <td>ger</td>\n",
       "      <td>urn:nbn:de:bsz:16-heidok-342525</td>\n",
       "      <td>https://doi.org/10.11588/heidok.00034252 https...</td>\n",
       "    </tr>\n",
       "    <tr>\n",
       "      <th>1</th>\n",
       "      <td>1319384919</td>\n",
       "      <td>Auswirkungen der SARS-CoV-2-Pandemie auf die B...</td>\n",
       "      <td>2024</td>\n",
       "      <td>ger</td>\n",
       "      <td>urn:nbn:de:bvb:19-331095</td>\n",
       "      <td>https://doi.org/10.5282/edoc.33109 https://nbn...</td>\n",
       "    </tr>\n",
       "    <tr>\n",
       "      <th>2</th>\n",
       "      <td>1321172656</td>\n",
       "      <td>Erstes Working Paper zum Forschungsprojekt Lok...</td>\n",
       "      <td>2024</td>\n",
       "      <td>ger</td>\n",
       "      <td>urn:nbn:de:bvb:m347-opus-4868</td>\n",
       "      <td>https://doi.org/10.60948/OPUS-486 https://nbn-...</td>\n",
       "    </tr>\n",
       "    <tr>\n",
       "      <th>3</th>\n",
       "      <td>1318286735</td>\n",
       "      <td>Evaluation des psychischen Belastungserlebens ...</td>\n",
       "      <td>2024</td>\n",
       "      <td>ger</td>\n",
       "      <td>urn:nbn:de:bvb:20-opus-348164</td>\n",
       "      <td>https://doi.org/10.25972/OPUS-34816 https://nb...</td>\n",
       "    </tr>\n",
       "    <tr>\n",
       "      <th>4</th>\n",
       "      <td>1323400958</td>\n",
       "      <td>Förderung der organisationalen Resilienz touri...</td>\n",
       "      <td>2024</td>\n",
       "      <td>ger</td>\n",
       "      <td>urn:nbn:de:bvb:m347-opus-4876</td>\n",
       "      <td>https://nbn-resolving.org/urn:nbn:de:bvb:m347-...</td>\n",
       "    </tr>\n",
       "    <tr>\n",
       "      <th>...</th>\n",
       "      <td>...</td>\n",
       "      <td>...</td>\n",
       "      <td>...</td>\n",
       "      <td>...</td>\n",
       "      <td>...</td>\n",
       "      <td>...</td>\n",
       "    </tr>\n",
       "    <tr>\n",
       "      <th>768</th>\n",
       "      <td>1266845550</td>\n",
       "      <td>The impact of COVID-19 pandemic on nosocomia...</td>\n",
       "      <td>2022</td>\n",
       "      <td>eng</td>\n",
       "      <td>urn:nbn:de:0183-dgkh0004182</td>\n",
       "      <td>https://doi.org/10.3205/dgkh000418 https://nbn...</td>\n",
       "    </tr>\n",
       "    <tr>\n",
       "      <th>769</th>\n",
       "      <td>1227577281</td>\n",
       "      <td>TIP - Training of Intensive medical support in...</td>\n",
       "      <td>2021</td>\n",
       "      <td>eng</td>\n",
       "      <td>urn:nbn:de:0183-zma0014196</td>\n",
       "      <td>https://doi.org/10.3205/zma001419 https://nbn-...</td>\n",
       "    </tr>\n",
       "    <tr>\n",
       "      <th>770</th>\n",
       "      <td>1289022720</td>\n",
       "      <td>Understanding of professionalism among medical...</td>\n",
       "      <td>2023</td>\n",
       "      <td>eng</td>\n",
       "      <td>urn:nbn:de:0183-zma0016053</td>\n",
       "      <td>https://doi.org/10.3205/zma001605 https://nbn-...</td>\n",
       "    </tr>\n",
       "    <tr>\n",
       "      <th>771</th>\n",
       "      <td>123616332X</td>\n",
       "      <td>„Unsere Klienten waren die ersten Verlierer de...</td>\n",
       "      <td>2021</td>\n",
       "      <td>ger</td>\n",
       "      <td>urn:nbn:de:101:1-2021062812430983681376</td>\n",
       "      <td>https://nbn-resolving.org/urn:nbn:de:101:1-202...</td>\n",
       "    </tr>\n",
       "    <tr>\n",
       "      <th>772</th>\n",
       "      <td>1228141045</td>\n",
       "      <td>Unterricht während der Corona-Pandemie Ein Ver...</td>\n",
       "      <td>2020</td>\n",
       "      <td>ger</td>\n",
       "      <td>urn:nbn:de:101:1-2021022518365857855480</td>\n",
       "      <td>https://doi.org/10.4119/pflb-3907 https://nbn-...</td>\n",
       "    </tr>\n",
       "  </tbody>\n",
       "</table>\n",
       "<p>773 rows × 6 columns</p>\n",
       "</div>"
      ],
      "text/plain": [
       "            idn                                              title  date lang  \\\n",
       "0    131701071X  Auswirkungen der COVID-19-Pandemie auf die Pri...  2024  ger   \n",
       "1    1319384919  Auswirkungen der SARS-CoV-2-Pandemie auf die B...  2024  ger   \n",
       "2    1321172656  Erstes Working Paper zum Forschungsprojekt Lok...  2024  ger   \n",
       "3    1318286735  Evaluation des psychischen Belastungserlebens ...  2024  ger   \n",
       "4    1323400958  Förderung der organisationalen Resilienz touri...  2024  ger   \n",
       "..          ...                                                ...   ...  ...   \n",
       "768  1266845550  The impact of COVID-19 pandemic on nosocomia...  2022  eng   \n",
       "769  1227577281  TIP - Training of Intensive medical support in...  2021  eng   \n",
       "770  1289022720  Understanding of professionalism among medical...  2023  eng   \n",
       "771  123616332X  „Unsere Klienten waren die ersten Verlierer de...  2021  ger   \n",
       "772  1228141045  Unterricht während der Corona-Pandemie Ein Ver...  2020  ger   \n",
       "\n",
       "                                         urn  \\\n",
       "0            urn:nbn:de:bsz:16-heidok-342525   \n",
       "1                   urn:nbn:de:bvb:19-331095   \n",
       "2              urn:nbn:de:bvb:m347-opus-4868   \n",
       "3              urn:nbn:de:bvb:20-opus-348164   \n",
       "4              urn:nbn:de:bvb:m347-opus-4876   \n",
       "..                                       ...   \n",
       "768              urn:nbn:de:0183-dgkh0004182   \n",
       "769               urn:nbn:de:0183-zma0014196   \n",
       "770               urn:nbn:de:0183-zma0016053   \n",
       "771  urn:nbn:de:101:1-2021062812430983681376   \n",
       "772  urn:nbn:de:101:1-2021022518365857855480   \n",
       "\n",
       "                                                 links  \n",
       "0    https://doi.org/10.11588/heidok.00034252 https...  \n",
       "1    https://doi.org/10.5282/edoc.33109 https://nbn...  \n",
       "2    https://doi.org/10.60948/OPUS-486 https://nbn-...  \n",
       "3    https://doi.org/10.25972/OPUS-34816 https://nb...  \n",
       "4    https://nbn-resolving.org/urn:nbn:de:bvb:m347-...  \n",
       "..                                                 ...  \n",
       "768  https://doi.org/10.3205/dgkh000418 https://nbn...  \n",
       "769  https://doi.org/10.3205/zma001419 https://nbn-...  \n",
       "770  https://doi.org/10.3205/zma001605 https://nbn-...  \n",
       "771  https://nbn-resolving.org/urn:nbn:de:101:1-202...  \n",
       "772  https://doi.org/10.4119/pflb-3907 https://nbn-...  \n",
       "\n",
       "[773 rows x 6 columns]"
      ]
     },
     "execution_count": 18,
     "metadata": {},
     "output_type": "execute_result"
    }
   ],
   "source": [
    "df = pd.DataFrame(output)\n",
    "df"
   ]
  },
  {
   "cell_type": "code",
   "execution_count": 19,
   "id": "eebef657-a133-4dba-a580-5d8b6467c4ca",
   "metadata": {},
   "outputs": [],
   "source": [
    "df.to_hdf(\"pandemie_tit_oa_pdf.h5\", key=\"df\")"
   ]
  },
  {
   "cell_type": "code",
   "execution_count": null,
   "id": "172ffa43-f157-4a06-8af9-a0c0b73a12d0",
   "metadata": {},
   "outputs": [],
   "source": []
  }
 ],
 "metadata": {
  "kernelspec": {
   "display_name": "Python 3 (ipykernel)",
   "language": "python",
   "name": "python3"
  },
  "language_info": {
   "codemirror_mode": {
    "name": "ipython",
    "version": 3
   },
   "file_extension": ".py",
   "mimetype": "text/x-python",
   "name": "python",
   "nbconvert_exporter": "python",
   "pygments_lexer": "ipython3",
   "version": "3.11.7"
  }
 },
 "nbformat": 4,
 "nbformat_minor": 5
}
