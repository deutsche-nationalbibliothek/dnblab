{
 "cells": [
  {
   "cell_type": "code",
   "execution_count": null,
   "id": "e328a531-748a-4871-b1c7-f1c736d33be2",
   "metadata": {},
   "outputs": [],
   "source": [
    "import requests\n",
    "import pandas as pd\n",
    "import lxml.etree as ET\n",
    "from bs4 import BeautifulSoup as soup\n",
    "import unicodedata\n",
    "import tqdm\n",
    "from time import sleep\n",
    "import time"
   ]
  },
  {
   "cell_type": "code",
   "execution_count": null,
   "id": "25912dc2-39a4-4b0a-9853-74768ae66c52",
   "metadata": {},
   "outputs": [],
   "source": [
    "df = pd.read_hdf(\"df_prep.h5\", key=\"df\")\n",
    "df"
   ]
  },
  {
   "cell_type": "markdown",
   "id": "843a8ba3-6dcb-4d4a-b846-c9a900a2bc86",
   "metadata": {},
   "source": [
    "# Vorbereitungen:"
   ]
  },
  {
   "cell_type": "markdown",
   "id": "23fed76a-d7df-41b2-bc45-026442dd783a",
   "metadata": {},
   "source": [
    "## Laden spezifischer Bibliotheken: "
   ]
  },
  {
   "cell_type": "code",
   "execution_count": null,
   "id": "d88bd6b8-1ea9-4f73-8f2c-78aa0c038575",
   "metadata": {},
   "outputs": [],
   "source": [
    "import spacy\n",
    "from spacy import displacy\n",
    "import os\n",
    "import plotly.graph_objects as go\n",
    "import plotly.express as px"
   ]
  },
  {
   "cell_type": "code",
   "execution_count": null,
   "id": "57dd447c-da67-4052-aeb4-26e1c3fd33fc",
   "metadata": {},
   "outputs": [],
   "source": [
    "#Code für den Download eines der Sprachmodelle: \n",
    "!python -m spacy download de"
   ]
  },
  {
   "cell_type": "code",
   "execution_count": null,
   "id": "eeeffbf9-a347-4b15-a292-c8b69c05b50f",
   "metadata": {},
   "outputs": [],
   "source": [
    "#Laden eines Trained Model for German\n",
    "nlp = spacy.load('de_core_news_sm')"
   ]
  },
  {
   "cell_type": "code",
   "execution_count": null,
   "id": "01d88909-40a6-4e88-b4bd-57f480075163",
   "metadata": {},
   "outputs": [],
   "source": [
    "print(nlp.pipe_names)"
   ]
  },
  {
   "cell_type": "markdown",
   "id": "c61df7c7-a350-4204-b625-0dabb3682ad3",
   "metadata": {},
   "source": [
    "## Tokenization: "
   ]
  },
  {
   "cell_type": "code",
   "execution_count": null,
   "id": "2a3fb1be-90e3-4dfc-a066-c09ba3432002",
   "metadata": {},
   "outputs": [],
   "source": [
    "def process_text(text):\n",
    "    return nlp(text)"
   ]
  },
  {
   "cell_type": "code",
   "execution_count": null,
   "id": "8ef51c9c-c5a5-454d-bf6e-db4f700c0690",
   "metadata": {},
   "outputs": [],
   "source": [
    "df['token'] = df['title_clean'].apply(process_text)\n",
    "df"
   ]
  },
  {
   "cell_type": "markdown",
   "id": "4364f615-c601-4187-8c7f-832099e7502c",
   "metadata": {},
   "source": [
    "## Lemmatization: "
   ]
  },
  {
   "cell_type": "code",
   "execution_count": null,
   "id": "79341cdc-756a-4f1d-a787-57cb294ef428",
   "metadata": {},
   "outputs": [],
   "source": [
    "def get_lemma(doc):\n",
    "    return [(token.lemma_) for token in doc]"
   ]
  },
  {
   "cell_type": "code",
   "execution_count": null,
   "id": "f7fa3633-dd13-4d71-8373-8ba6b92f9ea0",
   "metadata": {},
   "outputs": [],
   "source": [
    "df['lemma'] = df['token'].apply(get_lemma)\n",
    "df"
   ]
  },
  {
   "cell_type": "markdown",
   "id": "23b16c0c-4288-4ff3-8d28-4ef0df3d244c",
   "metadata": {},
   "source": [
    "### Einfache Worthäufigkeitsprüfung: "
   ]
  },
  {
   "cell_type": "code",
   "execution_count": null,
   "id": "a31675d3-af6c-45b7-ae2b-ee6bdc7189ef",
   "metadata": {},
   "outputs": [],
   "source": [
    "# Hier zu suchenden Begriff eingeben: \n",
    "term = \"Pandemie\"  "
   ]
  },
  {
   "cell_type": "code",
   "execution_count": null,
   "id": "874dd1fe-fae3-43b6-b7b1-9f0e4fe45327",
   "metadata": {},
   "outputs": [],
   "source": [
    "print(f'\"{term}\" erscheint in der Spalte Token ' + str(df.token.apply(lambda x: str(x)).apply(lambda x: x.count(term)).sum()) + ' mal.')#\n",
    "print(f'\"{term}\" erscheint in der Spalte Lemma ' + str(df['lemma'].apply(lambda x: str(x)).apply(lambda x: x.count(term)).sum()) + ' mal.')"
   ]
  },
  {
   "cell_type": "markdown",
   "id": "9eed558f-9b9b-40f0-8266-a89da81f7f5a",
   "metadata": {},
   "source": [
    "## Optional: Part of speech tags"
   ]
  },
  {
   "cell_type": "code",
   "execution_count": null,
   "id": "2636c54d-a6aa-486e-ad15-d29bdf8858ac",
   "metadata": {},
   "outputs": [],
   "source": [
    "def get_pos(doc):\n",
    "    return [(token.pos_, token.tag_) for token in doc]"
   ]
  },
  {
   "cell_type": "code",
   "execution_count": null,
   "id": "e846f2af-b1e4-41a6-9f54-b0abe2c73a17",
   "metadata": {},
   "outputs": [],
   "source": [
    "df['POS'] = df['token'].apply(get_pos)\n",
    "df.head()"
   ]
  },
  {
   "cell_type": "markdown",
   "id": "547e3703-ee33-4032-a924-356af659ecf7",
   "metadata": {},
   "source": [
    "# Topic Modeling:"
   ]
  },
  {
   "cell_type": "markdown",
   "id": "81583aba-1693-4499-bed3-39c95b19c2df",
   "metadata": {},
   "source": [
    "### Latent Dirichlet Allocation (LDA):¶"
   ]
  },
  {
   "cell_type": "code",
   "execution_count": null,
   "id": "24b24b43-e6f1-4be5-a078-b4b928ee3467",
   "metadata": {},
   "outputs": [],
   "source": [
    "import gensim\n",
    "from gensim import corpora\n",
    "from gensim.parsing.preprocessing import preprocess_string"
   ]
  },
  {
   "cell_type": "code",
   "execution_count": null,
   "id": "c531db79-1e21-4d14-af19-51d3394fb935",
   "metadata": {},
   "outputs": [],
   "source": [
    "lemmatized_text = ' '.join(df['lemma'].explode())\n",
    "\n",
    "#Alternative:\n",
    "#lemmatized_text = df.token.apply(lambda x: ' '.join([token.lemma_ for token in nlp(x)]))"
   ]
  },
  {
   "cell_type": "code",
   "execution_count": null,
   "id": "8ceb8d88-61a6-471c-9138-bbf4779cd928",
   "metadata": {},
   "outputs": [],
   "source": [
    "print(lemmatized_text)"
   ]
  },
  {
   "cell_type": "code",
   "execution_count": null,
   "id": "d429cc5c-f62f-453a-b034-6b3dc5098ee5",
   "metadata": {},
   "outputs": [],
   "source": [
    "#Erstellen eines Dictionary und einer Doc-Term-Matrix:\n",
    "processed_text = preprocess_string(lemmatized_text)\n",
    "dictionary = corpora.Dictionary([processed_text])\n",
    "doc_term_matrix = [dictionary.doc2bow(doc.split()) for doc in processed_text]"
   ]
  },
  {
   "cell_type": "code",
   "execution_count": null,
   "id": "2638bc66-aece-4cb8-9ec0-a86656b4d0ce",
   "metadata": {},
   "outputs": [],
   "source": [
    "#Alternative: \n",
    "#dictionary = corpora.Dictionary(lemmatized_text.apply(lambda x: x.split()))\n",
    "#doc_term_matrix = [dictionary.doc2bow(doc.split()) for doc in lemmatized_text]\n"
   ]
  },
  {
   "cell_type": "code",
   "execution_count": null,
   "id": "3cb6241b-5ed4-42ac-9307-701d1f02090a",
   "metadata": {},
   "outputs": [],
   "source": [
    "# Apply LDA for topic modeling\n",
    "lda_model = gensim.models.LdaModel(doc_term_matrix, num_topics=4, id2word=dictionary, passes=15)"
   ]
  },
  {
   "cell_type": "code",
   "execution_count": null,
   "id": "6a342dd6-742c-4630-9fc2-f3a038c6b4b0",
   "metadata": {},
   "outputs": [],
   "source": [
    "# Visualize the topics\n",
    "import pyLDAvis.gensim_models\n",
    "pyLDAvis.enable_notebook()\n",
    "vis = pyLDAvis.gensim_models.prepare(lda_model, doc_term_matrix, dictionary)\n",
    "vis"
   ]
  },
  {
   "cell_type": "code",
   "execution_count": null,
   "id": "eb50f72a-ca6e-4f99-b397-217700cc0b2b",
   "metadata": {},
   "outputs": [],
   "source": []
  },
  {
   "cell_type": "code",
   "execution_count": null,
   "id": "c681ed63-a3fe-4f32-9018-ef13a954f59e",
   "metadata": {},
   "outputs": [],
   "source": []
  },
  {
   "cell_type": "code",
   "execution_count": null,
   "id": "efb438da-801c-4a2a-b212-709d1f77db56",
   "metadata": {},
   "outputs": [],
   "source": []
  }
 ],
 "metadata": {
  "kernelspec": {
   "display_name": "Python 3 (ipykernel)",
   "language": "python",
   "name": "python3"
  },
  "language_info": {
   "codemirror_mode": {
    "name": "ipython",
    "version": 3
   },
   "file_extension": ".py",
   "mimetype": "text/x-python",
   "name": "python",
   "nbconvert_exporter": "python",
   "pygments_lexer": "ipython3",
   "version": "3.11.7"
  }
 },
 "nbformat": 4,
 "nbformat_minor": 5
}
