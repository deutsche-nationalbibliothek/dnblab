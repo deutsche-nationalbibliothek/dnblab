{
 "cells": [
  {
   "cell_type": "code",
   "execution_count": 1,
   "id": "5822ae30-ba11-46f3-a22f-c6d85d11ff9f",
   "metadata": {},
   "outputs": [],
   "source": [
    "import requests\n",
    "import pandas as pd\n",
    "import lxml.etree as ET\n",
    "from bs4 import BeautifulSoup as soup\n",
    "import unicodedata"
   ]
  },
  {
   "cell_type": "markdown",
   "id": "f9a991ba-b854-48e4-9877-1b3520b5352c",
   "metadata": {},
   "source": [
    "## Laden der Daten aus Datei: "
   ]
  },
  {
   "cell_type": "code",
   "execution_count": 2,
   "id": "23cbec67-9978-43b5-939c-649f536e08fd",
   "metadata": {},
   "outputs": [],
   "source": [
    "# open from file: \n",
    "with open(\"pandemie_titeldaten_oa.xml\", \"r\", encoding=\"utf-8\") as f2:\n",
    "    result = f2.readlines()"
   ]
  },
  {
   "cell_type": "code",
   "execution_count": null,
   "id": "fcca0e06-cd38-4e9d-8338-5150dcc38d01",
   "metadata": {},
   "outputs": [],
   "source": [
    "#print(result[0:500])"
   ]
  },
  {
   "cell_type": "markdown",
   "id": "4b8c7362-da4f-4735-bc92-8cc13ee03563",
   "metadata": {},
   "source": [
    "Parsen des XML aus Datei:"
   ]
  },
  {
   "cell_type": "code",
   "execution_count": 6,
   "id": "37e24366-8cf4-47d7-acec-1c1e2160c642",
   "metadata": {},
   "outputs": [],
   "source": [
    "content = \"\".join(result)\n",
    "#print(content[0:500])"
   ]
  },
  {
   "cell_type": "code",
   "execution_count": 20,
   "id": "3ce4f2ed-122e-48ca-8880-b71e0454e525",
   "metadata": {},
   "outputs": [],
   "source": [
    "xml = soup(content, \"lxml\")"
   ]
  },
  {
   "cell_type": "code",
   "execution_count": 24,
   "id": "d373f058-bfed-45b5-b211-eccb1aa21c56",
   "metadata": {},
   "outputs": [],
   "source": [
    "#print(xml.prettify()[:500])"
   ]
  },
  {
   "cell_type": "markdown",
   "id": "18cf94c9-e5bd-4561-9bdd-c8ee7c95e8f6",
   "metadata": {},
   "source": [
    "Heraussuchen aller Datensätze des Typs \"Bibliographic\" aus dem XML:"
   ]
  },
  {
   "cell_type": "code",
   "execution_count": 22,
   "id": "27eaef66-6bab-4c17-8ccb-0040e68c39be",
   "metadata": {},
   "outputs": [
    {
     "name": "stdout",
     "output_type": "stream",
     "text": [
      "2895\n"
     ]
    }
   ],
   "source": [
    "myquery = xml.find_all('record', {'type':'Bibliographic'})\n",
    "print(len(myquery))"
   ]
  },
  {
   "cell_type": "code",
   "execution_count": 25,
   "id": "545e8c48-d8bf-4781-b1c3-bbee197cc626",
   "metadata": {},
   "outputs": [],
   "source": [
    "#print(myquery[1].prettify())\n"
   ]
  },
  {
   "cell_type": "markdown",
   "id": "fb7da37e-ed4d-4efa-bd84-849afd6ef969",
   "metadata": {},
   "source": [
    "## Suche nach benötigten Informationen in den einzelnen Datensätzen: "
   ]
  },
  {
   "cell_type": "code",
   "execution_count": 26,
   "id": "b2d2703e-ce32-4451-bc33-34d28dbacb3c",
   "metadata": {},
   "outputs": [],
   "source": [
    "#Funktion für Titeldaten in MARC21\n",
    "\n",
    "def parse_record_marc(item):\n",
    "\n",
    "    ns = {\"marc\":\"http://www.loc.gov/MARC21/slim\"}\n",
    "    xml = ET.fromstring(unicodedata.normalize(\"NFC\", str(item)))\n",
    "    \n",
    "    #idn\n",
    "    idn = xml.findall(\"marc:controlfield[@tag = '001']\", namespaces=ns)\n",
    "    try:\n",
    "        idn = idn[0].text\n",
    "    except:\n",
    "        idn = 'N/A' \n",
    "        \n",
    "    \n",
    "    #Titel \n",
    "    title = xml.findall(\"marc:datafield[@tag = '245']/marc:subfield[@code = 'a']\", namespaces=ns)\n",
    "    title2 = xml.findall(\"marc:datafield[@tag = '245']/marc:subfield[@code = 'b']\", namespaces=ns)\n",
    "    \n",
    "    if title and not title2:\n",
    "        titletext = title[0].text\n",
    "    elif title and title2:     \n",
    "        titletext = title[0].text + \" \" + title2[0].text   #Hier wird extra nur mit einem Leerzeichen getrennt statt eines Separators\n",
    "    else:\n",
    "        titletext = \"N/A\"\n",
    "    \n",
    "    \n",
    "    #date\n",
    "    date = xml.findall(\"marc:datafield[@tag = '264']/marc:subfield[@code = 'c']\", namespaces=ns)\n",
    "    date2 = xml.findall(\"marc:controlfield[@tag = '008']\", namespaces=ns)\n",
    "    if date:\n",
    "        date = date[0].text\n",
    "    elif date2:\n",
    "        date = date2[0].text\n",
    "        date = date[7:11]\n",
    "    else:    \n",
    "        date = 'N/A'\n",
    "          \n",
    "    #lang:\n",
    "    lang = xml.findall(\"marc:datafield[@tag = '041']/marc:subfield[@code = 'a']\", namespaces=ns)\n",
    "    try:\n",
    "        lang = lang[0].text\n",
    "    except:\n",
    "        lang = 'N/A'\n",
    "    \n",
    "    \n",
    "    #URN: \n",
    "    urn = \"N/A\"\n",
    "    for urn in xml.findall(\"marc:datafield[@tag = '024']/marc:subfield[@code = 'a']\", namespaces=ns):\n",
    "        if urn.text.startswith(\"urn:nbn\"):\n",
    "            urn = urn.text\n",
    "        else: \n",
    "            urn = \"N/A\"\n",
    "    \n",
    "    \n",
    "    meta_dict = {\"idn\":idn, \"title\": titletext, \"date\":date, \"lang\":lang, \"urn\":urn} \n",
    "               \n",
    "    return meta_dict\n",
    "    "
   ]
  },
  {
   "cell_type": "code",
   "execution_count": 27,
   "id": "6597d705-6952-44d0-b0f4-d0c6b3599954",
   "metadata": {},
   "outputs": [],
   "source": [
    "output = [parse_record_marc(record) for record in myquery]"
   ]
  },
  {
   "cell_type": "code",
   "execution_count": 28,
   "id": "84639af9-da1e-4039-bec7-d7743682cf2e",
   "metadata": {},
   "outputs": [
    {
     "data": {
      "text/html": [
       "<div>\n",
       "<style scoped>\n",
       "    .dataframe tbody tr th:only-of-type {\n",
       "        vertical-align: middle;\n",
       "    }\n",
       "\n",
       "    .dataframe tbody tr th {\n",
       "        vertical-align: top;\n",
       "    }\n",
       "\n",
       "    .dataframe thead th {\n",
       "        text-align: right;\n",
       "    }\n",
       "</style>\n",
       "<table border=\"1\" class=\"dataframe\">\n",
       "  <thead>\n",
       "    <tr style=\"text-align: right;\">\n",
       "      <th></th>\n",
       "      <th>idn</th>\n",
       "      <th>title</th>\n",
       "      <th>date</th>\n",
       "      <th>lang</th>\n",
       "      <th>urn</th>\n",
       "    </tr>\n",
       "  </thead>\n",
       "  <tbody>\n",
       "    <tr>\n",
       "      <th>0</th>\n",
       "      <td>1317002237</td>\n",
       "      <td>Ängste der Allgemeinbevölkerung in Zeiten der ...</td>\n",
       "      <td>2024</td>\n",
       "      <td>ger</td>\n",
       "      <td>urn:nbn:de:bsz:14-qucosa2-890970</td>\n",
       "    </tr>\n",
       "    <tr>\n",
       "      <th>1</th>\n",
       "      <td>131701071X</td>\n",
       "      <td>Auswirkungen der COVID-19-Pandemie auf die Pri...</td>\n",
       "      <td>2024</td>\n",
       "      <td>ger</td>\n",
       "      <td>urn:nbn:de:bsz:16-heidok-342525</td>\n",
       "    </tr>\n",
       "    <tr>\n",
       "      <th>2</th>\n",
       "      <td>1319384919</td>\n",
       "      <td>Auswirkungen der SARS-CoV-2-Pandemie auf die B...</td>\n",
       "      <td>2024</td>\n",
       "      <td>ger</td>\n",
       "      <td>urn:nbn:de:bvb:19-331095</td>\n",
       "    </tr>\n",
       "    <tr>\n",
       "      <th>3</th>\n",
       "      <td>1319553818</td>\n",
       "      <td>Beeinträchtigung des Gesichtsfeldes durch das ...</td>\n",
       "      <td>2024</td>\n",
       "      <td>ger</td>\n",
       "      <td>urn:nbn:de:101:1-2024021604063338639840</td>\n",
       "    </tr>\n",
       "    <tr>\n",
       "      <th>4</th>\n",
       "      <td>131589002X</td>\n",
       "      <td>Der Serotonin-Wiederaufnahmehemmer Fluoxetin...</td>\n",
       "      <td>2024</td>\n",
       "      <td>ger</td>\n",
       "      <td>urn:nbn:de:bvb:20-opus-347190</td>\n",
       "    </tr>\n",
       "    <tr>\n",
       "      <th>...</th>\n",
       "      <td>...</td>\n",
       "      <td>...</td>\n",
       "      <td>...</td>\n",
       "      <td>...</td>\n",
       "      <td>...</td>\n",
       "    </tr>\n",
       "    <tr>\n",
       "      <th>2890</th>\n",
       "      <td>1275808069</td>\n",
       "      <td>Zur Rolle von Unterhaltungsmagazinen in der Pa...</td>\n",
       "      <td>2022</td>\n",
       "      <td>ger</td>\n",
       "      <td>urn:nbn:de:101:1-2022121621092079245245</td>\n",
       "    </tr>\n",
       "    <tr>\n",
       "      <th>2891</th>\n",
       "      <td>1308344058</td>\n",
       "      <td>Zur seelischen Gesundheit von Studierenden – E...</td>\n",
       "      <td>2023</td>\n",
       "      <td>ger</td>\n",
       "      <td>urn:nbn:de:101:1-2023110209541661089956</td>\n",
       "    </tr>\n",
       "    <tr>\n",
       "      <th>2892</th>\n",
       "      <td>1276936842</td>\n",
       "      <td>Zusammenhänge zwischen sozialer Herkunft, Unte...</td>\n",
       "      <td>2022</td>\n",
       "      <td>ger</td>\n",
       "      <td>urn:nbn:de:101:1-2022123109195820053242</td>\n",
       "    </tr>\n",
       "    <tr>\n",
       "      <th>2893</th>\n",
       "      <td>1280215933</td>\n",
       "      <td>Zuteilung knapper Intensivkapazitäten in der P...</td>\n",
       "      <td>2022</td>\n",
       "      <td>ger</td>\n",
       "      <td>urn:nbn:de:101:1-2023020621022586089746</td>\n",
       "    </tr>\n",
       "    <tr>\n",
       "      <th>2894</th>\n",
       "      <td>1307057543</td>\n",
       "      <td>Zwischen Arbeitserleichterung und De-Professio...</td>\n",
       "      <td>2023</td>\n",
       "      <td>ger</td>\n",
       "      <td>urn:nbn:de:101:1-2023102409011131884864</td>\n",
       "    </tr>\n",
       "  </tbody>\n",
       "</table>\n",
       "<p>2895 rows × 5 columns</p>\n",
       "</div>"
      ],
      "text/plain": [
       "             idn                                              title  date  \\\n",
       "0     1317002237  Ängste der Allgemeinbevölkerung in Zeiten der ...  2024   \n",
       "1     131701071X  Auswirkungen der COVID-19-Pandemie auf die Pri...  2024   \n",
       "2     1319384919  Auswirkungen der SARS-CoV-2-Pandemie auf die B...  2024   \n",
       "3     1319553818  Beeinträchtigung des Gesichtsfeldes durch das ...  2024   \n",
       "4     131589002X  Der Serotonin-Wiederaufnahmehemmer Fluoxetin...  2024   \n",
       "...          ...                                                ...   ...   \n",
       "2890  1275808069  Zur Rolle von Unterhaltungsmagazinen in der Pa...  2022   \n",
       "2891  1308344058  Zur seelischen Gesundheit von Studierenden – E...  2023   \n",
       "2892  1276936842  Zusammenhänge zwischen sozialer Herkunft, Unte...  2022   \n",
       "2893  1280215933  Zuteilung knapper Intensivkapazitäten in der P...  2022   \n",
       "2894  1307057543  Zwischen Arbeitserleichterung und De-Professio...  2023   \n",
       "\n",
       "     lang                                      urn  \n",
       "0     ger         urn:nbn:de:bsz:14-qucosa2-890970  \n",
       "1     ger          urn:nbn:de:bsz:16-heidok-342525  \n",
       "2     ger                 urn:nbn:de:bvb:19-331095  \n",
       "3     ger  urn:nbn:de:101:1-2024021604063338639840  \n",
       "4     ger            urn:nbn:de:bvb:20-opus-347190  \n",
       "...   ...                                      ...  \n",
       "2890  ger  urn:nbn:de:101:1-2022121621092079245245  \n",
       "2891  ger  urn:nbn:de:101:1-2023110209541661089956  \n",
       "2892  ger  urn:nbn:de:101:1-2022123109195820053242  \n",
       "2893  ger  urn:nbn:de:101:1-2023020621022586089746  \n",
       "2894  ger  urn:nbn:de:101:1-2023102409011131884864  \n",
       "\n",
       "[2895 rows x 5 columns]"
      ]
     },
     "execution_count": 28,
     "metadata": {},
     "output_type": "execute_result"
    }
   ],
   "source": [
    "df = pd.DataFrame(output)\n",
    "df"
   ]
  },
  {
   "cell_type": "code",
   "execution_count": 29,
   "id": "eebef657-a133-4dba-a580-5d8b6467c4ca",
   "metadata": {},
   "outputs": [],
   "source": [
    "df.to_hdf(\"pandemie_titeldaten_oa.h5\", key=\"df\")"
   ]
  },
  {
   "cell_type": "code",
   "execution_count": null,
   "id": "172ffa43-f157-4a06-8af9-a0c0b73a12d0",
   "metadata": {},
   "outputs": [],
   "source": []
  }
 ],
 "metadata": {
  "kernelspec": {
   "display_name": "Python 3 (ipykernel)",
   "language": "python",
   "name": "python3"
  },
  "language_info": {
   "codemirror_mode": {
    "name": "ipython",
    "version": 3
   },
   "file_extension": ".py",
   "mimetype": "text/x-python",
   "name": "python",
   "nbconvert_exporter": "python",
   "pygments_lexer": "ipython3",
   "version": "3.11.7"
  }
 },
 "nbformat": 4,
 "nbformat_minor": 5
}
