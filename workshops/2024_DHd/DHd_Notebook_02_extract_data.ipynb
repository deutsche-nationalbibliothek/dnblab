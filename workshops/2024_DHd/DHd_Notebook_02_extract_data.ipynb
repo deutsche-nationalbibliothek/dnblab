{
 "cells": [
  {
   "cell_type": "code",
   "execution_count": null,
   "id": "5822ae30-ba11-46f3-a22f-c6d85d11ff9f",
   "metadata": {},
   "outputs": [],
   "source": [
    "import requests\n",
    "import pandas as pd\n",
    "import lxml.etree as ET\n",
    "from bs4 import BeautifulSoup as soup\n",
    "import unicodedata"
   ]
  },
  {
   "cell_type": "markdown",
   "id": "f9a991ba-b854-48e4-9877-1b3520b5352c",
   "metadata": {},
   "source": [
    "## Laden der Daten aus Datei: "
   ]
  },
  {
   "cell_type": "code",
   "execution_count": null,
   "id": "23cbec67-9978-43b5-939c-649f536e08fd",
   "metadata": {},
   "outputs": [],
   "source": [
    "# open from file: \n",
    "with open(\"pandemie_titeldaten_oa.xml\", \"r\", encoding=\"utf-8\") as f2:\n",
    "    result = f2.readlines()"
   ]
  },
  {
   "cell_type": "code",
   "execution_count": null,
   "id": "fcca0e06-cd38-4e9d-8338-5150dcc38d01",
   "metadata": {},
   "outputs": [],
   "source": [
    "#print(result[0:500])"
   ]
  },
  {
   "cell_type": "markdown",
   "id": "4b8c7362-da4f-4735-bc92-8cc13ee03563",
   "metadata": {},
   "source": [
    "Parsen des XML aus Datei:"
   ]
  },
  {
   "cell_type": "code",
   "execution_count": null,
   "id": "37e24366-8cf4-47d7-acec-1c1e2160c642",
   "metadata": {},
   "outputs": [],
   "source": [
    "content = \"\".join(result)\n",
    "#print(content[0:500])"
   ]
  },
  {
   "cell_type": "code",
   "execution_count": null,
   "id": "3ce4f2ed-122e-48ca-8880-b71e0454e525",
   "metadata": {},
   "outputs": [],
   "source": [
    "xml = soup(content, \"lxml\")"
   ]
  },
  {
   "cell_type": "code",
   "execution_count": null,
   "id": "d373f058-bfed-45b5-b211-eccb1aa21c56",
   "metadata": {},
   "outputs": [],
   "source": [
    "#print(xml.prettify()[:500])"
   ]
  },
  {
   "cell_type": "markdown",
   "id": "18cf94c9-e5bd-4561-9bdd-c8ee7c95e8f6",
   "metadata": {},
   "source": [
    "Heraussuchen aller Datensätze des Typs \"Bibliographic\" aus dem XML:"
   ]
  },
  {
   "cell_type": "code",
   "execution_count": null,
   "id": "27eaef66-6bab-4c17-8ccb-0040e68c39be",
   "metadata": {},
   "outputs": [],
   "source": [
    "myquery = xml.find_all('record', {'type':'Bibliographic'})\n",
    "print(len(myquery))"
   ]
  },
  {
   "cell_type": "code",
   "execution_count": null,
   "id": "545e8c48-d8bf-4781-b1c3-bbee197cc626",
   "metadata": {},
   "outputs": [],
   "source": [
    "#print(myquery[1].prettify())\n"
   ]
  },
  {
   "cell_type": "markdown",
   "id": "fb7da37e-ed4d-4efa-bd84-849afd6ef969",
   "metadata": {},
   "source": [
    "## Suche nach benötigten Informationen in den einzelnen Datensätzen: "
   ]
  },
  {
   "cell_type": "code",
   "execution_count": null,
   "id": "b2d2703e-ce32-4451-bc33-34d28dbacb3c",
   "metadata": {},
   "outputs": [],
   "source": [
    "#Funktion für Titeldaten in MARC21\n",
    "\n",
    "def parse_record_marc(item):\n",
    "\n",
    "    ns = {\"marc\":\"http://www.loc.gov/MARC21/slim\"}\n",
    "    xml = ET.fromstring(unicodedata.normalize(\"NFC\", str(item)))\n",
    "    \n",
    "    #idn\n",
    "    idn = xml.findall(\"marc:controlfield[@tag = '001']\", namespaces=ns)\n",
    "    try:\n",
    "        idn = idn[0].text\n",
    "    except:\n",
    "        idn = 'N/A' \n",
    "        \n",
    "    \n",
    "    #Titel \n",
    "    title = xml.findall(\"marc:datafield[@tag = '245']/marc:subfield[@code = 'a']\", namespaces=ns)\n",
    "    title2 = xml.findall(\"marc:datafield[@tag = '245']/marc:subfield[@code = 'b']\", namespaces=ns)\n",
    "    \n",
    "    if title and not title2:\n",
    "        titletext = title[0].text\n",
    "    elif title and title2:     \n",
    "        titletext = title[0].text + \" \" + title2[0].text   #Hier wird extra nur mit einem Leerzeichen getrennt statt eines Separators\n",
    "    else:\n",
    "        titletext = \"N/A\"\n",
    "    \n",
    "    \n",
    "    #date\n",
    "    date = xml.findall(\"marc:datafield[@tag = '264']/marc:subfield[@code = 'c']\", namespaces=ns)\n",
    "    date2 = xml.findall(\"marc:controlfield[@tag = '008']\", namespaces=ns)\n",
    "    if date:\n",
    "        date = date[0].text\n",
    "    elif date2:\n",
    "        date = date2[0].text\n",
    "        date = date[7:11]\n",
    "    else:    \n",
    "        date = 'N/A'\n",
    "          \n",
    "    #lang:\n",
    "    lang = xml.findall(\"marc:datafield[@tag = '041']/marc:subfield[@code = 'a']\", namespaces=ns)\n",
    "    try:\n",
    "        lang = lang[0].text\n",
    "    except:\n",
    "        lang = 'N/A'\n",
    "    \n",
    "    \n",
    "    #URN: \n",
    "    urn = \"N/A\"\n",
    "    for urn in xml.findall(\"marc:datafield[@tag = '024']/marc:subfield[@code = 'a']\", namespaces=ns):\n",
    "        if urn.text.startswith(\"urn:nbn\"):\n",
    "            urn = urn.text\n",
    "        else: \n",
    "            urn = \"N/A\"\n",
    "    \n",
    "    \n",
    "    meta_dict = {\"idn\":idn, \"title\": titletext, \"date\":date, \"lang\":lang, \"urn\":urn} \n",
    "               \n",
    "    return meta_dict\n",
    "    "
   ]
  },
  {
   "cell_type": "code",
   "execution_count": null,
   "id": "6597d705-6952-44d0-b0f4-d0c6b3599954",
   "metadata": {},
   "outputs": [],
   "source": [
    "output = [parse_record_marc(record) for record in myquery]"
   ]
  },
  {
   "cell_type": "code",
   "execution_count": null,
   "id": "84639af9-da1e-4039-bec7-d7743682cf2e",
   "metadata": {},
   "outputs": [],
   "source": [
    "df = pd.DataFrame(output)\n",
    "df"
   ]
  },
  {
   "cell_type": "code",
   "execution_count": null,
   "id": "eebef657-a133-4dba-a580-5d8b6467c4ca",
   "metadata": {},
   "outputs": [],
   "source": [
    "df.to_hdf(\"pandemie_titeldaten_oa.h5\", key=\"df\")"
   ]
  },
  {
   "cell_type": "code",
   "execution_count": null,
   "id": "172ffa43-f157-4a06-8af9-a0c0b73a12d0",
   "metadata": {},
   "outputs": [],
   "source": []
  }
 ],
 "metadata": {
  "kernelspec": {
   "display_name": "Python 3 (ipykernel)",
   "language": "python",
   "name": "python3"
  },
  "language_info": {
   "codemirror_mode": {
    "name": "ipython",
    "version": 3
   },
   "file_extension": ".py",
   "mimetype": "text/x-python",
   "name": "python",
   "nbconvert_exporter": "python",
   "pygments_lexer": "ipython3",
   "version": "3.11.7"
  }
 },
 "nbformat": 4,
 "nbformat_minor": 5
}
