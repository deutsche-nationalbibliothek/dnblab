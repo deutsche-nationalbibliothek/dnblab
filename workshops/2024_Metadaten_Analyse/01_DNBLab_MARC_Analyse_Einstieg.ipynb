{
 "cells": [
  {
   "cell_type": "markdown",
   "id": "08dfb225-f359-4f1e-ac92-13aec7825bb8",
   "metadata": {},
   "source": [
    "# DNBLab Jupyter Notebook Tutorial\n",
    "\n",
    "# MARC-Daten-Analyse \n",
    "\n",
    "In diesem Tutorial wird eine XML-Datei `dataset_tutorial_eco.xml`mit MARC-Daten analysiert. Die relevante Informationen werden aus den Datensätzen extrahiert und die Ergebnisse in einer CSV-Datei gespeichert. \n",
    "Untersucht werden exemplarisch Hochschulschriften zum Thema \"Reform\" in der Sachgruppe \"330 Wirtschaft\". Dafür wird ein speziell erstelltes Datenset verwendet, das sich auf bibliografische Einträge von freien Online-Hochschulschriften aus der DNB konzentriert und nur Veröffentlichungen umfasst, die zwischen 2000 und 2010 erschienen sind.\n",
    "\n",
    "## Inhalt \n",
    "\n",
    "1. [Bibliotheken importieren und Arbeitsumgebung einrichten](#section1)   \n",
    "2. [XML-Datei direkt als XML mit Hilfe von ElementTree laden](#section2)  \n",
    "3. [Direkter Zugriff auf die Inhalte des XML](#section3)  \n",
    "4. [Funktion zur Extraktion mehrerer Inhalte aus den einzelnen Datensätzen](#section4)  \n",
    "5. [Speichern des Dataframes](#section5)\n",
    "6. [Analysen und Visualisierungen](#section6)  \n",
    "    6.1. [Balkendiagramm der häufigsten Autor\\*innen](#section6.1)  \n",
    "    6.2. [Darstellung der Publikationsjahre](#section6.2)  \n",
    "    6.3. [Darstellung der Publikationsjahre als Kreisdiagramm](#section6.3)\n",
    "\n"
   ]
  },
  {
   "cell_type": "markdown",
   "id": "87be6ca7-d222-4e84-9d4b-73f8136a1559",
   "metadata": {},
   "source": [
    "<a id=\"section1\"></a>\n",
    "## 1. Bibliotheken importieren und Arbeitsumgebung einrichten\n",
    "\n",
    "Zuerst werden die notwendigen Bibliotheken importiert: \n",
    "- `pandas`: Biblikothek für die Datenmanipulation\n",
    "- `lxml` bzw. `etree`: für das Parsen von XML-Daten\n",
    "- `unicodedata`: Für die Arbeit mit Unicode-Zeichen und -Strings\n",
    "- `plotly.express`: leistungsstarke Bibliothek in Python für die Erstellung von interaktiven Visualisierungen und Diagrammen"
   ]
  },
  {
   "cell_type": "code",
   "execution_count": null,
   "id": "b642c2b2-f74b-4448-b365-b787b52ea57c",
   "metadata": {
    "tags": []
   },
   "outputs": [],
   "source": [
    "import pandas as pd\n",
    "from lxml import etree\n",
    "import unicodedata\n",
    "import plotly.express as px"
   ]
  },
  {
   "cell_type": "markdown",
   "id": "c6bebee8-27df-4227-8402-140cf5fc7729",
   "metadata": {},
   "source": [
    "<a id=\"section2\"></a>\n",
    "## 2. XML-Datei direkt als XML laden \n",
    "Um die Anzahl der gefundenen Datensätze auszugeben, werden diese mittels etree als XML geladen."
   ]
  },
  {
   "cell_type": "code",
   "execution_count": null,
   "id": "64ded801-3f45-4552-8ae2-40305be1f922",
   "metadata": {
    "tags": []
   },
   "outputs": [],
   "source": [
    "# Laden der MARC-xml-Datei in ElementTree: \n",
    "tree = etree.parse('../../dataset_tutorial_eco.xml')\n",
    "\n",
    "# Laden des Root-Verzeichnisses des XML:\n",
    "root = tree.getroot()                \n",
    "\n",
    "# Einlesen der einzelnen enthaltenen Datensätze (records) in eine Liste: \n",
    "records = list(root)\n",
    "\n",
    "#Ausgabe der Länge der Liste als Kontrolle für die Anzahl der enthaltenen Datensätze:\n",
    "print(\"Gefundene Records:\", len(records))"
   ]
  },
  {
   "cell_type": "markdown",
   "id": "77bb212b-24df-4e6a-addb-167ec4cdcd74",
   "metadata": {},
   "source": [
    "<a id=\"section3\"></a>\n",
    "## 3. Direkter Zugriff auf die Inhalte des XML"
   ]
  },
  {
   "cell_type": "markdown",
   "id": "d391105c-5636-4709-a5e7-e4ceccc233e3",
   "metadata": {},
   "source": [
    "Im Folgenden wird beispielhaft einer der Datensätze aus der Variable \"records\" separat gespeichert. Daraufhin wird er in einen String umgewandelt, um ihn betrachten zu können. Im Anschluss wird aus diesem Datensatz das \"Controlfield\" mit dem Tag 001 extrahiert und dessen Inhalt exemplarisch ausgegeben."
   ]
  },
  {
   "cell_type": "code",
   "execution_count": null,
   "id": "e3a61be7-b7ad-4e9f-bcea-09999bbfedb5",
   "metadata": {
    "scrolled": true,
    "tags": []
   },
   "outputs": [],
   "source": [
    "# Beispielhaft einen der Datensätze aus der Liste als eigene Variable speichern:\n",
    "test_record = records[0]\n",
    "\n",
    "# In einen String umwandeln: \n",
    "test_record_string = etree.tostring(test_record, encoding=\"utf-8\")\n",
    "print(test_record_string)"
   ]
  },
  {
   "cell_type": "markdown",
   "id": "0e36311d-0148-49c6-af79-7aedc725ee39",
   "metadata": {},
   "source": [
    "Extrahieren des Inhalts des Controlfields mit dem Tag \"001\" aus \"test_record\": "
   ]
  },
  {
   "cell_type": "code",
   "execution_count": null,
   "id": "26f4a69b-523f-491a-b1cc-0bf9c19689a1",
   "metadata": {
    "tags": []
   },
   "outputs": [],
   "source": [
    "# Angabe des Namespaces: \n",
    "ns = {'marc': 'http://www.loc.gov/MARC21/slim'}\n",
    "\n",
    "# Extraktion des Elements \"Controlfield\" mit dem Tag \"001\"\n",
    "controlfield_001 = test_record.find(\"marc:controlfield[@tag='001']\", namespaces=ns)\n",
    "print(controlfield_001)"
   ]
  },
  {
   "cell_type": "code",
   "execution_count": null,
   "id": "8deef5c9-c2f0-4dd6-87be-f4fdb5a7bbcc",
   "metadata": {
    "tags": []
   },
   "outputs": [],
   "source": [
    "# Ausgabe des Inhalts des Controlfields: \n",
    "print(controlfield_001.text)"
   ]
  },
  {
   "cell_type": "markdown",
   "id": "ab384cd5-d4e4-4cd4-93fd-4a48b40177df",
   "metadata": {},
   "source": [
    "<a id=\"section4\"></a>\n",
    "## 4. Funktion zur Extraktion mehrerer Inhalte aus den einzelnen Datensätzen:\n",
    "\n",
    "Die Funktion `parse_record` erwartet nun immer einen einzelnen Datensatz (*record*), den sie verarbeitet. Hierzu ist zunächst wieder der passende Namespace defininiert. \n",
    "\n",
    "Zusätzlich wurde eine weitere Funktion `extract_text` definiert. Diese erwartet eine Pfadangabe zu einem XML-Element wie bspw. `\"marc:controlfield[@tag='001']\"` oder auch `\"marc:datafield[@tag='245']/marc:subfield[@code='a']\"`. Die Funktion sucht dann nach den entsprechenden Elementen im XML und extrahiert den Inhalt. Falls mehrere Felder mit demselben Pfad enthalten sind, werden die Inhalte durch \"; \" zu einem String verbunden.\n",
    "\n",
    "Anschließend wird für jeden gewünschten Inhalt eine Variable definiert (bspw. \"titel\"), die dann auf die Funktion `extract_text` zugreift, dieser den angegebenen Pfad übergibt und den zurückgegebenen Inhalt speichert. \n",
    "\n",
    "Zuletzt werden die Inhalte jeder erstellten Variable einem passenden Schlüssel zugeordnet und als einfaches Dictionary (Sammlung von Schlüssel-Werte-Paaren) zurückgegeben. \n"
   ]
  },
  {
   "cell_type": "code",
   "execution_count": null,
   "id": "44108654-d26d-43bd-98e6-2b7c13631cdd",
   "metadata": {
    "tags": []
   },
   "outputs": [],
   "source": [
    "# Funktion zum Extrahieren von Datensätzen\n",
    "def parse_record(record):\n",
    "    ns = {\"marc\": \"http://www.loc.gov/MARC21/slim\"}\n",
    "    \n",
    "    def extract_text(xpath_query):\n",
    "        fields = record.xpath(xpath_query, namespaces=ns)\n",
    "        if fields:\n",
    "            return \"; \".join(field.text.replace('\\x98', '').replace('\\x9c', '') for field in fields if field.text)\n",
    "        return \"unknown\"\n",
    "\n",
    "    idn = extract_text(\"marc:controlfield[@tag='001']\")\n",
    "    titel = extract_text(\"marc:datafield[@tag='245']/marc:subfield[@code='a']\")\n",
    "    author = extract_text(\"marc:datafield[@tag='100']/marc:subfield[@code='a']\")\n",
    "    author_rela = extract_text(\"marc:datafield[@tag='100']/marc:subfield[@code='e']\")\n",
    "    add_author = extract_text(\"marc:datafield[@tag='700']/marc:subfield[@code='a']\")\n",
    "    add_author_rela = extract_text(\"marc:datafield[@tag='700']/marc:subfield[@code='e']\")\n",
    "    jahr = extract_text(\"marc:datafield[@tag='264']/marc:subfield[@code='c']\")\n",
    "\n",
    "    return {\n",
    "        \"idn\": idn,\n",
    "        \"author\": author,\n",
    "        \"titel\": titel,\n",
    "        \"author_rela\": author_rela,\n",
    "        \"additional_author\": add_author,\n",
    "        \"added_rela\": add_author_rela,\n",
    "        \"jahr\": jahr        \n",
    "    }"
   ]
  },
  {
   "cell_type": "markdown",
   "id": "add168bf-5d88-4e03-b1a9-7b029c460398",
   "metadata": {},
   "source": [
    "Nun werden die einzelnen Datensätze aus der Menge der gesammelten Datensätze in der Variable `records` nacheinander (Datensatz für Datensatz) der Funktion `parse_record` übergeben und die zurückgewonnenen Inhalte in der Variable `result` gespeichert:  "
   ]
  },
  {
   "cell_type": "code",
   "execution_count": null,
   "id": "9342e984-fe3e-4874-8ac2-28261b66c304",
   "metadata": {
    "tags": []
   },
   "outputs": [],
   "source": [
    "# Übergabe der einzelnen Datensätze an die Funktion \"parse_record\":\n",
    "result = [parse_record(record) for record in records]"
   ]
  },
  {
   "cell_type": "code",
   "execution_count": null,
   "id": "5b0e34bd-35cf-4e16-a075-a361a077d67a",
   "metadata": {
    "scrolled": true,
    "tags": []
   },
   "outputs": [],
   "source": [
    "print(result)"
   ]
  },
  {
   "cell_type": "markdown",
   "id": "f65137f0-6dad-4cbd-ba88-4151ad0282eb",
   "metadata": {},
   "source": [
    "Abschließend können die Inhalte aus der Variable `result` in eine Tabelle in Form eines Pandas-Dataframes für die weitere Arbeit umgewandelt werden:"
   ]
  },
  {
   "cell_type": "code",
   "execution_count": null,
   "id": "6dbc95e4-efb1-4f68-ab97-00fc88bd064d",
   "metadata": {
    "tags": []
   },
   "outputs": [],
   "source": [
    "# Umwandlung in ein Pandas-Dataframe\n",
    "df = pd.DataFrame(result)\n",
    "df#.head()"
   ]
  },
  {
   "cell_type": "markdown",
   "id": "e64ecf6e-ac0f-4ad2-8774-e318014bfb2a",
   "metadata": {},
   "source": [
    "<a id=\"section5\"></a>\n",
    "## 5. Speichern des Dataframes\n",
    "\n",
    "Dataframes können in mehreren Formaten gespeichert werden: \n",
    "\n",
    "Speichern als CSV: "
   ]
  },
  {
   "cell_type": "code",
   "execution_count": null,
   "id": "baebfa4e-6261-497e-9f37-4dbed1f59b03",
   "metadata": {
    "tags": []
   },
   "outputs": [],
   "source": [
    "df.to_csv(\"Publiaktionsdaten.csv\", encoding=\"utf-8\")"
   ]
  },
  {
   "cell_type": "markdown",
   "id": "e42563a4-920c-427d-aaaa-0dd031f449f0",
   "metadata": {},
   "source": [
    "Speichern als Excel-Tabelle: "
   ]
  },
  {
   "cell_type": "code",
   "execution_count": null,
   "id": "950199c4-640f-42fc-8a7f-d25bfa068e8b",
   "metadata": {
    "tags": []
   },
   "outputs": [],
   "source": [
    "df.to_excel(\"Publiaktionsdaten.xlsx\")"
   ]
  },
  {
   "cell_type": "markdown",
   "id": "e6473ebe-50da-46e9-892a-6b3c612e3675",
   "metadata": {},
   "source": [
    "Speichern als Pandas-Dataframe für die weitere Nutzung in Python:"
   ]
  },
  {
   "cell_type": "code",
   "execution_count": null,
   "id": "f759a198-a40c-405d-bed2-4aaebfa126fc",
   "metadata": {
    "tags": []
   },
   "outputs": [],
   "source": [
    "df.to_hdf(\"Publiaktionsdaten.h5\", key=\"df\")"
   ]
  },
  {
   "cell_type": "markdown",
   "id": "9d9d1d61-2620-48ce-944c-2e18d2d7a3e4",
   "metadata": {},
   "source": [
    "<a id=\"section6\"></a>\n",
    "## 6. Analysen und Visualisierungen:\n",
    "\n",
    "<a id=\"section6.1\"></a>\n",
    "### 6.1. Balkendiagramm der häufigsten Autor\\*innen: \n",
    "\n",
    "Als Anwendungdbeispiel wird nun aus den gegebenen Daten ein Dataframe erstellt, um die Häufigkeit der Autoren in der Spalte `'author'` zu zählen. Anschließend werden die fünfzehn häufigsten Autoren in einem Balkendiagramm visualisiert, wobei die Anzahl der Titel auf der y-Achse und die Autoren auf der x-Achse dargestellt werden, um die Verteilung der Veröffentlichungen pro im Datenset enthaltenen Autor zu verdeutlichen."
   ]
  },
  {
   "cell_type": "code",
   "execution_count": null,
   "id": "981020e4-c5d9-41cc-9c9d-fb24d20714c4",
   "metadata": {
    "tags": []
   },
   "outputs": [],
   "source": [
    "# Häufigkeit der Autoren zählen\n",
    "author_counts = df['author'].value_counts().head(15).reset_index()"
   ]
  },
  {
   "cell_type": "code",
   "execution_count": null,
   "id": "6caaf661-5955-43a1-a597-9b0fd749e945",
   "metadata": {
    "tags": []
   },
   "outputs": [],
   "source": [
    "#Augabe im Dataframe\n",
    "author_counts.columns=['author', 'count']\n",
    "author_counts"
   ]
  },
  {
   "cell_type": "code",
   "execution_count": null,
   "id": "67daed8b-ff47-46fc-867e-a53ba19446f9",
   "metadata": {
    "tags": []
   },
   "outputs": [],
   "source": [
    "# Balkendiagramm erstellen\n",
    "fig1 = px.bar(author_counts, x='author', y='count', height=550,\n",
    "             title='Häufigste Autoren im Datenset', color='count', color_continuous_scale='Viridis')\n",
    "\n",
    "# Diagramm anzeigen\n",
    "fig1.show()"
   ]
  },
  {
   "cell_type": "markdown",
   "id": "2cf0b20d-7c6f-48bd-aa28-06a120b7e0fb",
   "metadata": {},
   "source": [
    "<a id=\"section4.2\"></a>\n",
    "### 6.2.  Darstellung der Publikationsjahre\n",
    "\n",
    "Als weitere Anwendungsoption wird ein DataFrame aus den gegebenen Daten erstellt und nach der Prüfung der vorhandenen Spalten, das 'jahr' in numerische Werte konvertiert, um die Anzahl der Veröffentlichungen pro Jahr zu zählen. Für diese Zählung wird ein neues DataFrame erstellt, das die Jahre und die entsprechenden Anzahl der Veröffentlichungen enthält. Schließlich wird ein Liniendiagramm generiert, das die Entwicklung der Veröffentlichungen über die Jahre hinweg visualisiert, wobei die Jahre auf der x-Achse und die Anzahl der Veröffentlichungen auf der y-Achse dargestellt werden."
   ]
  },
  {
   "cell_type": "code",
   "execution_count": null,
   "id": "c24113c5-581b-4e10-93b8-d952f04ff751",
   "metadata": {
    "tags": []
   },
   "outputs": [],
   "source": [
    "df_jahr = df[df['jahr'] != 'unknown'].copy()\n",
    "df_jahr['jahr'] = pd.to_numeric(df['jahr'], errors='coerce')\n",
    "#df_jahr"
   ]
  },
  {
   "cell_type": "code",
   "execution_count": null,
   "id": "9e94cf73-0bf4-459d-8f88-d150b2fb80de",
   "metadata": {
    "tags": []
   },
   "outputs": [],
   "source": [
    "# Häufigkeit der Jahre zählen\n",
    "jahr_counts = df_jahr['jahr'].value_counts().head(15).reset_index()\n",
    "jahr_counts.columns=['jahr', 'count']\n",
    "jahr_counts"
   ]
  },
  {
   "cell_type": "code",
   "execution_count": null,
   "id": "3541a741-b167-4c71-8485-f147536713f2",
   "metadata": {
    "tags": []
   },
   "outputs": [],
   "source": [
    "# Diagramm erstellen\n",
    "fig2 = px.line(jahr_counts.sort_values('jahr'), x='jahr', y='count', height=550,\n",
    "             title='Anzahl der Veröffentlichungen pro Jahr im Datenset',\n",
    "             labels={'jahr': 'Jahr', 'count': 'Anzahl'})\n",
    "\n",
    "# Diagramm anzeigen\n",
    "fig2.show()"
   ]
  },
  {
   "cell_type": "markdown",
   "id": "c37d8afd-79f7-40c0-9b29-ff935ea93171",
   "metadata": {},
   "source": [
    "<a id=\"section4.3\"></a>\n",
    "### 6.3.  Darstellung der Publikationsjahre als Kreisdiagramm"
   ]
  },
  {
   "cell_type": "code",
   "execution_count": null,
   "id": "315658f4-1242-4f14-bb65-200e1c5073b9",
   "metadata": {
    "tags": []
   },
   "outputs": [],
   "source": [
    "# Erstellen eines entsprechenden Kreisdiagramms: \n",
    "fig3 = px.pie(jahr_counts, names='jahr', values='count', height=550,\n",
    "             title='Anzahl der Veröffentlichungen pro Jahr im Datenset als Tortendiagramm',\n",
    "             labels={'jahr': 'Jahr', 'count': 'Anzahl'})\n",
    "\n",
    "# Ändern der Beschriftung auf den einzelnen Tortenstücken: \n",
    "#fig3.update_traces(\n",
    "    #textinfo='label+percent')#,  # Anzeigen des Jahres sowie des Prozentsatzes\n",
    "    #insidetextorientation='horizontal' ) # Texausrichtung der Tortenstücke\n",
    "\n",
    "# Anzeigen des Diagramms:\n",
    "fig3.show()"
   ]
  },
  {
   "cell_type": "code",
   "execution_count": null,
   "id": "25925eb7-5b81-4ce4-b906-f95a3c0a5239",
   "metadata": {},
   "outputs": [],
   "source": []
  }
 ],
 "metadata": {
  "kernelspec": {
   "display_name": "Python 3 (ipykernel)",
   "language": "python",
   "name": "python3"
  },
  "language_info": {
   "codemirror_mode": {
    "name": "ipython",
    "version": 3
   },
   "file_extension": ".py",
   "mimetype": "text/x-python",
   "name": "python",
   "nbconvert_exporter": "python",
   "pygments_lexer": "ipython3",
   "version": "3.10.13"
  }
 },
 "nbformat": 4,
 "nbformat_minor": 5
}
