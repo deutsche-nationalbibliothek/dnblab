{
 "cells": [
  {
   "cell_type": "markdown",
   "id": "f8f68153-42fe-40a6-9a73-39ded521ef53",
   "metadata": {},
   "source": [
    "## Teil 2: Analyse der im Datenset enthaltenen Personen\n",
    "\n",
    "Im folgenden sollen die verschiedenen im Datenset erwähnten Personen aus diesem extrahiert und analysiert werden:"
   ]
  },
  {
   "cell_type": "markdown",
   "id": "ba0e9f89-b1bc-450e-84d8-2833da10d275",
   "metadata": {},
   "source": [
    "### Importieren der benötigten Bibliotheken"
   ]
  },
  {
   "cell_type": "code",
   "execution_count": null,
   "id": "3fbdc807-acc9-4af8-9450-4c40eb6bf44a",
   "metadata": {},
   "outputs": [],
   "source": [
    "import pandas as pd\n",
    "from lxml import etree\n",
    "import unicodedata\n",
    "import plotly.express as px\n",
    "import numpy as np"
   ]
  },
  {
   "cell_type": "markdown",
   "id": "fef054e6-1cbd-44f4-b7d6-f806b2f155b6",
   "metadata": {},
   "source": [
    "### Exkurs anhand eines exemplarischen Datensatzes: "
   ]
  },
  {
   "cell_type": "markdown",
   "id": "918b1402-faa6-499d-b902-eef40b655f90",
   "metadata": {},
   "source": [
    "Beispiel-XML"
   ]
  },
  {
   "cell_type": "markdown",
   "id": "57299759-cf3a-42d4-b20f-70cc039f12e9",
   "metadata": {},
   "source": [
    "<div>\n",
    "<img src=\"example.jpg\">\n",
    "    \n",
    "</div>"
   ]
  },
  {
   "cell_type": "code",
   "execution_count": null,
   "id": "c2e4e38d-38e2-4642-a67c-a6b69a9b0704",
   "metadata": {},
   "outputs": [],
   "source": [
    "# Laden der MARC-xml-Datei in ElementTree und umwandeln in eine Liste an Datensätzen: \n",
    "tree = etree.parse('example.xml')\n",
    "root = tree.getroot()   \n",
    "records = list(root)\n",
    "print(\"Gefundene Records:\", len(records))"
   ]
  },
  {
   "cell_type": "code",
   "execution_count": null,
   "id": "a83c29b9-a42a-4975-bb27-6d7d29937eca",
   "metadata": {},
   "outputs": [],
   "source": [
    "# Funktion zum Extrahieren von Datensätzen\n",
    "def parse_record(record):\n",
    "    ns = {\"marc\": \"http://www.loc.gov/MARC21/slim\"}\n",
    "    \n",
    "    def extract_text(xpath_query):\n",
    "        fields = record.xpath(xpath_query, namespaces=ns)\n",
    "        if fields:\n",
    "            return \"; \".join(field.text.replace('\\x98', '').replace('\\x9c', '') for field in fields if field.text)\n",
    "        return \"unknown\"\n",
    "\n",
    "    idn = extract_text(\"marc:controlfield[@tag='001']\")\n",
    "    titel = extract_text(\"marc:datafield[@tag='245']/marc:subfield[@code='a']\")\n",
    "    author = extract_text(\"marc:datafield[@tag='100']/marc:subfield[@code='a']\")\n",
    "    author_rela = extract_text(\"marc:datafield[@tag='100']/marc:subfield[@code='e']\")\n",
    "    add_author = extract_text(\"marc:datafield[@tag='700']/marc:subfield[@code='a']\")\n",
    "    add_author_rela = extract_text(\"marc:datafield[@tag='700']/marc:subfield[@code='e']\")\n",
    "    jahr = extract_text(\"marc:datafield[@tag='264']/marc:subfield[@code='c']\")\n",
    "\n",
    "    return {\n",
    "        \"idn\": idn,\n",
    "        \"titel\": titel,\n",
    "        \"author\": author,\n",
    "        \"author_rela\": author_rela,\n",
    "        \"additional_author\": add_author,\n",
    "        \"added_rela\": add_author_rela,\n",
    "        \"jahr\": jahr        \n",
    "    }"
   ]
  },
  {
   "cell_type": "code",
   "execution_count": null,
   "id": "8739e4ba-5d4e-4b2a-9533-aa970eb9a940",
   "metadata": {},
   "outputs": [],
   "source": [
    "# Übergabe der einzelnen Datensätze an die Funktion \"parse_record\":\n",
    "result = [parse_record(record) for record in records]\n",
    "df = pd.DataFrame(result)\n",
    "df"
   ]
  },
  {
   "cell_type": "markdown",
   "id": "9a5676b6-d6b9-4ec2-b77b-c4751309f5d7",
   "metadata": {},
   "source": [
    "Die einzelnen Einträge unter additional_author und added_rela sind jeweils durch ein Semikolon getrennt - da es im Eintrag zu Franz Siegfried Müller allerdings zwei Einträge der Relation (zwei subfields $e) für beide Funktionen als Verfasser sowie als Herausgeber gab, sind die Einträge hier nicht mehr eindeutig zuordnenbar (2 Einträge zu additional_authors vs. 3 added_rela-Einträge). \n",
    "\n",
    "Für eine genauere Analyse der einzelnen Personen inklusive der Beziehungen zum Werk ist es also nötig, die Funktion anzupassen und die einzelnen Unterfelder in Abhängigkeit ihrer \"datafields\" zu extrahieren und die Abhängigkeiten entsprechend abzubilden. Dazu wird die Funktion von eben etwas verändert und erweitert: "
   ]
  },
  {
   "cell_type": "code",
   "execution_count": null,
   "id": "231170e3-a655-44fc-a9d0-864a96e7378c",
   "metadata": {},
   "outputs": [],
   "source": [
    "# Erweiterte Funktion zum Extrahieren der Inhalte: \n",
    "def parse_record_advanced(record):\n",
    "    ns = {\"marc\": \"http://www.loc.gov/MARC21/slim\"}\n",
    "\n",
    "    def extract_text(xpath_query):\n",
    "        element = xpath_query.split(\"/\")\n",
    "        parentpath = xpath_query.split(\"/\")[0]\n",
    "        if len(element) == 1:\n",
    "            fields = record.xpath(xpath_query, namespaces=ns)\n",
    "            if fields:\n",
    "                return \"; \".join(field.text.replace('\\x98', '').replace('\\x9c', '') for field in fields if field.text)\n",
    "            return \"unknown\"\n",
    "        else:\n",
    "            childpath = xpath_query.split(\"/\")[1]\n",
    "            parentfields = record.xpath(parentpath, namespaces=ns)\n",
    "            result = []\n",
    "            \n",
    "            for parent in parentfields:\n",
    "                subfields = parent.xpath(childpath, namespaces=ns)\n",
    "                if subfields:\n",
    "                    text = \" / \".join(field.text.replace('\\x98', '').replace('\\x9c', '') for field in subfields if field.text)\n",
    "                else:\n",
    "                    text = \"\"\n",
    "                result.append(text)\n",
    "    \n",
    "            if len(result) == 0:\n",
    "                return None\n",
    "            elif len(result) == 1:\n",
    "                return result[0]\n",
    "            else:\n",
    "                return result\n",
    "                \n",
    "\n",
    "    # Extract fields\n",
    "    idn = extract_text(\"marc:controlfield[@tag='001']\")\n",
    "    titel = extract_text(\"marc:datafield[@tag='245']/marc:subfield[@code='a']\")\n",
    "    author = extract_text(\"marc:datafield[@tag='100']/marc:subfield[@code='a']\")\n",
    "    author_rela = extract_text(\"marc:datafield[@tag='100']/marc:subfield[@code='e']\")\n",
    "    add_author = extract_text(\"marc:datafield[@tag='700']/marc:subfield[@code='a']\")\n",
    "    add_author_rela = extract_text(\"marc:datafield[@tag='700']/marc:subfield[@code='e']\")\n",
    "    jahr = extract_text(\"marc:datafield[@tag='264']/marc:subfield[@code='c']\")\n",
    "    \n",
    "    return {\n",
    "        \"idn\": idn,\n",
    "        \"titel\": titel,\n",
    "        \"author\": author,\n",
    "        \"author_rela\": author_rela,\n",
    "        \"additional_author\": add_author,\n",
    "        \"added_rela\": add_author_rela,\n",
    "        \"jahr\": jahr        \n",
    "    }\n"
   ]
  },
  {
   "cell_type": "code",
   "execution_count": null,
   "id": "8f3a1a3c-b944-4f2d-a277-94ce508301e1",
   "metadata": {},
   "outputs": [],
   "source": [
    "result_new = [parse_record_advanced(record) for record in records]\n",
    "df_new = pd.DataFrame(result_new)\n",
    "df_new"
   ]
  },
  {
   "cell_type": "markdown",
   "id": "3286ecca-b650-47aa-a815-cce8db902f8b",
   "metadata": {},
   "source": [
    "### Anwenden der neuen Funktion auf den gesamten Datensatz: "
   ]
  },
  {
   "cell_type": "code",
   "execution_count": null,
   "id": "c4b8c55e-0685-42de-b133-e0ad86d3b009",
   "metadata": {},
   "outputs": [],
   "source": [
    "# Laden der MARC-xml-Datei in ElementTree und umwandeln in eine Liste an Datensätzen: \n",
    "tree2 = etree.parse('../../dataset_tutorial_eco.xml')\n",
    "root2 = tree2.getroot()                \n",
    "records2 = list(root2)\n",
    "print(\"Gefundene Records:\", len(records2))"
   ]
  },
  {
   "cell_type": "code",
   "execution_count": null,
   "id": "1044111f-962e-474b-a8d9-2d837db5eb16",
   "metadata": {},
   "outputs": [],
   "source": [
    "result_complete = [parse_record_advanced(record) for record in records2]\n",
    "df_new = pd.DataFrame(result_complete)\n",
    "df_new"
   ]
  },
  {
   "cell_type": "markdown",
   "id": "c38d6ab4-bb0b-4f00-a063-eba92a890c83",
   "metadata": {},
   "source": [
    "### Unwandeln des Dataframes für die weitere Analyse\n",
    "\n",
    "Das aktuelle Dataframe verfügt nun über jeweils 2 Spalten, in denen Personen gelistet werden, sowie zwei zugehörige Spalten, die deren Relation zum Werk beschreiben. Um im weiteren Verlauf alle Personen gleichermaßen listen und analyiseren zu können, muss das Dataframe nun noch etwas angepasst werden. \n",
    "\n",
    "Ziel ist es, nur noch eine Spalte \"person\" mit einer zugehörigen Spalte \"person_rela\" zu erzeugen und die Daten aus author, author_rela, additional_author und added_rela entsprechend in diese Spalten zu überführen. Außerdem soll die Beziehung der jeweiligen Person zum Werk erhalten bleiben. Das neue Dataframe sollte also in etwas folgendermaßen aussehen: \n",
    "\n",
    "| idn        | titel\t                                         | person                         | person_rela\t          | jahr | \n",
    "|------------|---------------------------------------------------|--------------------------------|-----------------------|------| \n",
    "| 1043718966 | A cross-cultural study of motivational factors... | Juarez Hernandez, Maria Isabel | Verfasser             | 2010 |\n",
    "| 1043718966 | A cross-cultural study of motivational factors... |\tSpiller, Achim \t              | Akademischer Betreuer | 2010 |\n",
    "| 1043718966 | A cross-cultural study of motivational factors... |\tTheuvsen, Ludwig \t          | Akademischer Betreuer | 2010 |\n",
    "| 1019902175 | A forecast evaluation of PCA-based adaptive fo... | Blaskowitz, Oliver Jim\t      | Verfasser             | 2010 |\n",
    "| 1012057232 | A new perspective on social learning              | March, Christoph               | Verfasser             | None |\n",
    "| usw. | | | | |\n",
    "\n",
    "Um dies zu erreichen sind mehrere Schritte nötig: Zunächst werden die Listen, die sich in `additional_author` und `added_rela` befinden mit Hilfe der .explode()-Funktion von Pandas \"entpackt\". Dies bewirkt, dass eine Spalte, die Listen oder ähnliche Strukturen enthält so dupliziert wird, dass jede Listeneinheit in eine eigene Zeile aufgeteilt wird, während die anderen Spalten unverändert bleiben. Gleichzeitig werden die Spalten `author` und `author_rela` für die gewünschte neue Struktur umbenannt:\n",
    "\n"
   ]
  },
  {
   "cell_type": "code",
   "execution_count": null,
   "id": "60f15ee5-accc-483d-ac36-f4911f5e8f13",
   "metadata": {},
   "outputs": [],
   "source": [
    "df_explode = df_new.explode(['additional_author', 'added_rela'])\n",
    "df_persons = df_explode.rename(columns={'author': 'person', 'author_rela': 'person_rela'}).copy()\n",
    "df_persons"
   ]
  },
  {
   "cell_type": "markdown",
   "id": "48c6d7e8-858e-47b4-96f4-2461620247ce",
   "metadata": {},
   "source": [
    "Nun wird ein neues Dataframe erstellt, welches folgendermaßen befüllt wird: \n",
    "\n",
    "- Kopieren jeder Zeile in das neue Dataframe \n",
    "- Prüfung, ob ein Eintrag unter `additional_author` vorhanden ist. Wenn ja: \n",
    "    - Erneutes Kopieren der Zeile\n",
    "    - Überschreiben der Einträge in `person` und `person_rela` mit den Werten aus `additional_author` und `added_rela` in der neuen Zeile"
   ]
  },
  {
   "cell_type": "code",
   "execution_count": null,
   "id": "ab4437ce-c7ff-4402-81d4-f68c592cb8ff",
   "metadata": {},
   "outputs": [],
   "source": [
    "# Erstellen des neuen Dataframes: \n",
    "new_rows = []\n",
    "\n",
    "for index, row in df_persons.iterrows():\n",
    "    new_rows.append(row) # Kopieren der Zeilen\n",
    "\n",
    "    if pd.notna(row['additional_author']):\n",
    "        new_row = row.copy() \n",
    "        new_row['person'] = row['additional_author'] \n",
    "        new_row['person_rela'] = row['added_rela']  \n",
    "        new_rows.append(new_row)  \n",
    "\n",
    "new_df = pd.DataFrame(new_rows)\n",
    "new_df.head()\n"
   ]
  },
  {
   "cell_type": "markdown",
   "id": "56aa39a5-d804-4aec-b9a5-12f052ad001f",
   "metadata": {},
   "source": [
    "Entfernen der Spalten \"additional_author\" und \"added_rela\" mit anschließender Löschung doppelter Zeilen sowie von Zeilen, die keinen Eintrag unter \"person\" haben (da sie ursprünglich bspw. nicht über einen 100er Eintrag, sondern nur über einen 700er Eintrag verfügten): "
   ]
  },
  {
   "cell_type": "code",
   "execution_count": null,
   "id": "375caab0-3f8c-4080-81ef-d06a9b59b4e7",
   "metadata": {},
   "outputs": [],
   "source": [
    "new_df = new_df.drop(columns=['additional_author', 'added_rela'])\n",
    "new_df.drop_duplicates(inplace=True)\n",
    "new_df.dropna(subset=['person'], inplace=True)\n",
    "new_df"
   ]
  },
  {
   "cell_type": "code",
   "execution_count": null,
   "id": "c78e168f-39d9-4774-adb6-78eed0b40346",
   "metadata": {},
   "outputs": [],
   "source": [
    "# Optional: Speichern des Dataframes als CSV\n",
    "new_df.to_csv(\"personen.csv\", encoding=\"utf-8\")"
   ]
  },
  {
   "cell_type": "markdown",
   "id": "3725f94f-8e94-4798-965a-09e18e70126c",
   "metadata": {},
   "source": [
    "### Analyse:\n",
    "\n",
    "Gruppieren und Zählen der einzelnen Personen: "
   ]
  },
  {
   "cell_type": "code",
   "execution_count": null,
   "id": "70a91723-bd39-4237-bc48-ffb4e89e4f2a",
   "metadata": {},
   "outputs": [],
   "source": [
    "# Häufigkeit der Autoren zählen\n",
    "person_counts = new_df['person'].value_counts().head(25).reset_index()\n",
    "person_counts"
   ]
  },
  {
   "cell_type": "code",
   "execution_count": null,
   "id": "34604375-4cb0-400e-8762-00e8fbede542",
   "metadata": {},
   "outputs": [],
   "source": [
    "# Balkendiagramm erstellen\n",
    "fig1 = px.bar(person_counts, x='person', y='count', height=550,\n",
    "             title='Häufigste Personen im Datenset', color='count', color_continuous_scale='Viridis')\n",
    "fig1.show()"
   ]
  },
  {
   "cell_type": "markdown",
   "id": "ef6cf0f2-e8d9-4e6c-b9dc-27ded7224881",
   "metadata": {},
   "source": [
    "Suche im Dataframe nach einer bestimmten Person: "
   ]
  },
  {
   "cell_type": "code",
   "execution_count": null,
   "id": "9b503dd0-db62-40c7-abc6-a71fd9b2bba6",
   "metadata": {},
   "outputs": [],
   "source": [
    "new_df.loc[new_df['person'] == 'Härdle, Wolfgang']"
   ]
  },
  {
   "cell_type": "markdown",
   "id": "449f2a32-3615-49ea-a4a3-b34089e293e5",
   "metadata": {},
   "source": [
    "Häufigkeiten der verschiedenen Rollen:"
   ]
  },
  {
   "cell_type": "code",
   "execution_count": null,
   "id": "c4c5e3f9-b613-40d8-aacf-100af515e9f1",
   "metadata": {},
   "outputs": [],
   "source": [
    "# Häufigkeit von \"person_rela\"\n",
    "rela_counts = new_df['person_rela'].value_counts().head(25).reset_index()\n",
    "\n",
    "# Kreisdiagramm erstellen\n",
    "fig2 = px.pie(rela_counts, values='count', names='person_rela', title='Verteilung der Rollen (`person_rela`) im Datenset', \n",
    "              color_discrete_sequence=px.colors.sequential.RdBu, height=500)\n",
    "fig2.show()"
   ]
  },
  {
   "cell_type": "code",
   "execution_count": null,
   "id": "1f07cf09-f778-45d0-94ef-a7bb751c6b62",
   "metadata": {},
   "outputs": [],
   "source": []
  }
 ],
 "metadata": {
  "kernelspec": {
   "display_name": "Python 3 (ipykernel)",
   "language": "python",
   "name": "python3"
  },
  "language_info": {
   "codemirror_mode": {
    "name": "ipython",
    "version": 3
   },
   "file_extension": ".py",
   "mimetype": "text/x-python",
   "name": "python",
   "nbconvert_exporter": "python",
   "pygments_lexer": "ipython3",
   "version": "3.10.13"
  }
 },
 "nbformat": 4,
 "nbformat_minor": 5
}
