{
 "cells": [
  {
   "cell_type": "markdown",
   "id": "2ea47c9c-c39b-4b5c-b02a-cb1cd7ed89ce",
   "metadata": {},
   "source": [
    "### Laden benötigter Zusatzbibliotheken:"
   ]
  },
  {
   "cell_type": "code",
   "execution_count": null,
   "id": "a0a353f0-04f8-4d56-8285-5ce440aa88fb",
   "metadata": {},
   "outputs": [],
   "source": [
    "import pandas as pd\n",
    "from geopy.geocoders import Nominatim\n",
    "from geopy.exc import GeocoderTimedOut\n",
    "import plotly.express as px"
   ]
  },
  {
   "cell_type": "markdown",
   "id": "54452a70-8cf4-4bfa-b82d-7c0f10ea6d61",
   "metadata": {},
   "source": [
    "**Importieren des eben erstellten Dokuments**"
   ]
  },
  {
   "cell_type": "code",
   "execution_count": null,
   "id": "85fd2f76-4a65-4310-a82f-d1e0b6168748",
   "metadata": {},
   "outputs": [],
   "source": [
    "df = pd.read_csv(\"authors-csv.csv\", encoding=\"utf-8\")\n",
    "df"
   ]
  },
  {
   "cell_type": "markdown",
   "id": "8bf12cb9-5878-4161-9499-fa0e051c64ab",
   "metadata": {},
   "source": [
    "### Geolokation der Orte:"
   ]
  },
  {
   "cell_type": "markdown",
   "id": "3c19f682-09c6-4cab-ab92-475d70e00697",
   "metadata": {},
   "source": [
    "<div style=\"background-color: #FFDEAD; border-left: solid #FF7F50 4px; border-radius: 4px; padding: 0.7em;\" \">\n",
    "    <p style=\"margin: 0;\"> <b> Hinweis: </b> Im Folgenden kann der Name des user_agents frei gewählt werden. Ideal ist ein Name, der wenig aussagend, aber nicht zu generisch ist, da die user_agents bei Überlastung ggf. nicht mehr funktionieren. Vermieden werden sollten daher Namen wie \"test\", möglich wäre bspw. \"workshop_halle_test_vorname\" oder Ähnliches.</p>\n",
    "</div>"
   ]
  },
  {
   "cell_type": "code",
   "execution_count": null,
   "id": "bd119b8f-ff17-4055-8a0d-9c1b571c3b38",
   "metadata": {},
   "outputs": [],
   "source": [
    "# Initialisieren des Geolocators: \n",
    "geolocator = Nominatim(user_agent=\"hier_bitte_etwas_eintragen\")"
   ]
  },
  {
   "cell_type": "code",
   "execution_count": null,
   "id": "ce67491f-88de-44ae-8ebb-62707b78a477",
   "metadata": {},
   "outputs": [],
   "source": [
    "# Funktion, um Longitude und Latitude zu ermitteln:\n",
    "def get_lat_long(place):\n",
    "    try:\n",
    "        location = geolocator.geocode(place)\n",
    "        if location:\n",
    "            return location.latitude, location.longitude\n",
    "        else:\n",
    "            return None, None\n",
    "    except GeocoderTimedOut:\n",
    "        return None, None"
   ]
  },
  {
   "cell_type": "code",
   "execution_count": null,
   "id": "ec029f1f-20d2-4bd9-86ab-91aee865fe1c",
   "metadata": {},
   "outputs": [],
   "source": [
    "# Funktion auf der Spalte \"place\" ausführen, um neue Spalten \"lat\" und \"long\" zu ergänzen: \n",
    "df[['lat', 'long']] = df['Geburtsort'].apply(lambda x: pd.Series(get_lat_long(x)))"
   ]
  },
  {
   "cell_type": "code",
   "execution_count": null,
   "id": "880d0dd3-7164-4091-985b-dca67334ec3e",
   "metadata": {},
   "outputs": [],
   "source": [
    "df"
   ]
  },
  {
   "cell_type": "code",
   "execution_count": null,
   "id": "8dcbaa61-c183-4f97-a0fd-168e5871ec9d",
   "metadata": {},
   "outputs": [],
   "source": [
    "df = df.dropna(subset=['lat', 'long'])\n",
    "df"
   ]
  },
  {
   "cell_type": "code",
   "execution_count": null,
   "id": "1c122059-d170-4c5c-9134-317c684d30b1",
   "metadata": {},
   "outputs": [],
   "source": [
    "# Gruppieren bei \"place\" und zählen der Vorkommen der einzelnen Orte:\n",
    "place_counts = df.groupby('Geburtsort').size().reset_index(name='count')\n",
    "place_counts"
   ]
  },
  {
   "cell_type": "code",
   "execution_count": null,
   "id": "3952f9a7-8d8c-45bd-ac7a-eb6239ef51af",
   "metadata": {},
   "outputs": [],
   "source": [
    "# Zusammenführen der Zählungen mit dem ursprünglichen Dataframe in einem neuen Dataframe \"df_with_counts\":\n",
    "df_with_counts = df.merge(place_counts, on='Geburtsort')\n",
    "df_with_counts"
   ]
  },
  {
   "cell_type": "markdown",
   "id": "0d8647d3-ac4c-4bd4-aa44-1829e2707484",
   "metadata": {},
   "source": [
    "### Kartenvisualisierung erstellen:"
   ]
  },
  {
   "cell_type": "code",
   "execution_count": null,
   "id": "64e8cadd-be66-4dff-a9f6-206b02b5a963",
   "metadata": {},
   "outputs": [],
   "source": [
    "# Karte erstellen:\n",
    "fig = px.scatter_mapbox(df_with_counts, \n",
    "                        lat=\"lat\", \n",
    "                        lon=\"long\", \n",
    "                        hover_name=\"Geburtsort\", \n",
    "                        hover_data=[\"count\"],\n",
    "                        size=\"count\",\n",
    "                        color=\"count\",\n",
    "                        zoom=4,\n",
    "                        height=600)\n",
    "\n",
    "# Update des Layouts\n",
    "fig.update_layout(mapbox_style=\"open-street-map\")\n",
    "fig.update_layout(margin={\"r\":0,\"t\":0,\"l\":0,\"b\":0})\n",
    "\n",
    "# Karte anzeigen: \n",
    "fig.show()"
   ]
  },
  {
   "cell_type": "code",
   "execution_count": null,
   "id": "83307d4d-f459-4064-a4ae-e08b6e6648da",
   "metadata": {},
   "outputs": [],
   "source": [
    "# Karte bei Bedarf als HTML-Datei speichern: \n",
    "fig.write_html(\"places_map_plotly.html\")"
   ]
  }
 ],
 "metadata": {
  "kernelspec": {
   "display_name": "Python 3 (ipykernel)",
   "language": "python",
   "name": "python3"
  },
  "language_info": {
   "codemirror_mode": {
    "name": "ipython",
    "version": 3
   },
   "file_extension": ".py",
   "mimetype": "text/x-python",
   "name": "python",
   "nbconvert_exporter": "python",
   "pygments_lexer": "ipython3",
   "version": "3.10.13"
  }
 },
 "nbformat": 4,
 "nbformat_minor": 5
}
