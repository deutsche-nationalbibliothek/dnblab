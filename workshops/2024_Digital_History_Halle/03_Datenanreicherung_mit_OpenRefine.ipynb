{
 "cells": [
  {
   "cell_type": "markdown",
   "id": "97aa2a62-fce9-4d58-9d7c-08eb3b0eb41d",
   "metadata": {},
   "source": [
    "## Part X: Datenbereinigung und Datenanreicherung mit OpenRefine"
   ]
  },
  {
   "cell_type": "markdown",
   "id": "184f4a58-99b6-4e1d-a1e5-836b37418fcd",
   "metadata": {
    "tags": []
   },
   "source": [
    "Zur Datenbereinigung wird das Tool Open Refine genutzt, welches ebenfalls in Binder gestartet werden kann: https://tinyurl.com/dnblab-openrefine  \n"
   ]
  },
  {
   "cell_type": "markdown",
   "id": "ad52fc41-ab02-4f68-a94b-3f849f33505b",
   "metadata": {},
   "source": [
    "### Import in OpenRefine"
   ]
  },
  {
   "cell_type": "markdown",
   "id": "c8ed0c0e-dc2f-46a3-b16c-4b722a3946fe",
   "metadata": {},
   "source": [
    "Als nächstes importieren wir die im Ordner liegende authors.csv in OpenRefine. Um uns das Arbeiten zu erleichtern, sollte schon beim Import auf einige Details geachtet werden:\n",
    "- Ist UTF-8 als Buchstabencodierung ausgewählt?\n",
    "- Ist Komma als Trennzeichen ausgewält?\n",
    "- Das Feld \"Trim leading & trailing whitespace from string\"sollte angehakt werden\n",
    "\n",
    "Wurden alle diese Details überprüft, kann mittels des Buttons **Create Project** rechts oben das Projekt importiert und generiert werden.\n"
   ]
  },
  {
   "cell_type": "markdown",
   "id": "99c27c3a-f08e-4311-9918-07f560a71c0d",
   "metadata": {},
   "source": [
    "### Datenbereinigung - Arbeitsauftrag"
   ]
  },
  {
   "cell_type": "markdown",
   "id": "9bca7e93-545b-4fb3-a3a7-86d1fc0c4576",
   "metadata": {},
   "source": [
    "Das Feld gnd_modified soll bereinigt werden. Die Klammern sowie der in den Klammern stehende String sollen entfernt werden. \n",
    "\n",
    "Dafür auf Edit cells -> transform. Dies öffnet ein Fenster, in das Befehle mittels der OpenRefine-eigenen Sprache GREL, aber auch mittels Python oder Clojure geschrieben werden können. Für unsere Zwecke schreiben wir in dieses Feld:\n",
    "\n",
    "value.replace(\"(DE-588)\", \"\").trim()\n",
    "\n",
    "Damit bleibt in der Spalte gnd_modified nur noch der GND-Identifikator, sofern vorhanden, zurück."
   ]
  },
  {
   "cell_type": "markdown",
   "id": "bb5cc306-2a6b-4d13-9cf2-09ecf4ccfc6d",
   "metadata": {},
   "source": [
    "### Anreicherung der Daten"
   ]
  },
  {
   "cell_type": "markdown",
   "id": "b9fbad4b-639f-4b1e-98ea-1606be21261d",
   "metadata": {},
   "source": [
    "Die vorhandenen Personennamen sollen im nächsten Schritt mit Normdaten aus der GND verknüpft werden, dafür nutzen wir den Reconciliation-Service von OpenRefine.\n",
    "\n",
    "Evtl. muss zunächst noch der von lobid angebotene Service zur GND-Reconciliation hinzugefügt werden. Dafür in der Spalte author auf Reconcile -> Start Reconciling klicken und im neu geöffneten Fenster unten links Add standard service auswählen. Dies ermöglicht die Eingabe einer URN. Wir kopieren den folgenden Link in das Fenster:\n",
    "\n",
    "https://lobid.org/gnd/reconcile\n",
    "\n",
    "Die Suchanfrage lässt sich weiter spezifizieren, indem im linken Fenster die Suche auf individualisierter Person eingeschränkt wird und im rechten Fenster gnd_modified als Property ausgewählt wird. Hier in den Eingabeschlitz GND schreiben, dann wird GND-Nummer als Auswahlmöglichkeit angeboten. Da die GND-Nummer einen eindeutigen Identifikator darstellt, können diese Personen sicher zugeordnet werden.\n",
    "\n",
    "Der Haken bei Auto-match candidates with high confidence kann gesetzt bleiben.\n"
   ]
  },
  {
   "cell_type": "markdown",
   "id": "54b79a03-8771-4bc1-8fb5-5f90a8fd9cee",
   "metadata": {},
   "source": [
    "**Ergebnis:** \n",
    "\n",
    "Der Großteil der Werte kann zugeordnet werden. Links wird eine Facette angezeigt, diese erlaubt es, nach der Zuordnung zu filtern. Damit lassen sich die nicht zugeordneten Werte genauer betrachten. \n",
    "\n",
    "Was fällt bei diesen Werten auf?"
   ]
  },
  {
   "cell_type": "markdown",
   "id": "d06c04ba-1d1f-4633-94f4-0d3d5f04178a",
   "metadata": {},
   "source": [
    "Antwort (Feld entfernen)\n",
    "Es wird nicht weiter differenziert zwischen Werten, für die keine Entsprechung gefunden wurde und Werten, für die mehrere mögliche Entsprechungen gefunden wurden. Eine weitere Differenzierung ist hier also nicht möglich.\n"
   ]
  },
  {
   "cell_type": "markdown",
   "id": "58b03b3c-a17f-407d-b36b-5763fc9ef3f3",
   "metadata": {},
   "source": [
    "Es zeigt sich, dass die Anreicherung von Daten bzw. die Arbeit mit Daten aus dem Kultursektor i.A. mit viel Handarbeit verbunden ist. Im allgemeinen wird empfohlen, iterativ und stapelweise vorzugehen.\n",
    "Wir können die Liste nicht vollumfänglich abarbeiten, aber vereinzelte, einfach zu findende Werte können zugeordnet werden."
   ]
  },
  {
   "cell_type": "markdown",
   "id": "104ca5e4-f8f9-4350-92f3-2082081c3797",
   "metadata": {},
   "source": [
    "**Arbeitsauftrag**\n",
    "\n",
    "Zuordnen: Marcuse, Herbert; Deißler, Hans Hermann; Kim, Seongcheol"
   ]
  },
  {
   "cell_type": "markdown",
   "id": "59366fe3-1684-446a-aa35-5a0c4c652148",
   "metadata": {},
   "source": [
    "Um die unklaren oder fehlenden Verknüpfungen innerhalb der Spalte Autoren wieder zu entfernen, geht man auf Reconcile -> Actions -> Discard reconciliation judgements. Danach darauf achten, dass keine Facette mehr auf dem Bestand liegt."
   ]
  },
  {
   "cell_type": "markdown",
   "id": "9c6f3539-4467-4963-989d-52749c356d2a",
   "metadata": {},
   "source": [
    "### Anreicherung mit weiteren Normdatenfeldern"
   ]
  },
  {
   "cell_type": "markdown",
   "id": "a9981a7a-6747-4cc8-8e3c-07d4e7caa4cc",
   "metadata": {},
   "source": [
    "Das Verknüpfen mit Normdaten ermöglicht es auch, die Daten um weitere in den Normdaten hinterlegte Angaben anzureichern. "
   ]
  },
  {
   "cell_type": "markdown",
   "id": "5504f5dc-1ff0-4bd0-835e-1741733318d3",
   "metadata": {},
   "source": [
    "### Arbeitsauftrag"
   ]
  },
  {
   "cell_type": "markdown",
   "id": "b6907786-b989-4e1a-81e2-f44d1994fa88",
   "metadata": {},
   "source": [
    "Fügen Sie folgende Felder aus den Normdaten hinzu:\n",
    "- Geburtsdatum\n",
    "- Sterbedatum\n",
    "- Geburtsort\n",
    "- Sterbeort\n",
    "- Beruf"
   ]
  },
  {
   "cell_type": "markdown",
   "id": "c9b9853c-2452-4b89-a4eb-337ed8e1116d",
   "metadata": {},
   "source": [
    "Dafür in der Spalte author auf Edit Column -> Add column from reconciled values."
   ]
  },
  {
   "cell_type": "markdown",
   "id": "adfb0c05-39a6-42f4-9082-23c08d56e735",
   "metadata": {},
   "source": [
    "**Tipp**\n",
    "\n",
    "Bei allen Werten, die durch die Reconciliation verknüpft wurden, handelt es sich um Normdaten, alle sind mit weiteren Informationen verknüpft. Es können also bspw. auch weitere identifizierende Informationen zu den Orten auf die gleiche Weise hinzugefügt werden."
   ]
  },
  {
   "cell_type": "markdown",
   "id": "c715752a-7753-412c-bcea-d83eaf0f7c71",
   "metadata": {},
   "source": [
    "### Filtern nach Geburtsorten"
   ]
  },
  {
   "cell_type": "markdown",
   "id": "374f8cf4-d3f0-47c5-9122-6baf43f02ecd",
   "metadata": {},
   "source": [
    "Im nächsten Notebook werden die Geburtsorte visualiert, dafür werden die Daten bereits in OpenRefine gefiltert, da dies mit wenigen Klicks erledigt werden kann."
   ]
  },
  {
   "cell_type": "markdown",
   "id": "12606da3-7fde-42b7-888b-4bfb5ebe8efa",
   "metadata": {},
   "source": [
    "Facet -> Customized Facet -> Filter by blank"
   ]
  },
  {
   "cell_type": "markdown",
   "id": "87e02213-0f49-4d64-9c6f-13f912b410cd",
   "metadata": {},
   "source": [
    "### Records vs. Rows"
   ]
  },
  {
   "cell_type": "markdown",
   "id": "d28f86a3-b608-47de-b02d-1569b8a97125",
   "metadata": {},
   "source": [
    "Ein besonderes Feature von OpenRefine ist, dass es zwischen Records und Rows unterscheidet. Das ist in der vorliegenden Tabelle deutlich zu sehen durch den Import der Berufe. Diese haben dazu geführt, dass den einzelnen Records weitere Zeilen hinzugefügt wurden. Exportiert man die jetzige Tabelle in Excel, werden neue Zeilen angelegt und verbleiben die restlichen Zellen dieser Zeilen leer bzw. erhalten den Wert NaN (Not a Number). Um das zu vermeiden fassen wir die getrennten Zeilen in einer zusammen. Das funktioniert ganz einfach über die Funktion \n",
    "\n",
    "Edit Cells -> Join multi-valued cells\n",
    "\n",
    "Als Trennzeichen hier möglichst nicht das Komma auswählen, da dieses in csv-Dokumenten als Trennzeichen fungiert."
   ]
  },
  {
   "cell_type": "markdown",
   "id": "e25eda88-5460-4370-bb44-565697004d26",
   "metadata": {},
   "source": [
    "### Datenexport"
   ]
  },
  {
   "cell_type": "markdown",
   "id": "1911930a-50fb-434f-b348-68c4b7ccdcfb",
   "metadata": {},
   "source": [
    "Die Operationen, die OpenRefine an den Daten durchführt, bringen **keine Veränderung der Ausgansdaten** mit sich. Die Daten müssen aus dem Projekt exportiert werden, damit mit ihnen weitergearbeitet werden kann."
   ]
  },
  {
   "cell_type": "code",
   "execution_count": null,
   "id": "64733d33-b062-406a-9fe5-69fcdf5135ef",
   "metadata": {},
   "outputs": [],
   "source": []
  }
 ],
 "metadata": {
  "kernelspec": {
   "display_name": "Python 3 (ipykernel)",
   "language": "python",
   "name": "python3"
  },
  "language_info": {
   "codemirror_mode": {
    "name": "ipython",
    "version": 3
   },
   "file_extension": ".py",
   "mimetype": "text/x-python",
   "name": "python",
   "nbconvert_exporter": "python",
   "pygments_lexer": "ipython3",
   "version": "3.11.5"
  }
 },
 "nbformat": 4,
 "nbformat_minor": 5
}
