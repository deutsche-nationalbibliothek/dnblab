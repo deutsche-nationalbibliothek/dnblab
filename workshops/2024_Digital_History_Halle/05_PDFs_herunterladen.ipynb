{
 "cells": [
  {
   "cell_type": "code",
   "execution_count": null,
   "id": "c3e35d02-d746-4493-967a-8bc0147b4db9",
   "metadata": {},
   "outputs": [],
   "source": [
    "import pandas as pd\n",
    "import os\n",
    "import wget\n",
    "import PyPDF2\n",
    "from PyPDF2 import PdfReader\n",
    "import urllib.parse"
   ]
  },
  {
   "cell_type": "code",
   "execution_count": null,
   "id": "2978b485-bd48-45e0-8460-22f9fe9b5d4f",
   "metadata": {},
   "outputs": [],
   "source": [
    "df = pd.read_csv(\"Studentenbewegung_pdfs.csv\", encoding=\"utf-8\")\n",
    "df"
   ]
  },
  {
   "cell_type": "code",
   "execution_count": null,
   "id": "48b358c3-23a5-449a-8a6b-39a8d258c097",
   "metadata": {},
   "outputs": [],
   "source": [
    "links = df[\"links\"]\n",
    "print(links)"
   ]
  },
  {
   "cell_type": "code",
   "execution_count": null,
   "id": "1dc537a0-8479-4a17-a08d-296cefe38b7c",
   "metadata": {},
   "outputs": [],
   "source": [
    "print(links[0])"
   ]
  },
  {
   "cell_type": "code",
   "execution_count": null,
   "id": "7c41d1db-3784-4111-80ef-eecb0e9f84c1",
   "metadata": {},
   "outputs": [],
   "source": [
    "linklist = []\n",
    "\n",
    "for element in links:\n",
    "    related_links = element.split(\"; \")\n",
    "    for link in related_links: \n",
    "        if link.startswith(\"https://d-nb.info/\"):\n",
    "            #print(link)\n",
    "            linklist.append(link)"
   ]
  },
  {
   "cell_type": "code",
   "execution_count": null,
   "id": "e9c46e26-546c-46af-bef4-cc06d12fc7d9",
   "metadata": {},
   "outputs": [],
   "source": [
    "print(len(linklist))"
   ]
  },
  {
   "cell_type": "markdown",
   "id": "ae473829-9add-4ba2-8d37-d4e5eb3a974f",
   "metadata": {},
   "source": [
    "#### Alternative: \n",
    "```\n",
    "linklist = []\n",
    "\n",
    "for idn in df.idn: \n",
    "    link = \"https://d-nb.info/\" + idn + \"/34\"\n",
    "    linklist.append(link) ```"
   ]
  },
  {
   "cell_type": "markdown",
   "id": "9f958ef9-e31c-4b3e-b958-36b89b5c4bfc",
   "metadata": {},
   "source": [
    "## Herunterladen der PDF-Dateien\n",
    "\n",
    "Gekürzte Liste erstellen (damit es schneller geht):"
   ]
  },
  {
   "cell_type": "code",
   "execution_count": null,
   "id": "d133ad99-b713-4bea-9ada-2ab5f5ba2111",
   "metadata": {},
   "outputs": [],
   "source": [
    "testlist = linklist[60:70]\n",
    "print(testlist)"
   ]
  },
  {
   "cell_type": "markdown",
   "id": "48f7c8d5-29c0-4210-baf5-5caf3557dce0",
   "metadata": {},
   "source": [
    "Funktion zum Herunterladen definieren, die zunächst ein neues Verzeichnis für die gesammelten Dateien erstellt und diese dann herunterlädt und unter Nutzung der IDN als Dateiname abspeichert: "
   ]
  },
  {
   "cell_type": "code",
   "execution_count": null,
   "id": "975bffd0-f668-428d-b189-69aee98afd97",
   "metadata": {},
   "outputs": [],
   "source": [
    "import requests\n",
    "\n",
    "def download_text(testlist, save_directory):\n",
    "    # Erstellen des später definierten Speicherverzeichnis, falls es dieses noch nicht gibt\n",
    "    if not os.path.exists(save_directory):\n",
    "        os.makedirs(save_directory)\n",
    "    \n",
    "    for link in testlist: \n",
    "        # IDN ermitteln:\n",
    "        idn = link.split('/')[-2]\n",
    "        # Original-Dateiname und -Endung aus Content-Disposition header ermitteln und als Basis nutzen:\n",
    "        response = requests.head(link)\n",
    "        content_disposition = response.headers.get('Content-Disposition')\n",
    "        orig_filename = content_disposition.split('filename=')[-1].strip('\";')\n",
    "        print(orig_filename)\n",
    "\n",
    "        # Dateiname aus IDN und originalem Dateiname zusammensetzen: \n",
    "        file_name = f\"{idn}_{orig_filename}\"\n",
    "        file_path = os.path.join(save_directory, file_name)\n",
    "        print(f\" Starte Download: {file_name}\")\n",
    "        try: \n",
    "            #Datei herunterladen:\n",
    "            wget.download(link, out=file_path)\n",
    "        except Exception as e:\n",
    "            print(f\"Fehler beim Herunterladen von {link}: {e}\")"
   ]
  },
  {
   "cell_type": "code",
   "execution_count": null,
   "id": "64fdc34b-49fe-41c9-b5e9-99545e4c7ac2",
   "metadata": {},
   "outputs": [],
   "source": [
    "save_directory = \"downloads\"\n",
    "\n",
    "download_text(testlist, save_directory)"
   ]
  },
  {
   "cell_type": "markdown",
   "id": "2d5864c5-a1d3-4bf3-9d71-9739c1da02fb",
   "metadata": {},
   "source": [
    "### Test: Einlesen einer Seite eines PDFs"
   ]
  },
  {
   "cell_type": "code",
   "execution_count": null,
   "id": "d808a4a6-ae0d-4569-96be-fc1d86544f93",
   "metadata": {},
   "outputs": [],
   "source": [
    "def test_read_pdf(file_path, file_name):\n",
    "    reader = PdfReader(file_path + \"/\" + file_name)\n",
    "    number_of_pages = len(reader.pages)\n",
    "    page = reader.pages[10]\n",
    "    text = page.extract_text()\n",
    "    print(text)"
   ]
  },
  {
   "cell_type": "code",
   "execution_count": null,
   "id": "a10b0292-be99-4bcf-aa23-2e0b786d9842",
   "metadata": {},
   "outputs": [],
   "source": [
    "test_read_pdf(\"downloads\", \"1334711879.pdf\")"
   ]
  },
  {
   "cell_type": "markdown",
   "id": "b96d9085-3900-4794-a2fc-09bd4d25429a",
   "metadata": {},
   "source": [
    "### Einlesen einer kompletten PDF-Datei:"
   ]
  },
  {
   "cell_type": "code",
   "execution_count": null,
   "id": "c18ddf2f-c7e7-444e-9a47-9253a5cba71f",
   "metadata": {},
   "outputs": [],
   "source": [
    "def read_pdf_content(file_path, filename):\n",
    "    try:\n",
    "        reader = PdfReader(file_path + \"/\" + filename)\n",
    "        number_of_pages = len(reader.pages)\n",
    "        text = \"\"\n",
    "        for page in reader.pages:\n",
    "            text += page.extract_text()  # + \"\\n\"\n",
    "        return text\n",
    "    except Exception as e:\n",
    "        print(f\"Fehler beim Einlesen der Datei {filename}: {e}\")\n",
    "        return \"Fehler beim Einlesen der Datei\""
   ]
  },
  {
   "cell_type": "code",
   "execution_count": null,
   "id": "75610ab9-e0c7-43c4-947a-9598a00bcb9b",
   "metadata": {},
   "outputs": [],
   "source": [
    "test = read_pdf_content(\"downloads\", \"1192129652_40257_1.pdf\")\n",
    "print(test)"
   ]
  },
  {
   "cell_type": "markdown",
   "id": "37d3998e-a306-4cc6-9b5a-de2b69d31634",
   "metadata": {},
   "source": [
    "### Einlesen **aller** Dateien aus dem \"downloads\"-Verzeichnis, die auf .pdf enden. Anschließend werden die Texte im Zusammenhang mit ihrem Dateinamen in ein Pandas_Dataframe überführt: "
   ]
  },
  {
   "cell_type": "code",
   "execution_count": null,
   "id": "bcb98ba6-cbe1-4822-ad1d-e05a70cfe918",
   "metadata": {},
   "outputs": [],
   "source": [
    "def get_text_from_pdfs(file_path):\n",
    "    pdf_text = {}\n",
    "    for filename in os.listdir(file_path):\n",
    "        if filename.endswith(\".pdf\"):\n",
    "            text = read_pdf_content(file_path, filename)\n",
    "            pdf_text[filename] = text\n",
    "    return pdf_text"
   ]
  },
  {
   "cell_type": "code",
   "execution_count": null,
   "id": "952f19bd-3c11-48e5-a991-c886293e2c15",
   "metadata": {},
   "outputs": [],
   "source": [
    "pdf_texts = get_text_from_pdfs(\"downloads\")"
   ]
  },
  {
   "cell_type": "code",
   "execution_count": null,
   "id": "3b201873-d005-4cc9-a00f-54125700b326",
   "metadata": {},
   "outputs": [],
   "source": [
    "print(pdf_texts)"
   ]
  },
  {
   "cell_type": "code",
   "execution_count": null,
   "id": "fea2a889-9390-413e-b132-ffba8a1eae90",
   "metadata": {},
   "outputs": [],
   "source": [
    "#Löschen der ganzen Zeilenumbrüche (\"\\n\"): \n",
    "pdf_texts = {key: value.replace('\\n', ' ') for key, value in pdf_texts.items()}"
   ]
  },
  {
   "cell_type": "code",
   "execution_count": null,
   "id": "b1c33883-3180-408b-a92e-bce7df796b46",
   "metadata": {},
   "outputs": [],
   "source": [
    "for key, value in pdf_texts.items():\n",
    "    print(f\"Key: {key}, Type of value: {type(value)}\")\n",
    "    if value is None:\n",
    "        print(f\"None value found for key: {key}\")\n"
   ]
  },
  {
   "cell_type": "code",
   "execution_count": null,
   "id": "7fc6db13-f1e0-4716-a3d6-114bcbf19bac",
   "metadata": {},
   "outputs": [],
   "source": [
    "#Umwandeln in ein Dataframe:\n",
    "df_texts = pd.DataFrame.from_dict(pdf_texts, orient='index', columns=['Text'])\n",
    "df_texts.reset_index(inplace=True)\n",
    "df_texts.columns = ['filename', 'text']\n",
    "df_texts"
   ]
  },
  {
   "cell_type": "code",
   "execution_count": null,
   "id": "7c755735-c172-4911-a8ae-73d7e24dc4c0",
   "metadata": {},
   "outputs": [],
   "source": [
    "df_texts.to_hdf(\"pdf_texts.h5\", key=\"df_texts\")"
   ]
  },
  {
   "cell_type": "code",
   "execution_count": null,
   "id": "9da4a877-fd9f-4ed2-b100-37c5022bd34d",
   "metadata": {},
   "outputs": [],
   "source": []
  }
 ],
 "metadata": {
  "kernelspec": {
   "display_name": "Python 3 (ipykernel)",
   "language": "python",
   "name": "python3"
  },
  "language_info": {
   "codemirror_mode": {
    "name": "ipython",
    "version": 3
   },
   "file_extension": ".py",
   "mimetype": "text/x-python",
   "name": "python",
   "nbconvert_exporter": "python",
   "pygments_lexer": "ipython3",
   "version": "3.12.4"
  }
 },
 "nbformat": 4,
 "nbformat_minor": 5
}
