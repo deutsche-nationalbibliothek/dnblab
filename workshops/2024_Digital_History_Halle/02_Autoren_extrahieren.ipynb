{
 "cells": [
  {
   "cell_type": "code",
   "execution_count": null,
   "id": "56184c51-b4cd-4009-b53c-40f73bb4e14a",
   "metadata": {},
   "outputs": [],
   "source": [
    "import pandas as pd"
   ]
  },
  {
   "cell_type": "code",
   "execution_count": null,
   "id": "22cfe659-cb0d-42c4-830f-d10deb947f4e",
   "metadata": {},
   "outputs": [],
   "source": [
    "df = pd.read_csv(\"Studentenbewegung.csv\", encoding=\"utf-8\")\n",
    "df"
   ]
  },
  {
   "cell_type": "code",
   "execution_count": null,
   "id": "49e471cb-3e2f-46ae-8b44-3707b8dd5d79",
   "metadata": {},
   "outputs": [],
   "source": [
    "df = df.drop(['titel', 'rela'], axis=1)\n",
    "df"
   ]
  },
  {
   "cell_type": "code",
   "execution_count": null,
   "id": "3b37bdbf-cf0f-4ebe-a1f3-3d0406a411dc",
   "metadata": {},
   "outputs": [],
   "source": [
    "df = df[df['author'] != 'unknown']\n",
    "df"
   ]
  },
  {
   "cell_type": "markdown",
   "id": "54b7dbc7-4bb0-42b2-b642-c97dcbf6b3fe",
   "metadata": {},
   "source": [
    "### Bereinigen: "
   ]
  },
  {
   "cell_type": "code",
   "execution_count": null,
   "id": "d2b544f6-c1d9-4391-8fe5-12815a31a09d",
   "metadata": {},
   "outputs": [],
   "source": [
    "df.loc[:, 'gnd_modified'] = df['gnd'].str.split(';').str.get(0)\n",
    "df"
   ]
  },
  {
   "cell_type": "code",
   "execution_count": null,
   "id": "83716027-df06-4469-a03e-b40905f937b0",
   "metadata": {},
   "outputs": [],
   "source": [
    "df = df.drop(['gnd'], axis=1)\n",
    "df"
   ]
  },
  {
   "cell_type": "code",
   "execution_count": null,
   "id": "66378256-9230-44b8-9243-026c7ca5e171",
   "metadata": {},
   "outputs": [],
   "source": [
    "count_unknown = (df['gnd_modified'] == 'unknown').sum()\n",
    "print(\"Einträge in gnd_modified mit value 'unknown': \", count_unknown)"
   ]
  },
  {
   "cell_type": "code",
   "execution_count": null,
   "id": "b37202ea-4067-483f-bd93-41f4d6dc43a3",
   "metadata": {},
   "outputs": [],
   "source": [
    "df.to_csv(\"authors.csv\", encoding=\"utf-8\", index=False)"
   ]
  },
  {
   "cell_type": "code",
   "execution_count": null,
   "id": "ffad82ee-3945-4a99-a11b-b36f127500df",
   "metadata": {},
   "outputs": [],
   "source": []
  }
 ],
 "metadata": {
  "kernelspec": {
   "display_name": "Python 3 (ipykernel)",
   "language": "python",
   "name": "python3"
  },
  "language_info": {
   "codemirror_mode": {
    "name": "ipython",
    "version": 3
   },
   "file_extension": ".py",
   "mimetype": "text/x-python",
   "name": "python",
   "nbconvert_exporter": "python",
   "pygments_lexer": "ipython3",
   "version": "3.12.4"
  }
 },
 "nbformat": 4,
 "nbformat_minor": 5
}
