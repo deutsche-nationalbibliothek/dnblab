{
 "cells": [
  {
   "cell_type": "markdown",
   "id": "bd27fbe0-9f83-419f-878f-c18cc7dc46a4",
   "metadata": {},
   "source": [
    "### Laden benötigter Zusatzbibliotheken"
   ]
  },
  {
   "cell_type": "code",
   "execution_count": null,
   "id": "56184c51-b4cd-4009-b53c-40f73bb4e14a",
   "metadata": {
    "tags": []
   },
   "outputs": [],
   "source": [
    "import pandas as pd"
   ]
  },
  {
   "cell_type": "markdown",
   "id": "7b7dd402-bcda-46bc-aa87-3ddc1bebba12",
   "metadata": {},
   "source": [
    "### Importieren und weiteres Prozessieren der eben abgefragten Daten\n"
   ]
  },
  {
   "cell_type": "code",
   "execution_count": null,
   "id": "22cfe659-cb0d-42c4-830f-d10deb947f4e",
   "metadata": {
    "tags": []
   },
   "outputs": [],
   "source": [
    "df = pd.read_csv(\"Studentenbewegung.csv\", encoding=\"utf-8\")\n",
    "df"
   ]
  },
  {
   "cell_type": "markdown",
   "id": "51ec6164-00c2-4cf2-ad79-6eabbc70fc54",
   "metadata": {},
   "source": [
    "Das Feld \"titel\" enthält den Titel der Publikation, das Feld \"rela\" gibt an, in welcher Relation die genannte Person zur Publikation steht (bspw. Verfasser, Herausgeber, Übersetzer etc.). Da beide Felder für die weitere Analyse der Autoren nicht relevant sind, werden sie aus der Tabelle entfernt: "
   ]
  },
  {
   "cell_type": "code",
   "execution_count": null,
   "id": "49e471cb-3e2f-46ae-8b44-3707b8dd5d79",
   "metadata": {
    "tags": []
   },
   "outputs": [],
   "source": [
    "df = df.drop(['titel', 'rela'], axis=1)\n",
    "df"
   ]
  },
  {
   "cell_type": "markdown",
   "id": "ad3a900a-be02-4f90-ba83-a50120e4a486",
   "metadata": {},
   "source": [
    "Als nächstes werden die Suchtreffer auf Ergebnisse reduziert, bei denen das Feld author befüllt ist. Wie vorhin betrachtet, werden bspw. Herausgeber oder weitere Autoren in einem anderen Marc-Feld hinterlegt. "
   ]
  },
  {
   "cell_type": "code",
   "execution_count": null,
   "id": "3b37bdbf-cf0f-4ebe-a1f3-3d0406a411dc",
   "metadata": {
    "tags": []
   },
   "outputs": [],
   "source": [
    "df = df[df['author'] != 'unknown']\n",
    "df"
   ]
  },
  {
   "cell_type": "markdown",
   "id": "54b7dbc7-4bb0-42b2-b642-c97dcbf6b3fe",
   "metadata": {},
   "source": [
    "### Bereinigen: "
   ]
  },
  {
   "cell_type": "markdown",
   "id": "68c4f2e9-007e-4039-9944-eae700aaf22a",
   "metadata": {},
   "source": [
    "Im folgenden Schritt wird das GND-Feld modifiziert. In diesem Feld ist die GND-Nummer für den jeweiligen Autor, sofern vorhanden, hinterlegt, allerdings auf unterschiedliche Weise:\n",
    "- (DE-588)XXXXXXX\n",
    "- die Purl des Eintrags nach dem Muster https://d-nb.info/gnd/XXXXXX\n",
    "- (DE-101)XXXXXXX\n",
    "\n",
    "Die einzelnen Werte sind per Semikolon getrennt, die untenstehende Funktion trennt alles hinter dem ersten Semikolon ab und behält nur den ersten Wert - im dafür neu geschaffenen Feld gnd_modified."
   ]
  },
  {
   "cell_type": "code",
   "execution_count": null,
   "id": "d2b544f6-c1d9-4391-8fe5-12815a31a09d",
   "metadata": {
    "tags": []
   },
   "outputs": [],
   "source": [
    "df.loc[:, 'gnd_modified'] = df['gnd'].str.split(';').str.get(0)\n",
    "df"
   ]
  },
  {
   "cell_type": "markdown",
   "id": "9fa53823-8c0c-425a-bb8e-df5622be6883",
   "metadata": {},
   "source": [
    "Nachdem gnd_modified als Feld hinzugefügt wurde, wird im nächsten Schritt das Feld gnd entfernt."
   ]
  },
  {
   "cell_type": "code",
   "execution_count": null,
   "id": "83716027-df06-4469-a03e-b40905f937b0",
   "metadata": {
    "tags": []
   },
   "outputs": [],
   "source": [
    "df = df.drop(['gnd'], axis=1)\n",
    "df"
   ]
  },
  {
   "cell_type": "markdown",
   "id": "91c22f89-590b-4995-89d5-1f590858ba48",
   "metadata": {},
   "source": [
    "In wie vielen Feldern ist die GND-Nummer nicht hinterlegt?"
   ]
  },
  {
   "cell_type": "code",
   "execution_count": null,
   "id": "66378256-9230-44b8-9243-026c7ca5e171",
   "metadata": {
    "tags": []
   },
   "outputs": [],
   "source": [
    "count_unknown = (df['gnd_modified'] == 'unknown').sum()\n",
    "print(\"Einträge in gnd_modified mit value 'unknown': \", count_unknown)"
   ]
  },
  {
   "cell_type": "markdown",
   "id": "15ed44fa-1603-4d64-bda6-18e27890de77",
   "metadata": {},
   "source": [
    "Das Dokument wird nun unter dem Titel authors.csv und mit UTF-8-Codierung exportiert."
   ]
  },
  {
   "cell_type": "code",
   "execution_count": null,
   "id": "b37202ea-4067-483f-bd93-41f4d6dc43a3",
   "metadata": {
    "tags": []
   },
   "outputs": [],
   "source": [
    "df.to_csv(\"authors.csv\", encoding=\"utf-8\", index=False)"
   ]
  },
  {
   "cell_type": "code",
   "execution_count": null,
   "id": "ffad82ee-3945-4a99-a11b-b36f127500df",
   "metadata": {},
   "outputs": [],
   "source": []
  },
  {
   "cell_type": "code",
   "execution_count": null,
   "id": "536c63e7-5359-48de-8881-2cc365d7e2a1",
   "metadata": {},
   "outputs": [],
   "source": []
  }
 ],
 "metadata": {
  "kernelspec": {
   "display_name": "Python 3 (ipykernel)",
   "language": "python",
   "name": "python3"
  },
  "language_info": {
   "codemirror_mode": {
    "name": "ipython",
    "version": 3
   },
   "file_extension": ".py",
   "mimetype": "text/x-python",
   "name": "python",
   "nbconvert_exporter": "python",
   "pygments_lexer": "ipython3",
   "version": "3.10.13"
  }
 },
 "nbformat": 4,
 "nbformat_minor": 5
}
