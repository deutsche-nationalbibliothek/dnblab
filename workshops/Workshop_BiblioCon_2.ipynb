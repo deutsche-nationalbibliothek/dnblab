{
 "cells": [
  {
   "cell_type": "code",
   "execution_count": null,
   "id": "7fa10e06",
   "metadata": {},
   "outputs": [],
   "source": [
    "#Bibliotheken importieren:\n",
    "\n",
    "import requests\n",
    "from bs4 import BeautifulSoup as soup\n",
    "import lxml.etree as ET\n",
    "import unicodedata\n",
    "import pandas as pd"
   ]
  },
  {
   "cell_type": "markdown",
   "id": "1aa24303",
   "metadata": {},
   "source": [
    "# Datenaufbereitung"
   ]
  },
  {
   "cell_type": "code",
   "execution_count": null,
   "id": "799bb0aa",
   "metadata": {},
   "outputs": [],
   "source": [
    "# Funktion mit Schleife: \n",
    "\n",
    "def dnb_sru(searchterm, dataform): \n",
    "    \n",
    "    base_url = \"https://services.dnb.de/sru/dnb\"\n",
    "    parameter = {'version' : '1.1' , \n",
    "                 'operation' : 'searchRetrieve' , \n",
    "                 'query' : searchterm, \n",
    "                 'recordSchema' : dataform,\n",
    "                 'maximumRecords': '100'} \n",
    "    \n",
    "    r1 = requests.get(base_url, params = parameter)  \n",
    "    response = soup(r1.content, features=\"xml\")\n",
    "    records = response.find_all('record', {'type':'Bibliographic'})\n",
    "    \n",
    "    results = response.find('numberOfRecords').text  \n",
    "    print(\"Gefundene Treffer:\", results)\n",
    "    \n",
    "    if len(records) < 100:\n",
    "        \n",
    "        return records\n",
    "    \n",
    "    else:\n",
    "        \n",
    "        num_results = 100\n",
    "        i = 101\n",
    "        while num_results == 100:\n",
    "            \n",
    "            parameter.update({'startRecord': i})\n",
    "            r = requests.get(base_url, params=parameter)\n",
    "            xml = soup(r.content, features=\"xml\")\n",
    "            new_records = xml.find_all('record', {'type':'Bibliographic'})\n",
    "            records+=new_records\n",
    "            i+=100\n",
    "            num_results = len(new_records)\n",
    "            \n",
    "        return records\n",
    "\n",
    "    \n",
    "    return records  "
   ]
  },
  {
   "cell_type": "code",
   "execution_count": null,
   "id": "629b0a32",
   "metadata": {},
   "outputs": [],
   "source": [
    "result = dnb_sru(\"Bibliothekswesen and location=onlinefree\", \"MARC21-xml\")\n",
    "print(len(result))"
   ]
  },
  {
   "cell_type": "code",
   "execution_count": null,
   "id": "fc8f773f",
   "metadata": {},
   "outputs": [],
   "source": [
    "def parse_record(record):\n",
    "    \n",
    "    ns = {\"marc\":\"http://www.loc.gov/MARC21/slim\"}\n",
    "    xml = ET.fromstring(unicodedata.normalize(\"NFC\", str(record)))\n",
    "    \n",
    "    #idn\n",
    "    idn = xml.xpath(\"marc:controlfield[@tag = '001']\", namespaces=ns)\n",
    "    try:\n",
    "        idn = idn[0].text\n",
    "    except:\n",
    "        idn = 'fail'\n",
    "    \n",
    "    # title\n",
    "    title = xml.xpath(\"marc:datafield[@tag = '245']/marc:subfield[@code = 'a']\", namespaces=ns)\n",
    "    try:\n",
    "        title = title[0].text\n",
    "    except:\n",
    "        title = \"unknown\"\n",
    "        \n",
    "    \n",
    "    # author\n",
    "    author = xml.xpath(\"marc:datafield[@tag = '100']/marc:subfield[@code = 'a']\", namespaces=ns)\n",
    "    try:\n",
    "        author = author[0].text\n",
    "    except:\n",
    "        author = \"unknown\"\n",
    "       \n",
    "       \n",
    " \n",
    "    #date\n",
    "    date1 = xml.xpath(\"marc:datafield[@tag = '264']/marc:subfield[@code = 'c']\", namespaces=ns)\n",
    "    date2 = xml.xpath(\"marc:datafield[@tag = '502']/marc:subfield[@code = 'd']\", namespaces=ns)\n",
    "    date3 = xml.xpath(\"marc:datafield[@tag = '502']/marc:subfield[@code = 'a']\", namespaces=ns)\n",
    "    if date1:\n",
    "        date = date1[0].text\n",
    "    elif date2:\n",
    "        date = date2[0].text\n",
    "    elif date3:\n",
    "        date = date3[0].text\n",
    "    else:\n",
    "        date = \"none\"\n",
    "        \n",
    " \n",
    "    \n",
    "    meta_dict = {\"idn\":idn, \"title\":title, \"author\":author, \"date\":date}\n",
    "    \n",
    "    return meta_dict"
   ]
  },
  {
   "cell_type": "code",
   "execution_count": null,
   "id": "a2246aac",
   "metadata": {},
   "outputs": [],
   "source": [
    "output = [parse_record(record) for record in result]\n",
    "df = pd.DataFrame(output)\n",
    "df"
   ]
  },
  {
   "cell_type": "code",
   "execution_count": null,
   "id": "0eef8e77",
   "metadata": {},
   "outputs": [],
   "source": [
    "df_dates = df.loc[df['date'] != \"none\"]\n",
    "df_dates\n"
   ]
  },
  {
   "cell_type": "code",
   "execution_count": null,
   "id": "399034fd",
   "metadata": {},
   "outputs": [],
   "source": [
    "print(df_dates.date)#.to_string(index=False))"
   ]
  },
  {
   "cell_type": "code",
   "execution_count": null,
   "id": "68e7fbc8",
   "metadata": {},
   "outputs": [],
   "source": [
    "#df_dates['date'] = df['date'].str.strip(\"[]\")\n",
    "df_dates['date'] = df_dates['date'].str.replace('\\D', '', regex=True)\n",
    "df_dates"
   ]
  },
  {
   "cell_type": "code",
   "execution_count": null,
   "id": "bd2976fa",
   "metadata": {},
   "outputs": [],
   "source": [
    "#print(df_dates.date)#.to_string(index=False))\n",
    "df_dates.query(\"date.str.len() > 4\")"
   ]
  },
  {
   "cell_type": "code",
   "execution_count": null,
   "id": "0aaf1c6d",
   "metadata": {},
   "outputs": [],
   "source": [
    "df_dates['date'] = df_dates['date'].str[:4]\n",
    "df_dates"
   ]
  },
  {
   "cell_type": "code",
   "execution_count": null,
   "id": "5a2df76e",
   "metadata": {},
   "outputs": [],
   "source": [
    "#df_dates.query(\"date.str.len() > 4\")\n",
    "print(df_dates.date.to_string(index=False))"
   ]
  },
  {
   "cell_type": "code",
   "execution_count": null,
   "id": "e1ddb149",
   "metadata": {},
   "outputs": [],
   "source": [
    "df_dates.to_csv(\"BiblioCon.csv\", encoding=\"utf-8\")"
   ]
  },
  {
   "cell_type": "markdown",
   "id": "b7ec324f",
   "metadata": {},
   "source": [
    "## Advanced"
   ]
  },
  {
   "cell_type": "code",
   "execution_count": null,
   "id": "1da7b3e4",
   "metadata": {},
   "outputs": [],
   "source": [
    "def parse_record(record):\n",
    "    \n",
    "    ns = {\"marc\":\"http://www.loc.gov/MARC21/slim\"}\n",
    "    xml = ET.fromstring(unicodedata.normalize(\"NFC\", str(record)))\n",
    "    \n",
    "    #idn\n",
    "    idn = xml.xpath(\"marc:controlfield[@tag = '001']\", namespaces=ns)\n",
    "    try:\n",
    "        idn = idn[0].text\n",
    "    except:\n",
    "        idn = 'fail'\n",
    "    \n",
    "    # title\n",
    "    title = xml.xpath(\"marc:datafield[@tag = '245']/marc:subfield[@code = 'a']\", namespaces=ns)\n",
    "    try:\n",
    "        title = title[0].text\n",
    "    except:\n",
    "        title = \"unknown\"\n",
    "        \n",
    "    \n",
    "    # author\n",
    "    author = xml.xpath(\"marc:datafield[@tag = '100']/marc:subfield[@code = 'a']\", namespaces=ns)\n",
    "    try:\n",
    "        author = author[0].text\n",
    "    except:\n",
    "        author = \"unknown\"\n",
    "       \n",
    "       \n",
    " \n",
    "    #date\n",
    "    date = xml.xpath(\"marc:datafield[@tag = '264']/marc:subfield[@code = 'c']\", namespaces=ns)\n",
    "    date2 = xml.xpath(\"marc:datafield[@tag = '502']/marc:subfield[@code = 'd']\", namespaces=ns)\n",
    "    date3 = xml.xpath(\"marc:datafield[@tag = '502']/marc:subfield[@code = 'a']\", namespaces=ns)\n",
    "    date4 = xml.xpath(\"marc:datafield[@tag = '773']/marc:subfield[@code = 'g']\", namespaces=ns)\n",
    "    test = \"\"\n",
    "    if date:\n",
    "        date = date[0].text\n",
    "    elif date2:\n",
    "        date = date2[0].text\n",
    "    elif date3:\n",
    "        date = date3[0].text\n",
    "    elif date4:\n",
    "        for item in date4:\n",
    "            test+= item.text + \", \"\n",
    "        date = test\n",
    "    else:\n",
    "        date = \"none\"\n",
    "        \n",
    " \n",
    "    \n",
    "    meta_dict = {\"idn\":idn, \"title\":title, \"author\":author, \"date\":date}\n",
    "    \n",
    "    return meta_dict\n"
   ]
  },
  {
   "cell_type": "code",
   "execution_count": null,
   "id": "f56674a6",
   "metadata": {},
   "outputs": [],
   "source": [
    "output = [parse_record(record) for record in result]\n",
    "df = pd.DataFrame(output)\n",
    "df"
   ]
  },
  {
   "cell_type": "code",
   "execution_count": null,
   "id": "57f13015",
   "metadata": {},
   "outputs": [],
   "source": [
    "df.query(\"date.str.len() > 4\")"
   ]
  },
  {
   "cell_type": "code",
   "execution_count": null,
   "id": "5fa6714f",
   "metadata": {},
   "outputs": [],
   "source": []
  }
 ],
 "metadata": {
  "kernelspec": {
   "display_name": "Python 3 (ipykernel)",
   "language": "python",
   "name": "python3"
  },
  "language_info": {
   "codemirror_mode": {
    "name": "ipython",
    "version": 3
   },
   "file_extension": ".py",
   "mimetype": "text/x-python",
   "name": "python",
   "nbconvert_exporter": "python",
   "pygments_lexer": "ipython3",
   "version": "3.9.13"
  }
 },
 "nbformat": 4,
 "nbformat_minor": 5
}
