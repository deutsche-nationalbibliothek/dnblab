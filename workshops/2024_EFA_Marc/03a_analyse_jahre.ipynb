{
 "cells": [
  {
   "cell_type": "code",
   "execution_count": null,
   "id": "0c24be92-f90c-4b99-a9a5-ec98f66b5e46",
   "metadata": {},
   "outputs": [],
   "source": [
    "import pandas as pd\n",
    "from lxml import etree\n",
    "import unicodedata\n",
    "import plotly.express as px"
   ]
  },
  {
   "cell_type": "markdown",
   "id": "ef2009a8-333e-4264-ad99-6bb4d705cd70",
   "metadata": {},
   "source": [
    "#### Laden des Datensatzes: "
   ]
  },
  {
   "cell_type": "code",
   "execution_count": null,
   "id": "8fd7ac92-fb9e-4f9d-b197-9e2319858d63",
   "metadata": {},
   "outputs": [],
   "source": [
    "tree = etree.parse('Mittelalter.xml')\n",
    "root = tree.getroot()                \n",
    "ns = {'marc': 'http://www.loc.gov/MARC21/slim'} \n",
    "records = root.findall('.//marc:record', namespaces=ns)\n",
    "print(\"Gefundene Records:\", len(records))"
   ]
  },
  {
   "cell_type": "code",
   "execution_count": null,
   "id": "350a6538-d0f3-4eca-9afc-12c403dfd987",
   "metadata": {},
   "outputs": [],
   "source": [
    "# Funktion zum Extrahieren von Datensätzen\n",
    "def parse_record(record):\n",
    "    ns = {\"marc\": \"http://www.loc.gov/MARC21/slim\"}\n",
    "    \n",
    "    def extract_text(xpath_query):\n",
    "        fields = record.xpath(xpath_query, namespaces=ns)\n",
    "        if fields:\n",
    "            return \"; \".join(field.text.replace('\\x98', '').replace('\\x9c', '') for field in fields if field.text)\n",
    "        return \"unknown\"\n",
    "\n",
    "    idn = extract_text(\"marc:controlfield[@tag='001']\")\n",
    "    creator = extract_text(\"marc:datafield[@tag='100']/marc:subfield[@code='a']\")\n",
    "    title = extract_text(\"marc:datafield[@tag='245']/marc:subfield[@code='a']\")\n",
    "    subtitle = extract_text(\"marc:datafield[@tag='245']/marc:subfield[@code='b']\")\n",
    "    place = extract_text(\"marc:datafield[@tag='264']/marc:subfield[@code='a']\")\n",
    "    publisher = extract_text(\"marc:datafield[@tag='264']/marc:subfield[@code='b']\")\n",
    "    year = extract_text(\"marc:datafield[@tag='264']/marc:subfield[@code='c']\")\n",
    "    \n",
    "    return {\n",
    "        \"idn\": idn,\n",
    "        \"creator\": creator,\n",
    "        \"title\": title,\n",
    "        \"subtitle\": subtitle,\n",
    "        \"publisher\": publisher,\n",
    "        \"place\": place,\n",
    "        \"year\": year \n",
    "    }"
   ]
  },
  {
   "cell_type": "code",
   "execution_count": null,
   "id": "a59ff4bb-deb1-479b-bf58-c070735e4795",
   "metadata": {},
   "outputs": [],
   "source": [
    "# Übergabe der einzelnen Datensätze an die Funktion \"parse_record\":\n",
    "result = [parse_record(record) for record in records]\n",
    "df = pd.DataFrame(result)\n",
    "df"
   ]
  },
  {
   "cell_type": "code",
   "execution_count": null,
   "id": "df548077-f252-47de-84ec-21aba54187c2",
   "metadata": {},
   "outputs": [],
   "source": [
    "#Filtern nach Einträgen \"unknown\" in der Spalte \"year\": \n",
    "no_year = df.loc[df['year'] == \"unknown\"]\n",
    "print(\"Fehlende Jahreszahlen: \" , len(no_year), \"/\", len(df), \" - \" , len(no_year)/len(df)*100, \"%\")"
   ]
  },
  {
   "cell_type": "code",
   "execution_count": null,
   "id": "17d93597-6bf1-4e54-9704-75ae332725b4",
   "metadata": {},
   "outputs": [],
   "source": [
    "#Finde Einträge in der Spalte \"year\", die länger als 4 Zeichen sind:\n",
    "longer4 = df[df['year'].str.len() > 4]\n",
    "longer4"
   ]
  },
  {
   "cell_type": "markdown",
   "id": "ffff0fbe-e01b-4eb0-a8f3-6dde04b39707",
   "metadata": {},
   "source": [
    "### Neue Visualisierung:"
   ]
  },
  {
   "cell_type": "code",
   "execution_count": null,
   "id": "fb96c138-c546-466d-befd-3d4326c05ad5",
   "metadata": {},
   "outputs": [],
   "source": [
    "# Häufigkeiten der Jahre zählen\n",
    "year_counts = df['year'].value_counts().reset_index()\n",
    "year_counts.columns = ['year', 'count']\n",
    "\n",
    "# Barchart erstellen\n",
    "fig = px.bar(year_counts, x='year', y='count', title='Häufigkeiten der Publikationsjahre', category_orders={\"year\": sorted(year_counts['year'].unique())})\n",
    "fig.show()"
   ]
  },
  {
   "cell_type": "code",
   "execution_count": null,
   "id": "99596f5a-1de9-4627-a109-c624624ee17e",
   "metadata": {},
   "outputs": [],
   "source": [
    "fig2 = px.pie(year_counts, names='year', values='count', title='Publikationsjahre', height=800,\n",
    "             labels={'year':'Year'}) #, category_orders={\"year\": sorted(year_counts['year'].unique())})\n",
    "fig2.update_traces(textposition='inside', textinfo='percent+label')\n",
    "fig2.show()"
   ]
  },
  {
   "cell_type": "code",
   "execution_count": null,
   "id": "6b861c94-0eec-49c9-8e7b-9d5e38a6d947",
   "metadata": {},
   "outputs": [],
   "source": [
    "# Bestimmte Einträge finden: \n",
    "query_df = df.loc[df['year'] == \"1991\"]\n",
    "query_df"
   ]
  },
  {
   "cell_type": "code",
   "execution_count": null,
   "id": "57d875f4-7ad5-4e1a-b9ea-a300ecf31a6b",
   "metadata": {},
   "outputs": [],
   "source": []
  }
 ],
 "metadata": {
  "kernelspec": {
   "display_name": "Python 3 (ipykernel)",
   "language": "python",
   "name": "python3"
  },
  "language_info": {
   "codemirror_mode": {
    "name": "ipython",
    "version": 3
   },
   "file_extension": ".py",
   "mimetype": "text/x-python",
   "name": "python",
   "nbconvert_exporter": "python",
   "pygments_lexer": "ipython3",
   "version": "3.12.4"
  }
 },
 "nbformat": 4,
 "nbformat_minor": 5
}
