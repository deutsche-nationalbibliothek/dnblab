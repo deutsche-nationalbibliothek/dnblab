{
 "cells": [
  {
   "cell_type": "code",
   "execution_count": null,
   "id": "3897fd41-7df5-40f8-92ce-b91166fe4576",
   "metadata": {},
   "outputs": [],
   "source": [
    "import pandas as pd\n",
    "from lxml import etree\n",
    "import unicodedata\n",
    "import plotly.express as px"
   ]
  },
  {
   "cell_type": "code",
   "execution_count": null,
   "id": "0e2f71e2-1d2e-48f6-b982-af50fc170417",
   "metadata": {},
   "outputs": [],
   "source": [
    "tree = etree.parse('Mittelalter.xml')\n",
    "root = tree.getroot()                \n",
    "ns = {'marc': 'http://www.loc.gov/MARC21/slim'} \n",
    "records = root.findall('.//marc:record', namespaces=ns)\n",
    "print(\"Gefundene Records:\", len(records))"
   ]
  },
  {
   "cell_type": "code",
   "execution_count": null,
   "id": "ba90d329-6120-4211-b937-75ea5f5ca360",
   "metadata": {},
   "outputs": [],
   "source": [
    "# Funktion zum Extrahieren von Datensätzen\n",
    "def parse_record(record):\n",
    "    ns = {\"marc\": \"http://www.loc.gov/MARC21/slim\"}\n",
    "    \n",
    "    def extract_text(xpath_query):\n",
    "        fields = record.xpath(xpath_query, namespaces=ns)\n",
    "        if fields:\n",
    "            return \"; \".join(field.text.replace('\\x98', '').replace('\\x9c', '') for field in fields if field.text)\n",
    "        return \"unknown\"\n",
    "\n",
    "    idn = extract_text(\"marc:controlfield[@tag='001']\")\n",
    "    creator = extract_text(\"marc:datafield[@tag='100']/marc:subfield[@code='a']\")\n",
    "    creator_rela = extract_text(\"marc:datafield[@tag='100']/marc:subfield[@code='e']\")\n",
    "    title = extract_text(\"marc:datafield[@tag='245']/marc:subfield[@code='a']\")\n",
    "    added_creator = extract_text(\"marc:datafield[@tag='700']/marc:subfield[@code='a']\")\n",
    "    added_creator_rela = extract_text(\"marc:datafield[@tag='700']/marc:subfield[@code='e']\")\n",
    "    year = extract_text(\"marc:controlfield[@tag='008']\")\n",
    "    \n",
    "    return {\n",
    "        \"idn\": idn,\n",
    "        \"creator\": creator,\n",
    "        \"creator_rela\": creator_rela,\n",
    "        \"title\": title,\n",
    "        \"added_creator\": added_creator,\n",
    "        \"added_creator_rela\": added_creator_rela,\n",
    "        \"year\": year[7:11]\n",
    "    }"
   ]
  },
  {
   "cell_type": "code",
   "execution_count": null,
   "id": "74899481-bf6d-4407-8b7a-12133a3136ff",
   "metadata": {},
   "outputs": [],
   "source": [
    "# Übergabe der einzelnen Datensätze an die Funktion \"parse_record\":\n",
    "result = [parse_record(record) for record in records]\n",
    "df = pd.DataFrame(result)\n",
    "df"
   ]
  },
  {
   "cell_type": "markdown",
   "id": "3efecaf1-eb1a-4ca5-aa20-e15bba616a53",
   "metadata": {},
   "source": [
    "Die einzelnen Einträge unter additional_author und added_rela sind jeweils durch ein Semikolon getrennt - da es im Eintrag zu Franz Siegfried Müller allerdings zwei Einträge der Relation (zwei subfields $e) für beide Funktionen als Verfasser sowie als Herausgeber gab, sind die Einträge hier nicht mehr eindeutig zuordnenbar (2 Einträge zu additional_authors vs. 3 added_rela-Einträge).\n",
    "\n",
    "Für eine genauere Analyse der einzelnen Personen inklusive der Beziehungen zum Werk ist es also nötig, die Funktion anzupassen und die einzelnen Unterfelder in Abhängigkeit ihrer \"datafields\" zu extrahieren und die Abhängigkeiten entsprechend abzubilden. Dazu wird die Funktion von eben etwas verändert und erweitert:\n"
   ]
  },
  {
   "cell_type": "code",
   "execution_count": null,
   "id": "e81da3b7-f935-4680-951e-e65ac10a683b",
   "metadata": {},
   "outputs": [],
   "source": [
    "# Erweiterte Funktion zum Extrahieren der Inhalte: \n",
    "def parse_record_advanced(record):\n",
    "    ns = {\"marc\": \"http://www.loc.gov/MARC21/slim\"}\n",
    "\n",
    "    def extract_text(xpath_query):\n",
    "        element = xpath_query.split(\"/\")\n",
    "        parentpath = xpath_query.split(\"/\")[0]\n",
    "        if len(element) == 1:\n",
    "            fields = record.xpath(xpath_query, namespaces=ns)\n",
    "            if fields:\n",
    "                return \"; \".join(field.text.replace('\\x98', '').replace('\\x9c', '') for field in fields if field.text)\n",
    "            return \"unknown\"\n",
    "        else:\n",
    "            childpath = xpath_query.split(\"/\")[1]\n",
    "            parentfields = record.xpath(parentpath, namespaces=ns)\n",
    "            result = []\n",
    "            \n",
    "            for parent in parentfields:\n",
    "                subfields = parent.xpath(childpath, namespaces=ns)\n",
    "                if subfields:\n",
    "                    text = \" / \".join(field.text.replace('\\x98', '').replace('\\x9c', '') for field in subfields if field.text)\n",
    "                else:\n",
    "                    text = \"\"\n",
    "                result.append(text)\n",
    "    \n",
    "            if len(result) == 0:\n",
    "                return None\n",
    "            elif len(result) == 1:\n",
    "                return result[0]\n",
    "            else:\n",
    "                return result\n",
    "                \n",
    "\n",
    "    # Extract fields\n",
    "    idn = extract_text(\"marc:controlfield[@tag='001']\")\n",
    "    creator = extract_text(\"marc:datafield[@tag='100']/marc:subfield[@code='a']\")\n",
    "    creator_rela = extract_text(\"marc:datafield[@tag='100']/marc:subfield[@code='e']\")\n",
    "    title = extract_text(\"marc:datafield[@tag='245']/marc:subfield[@code='a']\")\n",
    "    added_creator = extract_text(\"marc:datafield[@tag='700']/marc:subfield[@code='a']\")\n",
    "    added_creator_rela = extract_text(\"marc:datafield[@tag='700']/marc:subfield[@code='e']\")\n",
    "    year = extract_text(\"marc:controlfield[@tag='008']\")\n",
    "  \n",
    "    return {\n",
    "        \"idn\": idn,\n",
    "        \"creator\": creator,\n",
    "        \"creator_rela\": creator_rela,\n",
    "        \"title\": title,\n",
    "        \"added_creator\": added_creator,\n",
    "        \"added_creator_rela\": added_creator_rela,\n",
    "        \"year\": year[7:11]\n",
    "    }"
   ]
  },
  {
   "cell_type": "code",
   "execution_count": null,
   "id": "d00c9c8c-df9b-4eaf-a113-936db53531a2",
   "metadata": {},
   "outputs": [],
   "source": [
    "result_new = [parse_record_advanced(record) for record in records]\n",
    "df_new = pd.DataFrame(result_new)\n",
    "df_new"
   ]
  },
  {
   "cell_type": "markdown",
   "id": "ca0cf6c5-e1e8-45e6-9e7c-b6b334992cd6",
   "metadata": {},
   "source": [
    "#### Unwandeln des Dataframes für die weitere Analyse\n",
    "\n",
    "Das aktuelle Dataframe verfügt nun über jeweils 2 Spalten, in denen Personen gelistet werden, sowie zwei zugehörige Spalten, die deren Relation zum Werk beschreiben. Um im weiteren Verlauf alle Personen gleichermaßen listen und analyiseren zu können, muss das Dataframe nun noch etwas angepasst werden.\n",
    "\n",
    "Ziel ist es, nur noch eine Spalte \"person\" mit einer zugehörigen Spalte \"person_rela\" zu erzeugen und die Daten aus author, author_rela, additional_author und added_rela entsprechend in diese Spalten zu überführen. Außerdem soll die Beziehung der jeweiligen Person zum Werk erhalten bleiben. Das neue Dataframe sollte also in etwas folgendermaßen aussehen:\n",
    "\n",
    "| idn        | titel\t                                         | person                         | person_rela\t          | jahr | \n",
    "|------------|---------------------------------------------------|--------------------------------|-----------------------|------| \n",
    "| 1343800412 | Asynchrone Zeitraster: Bildzyklen im Kölner D...  | Freigang, Christian            | Verfasser             | 2024 |\n",
    "| 1321969694 | Changes of Monarchical Rule in the Late Middle... | Jaros, Sven                    | Herausgeber           | 2024 |\n",
    "| 1321969694 | Changes of Monarchical Rule in the Late Middle... | Böhme, Eric \t                  | Herausgeber           | 2024 |\n",
    "| 1321969694 | Changes of Monarchical Rule in the Late Middle... | Jaros, Marie Ulrik..\t          | Herausgeber           | 2024 |\n",
    "| usw. | | | | |"
   ]
  },
  {
   "cell_type": "markdown",
   "id": "bfcb2dcd-f7d8-43e3-a3be-19c6ce4efb6c",
   "metadata": {},
   "source": [
    "Um dies zu erreichen sind mehrere Schritte nötig: Zunächst werden die Listen, die sich in additional_author und added_rela befinden mit Hilfe der .explode()-Funktion von Pandas \"entpackt\". Dies bewirkt, dass eine Spalte, die Listen oder ähnliche Strukturen enthält so dupliziert wird, dass jede Listeneinheit in eine eigene Zeile aufgeteilt wird, während die anderen Spalten unverändert bleiben. Gleichzeitig werden die Spalten author und author_rela für die gewünschte neue Struktur umbenannt:"
   ]
  },
  {
   "cell_type": "code",
   "execution_count": null,
   "id": "63d35437-5aaf-489f-8924-14a1783282ba",
   "metadata": {},
   "outputs": [],
   "source": [
    "df_explode = df_new.explode(['added_creator', 'added_creator_rela'])\n",
    "df_persons = df_explode.rename(columns={'creator': 'person', 'creator_rela': 'person_rela'}).copy()\n",
    "df_persons"
   ]
  },
  {
   "cell_type": "markdown",
   "id": "28c60de4-e64f-4004-8de9-d931922852b9",
   "metadata": {},
   "source": [
    "Nun wird ein neues Dataframe erstellt, welches folgendermaßen befüllt wird:\n",
    "\n",
    "  - Kopieren jeder Zeile in das neue Dataframe\n",
    "  - Prüfung, ob ein Eintrag unter additional_author vorhanden ist. Wenn ja:\n",
    "    - Erneutes Kopieren der Zeile\n",
    "    - Überschreiben der Einträge in person und person_rela mit den Werten aus additional_author und added_rela in der neuen Zeile\n",
    "\n"
   ]
  },
  {
   "cell_type": "code",
   "execution_count": null,
   "id": "f1f3716e-efad-4380-8720-9fc3e5feacf8",
   "metadata": {},
   "outputs": [],
   "source": [
    "# Erstellen des neuen Dataframes: \n",
    "new_rows = []\n",
    "\n",
    "for index, row in df_persons.iterrows():\n",
    "    new_rows.append(row) # Kopieren der Zeilen\n",
    "\n",
    "    if pd.notna(row['added_creator']):\n",
    "        new_row = row.copy() \n",
    "        new_row['person'] = row['added_creator'] \n",
    "        new_row['person_rela'] = row['added_creator_rela']  \n",
    "        new_rows.append(new_row)  \n",
    "\n",
    "new_df = pd.DataFrame(new_rows)\n",
    "new_df.head()"
   ]
  },
  {
   "cell_type": "markdown",
   "id": "434c7484-1011-4cb8-8b51-61e134664729",
   "metadata": {},
   "source": [
    "Entfernen der Spalten `added_creator` und `added_creator_rela` mit anschließender Löschung doppelter Zeilen sowie von Zeilen, die keinen Eintrag unter \"person\" haben (da sie ursprünglich bspw. nicht über einen 100er Eintrag, sondern nur über einen 700er Eintrag verfügten):"
   ]
  },
  {
   "cell_type": "code",
   "execution_count": null,
   "id": "95cc9d45-507a-4fda-aa4d-fbe4dd8440ba",
   "metadata": {},
   "outputs": [],
   "source": [
    "new_df = new_df.drop(columns=['added_creator', 'added_creator_rela'])\n",
    "new_df.drop_duplicates(inplace=True)\n",
    "new_df.dropna(subset=['person'], inplace=True)\n",
    "new_df"
   ]
  },
  {
   "cell_type": "code",
   "execution_count": null,
   "id": "2334f9c7-143b-4f00-9580-b8438f60d192",
   "metadata": {},
   "outputs": [],
   "source": [
    "# Optional: Speichern des Dataframes als CSV\n",
    "new_df.to_csv(\"personen.csv\", encoding=\"utf-8\")"
   ]
  },
  {
   "cell_type": "markdown",
   "id": "dcbd3a6f-a2bb-428d-b3c8-dc301d446664",
   "metadata": {},
   "source": [
    "### Analyse:\n",
    "\n",
    "Gruppieren und Zählen der einzelnen Personen:\n"
   ]
  },
  {
   "cell_type": "code",
   "execution_count": null,
   "id": "c0b0ea0a-7f5c-4942-b75a-4fc7818954fa",
   "metadata": {},
   "outputs": [],
   "source": [
    "# Häufigkeit der Autoren zählen\n",
    "person_counts = new_df['person'].value_counts().head(25).reset_index()\n",
    "person_counts.columns=['person', 'count']\n",
    "person_counts"
   ]
  },
  {
   "cell_type": "code",
   "execution_count": null,
   "id": "cbab7a5b-92bf-4b3f-aace-ab6a6fce3661",
   "metadata": {},
   "outputs": [],
   "source": [
    "# Balkendiagramm erstellen\n",
    "fig1 = px.bar(person_counts, x='person', y='count', height=550,\n",
    "             title='Häufigste Personen im Datenset', color='count', color_continuous_scale='Viridis')\n",
    "fig1.show()"
   ]
  },
  {
   "cell_type": "markdown",
   "id": "243d3602-5f10-4aba-9a97-49136e89d6af",
   "metadata": {},
   "source": [
    "Suche im Dataframe nach einer bestimmten Person:"
   ]
  },
  {
   "cell_type": "code",
   "execution_count": null,
   "id": "ccee63ad-4e1c-49bb-a934-de4a711878a8",
   "metadata": {},
   "outputs": [],
   "source": [
    "new_df.loc[new_df['person'] == 'Baumgärtner, Ingrid']"
   ]
  },
  {
   "cell_type": "markdown",
   "id": "627478b3-bc3f-4c50-8ca6-2378d41fcf40",
   "metadata": {},
   "source": [
    "Häufigkeiten der verschiedenen Rollen:"
   ]
  },
  {
   "cell_type": "code",
   "execution_count": null,
   "id": "6cc2754d-5b19-44c2-9ca0-df2fc296ff1b",
   "metadata": {},
   "outputs": [],
   "source": [
    "# Häufigkeit von \"person_rela\"\n",
    "rela_counts = new_df['person_rela'].value_counts().head(25).reset_index()\n",
    "rela_counts.columns=['person_rela', 'count']\n",
    "\n",
    "# Kreisdiagramm erstellen\n",
    "fig2 = px.pie(rela_counts, values='count', names='person_rela', title='Verteilung der Rollen (`person_rela`) im Datenset', \n",
    "              color_discrete_sequence=px.colors.sequential.RdBu, height=500)\n",
    "fig2.show()"
   ]
  },
  {
   "cell_type": "code",
   "execution_count": null,
   "id": "c7b49f00-673e-4912-a6e4-982cd4e4bc51",
   "metadata": {},
   "outputs": [],
   "source": []
  }
 ],
 "metadata": {
  "kernelspec": {
   "display_name": "Python 3 (ipykernel)",
   "language": "python",
   "name": "python3"
  },
  "language_info": {
   "codemirror_mode": {
    "name": "ipython",
    "version": 3
   },
   "file_extension": ".py",
   "mimetype": "text/x-python",
   "name": "python",
   "nbconvert_exporter": "python",
   "pygments_lexer": "ipython3",
   "version": "3.12.4"
  }
 },
 "nbformat": 4,
 "nbformat_minor": 5
}
