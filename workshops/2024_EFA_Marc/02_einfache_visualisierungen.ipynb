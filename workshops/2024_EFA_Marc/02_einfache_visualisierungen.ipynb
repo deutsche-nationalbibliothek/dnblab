{
 "cells": [
  {
   "cell_type": "code",
   "execution_count": null,
   "id": "0326b06a-1395-4e6f-9891-713d50e9f8f2",
   "metadata": {},
   "outputs": [],
   "source": [
    "import pandas as pd\n",
    "import plotly.express as px"
   ]
  },
  {
   "cell_type": "markdown",
   "id": "987fa18e-2e09-49eb-9b92-c3f45533fb1f",
   "metadata": {},
   "source": [
    "### Einfache Visualisierungen"
   ]
  },
  {
   "cell_type": "code",
   "execution_count": null,
   "id": "9ceabdda-8734-491f-9232-d3b1afa1e4a2",
   "metadata": {},
   "outputs": [],
   "source": [
    "# Häufigkeiten der Jahre zählen\n",
    "year_counts = df['year'].value_counts().reset_index()\n",
    "year_counts.columns = ['year', 'count']\n",
    "\n",
    "# Barchart erstellen\n",
    "fig = px.bar(year_counts, x='year', y='count', title='Häufigkeiten der Publikationsjahre')\n",
    "fig.show()\n"
   ]
  },
  {
   "cell_type": "code",
   "execution_count": null,
   "id": "b41d6f0a-0c01-45b7-8818-db7d17f1d20d",
   "metadata": {},
   "outputs": [],
   "source": [
    "# Häufigkeiten der Jahre zählen\n",
    "creator_counts = df['creator'].value_counts().reset_index()\n",
    "creator_counts.columns = ['creator', 'count']\n",
    "\n",
    "#top_50_creators = creator_counts.head(50)\n",
    "\n",
    "# Barchart erstellen\n",
    "fig2 = px.bar(creator_counts, x='creator', y='count', title='Häufigkeiten der Urheber')\n",
    "fig2.show()"
   ]
  },
  {
   "cell_type": "code",
   "execution_count": null,
   "id": "9cc5c9d9-59b1-4c94-907b-0b0c8c4a7a4c",
   "metadata": {},
   "outputs": [],
   "source": [
    "top_20_creators = creator_counts.head(20)\n",
    "\n",
    "# Piechart erstellen\n",
    "fig3 = px.pie(top_20_creators, names=top_20_creators['creator'], values=top_20_creators['count'], title='Top 20 Urheber')\n",
    "fig3.show()"
   ]
  },
  {
   "cell_type": "code",
   "execution_count": null,
   "id": "e4caac6e-3be2-4358-afe1-37e92087f4f3",
   "metadata": {},
   "outputs": [],
   "source": []
  }
 ],
 "metadata": {
  "kernelspec": {
   "display_name": "Python 3 (ipykernel)",
   "language": "python",
   "name": "python3"
  },
  "language_info": {
   "codemirror_mode": {
    "name": "ipython",
    "version": 3
   },
   "file_extension": ".py",
   "mimetype": "text/x-python",
   "name": "python",
   "nbconvert_exporter": "python",
   "pygments_lexer": "ipython3",
   "version": "3.12.4"
  }
 },
 "nbformat": 4,
 "nbformat_minor": 5
}
