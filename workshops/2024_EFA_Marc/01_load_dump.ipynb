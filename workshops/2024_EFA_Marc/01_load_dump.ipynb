{
 "cells": [
  {
   "cell_type": "markdown",
   "id": "1617ac9a-bab5-4877-9dd0-a36de11acf9e",
   "metadata": {},
   "source": [
    "### 1. Bibliotheken importieren und Arbeitsumgebung einrichten\n",
    "\n",
    "Zuerst werden die notwendigen Bibliotheken importiert:  \n",
    "  \n",
    "`pandas`: Biblikothek für die Datenmanipulation  \n",
    "`lxml` bzw. `etree`: für das Parsen von XML-Daten  \n",
    "`unicodedata`: Für die Arbeit mit Unicode-Zeichen und -Strings  \n",
    "`plotly.express`: leistungsstarke Bibliothek in Python für die Erstellung von interaktiven Visualisierungen und Diagrammen  \n"
   ]
  },
  {
   "cell_type": "code",
   "execution_count": null,
   "id": "24fd3a10-bef7-4b34-9907-f78fa8d1b02f",
   "metadata": {},
   "outputs": [],
   "source": [
    "import pandas as pd\n",
    "from lxml import etree\n",
    "import unicodedata\n",
    "import plotly.express as px"
   ]
  },
  {
   "cell_type": "markdown",
   "id": "5cbe4566-4d2c-48ff-9c63-fefa7e0638ae",
   "metadata": {},
   "source": [
    "### 2. XML-Datei direkt als XML laden\n",
    "\n",
    "Um die Anzahl der gefundenen Datensätze auszugeben, werden diese mittels etree als XML geladen."
   ]
  },
  {
   "cell_type": "code",
   "execution_count": null,
   "id": "2ac76c99-437a-4ea8-8cd9-b26e966f5362",
   "metadata": {},
   "outputs": [],
   "source": [
    "# Laden der MARC-xml-Datei in ElementTree: \n",
    "tree = etree.parse('Mittelalter.xml')\n",
    "\n",
    "# Laden des Root-Verzeichnisses des XML:\n",
    "root = tree.getroot()                \n",
    "\n",
    "# Definiere den Namensraum für MARC21 - muss bei Bedarf angepasst werden (wenn bspw. ein anderes Metadatenformat genutzt wird):\n",
    "ns = {'marc': 'http://www.loc.gov/MARC21/slim'} \n",
    "# Einlesen der einzelnen enthaltenen Datensätze (records) in eine Liste: \n",
    "records = root.findall('.//marc:record', namespaces=ns)\n",
    "\n",
    "#Ausgabe der Länge der Liste als Kontrolle für die Anzahl der enthaltenen Datensätze:\n",
    "print(\"Gefundene Records:\", len(records))"
   ]
  },
  {
   "cell_type": "markdown",
   "id": "b8bf2377-8009-480f-ad35-c8423205bdc0",
   "metadata": {},
   "source": [
    "### 3. Direkter Zugriff auf die Inhalte des XML\n",
    "\n",
    "Im Folgenden wird beispielhaft einer der Datensätze aus der Variable \"records\" separat gespeichert. Daraufhin wird er in einen String umgewandelt, um ihn betrachten zu können. Im Anschluss wird aus diesem Datensatz das \"Controlfield\" mit dem Tag 001 extrahiert und dessen Inhalt exemplarisch ausgegeben.\n"
   ]
  },
  {
   "cell_type": "code",
   "execution_count": null,
   "id": "90dfb36e-e5ce-4a0f-b876-03ddcdd168ea",
   "metadata": {
    "scrolled": true
   },
   "outputs": [],
   "source": [
    "# Beispielhaft einen der Datensätze aus der Liste als eigene Variable speichern:\n",
    "test_record = records[0]\n",
    "\n",
    "# In einen String umwandeln: \n",
    "test_record_string = etree.tostring(test_record, encoding=\"utf-8\")\n",
    "print(test_record_string)"
   ]
  },
  {
   "cell_type": "markdown",
   "id": "b00347d8-7ffc-4c4c-a3b1-10e7613f13ab",
   "metadata": {},
   "source": [
    "Extrahieren des Inhalts des Controlfields mit dem Tag \"001\" aus \"test_record\":"
   ]
  },
  {
   "cell_type": "code",
   "execution_count": null,
   "id": "bbfc941f-286c-4e85-8b2a-5e48320e1153",
   "metadata": {},
   "outputs": [],
   "source": [
    "# Angabe des Namespaces: \n",
    "ns = {'marc': 'http://www.loc.gov/MARC21/slim'}\n",
    "\n",
    "# Extraktion des Elements \"Controlfield\" mit dem Tag \"001\"\n",
    "controlfield_001 = test_record.find(\"marc:controlfield[@tag='001']\", namespaces=ns)\n",
    "print(controlfield_001)"
   ]
  },
  {
   "cell_type": "code",
   "execution_count": null,
   "id": "b12cf16c-8965-4648-a9be-811b6281d2de",
   "metadata": {},
   "outputs": [],
   "source": [
    "# Ausgabe des Inhalts des Controlfields: \n",
    "print(controlfield_001.text)"
   ]
  },
  {
   "cell_type": "markdown",
   "id": "6309a01f-40a4-45e1-8ab9-135991263e54",
   "metadata": {},
   "source": [
    "### 4. Funktion zur Extraktion mehrerer Inhalte aus den einzelnen Datensätzen:\n",
    "\n",
    "Die Funktion `parse_record` erwartet nun immer einen einzelnen Datensatz (record), den sie verarbeitet. Hierzu ist zunächst wieder der passende Namespace defininiert.\n",
    "\n",
    "Zusätzlich wurde eine weitere Funktion `extract_text` definiert. Diese erwartet eine Pfadangabe zu einem XML-Element wie bspw. `\"marc:controlfield[@tag='001']\"` oder auch `\"marc:datafield[@tag='245']/marc:subfield[@code='a']\"`. Die Funktion sucht dann nach den entsprechenden Elementen im XML und extrahiert den Inhalt. Falls mehrere Felder mit demselben Pfad enthalten sind, werden die Inhalte durch \"; \" zu einem String verbunden.\n",
    "\n",
    "Anschließend wird für jeden gewünschten Inhalt eine Variable definiert (bspw. \"titel\"), die dann auf die Funktion `extract_text`\n",
    "\n",
    "Nun werden die einzelnen Datensätze aus der Menge der gesammelten Datensätze in der Variable records nacheinander (Datensatz für Datensatz) der Funktion parse_record übergeben und die zurückgewonnenen Inhalte in der Variable result gespeichert:\n",
    " zugreift, dieser den angegebenen Pfad übergibt und den zurückgegebenen Inhalt speichert.\n",
    "\n",
    "Zuletzt werden die Inhalte jeder erstellten Variable einem passenden Schlüssel zugeordnet und als einfaches Dictionary (Sammlung von Schlüssel-Werte-Paaren) zurückgegeben."
   ]
  },
  {
   "cell_type": "code",
   "execution_count": null,
   "id": "e13e860a-325e-4f95-a81a-fb7731f51c07",
   "metadata": {},
   "outputs": [],
   "source": [
    "# Funktion zum Extrahieren von Datensätzen\n",
    "def parse_record(record):\n",
    "    ns = {\"marc\": \"http://www.loc.gov/MARC21/slim\"}\n",
    "    \n",
    "    def extract_text(xpath_query):\n",
    "        fields = record.xpath(xpath_query, namespaces=ns)\n",
    "        if fields:\n",
    "            return \"; \".join(field.text.replace('\\x98', '').replace('\\x9c', '') for field in fields if field.text)\n",
    "        return \"unknown\"\n",
    "\n",
    "    idn = extract_text(\"marc:controlfield[@tag='001']\")\n",
    "    title = extract_text(\"marc:datafield[@tag='245']/marc:subfield[@code='a']\")\n",
    "    subtitle = extract_text(\"marc:datafield[@tag='245']/marc:subfield[@code='b']\")\n",
    "    creator = extract_text(\"marc:datafield[@tag='100']/marc:subfield[@code='a']\")\n",
    "    place = extract_text(\"marc:datafield[@tag='264']/marc:subfield[@code='a']\")\n",
    "    publisher = extract_text(\"marc:datafield[@tag='264']/marc:subfield[@code='b']\")\n",
    "    year = extract_text(\"marc:datafield[@tag='264']/marc:subfield[@code='c']\")\n",
    "\n",
    "    return {\n",
    "        \"idn\": idn,\n",
    "        \"creator\": creator,\n",
    "        \"title\": title,\n",
    "        \"subtitle\": subtitle,\n",
    "        \"publisher\": publisher,\n",
    "        \"place\": place,\n",
    "        \"year\": year        \n",
    "    }"
   ]
  },
  {
   "cell_type": "markdown",
   "id": "b5b8ad62-76ff-447f-b172-dccb678119a7",
   "metadata": {},
   "source": [
    "Nun werden die einzelnen Datensätze aus der Menge der gesammelten Datensätze in der Variable `records` nacheinander (Datensatz für Datensatz) der Funktion `parse_record` übergeben und die zurückgewonnenen Inhalte in der Variable `result` gespeichert:\n"
   ]
  },
  {
   "cell_type": "code",
   "execution_count": null,
   "id": "0d9a9e52-e15c-46f8-85e2-a722f474bd07",
   "metadata": {},
   "outputs": [],
   "source": [
    "# Übergabe der einzelnen Datensätze an die Funktion \"parse_record\":\n",
    "result = [parse_record(record) for record in records]"
   ]
  },
  {
   "cell_type": "code",
   "execution_count": null,
   "id": "4b217aee-a91c-4acc-a66b-0e6778e4e00d",
   "metadata": {
    "scrolled": true
   },
   "outputs": [],
   "source": [
    "print(result)"
   ]
  },
  {
   "cell_type": "markdown",
   "id": "9aab68d5-c817-40b5-b6da-0fe19ecb6eb8",
   "metadata": {},
   "source": [
    "Abschließend können die Inhalte aus der Variable `result` in eine Tabelle in Form eines Pandas-Dataframes für die weitere Arbeit umgewandelt werden:"
   ]
  },
  {
   "cell_type": "code",
   "execution_count": null,
   "id": "686a094d-3ba6-45dc-97c5-93d3d110df2f",
   "metadata": {},
   "outputs": [],
   "source": [
    "# Umwandlung in ein Pandas-Dataframe\n",
    "df = pd.DataFrame(result)\n",
    "df#.head()"
   ]
  },
  {
   "cell_type": "markdown",
   "id": "1c9ec401-44a4-499f-944f-277fac08f1fd",
   "metadata": {},
   "source": [
    "### 5. Speichern des Dataframes\n",
    "\n",
    "Dataframes können in mehreren Formaten gespeichert werden:\n",
    "\n",
    "Speichern als CSV:"
   ]
  },
  {
   "cell_type": "code",
   "execution_count": null,
   "id": "ca068cbb-456f-45db-b007-51845db00962",
   "metadata": {},
   "outputs": [],
   "source": [
    "df.to_csv(\"Publikationsdaten.csv\", encoding=\"utf-8\")"
   ]
  },
  {
   "cell_type": "markdown",
   "id": "68b9cb4e-2710-421e-9cf3-55bf91fdd8f8",
   "metadata": {},
   "source": [
    "Speichern als Excel-Tabelle:"
   ]
  },
  {
   "cell_type": "code",
   "execution_count": null,
   "id": "4e89dc23-c969-44a8-830d-0ac8f3450c92",
   "metadata": {},
   "outputs": [],
   "source": [
    "df.to_excel(\"Publikationsdaten.xlsx\")"
   ]
  },
  {
   "cell_type": "markdown",
   "id": "26936c97-f0fc-45af-9e0e-ac249bd4f6cf",
   "metadata": {},
   "source": [
    "Speichern als Pandas-Dataframe für die weitere Nutzung in Python:"
   ]
  },
  {
   "cell_type": "code",
   "execution_count": null,
   "id": "79de8169-0a9b-4ae7-83dd-ef9a3fff2fa4",
   "metadata": {},
   "outputs": [],
   "source": [
    "df.to_hdf(\"Publikationsdaten.h5\", key=\"df\")"
   ]
  }
 ],
 "metadata": {
  "kernelspec": {
   "display_name": "Python 3 (ipykernel)",
   "language": "python",
   "name": "python3"
  },
  "language_info": {
   "codemirror_mode": {
    "name": "ipython",
    "version": 3
   },
   "file_extension": ".py",
   "mimetype": "text/x-python",
   "name": "python",
   "nbconvert_exporter": "python",
   "pygments_lexer": "ipython3",
   "version": "3.12.4"
  }
 },
 "nbformat": 4,
 "nbformat_minor": 5
}
