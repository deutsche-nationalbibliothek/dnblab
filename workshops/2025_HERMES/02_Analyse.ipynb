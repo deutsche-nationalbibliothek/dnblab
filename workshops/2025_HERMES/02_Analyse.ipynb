{
 "cells": [
  {
   "cell_type": "code",
   "execution_count": null,
   "id": "1b483395-d912-473c-b71a-d7804a37b8a5",
   "metadata": {},
   "outputs": [],
   "source": [
    "import pandas as pd\n",
    "import plotly.express as px"
   ]
  },
  {
   "cell_type": "code",
   "execution_count": null,
   "id": "cdb304c9-efa2-4e94-8461-af57cce594e5",
   "metadata": {},
   "outputs": [],
   "source": [
    "df = pd.read_csv(\"Studentenbewegung.csv\")\n",
    "df"
   ]
  },
  {
   "cell_type": "code",
   "execution_count": null,
   "id": "c0286e8e-a3cc-4429-bbb5-42282734a560",
   "metadata": {},
   "outputs": [],
   "source": [
    "df = df.dropna(subset=['year'])\n",
    "df"
   ]
  },
  {
   "cell_type": "code",
   "execution_count": null,
   "id": "19040faf-94b3-4de1-a5e6-dfbcfd7f3f64",
   "metadata": {},
   "outputs": [],
   "source": [
    "df = df[df['year'].str.strip() != '']\n",
    "df"
   ]
  },
  {
   "cell_type": "markdown",
   "id": "83590dda-c607-478d-91e3-c43e0eab0263",
   "metadata": {},
   "source": [
    "### Einfache Visualisierungen"
   ]
  },
  {
   "cell_type": "code",
   "execution_count": null,
   "id": "58fb1786-b8ee-49c2-95ed-4d08ae291ddb",
   "metadata": {},
   "outputs": [],
   "source": [
    "# Häufigkeiten der Jahre zählen\n",
    "year_counts = df['year'].value_counts().reset_index()\n",
    "year_counts.columns = ['year', 'count']\n",
    "\n",
    "# Barchart erstellen\n",
    "fig = px.bar(year_counts, x='year', y='count', title='Häufigkeiten der Publikationsjahre')\n",
    "fig.show()"
   ]
  },
  {
   "cell_type": "code",
   "execution_count": null,
   "id": "fba9cd87-9c2d-4363-be60-c2e94990d610",
   "metadata": {},
   "outputs": [],
   "source": [
    "# Häufigkeiten der Eintrage der Variable \"author\" zählen\n",
    "creator_counts = df['author'].value_counts().reset_index()\n",
    "creator_counts.columns = ['author', 'count']\n",
    "\n",
    "#top_50_creators = creator_counts.head(50)\n",
    "\n",
    "# Barchart erstellen\n",
    "fig2 = px.bar(creator_counts, x='author', y='count', title='Häufigkeiten der Urheber')\n",
    "fig2.show()"
   ]
  },
  {
   "cell_type": "code",
   "execution_count": null,
   "id": "edaa24cb-4d5c-4385-a3f6-fe687efb0421",
   "metadata": {},
   "outputs": [],
   "source": [
    "top_20_creators = creator_counts.head(20)\n",
    "\n",
    "# Piechart erstellen\n",
    "fig3 = px.pie(top_20_creators, names=top_20_creators['author'], values=top_20_creators['count'], title='Top 20 Urheber', height=700)\n",
    "#fig3.update_traces(textposition='inside', textinfo='percent+label')\n",
    "fig3.show()"
   ]
  },
  {
   "cell_type": "code",
   "execution_count": null,
   "id": "c8ceaaf6-5f64-43ae-b61b-daf8fc732b15",
   "metadata": {},
   "outputs": [],
   "source": []
  }
 ],
 "metadata": {
  "kernelspec": {
   "display_name": "Python 3 (ipykernel)",
   "language": "python",
   "name": "python3"
  },
  "language_info": {
   "codemirror_mode": {
    "name": "ipython",
    "version": 3
   },
   "file_extension": ".py",
   "mimetype": "text/x-python",
   "name": "python",
   "nbconvert_exporter": "python",
   "pygments_lexer": "ipython3",
   "version": "3.12.4"
  }
 },
 "nbformat": 4,
 "nbformat_minor": 5
}
