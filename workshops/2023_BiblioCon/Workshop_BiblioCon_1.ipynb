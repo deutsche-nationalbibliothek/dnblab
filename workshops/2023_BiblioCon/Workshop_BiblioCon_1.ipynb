{
 "cells": [
  {
   "cell_type": "code",
   "execution_count": null,
   "id": "5a48d45e",
   "metadata": {
    "scrolled": false
   },
   "outputs": [],
   "source": [
    "#Bibliotheken importieren:\n",
    "\n",
    "import requests\n",
    "from bs4 import BeautifulSoup as soup\n",
    "import unicodedata\n",
    "\n",
    "\n",
    "\n"
   ]
  },
  {
   "cell_type": "code",
   "execution_count": null,
   "id": "86bb75c4",
   "metadata": {
    "scrolled": false
   },
   "outputs": [],
   "source": [
    "#Variablen: \n",
    "\n",
    "string = \"Ich bin ein String\"\n",
    "liste = [\"Ich\", \"bin\", \"eine\", \"Liste\"]\n",
    "zahl = 5\n"
   ]
  },
  {
   "cell_type": "code",
   "execution_count": null,
   "id": "4b58d674",
   "metadata": {
    "scrolled": false
   },
   "outputs": [],
   "source": [
    "print(string)\n",
    "print(liste)\n",
    "print(zahl)"
   ]
  },
  {
   "cell_type": "code",
   "execution_count": null,
   "id": "9eac775a",
   "metadata": {
    "scrolled": false
   },
   "outputs": [],
   "source": [
    "#for-Schleifen: \n",
    "\n",
    "for item in liste:\n",
    "    print(item)\n"
   ]
  },
  {
   "cell_type": "code",
   "execution_count": null,
   "id": "ab9e8193",
   "metadata": {
    "scrolled": false
   },
   "outputs": [],
   "source": [
    "#if-else-Abfrage: \n",
    "\n",
    "if zahl == 3:\n",
    "    print(\"Die Zahl ist 3!\")\n",
    "elif zahl <3: \n",
    "    print(\"Die Zahl ist kleiner als 3\")\n",
    "else:\n",
    "    print(\"Die Zahl ist größer als 3\")"
   ]
  },
  {
   "cell_type": "code",
   "execution_count": null,
   "id": "56784ef3",
   "metadata": {
    "scrolled": false
   },
   "outputs": [],
   "source": [
    "#SRU-Abfrage:\n",
    "\n",
    "base_url = \"https://services.dnb.de/sru/dnb\"\n",
    "\n",
    "\n",
    "\n",
    "\n",
    "\n",
    "\n"
   ]
  },
  {
   "cell_type": "code",
   "execution_count": null,
   "id": "a2b78753",
   "metadata": {
    "scrolled": false
   },
   "outputs": [],
   "source": [
    "def enquiry(searchterm, dataform): \n",
    "    \n",
    "    parameter = {'version' : '1.1' , \n",
    "                 'operation' : 'searchRetrieve' , \n",
    "                 'query' : searchterm, \n",
    "                 'recordSchema' : dataform,\n",
    "                 'maximumRecords': '100'} \n",
    "    \n",
    "    r1 = requests.get(base_url, params = parameter)  \n",
    "    \n",
    "    return r1  "
   ]
  },
  {
   "cell_type": "code",
   "execution_count": null,
   "id": "75a77f3d",
   "metadata": {
    "scrolled": false
   },
   "outputs": [],
   "source": [
    "testresult = enquiry(\"Bibliothekswesen and location=onlinefree\", \"MARC21-xml\")"
   ]
  },
  {
   "cell_type": "code",
   "execution_count": null,
   "id": "4146a931",
   "metadata": {
    "scrolled": true
   },
   "outputs": [],
   "source": [
    "print(testresult.content)"
   ]
  },
  {
   "cell_type": "code",
   "execution_count": null,
   "id": "8e1540fd",
   "metadata": {
    "scrolled": false
   },
   "outputs": [],
   "source": [
    "testresponse = soup(testresult.content, features=\"xml\")\n",
    "    \n",
    "records = testresponse.find_all('record', {'type':'Bibliographic'})\n",
    "print(len(records))\n",
    "results = testresponse.find('numberOfRecords')  \n",
    "     \n",
    "numberofrecords = results.text\n",
    "numberofrecords = int(numberofrecords)\n",
    "print(\"Gefundene Treffer:\", numberofrecords)"
   ]
  },
  {
   "cell_type": "code",
   "execution_count": null,
   "id": "3e694f0f",
   "metadata": {
    "scrolled": false
   },
   "outputs": [],
   "source": [
    "print(testresponse.prettify())\n",
    "#print(records[2].prettify())"
   ]
  },
  {
   "cell_type": "code",
   "execution_count": null,
   "id": "a7157161",
   "metadata": {
    "scrolled": false
   },
   "outputs": [],
   "source": [
    "# Funktion mit Schleife: \n",
    "\n",
    "def dnb_sru(searchterm, dataform): \n",
    "    \n",
    "    base_url = \"https://services.dnb.de/sru/dnb\"\n",
    "    parameter = {'version' : '1.1' , \n",
    "                 'operation' : 'searchRetrieve' , \n",
    "                 'query' : searchterm, \n",
    "                 'recordSchema' : dataform,\n",
    "                 'maximumRecords': '100'} \n",
    "    \n",
    "    r1 = requests.get(base_url, params = parameter)  \n",
    "    response = soup(r1.content, features=\"xml\")\n",
    "    records = response.find_all('record', {'type':'Bibliographic'})\n",
    "    \n",
    "    results = response.find('numberOfRecords').text  \n",
    "    print(\"Gefundene Treffer:\", results)\n",
    "    \n",
    "    if len(records) < 100:\n",
    "        \n",
    "        return records\n",
    "    \n",
    "    else:\n",
    "        \n",
    "        num_results = 100\n",
    "        i = 101\n",
    "        while num_results == 100:\n",
    "            \n",
    "            parameter.update({'startRecord': i})\n",
    "            r = requests.get(base_url, params=parameter)\n",
    "            xml = soup(r.content, features=\"xml\")\n",
    "            new_records = xml.find_all('record', {'type':'Bibliographic'})\n",
    "            records+=new_records\n",
    "            i+=100\n",
    "            num_results = len(new_records)\n",
    "            \n",
    "        return records\n",
    "\n",
    "    \n",
    "    return records  "
   ]
  },
  {
   "cell_type": "code",
   "execution_count": 35,
   "id": "4fde81b7",
   "metadata": {
    "scrolled": false
   },
   "outputs": [
    {
     "name": "stdout",
     "output_type": "stream",
     "text": [
      "Gesammelte Treffer:  1788\n"
     ]
    }
   ],
   "source": [
    "result = dnb_sru(\"Bibliothekswesen and location=onlinefree\", \"MARC21-xml\")\n",
    "print(\"Gesammelte Treffer: \", len(result))"
   ]
  },
  {
   "cell_type": "code",
   "execution_count": null,
   "id": "7f6c20de",
   "metadata": {
    "scrolled": false
   },
   "outputs": [],
   "source": []
  }
 ],
 "metadata": {
  "kernelspec": {
   "display_name": "Python 3 (ipykernel)",
   "language": "python",
   "name": "python3"
  },
  "language_info": {
   "codemirror_mode": {
    "name": "ipython",
    "version": 3
   },
   "file_extension": ".py",
   "mimetype": "text/x-python",
   "name": "python",
   "nbconvert_exporter": "python",
   "pygments_lexer": "ipython3",
   "version": "3.9.13"
  }
 },
 "nbformat": 4,
 "nbformat_minor": 5
}
