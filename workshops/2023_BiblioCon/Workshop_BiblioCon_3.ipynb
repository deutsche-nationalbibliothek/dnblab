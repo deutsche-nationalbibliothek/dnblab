{
 "cells": [
  {
   "cell_type": "code",
   "execution_count": null,
   "id": "6dccc299",
   "metadata": {},
   "outputs": [],
   "source": [
    "import requests\n",
    "from bs4 import BeautifulSoup as soup\n",
    "import lxml.etree as ET\n",
    "import unicodedata\n",
    "import pandas as pd\n"
   ]
  },
  {
   "cell_type": "markdown",
   "id": "1d2bf415",
   "metadata": {},
   "source": [
    "# Visualisierung"
   ]
  },
  {
   "cell_type": "code",
   "execution_count": null,
   "id": "435e8212",
   "metadata": {},
   "outputs": [],
   "source": [
    "df_dates = pd.read_csv(\"BiblioCon.csv\", encoding = \"utf-8\")\n",
    "df_dates"
   ]
  },
  {
   "cell_type": "code",
   "execution_count": null,
   "id": "76025102",
   "metadata": {},
   "outputs": [],
   "source": [
    "df_dates['date'] = df_dates['date'].astype(int)\n"
   ]
  },
  {
   "cell_type": "code",
   "execution_count": null,
   "id": "b1ecca79",
   "metadata": {},
   "outputs": [],
   "source": [
    "df_1900 = df_dates.loc[df_dates['date'] >= 1900]\n",
    "df_1900"
   ]
  },
  {
   "cell_type": "code",
   "execution_count": null,
   "id": "5d015be1",
   "metadata": {},
   "outputs": [],
   "source": [
    "df_vis = df_1900[['date']].value_counts().reset_index(name='counts')\n",
    "df_vis"
   ]
  },
  {
   "cell_type": "code",
   "execution_count": null,
   "id": "92a12dea",
   "metadata": {},
   "outputs": [],
   "source": [
    "#Mit der Bibliothek plotly können interaktive Graphen geplottet werden:\n",
    "import plotly.express as px\n",
    "\n",
    "fig = px.bar(df_vis, x='date', y='counts')\n",
    "fig.show() #Mit der Funktion .show() wird der fertige Graph angezeigt."
   ]
  },
  {
   "cell_type": "code",
   "execution_count": null,
   "id": "debf3456",
   "metadata": {},
   "outputs": [],
   "source": [
    "fig2 = px.histogram(df_vis, x=\"date\", y=\"counts\")\n",
    "fig2.show()"
   ]
  },
  {
   "cell_type": "code",
   "execution_count": null,
   "id": "0426af40",
   "metadata": {},
   "outputs": [],
   "source": []
  }
 ],
 "metadata": {
  "kernelspec": {
   "display_name": "Python 3 (ipykernel)",
   "language": "python",
   "name": "python3"
  },
  "language_info": {
   "codemirror_mode": {
    "name": "ipython",
    "version": 3
   },
   "file_extension": ".py",
   "mimetype": "text/x-python",
   "name": "python",
   "nbconvert_exporter": "python",
   "pygments_lexer": "ipython3",
   "version": "3.9.13"
  }
 },
 "nbformat": 4,
 "nbformat_minor": 5
}
