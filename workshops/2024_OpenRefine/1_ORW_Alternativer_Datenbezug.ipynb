{
 "cells": [
  {
   "cell_type": "markdown",
   "id": "a235c0fa",
   "metadata": {},
   "source": [
    "# DNBLab Workshop: Daten bereinigen und zusammenführen"
   ]
  },
  {
   "cell_type": "markdown",
   "id": "7efab486",
   "metadata": {},
   "source": [
    "# Part 1: Datenbezug mittels SRU-Schnittstelle"
   ]
  },
  {
   "cell_type": "markdown",
   "id": "a835ec16",
   "metadata": {},
   "source": [
    "Als Datenbasis dient das Digitalisierungsprojekt \"100 Bände Klassik\". Es enthält namenhafte klassische Werke u.a. von Theodor Fontane, J.W. von Goethe und Rainer Maria Rilke und eignet sich daher besonders für einen ersten Einstieg in die Datenanreicherung, da die AutorInnen bereits umfassende Einträge in der GND haben. "
   ]
  },
  {
   "cell_type": "markdown",
   "id": "7bd4b171",
   "metadata": {},
   "source": [
    "Die Daten werden mittels SRU-Schnittstelle bezogen und zur weiteren Verarbeitung in einer .csv Datei gespeichert. "
   ]
  },
  {
   "cell_type": "markdown",
   "id": "c3c1bf1f",
   "metadata": {},
   "source": [
    "## Einrichten der Arbeitsumgebung"
   ]
  },
  {
   "cell_type": "markdown",
   "id": "f3d66639",
   "metadata": {},
   "source": [
    "Um die Arbeitsumgebung für die folgenden Schritte passend einzurichten, sollten zunächst die benötigten Python-Bibliotheken importiert werden. Für Anfragen über die SRU-Schnittstelle wird Requests https://docs.python-requests.org/en/latest/ und zur Verarbeitung der XML-Daten etree https://docs.python.org/3/library/xml.etree.elementtree.html verwendet. Mit Pandas https://pandas.pydata.org/ können Elemente aus dem MARC21-Format ausgelesen werden."
   ]
  },
  {
   "cell_type": "code",
   "execution_count": 1,
   "id": "17e5d771",
   "metadata": {},
   "outputs": [],
   "source": [
    "import requests\n",
    "from bs4 import BeautifulSoup as soup\n",
    "import unicodedata\n",
    "from lxml import etree\n",
    "import pandas as pd\n",
    "import matplotlib.pyplot as plt"
   ]
  },
  {
   "cell_type": "markdown",
   "id": "681af64f",
   "metadata": {},
   "source": [
    "## SRU-Abfrage mit Ausgabe in MARC21-xml"
   ]
  },
  {
   "cell_type": "markdown",
   "id": "780d8207",
   "metadata": {},
   "source": [
    "Die Funktion dnb_sru nimmt den Paramter \"query\" der SRU-Abfrage entgegen und liefert alle Ergebnisse als eine Liste von Records aus. Bei mehr als 100 Records werden weitere Datensätze mit \"&startRecord=101\" abgerufen (mögliche Werte 1 bis 99.000). Weitere Informationen und Funktionen der SRU- Schnittstelle werden unter https://www.dnb.de/sru beschrieben."
   ]
  },
  {
   "cell_type": "code",
   "execution_count": 2,
   "id": "201fc688",
   "metadata": {},
   "outputs": [],
   "source": [
    "def dnb_sru(query):\n",
    "    \n",
    "    base_url = \"https://services.dnb.de/sru/dnb\"\n",
    "    params = {'recordSchema' : 'MARC21-xml',\n",
    "          'operation': 'searchRetrieve',\n",
    "          'version': '1.1',\n",
    "          'maximumRecords': '100',\n",
    "          'query': query\n",
    "         }\n",
    "    r = requests.get(base_url, params=params)\n",
    "    xml = soup(r.content)\n",
    "    records = xml.find_all('record', {'type':'Bibliographic'})\n",
    "    \n",
    "    if len(records) < 100:\n",
    "        \n",
    "        return records\n",
    "    \n",
    "    else:\n",
    "        \n",
    "        num_results = 100\n",
    "        i = 101\n",
    "        while num_results == 100:\n",
    "            \n",
    "            params.update({'startRecord': i})\n",
    "            r = requests.get(base_url, params=params)\n",
    "            xml = soup(r.content)\n",
    "            new_records = xml.find_all('record', {'type':'Bibliographic'})\n",
    "            records+=new_records\n",
    "            i+=100\n",
    "            num_results = len(new_records)\n",
    "            \n",
    "        return records"
   ]
  },
  {
   "cell_type": "markdown",
   "id": "47b0ba64",
   "metadata": {},
   "source": [
    "# Durchsuchen eines MARC-Feldes"
   ]
  },
  {
   "cell_type": "markdown",
   "id": "008c6382",
   "metadata": {},
   "source": [
    "Die Funktion parse_records nimmt als Parameter jeweils ein Record entgegen und sucht über xpath die gewünschte Informationen heraus und liefert diese als Dictionary zurück. Die Schlüssel-Werte-Paare können beliebig agepasst und erweitert werden. In diesem Fall werden Elemente für IDN und Titel geliefert.\n",
    "\n",
    "Tipp! Die SRU Abfrage https://services.dnb.de/sru/dnb?version=1.1&operation=searchRetrieve&query=cod=d002&recordSchema=MARC21-xml&maximumRecords=100 kann dazu genutzt werden, um die Marc-Tags und Unterfelder für bestimmte, gesuchte Inhalte zu finden. "
   ]
  },
  {
   "cell_type": "code",
   "execution_count": 3,
   "id": "e5a5d20a",
   "metadata": {},
   "outputs": [],
   "source": [
    "def parse_record(record):\n",
    "    ns = {\"marc\":\"http://www.loc.gov/MARC21/slim\"}\n",
    "    xml = etree.fromstring(unicodedata.normalize(\"NFC\", str(record)))\n",
    "    \n",
    "    # IDN\n",
    "    idn = xml.xpath(\"marc:controlfield[@tag = '001']\", namespaces=ns)\n",
    "    try:\n",
    "        idn = idn[0].text\n",
    "    except:\n",
    "        idn = 'fail'\n",
    "    \n",
    "    # Titel\n",
    "    titel = xml.xpath(\"marc:datafield[@tag = '245']/marc:subfield[@code = 'a']\", namespaces=ns)\n",
    "    try:\n",
    "        titel = titel[0].text\n",
    "    except:\n",
    "        titel = \"unknown\"\n",
    "    \n",
    "    # Erscheinungsjahr\n",
    "    jahr = xml.xpath(\"marc:datafield[@tag = '264']/marc:subfield[@code = 'c']\", namespaces=ns)\n",
    "    try:\n",
    "        jahr = jahr[0].text\n",
    "    except:\n",
    "        jahr = \"unknown\"\n",
    "    \n",
    "    # Verfasserangabe\n",
    "    verfasser = xml.xpath(\"marc:datafield[@tag = '100']/marc:subfield[@code = 'a']\", namespaces=ns)\n",
    "    try:\n",
    "        verfasser = verfasser[0].text\n",
    "    except:\n",
    "        verfasser = \"unknown\"\n",
    "    \n",
    "    # GND-ID\n",
    "    gnd_id = xml.xpath(\"marc:datafield[@tag = '100']/marc:subfield[@code = '0']\", namespaces=ns)\n",
    "    try:\n",
    "        gnd_id = gnd_id[0].text\n",
    "    except:\n",
    "        gnd_id = \"unknown\"\n",
    "    \n",
    "    # URN\n",
    "    urn = xml.xpath(\"marc:datafield[@tag = '856']/marc:subfield[@code = 'u']\", namespaces=ns)\n",
    "    try:\n",
    "        urn = urn[0].text\n",
    "    except:\n",
    "        urn = \"unknown\"\n",
    "    \n",
    "    # Verlag\n",
    "    verlag = xml.xpath(\"marc:datafield[@tag = '264']/marc:subfield[@code = 'b']\", namespaces=ns)\n",
    "    try:\n",
    "        verlag = verlag[0].text\n",
    "    except:\n",
    "        verlag = \"unknown\"\n",
    "    \n",
    "    # Verlagsort\n",
    "    verlagsort = xml.xpath(\"marc:datafield[@tag = '264']/marc:subfield[@code = 'a']\", namespaces=ns)\n",
    "    try:\n",
    "        verlagsort = verlagsort[0].text\n",
    "    except:\n",
    "        verlagsort = \"unknown\"\n",
    "        \n",
    "    meta_dict = {\n",
    "        \"idn\": idn,\n",
    "        \"titel\": titel,\n",
    "        \"jahr\": jahr,\n",
    "        \"verfasser\": verfasser,\n",
    "        \"gnd_id\": gnd_id,\n",
    "        \"urn\": urn,\n",
    "        \"verlag\": verlag,\n",
    "        \"verlagsort\": verlagsort\n",
    "    }\n",
    "    \n",
    "    return meta_dict\n"
   ]
  },
  {
   "cell_type": "code",
   "execution_count": 4,
   "id": "0c2d1400",
   "metadata": {},
   "outputs": [
    {
     "name": "stderr",
     "output_type": "stream",
     "text": [
      "C:\\Users\\fuchsf\\AppData\\Local\\Temp\\ipykernel_10184\\1107150534.py:11: XMLParsedAsHTMLWarning: It looks like you're parsing an XML document using an HTML parser. If this really is an HTML document (maybe it's XHTML?), you can ignore or filter this warning. If it's XML, you should know that using an XML parser will be more reliable. To parse this document as XML, make sure you have the lxml package installed, and pass the keyword argument `features=\"xml\"` into the BeautifulSoup constructor.\n",
      "  xml = soup(r.content)\n"
     ]
    },
    {
     "name": "stdout",
     "output_type": "stream",
     "text": [
      "108 Ergebnisse\n"
     ]
    },
    {
     "name": "stderr",
     "output_type": "stream",
     "text": [
      "C:\\Users\\fuchsf\\AppData\\Local\\Temp\\ipykernel_10184\\1107150534.py:26: XMLParsedAsHTMLWarning: It looks like you're parsing an XML document using an HTML parser. If this really is an HTML document (maybe it's XHTML?), you can ignore or filter this warning. If it's XML, you should know that using an XML parser will be more reliable. To parse this document as XML, make sure you have the lxml package installed, and pass the keyword argument `features=\"xml\"` into the BeautifulSoup constructor.\n",
      "  xml = soup(r.content)\n"
     ]
    }
   ],
   "source": [
    "records = dnb_sru('cod=d002')\n",
    "print(len(records), 'Ergebnisse')"
   ]
  },
  {
   "cell_type": "markdown",
   "id": "da801857",
   "metadata": {},
   "source": [
    "## CSV Download"
   ]
  },
  {
   "cell_type": "markdown",
   "id": "ed6c3f37",
   "metadata": {},
   "source": [
    "Für die Datenbereinigung und Datenanreicherung wird die Arbeit im .csv Format empfohlen, weswegen die Suchergebnisse im folgenden in einem Dataframe ausgegeben und anschließend für die weitere Bearbeitung heruntergeladen werden. "
   ]
  },
  {
   "cell_type": "code",
   "execution_count": 5,
   "id": "684a40c6",
   "metadata": {},
   "outputs": [
    {
     "data": {
      "text/html": [
       "<div>\n",
       "<style scoped>\n",
       "    .dataframe tbody tr th:only-of-type {\n",
       "        vertical-align: middle;\n",
       "    }\n",
       "\n",
       "    .dataframe tbody tr th {\n",
       "        vertical-align: top;\n",
       "    }\n",
       "\n",
       "    .dataframe thead th {\n",
       "        text-align: right;\n",
       "    }\n",
       "</style>\n",
       "<table border=\"1\" class=\"dataframe\">\n",
       "  <thead>\n",
       "    <tr style=\"text-align: right;\">\n",
       "      <th></th>\n",
       "      <th>idn</th>\n",
       "      <th>titel</th>\n",
       "      <th>jahr</th>\n",
       "      <th>verfasser</th>\n",
       "      <th>gnd_id</th>\n",
       "      <th>urn</th>\n",
       "      <th>verlag</th>\n",
       "      <th>verlagsort</th>\n",
       "    </tr>\n",
       "  </thead>\n",
       "  <tbody>\n",
       "    <tr>\n",
       "      <th>0</th>\n",
       "      <td>1003104487</td>\n",
       "      <td>Egmont</td>\n",
       "      <td>[1946]</td>\n",
       "      <td>Goethe, Johann Wolfgang von</td>\n",
       "      <td>(DE-588)118540238</td>\n",
       "      <td>https://nbn-resolving.org/urn:nbn:de:101:2-201...</td>\n",
       "      <td>Schöningh</td>\n",
       "      <td>Paderborn</td>\n",
       "    </tr>\n",
       "    <tr>\n",
       "      <th>1</th>\n",
       "      <td>999490184</td>\n",
       "      <td>Das Amulett</td>\n",
       "      <td>[1939]</td>\n",
       "      <td>Meyer, Conrad Ferdinand</td>\n",
       "      <td>(DE-588)118581775</td>\n",
       "      <td>https://nbn-resolving.org/urn:nbn:de:101:2-201...</td>\n",
       "      <td>Verl. Dt. Volksbücher</td>\n",
       "      <td>Wiesbaden</td>\n",
       "    </tr>\n",
       "    <tr>\n",
       "      <th>2</th>\n",
       "      <td>1000047377</td>\n",
       "      <td>Der Struwwelpeter oder lustige Geschichten u...</td>\n",
       "      <td>[1939]</td>\n",
       "      <td>Hoffmann, Heinrich</td>\n",
       "      <td>(DE-588)11855249X</td>\n",
       "      <td>https://nbn-resolving.org/urn:nbn:de:101:2-201...</td>\n",
       "      <td>[Loewe]</td>\n",
       "      <td>[Stuttgart]</td>\n",
       "    </tr>\n",
       "    <tr>\n",
       "      <th>3</th>\n",
       "      <td>1000290328</td>\n",
       "      <td>Der Zweikampf</td>\n",
       "      <td>1939</td>\n",
       "      <td>Kleist, Heinrich von</td>\n",
       "      <td>(DE-588)118563076</td>\n",
       "      <td>https://nbn-resolving.org/urn:nbn:de:101:2-201...</td>\n",
       "      <td>Kohlhammer</td>\n",
       "      <td>Stuttgart</td>\n",
       "    </tr>\n",
       "    <tr>\n",
       "      <th>4</th>\n",
       "      <td>99962461X</td>\n",
       "      <td>Heidi</td>\n",
       "      <td>1939</td>\n",
       "      <td>Spyri, Johanna</td>\n",
       "      <td>(DE-588)118616455</td>\n",
       "      <td>https://nbn-resolving.org/urn:nbn:de:101:2-201...</td>\n",
       "      <td>Rascher</td>\n",
       "      <td>Zürich</td>\n",
       "    </tr>\n",
       "    <tr>\n",
       "      <th>...</th>\n",
       "      <td>...</td>\n",
       "      <td>...</td>\n",
       "      <td>...</td>\n",
       "      <td>...</td>\n",
       "      <td>...</td>\n",
       "      <td>...</td>\n",
       "      <td>...</td>\n",
       "      <td>...</td>\n",
       "    </tr>\n",
       "    <tr>\n",
       "      <th>103</th>\n",
       "      <td>1000746348</td>\n",
       "      <td>Leyer und Schwerdt</td>\n",
       "      <td>1913</td>\n",
       "      <td>Körner, Theodor</td>\n",
       "      <td>(DE-588)118713507</td>\n",
       "      <td>https://nbn-resolving.org/urn:nbn:de:101:2-201...</td>\n",
       "      <td>Morawe &amp; Scheffelt</td>\n",
       "      <td>Berlin</td>\n",
       "    </tr>\n",
       "    <tr>\n",
       "      <th>104</th>\n",
       "      <td>100003917X</td>\n",
       "      <td>Schillers Wallenstein</td>\n",
       "      <td>[1913]</td>\n",
       "      <td>Schiller, Friedrich</td>\n",
       "      <td>(DE-588)118607626</td>\n",
       "      <td>https://nbn-resolving.org/urn:nbn:de:101:2-201...</td>\n",
       "      <td>Dt. Bibliothek</td>\n",
       "      <td>Berlin</td>\n",
       "    </tr>\n",
       "    <tr>\n",
       "      <th>105</th>\n",
       "      <td>1000062104</td>\n",
       "      <td>Vor dem Sturm</td>\n",
       "      <td>1913</td>\n",
       "      <td>Fontane, Theodor</td>\n",
       "      <td>(DE-588)118534262</td>\n",
       "      <td>https://nbn-resolving.org/urn:nbn:de:101:2-201...</td>\n",
       "      <td>Cotta</td>\n",
       "      <td>Stuttgart</td>\n",
       "    </tr>\n",
       "    <tr>\n",
       "      <th>106</th>\n",
       "      <td>1000775615</td>\n",
       "      <td>Der Tod des Tizian</td>\n",
       "      <td>[1912]</td>\n",
       "      <td>Hofmannsthal, Hugo von</td>\n",
       "      <td>(DE-588)118552759</td>\n",
       "      <td>https://nbn-resolving.org/urn:nbn:de:101:2-201...</td>\n",
       "      <td>Insel-Verl.</td>\n",
       "      <td>Leipzig</td>\n",
       "    </tr>\n",
       "    <tr>\n",
       "      <th>107</th>\n",
       "      <td>1000778517</td>\n",
       "      <td>Die drei gerechten Kammacher</td>\n",
       "      <td>[1903]</td>\n",
       "      <td>Keller, Gottfried</td>\n",
       "      <td>(DE-588)11856109X</td>\n",
       "      <td>https://nbn-resolving.org/urn:nbn:de:101:2-201...</td>\n",
       "      <td>Cotta</td>\n",
       "      <td>Stuttgart</td>\n",
       "    </tr>\n",
       "  </tbody>\n",
       "</table>\n",
       "<p>108 rows × 8 columns</p>\n",
       "</div>"
      ],
      "text/plain": [
       "            idn                                              titel    jahr  \\\n",
       "0    1003104487                                             Egmont  [1946]   \n",
       "1     999490184                                      Das Amulett  [1939]   \n",
       "2    1000047377  Der Struwwelpeter oder lustige Geschichten u...  [1939]   \n",
       "3    1000290328                                    Der Zweikampf    1939   \n",
       "4     99962461X                                              Heidi    1939   \n",
       "..          ...                                                ...     ...   \n",
       "103  1000746348                                 Leyer und Schwerdt    1913   \n",
       "104  100003917X                              Schillers Wallenstein  [1913]   \n",
       "105  1000062104                                      Vor dem Sturm    1913   \n",
       "106  1000775615                               Der Tod des Tizian  [1912]   \n",
       "107  1000778517                     Die drei gerechten Kammacher  [1903]   \n",
       "\n",
       "                         verfasser             gnd_id  \\\n",
       "0    Goethe, Johann Wolfgang von  (DE-588)118540238   \n",
       "1          Meyer, Conrad Ferdinand  (DE-588)118581775   \n",
       "2               Hoffmann, Heinrich  (DE-588)11855249X   \n",
       "3           Kleist, Heinrich von  (DE-588)118563076   \n",
       "4                   Spyri, Johanna  (DE-588)118616455   \n",
       "..                             ...                ...   \n",
       "103                Körner, Theodor  (DE-588)118713507   \n",
       "104            Schiller, Friedrich  (DE-588)118607626   \n",
       "105               Fontane, Theodor  (DE-588)118534262   \n",
       "106       Hofmannsthal, Hugo von  (DE-588)118552759   \n",
       "107              Keller, Gottfried  (DE-588)11856109X   \n",
       "\n",
       "                                                   urn                 verlag  \\\n",
       "0    https://nbn-resolving.org/urn:nbn:de:101:2-201...              Schöningh   \n",
       "1    https://nbn-resolving.org/urn:nbn:de:101:2-201...  Verl. Dt. Volksbücher   \n",
       "2    https://nbn-resolving.org/urn:nbn:de:101:2-201...                [Loewe]   \n",
       "3    https://nbn-resolving.org/urn:nbn:de:101:2-201...             Kohlhammer   \n",
       "4    https://nbn-resolving.org/urn:nbn:de:101:2-201...                Rascher   \n",
       "..                                                 ...                    ...   \n",
       "103  https://nbn-resolving.org/urn:nbn:de:101:2-201...     Morawe & Scheffelt   \n",
       "104  https://nbn-resolving.org/urn:nbn:de:101:2-201...         Dt. Bibliothek   \n",
       "105  https://nbn-resolving.org/urn:nbn:de:101:2-201...                  Cotta   \n",
       "106  https://nbn-resolving.org/urn:nbn:de:101:2-201...            Insel-Verl.   \n",
       "107  https://nbn-resolving.org/urn:nbn:de:101:2-201...                  Cotta   \n",
       "\n",
       "      verlagsort  \n",
       "0      Paderborn  \n",
       "1      Wiesbaden  \n",
       "2    [Stuttgart]  \n",
       "3      Stuttgart  \n",
       "4         Zürich  \n",
       "..           ...  \n",
       "103       Berlin  \n",
       "104       Berlin  \n",
       "105    Stuttgart  \n",
       "106      Leipzig  \n",
       "107    Stuttgart  \n",
       "\n",
       "[108 rows x 8 columns]"
      ]
     },
     "execution_count": 5,
     "metadata": {},
     "output_type": "execute_result"
    }
   ],
   "source": [
    "output = [parse_record(record) for record in records]\n",
    "df = pd.DataFrame(output)\n",
    "df"
   ]
  },
  {
   "cell_type": "code",
   "execution_count": 6,
   "id": "acd0d64e",
   "metadata": {},
   "outputs": [],
   "source": [
    "# DataFrame als CSV speichern\n",
    "df.to_csv('Klassik.csv', index=False)"
   ]
  }
 ],
 "metadata": {
  "kernelspec": {
   "display_name": "Python 3 (ipykernel)",
   "language": "python",
   "name": "python3"
  },
  "language_info": {
   "codemirror_mode": {
    "name": "ipython",
    "version": 3
   },
   "file_extension": ".py",
   "mimetype": "text/x-python",
   "name": "python",
   "nbconvert_exporter": "python",
   "pygments_lexer": "ipython3",
   "version": "3.10.2"
  }
 },
 "nbformat": 4,
 "nbformat_minor": 5
}
