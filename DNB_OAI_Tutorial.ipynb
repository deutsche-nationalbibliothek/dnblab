{
 "cells": [
  {
   "cell_type": "markdown",
   "metadata": {
    "nbpresent": {
     "id": "d0d72cd5-034d-4b94-a4e2-54f7753cb9f0"
    }
   },
   "source": [
    "# DNBLab Jupyter Notebook Tutorial"
   ]
  },
  {
   "cell_type": "markdown",
   "metadata": {
    "nbpresent": {
     "id": "558898c3-e162-4e46-92d5-b4c914325790"
    }
   },
   "source": [
    "## OAI(2) - Schnittstellenabfragen, Datenauslieferung und Ergebnisanzeige"
   ]
  },
  {
   "cell_type": "markdown",
   "metadata": {
    "nbpresent": {
     "id": "ee78241c-36e7-45e6-b015-0ef46f1e777d"
    }
   },
   "source": [
    "Diese DNBLab-Tutorials beschreiben Beispielabfragen über die OAI2- und OAI-Schnittstelle mit Python. In der Jupyter Notebook Umgebung kann der dokumentierte Code direkt ausgeführt und angepasst werden. Die Tutorials umfassen die exemplarische Anfrage und Ausgabe der Daten in den verschiedenen Metadatenformaten zur weiteren Verarbeitung.\n",
    "\n",
    "**Inhaltsverzeichnis:** \n",
    "\n",
    "\n",
    "* [Einrichten der Arbeitsumgebung](#API1)\n",
    "* [OAI2 - Schnittstelle ](#API2)\n",
    "* [OAI - Schnittstelle ](#API3)"
   ]
  },
  {
   "cell_type": "markdown",
   "metadata": {},
   "source": [
    "## Einrichten der Arbeitsumgebung <a class=\"anchor\" id=\"API1\"></a>"
   ]
  },
  {
   "cell_type": "markdown",
   "metadata": {},
   "source": [
    "Um die Arbeitsumgebung für die folgenden Schritte passend einzurichten, sollten zunächst die benötigten Python-Bibliotheken importiert werden. Für Anfragen über die OAI(2)-Schnittstellen wird sickle https://sickle.readthedocs.io/en/latest/tutorial.html und zur Verarbeitung der XML-Daten etree https://docs.python.org/3/library/xml.etree.elementtree.html verwendet. Mit dem OAIRecordReader https://polymatheia.readthedocs.io/en/latest/api/polymatheia_data_reader.html können Elemente aus dem METS/MODS Format ausgelesen werden."
   ]
  },
  {
   "cell_type": "code",
   "execution_count": 1,
   "metadata": {},
   "outputs": [],
   "source": [
    "from sickle import Sickle\n",
    "from lxml import etree"
   ]
  },
  {
   "cell_type": "markdown",
   "metadata": {},
   "source": [
    "## OAI2- Schnittstelle <a class=\"anchor\" id=\"API2\"></a>"
   ]
  },
  {
   "cell_type": "markdown",
   "metadata": {},
   "source": [
    "Inhaltsverzeichnis:\n",
    "\n",
    "* [1. Grundlegende Funktionen](#Teil1)\n",
    "* [2. Ausgabe von Titeln eines Projekts ab bestimmtem Zeitraum](#Teil2)\n",
    "* [3. Zusätzliche Ausgabe der URNs/Links zu den Objekten](#Teil3)\n",
    "* [4. Ausgabe der gescannten Bilder](#Teil4)\n",
    "\n",
    "\n"
   ]
  },
  {
   "cell_type": "markdown",
   "metadata": {},
   "source": [
    "### 1. Grundlegende Funktionen <a class=\"anchor\" id=\"Teil1\"></a>"
   ]
  },
  {
   "cell_type": "markdown",
   "metadata": {},
   "source": [
    "Die Daten der frei verfügbaren digitalisierten Objekte werden über die OAI2-Schnittstelle standardmäßig als XML-Antwort in dem Format METS/MODS ausgeliefert. Zusätzlich steht die Auslieferung der Daten in Dublin Core (DC) zur Verfügung."
   ]
  },
  {
   "cell_type": "markdown",
   "metadata": {
    "nbpresent": {
     "id": "f08445b9-dca9-4851-a7f7-dad2ba78648a"
    }
   },
   "source": [
    "Die OAI2 Basis URL ist https://services.dnb.de/oai2/repository. "
   ]
  },
  {
   "cell_type": "code",
   "execution_count": 3,
   "metadata": {
    "nbpresent": {
     "id": "d94fcab7-8aab-4f9f-b77f-2742528ed82e"
    }
   },
   "outputs": [],
   "source": [
    "sickle = Sickle('https://services.dnb.de/oai2/repository')"
   ]
  },
  {
   "cell_type": "markdown",
   "metadata": {},
   "source": [
    "Im nächsten Schritt werden alle verfügbaren Objektsammlungen (Projekte) mit der Funktion ListSets abgefragt und angezeigt."
   ]
  },
  {
   "cell_type": "code",
   "execution_count": null,
   "metadata": {
    "scrolled": true
   },
   "outputs": [],
   "source": [
    "oai_sets = sickle.ListSets()\n",
    "for oai_set in oai_sets:\n",
    "    print('setSpec value for selective harvesting: ' + oai_set.setSpec)\n",
    "    print('Name of the set (setName): ' + oai_set.setName + '\\n')"
   ]
  },
  {
   "cell_type": "markdown",
   "metadata": {
    "nbpresent": {
     "id": "ce85f36a-f323-4361-ad10-d86ebd8a0752"
    }
   },
   "source": [
    "Die bisher zur Verfügung stehenden freien Objektsammlungen entsprechen folgenden Projekten (oai_sets):\n",
    " \n",
    "| oai_set | Beschreibung | Anzeige im Katalog |\n",
    "| --- | --- | --- |\n",
    "| dnb:digitalisate-oa:projekt4 | 100.000 Seiten aus 30 Titeln, die ein breites Spektrum der Exilpresse 1933-1945 repräsentieren | <a href=\"https://portal.dnb.de/opac.htm?method=showPreviousResultSite&currentResultId=%22exilpresse%22+and+%22digital%22%26any%26dnb.dea.exp%26leipzig&currentPosition=10\">Sammlung im Katalog</a>\n",
    "| dnb:digitalisate-oa:projekt5 | 1.436 Hefte von 26 in NS-Deutschland erschienenen jüdischen Periodika | <a href=\"https://portal.dnb.de/opac.htm?method=moveDown&currentResultId=cod%3Dd005+and+location%3Donlinefree%26any&categoryId=dnb.dea.jup\">Sammlung im Katalog</a>\n",
    "| dnb:digitalisate-oa:projekt7 | Gemeinfreie Digitalisate der Exilsammlungen | <a href=\"https://portal.dnb.de/opac.htm?query=cod%3Dd007+location%3Donlinefree+&method=simpleSearch&cqlMode=true\">Sammlung im Katalog</a>\n",
    "| dnb:digitalisate-oa:projekt8 | Mehr als 1.200 Bücher, Broschüren, Plakate und andere Einblattdrucke zum Weltkrieg 1914-1918 | <a href=\"https://portal.dnb.de/opac.htm?query=cod%3Dd008+location%3Donlinefree+&method=simpleSearch&cqlMode=true\">Sammlung im Katalog</a>\n",
    "| dnb:digitalisate-oa:projekt26 | Mehr als 600 digitalisierte Quellen zur deutschen Revolution 1918/1919 und zur Nachkriegszeit | <a href=\"https://portal.dnb.de/opac.htm?query=cod%3Dd026+location%3Donlinefree+&method=simpleSearch&cqlMode=true\">Sammlung im Katalog</a>\n",
    "| dnb:digitalisate-oa:projekt28 | Digitalisierte Werke aus Architektur, Design, Malerei und Druckkunst von 1918 bis 1933 | <a href=\"https://portal.dnb.de/opac.htm?query=cod%3Dd028+location%3Donlinefree+&method=simpleSearch&cqlMode=true\">Sammlung im Katalog</a>\n",
    "| dnb:digitalisate-oa:projekt29 | Mehr als 2.400 Bildnisse von Buchhändlern, Buchdruckern und Verlegern des 17. bis 20. Jahrhunderts | <a href=\"https://portal.dnb.de/opac.htm?query=cod%3Dd029+location%3Donlinefree+&method=simpleSearch&cqlMode=true\">Sammlung im Katalog</a>\n",
    "\n",
    "Die verfügbaren Metadatenformate können mit der Funktion ListMetadataFormats abgefragt und mit print() ausgegeben werden. \n"
   ]
  },
  {
   "cell_type": "code",
   "execution_count": null,
   "metadata": {},
   "outputs": [],
   "source": [
    "oai_formats = sickle.ListMetadataFormats()\n",
    "for oai_format in oai_formats:\n",
    "    print(oai_format.metadataPrefix)"
   ]
  },
  {
   "cell_type": "markdown",
   "metadata": {},
   "source": [
    "### 2. Ausgabe von Titeln eines Projekts in bestimmten Zeitraum <a class=\"anchor\" id=\"Teil2\"></a>"
   ]
  },
  {
   "cell_type": "markdown",
   "metadata": {},
   "source": [
    "Um beispielhaft alle Datensätze von projekt28 ab dem 01.04.2019 aufzulisten, müssen für die Abfrage Metadatenformat, Zeitraum und Projekt angegeben werden.\n",
    "Die OAI Funktionen werden unter http://www.openarchives.org/OAI/2.0/ spezifiziert und auf der DNBLab Seite unter Funktionen beschrieben.\n",
    "Die Daten befinden sich in der XML-Antwort als Inhalt zwischen beschreibenden Elementen und werden durchnummeriert angezeigt. Für die gezielte Abfrage der gewünschten Informationen aus dem Metadatenformat DC können bei Bedarf die DC-Spezifikationen http://www.openarchives.org/OAI/2.0/oai_dc/ und http://purl.org/dc/elements/1.1/ herangezogen werden.\n"
   ]
  },
  {
   "cell_type": "code",
   "execution_count": 4,
   "metadata": {
    "scrolled": true
   },
   "outputs": [
    {
     "name": "stdout",
     "output_type": "stream",
     "text": [
      "1: Alphabete und Schriftzeichen des Morgen- und des Abendlandes : Zum allgemeinen Gebrauch mit besonderer Berücksichtigung des Buchgewerbes / unter Mitw. von Fachgelehrten zsgest. in d. Reichsdruckerei\n",
      "Reichsdruckerei Berlin\n",
      "2: Die Schrift und ihre Entwicklung zur modernen Stenographie / Fritz Specht\n",
      "Specht, Fritz [Verfasser]\n",
      "3: Ein Ausweg aus der Papiernot : Entwurf eines neuen Alphabets / von Paul Nago\n",
      "Nago, Paul [Verfasser]\n",
      "4: Nunquam retrorsum : Beiträge zur Schrift- u. Buchkunde, als Ehrengabe für Herrn Professor Dr. Albert Schramm anlässlich seines 50. Geburtstages am 5. August 1930 / hrsg. von Rudolf Stöwesand\n",
      "Schramm, Albert [Mitwirkender]\n",
      "5: Das Möbel als Gebrauchsgegenstand : Ausgeführte Möbel mit genauen Angaben über Herstellung u. Konstruktion / Adolf G. Schneck. Hrsg. im Auftr. d. Württemberg. Landesgewerbeamts\n",
      "Schneck, Adolf G. [Verfasser]\n",
      "6: [Dreizehn Konkrete] ; 13 Konkrete : Vordemberge-Gildewart ... ; [Kunstverein Ulm im Rathaus, 26. Juli - 6. September 1964]\n",
      "Vordemberge-Gildewart, Friedrich [Illustrator]\n",
      "7: [Type and typography] ; Typos : Das grosse Buch d. Druckschriften / Ben Rosen. [Dt. sprach. Grundübers. von Lilo Riedel.] Hrsg. von Kurt Weidemann\n",
      "Rosen, J. B. [Verfasser]\n",
      "8: Carl Buchheister : 1890 - 1964. [Ausstellung Kunstverein Hannover, 11. Okt. bis 8. Nov. 1964 u. Kunstamt Tiergarten, Berlin, Jan./Februar 1965. [Ausstellungskatalog]] / [Fotos: Edgar Lieseberg]\n",
      "Buchheister, Carl [Mitwirkender]\n",
      "9: Willi Baumeister : Leben u. Werk / Will Grohmann\n",
      "Grohmann, Will [Verfasser]\n",
      "10: Max Burchartz : 1887 - 1961 ; Ausstellung im Museum Folkwang Essen, 5. Januar - 11. Februar 1962\n",
      "Burchartz, Max [Illustrator]\n",
      "11: [Suprematizm] ; Suprematismus-die gegenstandslose Welt / Kasimir Malewitsch. [Aus d. Russ.] übertr. von Hans von Riesen. [Hrsg.: Werner Haftmann]\n",
      "Malevič, Kazimir [Verfasser]\n",
      "12: [Der grüne Heinrich] ; Der Grillenfang / Gottfried Keller. Mit [16] Holzstichen von Imre Reiner\n",
      "Keller, Gottfried [Verfasser]\n",
      "13: Im Kampf vereint : Ausstellung von Fotomontagen und Zeichnungen ; Pavillon der Kunst, Berlin / John Heartfield ; Alexander Shitomirski ; Mieczyslaw Berman ; Antonin Pelc\n",
      "Heartfield, John [Mitwirkender]\n",
      "14: Druckgrafik von Professor Willi Baumeister : 1889-1955 ; [Ausstellg] ; 8. Jan.-12. Febr. 1961 ; [Katalog]\n",
      "15: Hermann Virl : 1903 - 1958 / Hermann Virl\n",
      "Virl, Hermann [Verfasser]\n",
      "16: max bill : ausstellung ; 19. juni-26. juli 1959 ; [ausgestellte werke]\n",
      "Bill, Max [Mitwirkender]\n",
      "17: Briefe und Tagebücher / Oskar Schlemmer. Hrsg. von Tut Schlemmer\n",
      "Schlemmer, Oskar [Verfasser]\n",
      "18: Mondrian 1872 - 1944 / Piet Mondrian. [Text:] David Lewis. Dt. von Günther Steinig\n",
      "Mondrian, Piet [Verfasser]\n",
      "19: Schönste, liebe mich : Deutsche Liebesgedichte aus dem Barock und dem Rokoko. Mit farb. Wiedergaben 8 alter Spitzenbildchen / [Jan Tschichold]\n",
      "Tschichold, Jan [Zusammenstellender] [Buchgestalter]\n",
      "20: Herbert Bayer : 33 jahre seines schaffens. ausstellung Berlin 1957, veranst.: senator f. volksbildung u. hochschule f. bildende künste. [Ausstellungskatalog]\n",
      "Bayer, Herbert [Mitwirkender]\n",
      "21: Zum neuen Stil / Henry van de Velde. Aus seinen Schriften ausgew. u. eingel. von Hans Curjel\n",
      "Velde, Henry van de [Verfasser]\n",
      "22: Imre Reiner : [Ausstellungskatalog] / Imre Reiner\n",
      "Reiner, Imre [Verfasser]\n",
      "23: wassily kandinsky : [Ausstellung] / [Ludwig Grote]\n",
      "Grote, Ludwig [Verfasser]\n",
      "24: Ida Kerkovius : Ida Kerkovius aus Anlass d. 75. Geburtstages gewidmet von ihren Freunden / Ida Kerkovius. [Text:] Kurt Leonhard\n",
      "Kerkovius, Ida [Verfasser]\n",
      "25: Abendgesang (Neila) : Letzte Gedichte / Ivan Goll. Aus d. Nachlass hrsg. v. Claire Goll. Mit 3 Zeichn. v. Willi Baumeister u.e. Nachw. v. Hans Bender\n",
      "Goll, Yvan [Verfasser]\n",
      "26: Funktionelle Typografie : Ein Kapitel aus dem Buche \"Mechanisierte Grafik\" / Paul Renner\n",
      "Renner, Paul [Verfasser]\n",
      "27: Friedrich Vordemberge : Gemälde, Lithographien ; 15. Juni-13. Juli 1952 ; Städt. Kunsthaus Bielefeld / [Text: August Hoff]\n",
      "Vordemberge, Friedrich [Mitwirkender]\n",
      "28: Auf andere Art so grosse Hoffnung : Tagebuch 1950 / Johannes R. Becher\n",
      "Becher, Johannes Robert [Verfasser]\n",
      "29: Die Entstehung und die Entwicklung der Schrift / H. Virl\n",
      "Virl, Hermann [Verfasser]\n",
      "30: Oskar Schlemmer / Oskar Schlemmer\n",
      "Schlemmer, Oskar [Verfasser]\n",
      "31: Tönnchen, Knöpfchen und andere / Lou Scheper-Berkenkamp. [Die Schrift zeichn. Josefa Forsch]\n",
      "Scheper-Berkenkamp, Lou [Verfasser] [Illustrator]\n",
      "32: Friedrich Vordemberge : Aus dem Werk der Jahre 1925 bis 1947\n",
      "Vordemberge, Friedrich [Mitwirkender]\n",
      "33: Ausdruck und Gestaltung : Bilderbuch einer Fotografin / Marta Hoepffner. Mit Beitr. von Adolf Arndt, Willi Baumeister, Hermann Geibel u. einem Begleittext von Claus Helbing\n",
      "Hoepffner, Marta [Verfasser]\n",
      "34: Geschichte der Schrift in Bildern / Jan Tschichold\n",
      "Tschichold, Jan [Verfasser]\n",
      "35: Das Wunder der Schrift : Eine philosophische Betrachtung ; [Anläßl. d. Sonderausstellg \"Schöne Druckkunst d. Gegenwart\" im Juni 1940 geschrieben] / Hermann Virl\n",
      "Virl, Hermann [Verfasser]\n",
      "36: Das Buch vom Spannen / [Hrsg.:] Paul Forkardt Kommanditges. [Gestaltg: Max Burchartz]\n",
      "Burchartz, Max [Mitwirkender]\n",
      "37: Zeitberichte und Dokumente / Freiherr vom Stein\n",
      "Stein, Karl vom und zum [Verfasser]\n",
      "38: Alle Vöglein sind schon da : Ein Vogelbuch mit Bildern u. Geschichten / Maria Cyliax\n",
      "Krauss, Maria [Verfasser]\n",
      "39: Rudolf von Larisch und seine Schule = Rudolf von Larisch and his school / Eberhard Hölscher. Mit e. Beitr. v. Otto Hurm\n",
      "Hölscher, Eberhard [Verfasser]\n",
      "40: Über die Grundlagen des architektonischen Schaffens : Mit Arbeiten von Studierenden d. Techn. Hochschule Karlsruhe aus d. Jahren 1930/34 / Otto Ernst Schweizer\n",
      "Schweizer, Otto Ernst [Verfasser]\n",
      "41: Ansprache an die Studierenden der Staatlichen Akademie für graphische Künste und Buchgewerbe / Walter Tiemann\n",
      "Tiemann, Walter [Verfasser]\n",
      "42: Amtlicher Führer : Bauausstellung Münster 1933 ; 18. März-3. April / [Hrsg. vom Verkehrsamt d. Stadt Münster in Verb. mit d. Handwerkskammer Münster]\n",
      "43: Mit Kamera und Schreibmaschine durch Europa : Bilder u. Berichte / Erich Grisar\n",
      "Grisar, Erich [Verfasser]\n",
      "44: Die lebendige Form : Serienmodell und Massenfabrikation / Walter Maria Kersting\n",
      "Kersting, Walter Maria [Verfasser]\n",
      "45: Abstraktion in der Malerei : Kandinsky, Feininger, Klee / Hermann Klumpp\n",
      "Klumpp, Hermann [Verfasser]\n",
      "46: Ausstellungen von Januar 1929 bis Januar 1932 im Kunstgewerbe-Museum der Stadt Köln, Hansaring 32A : Kölnischer Kunstgewerbe-Verein e. V. / [Vorw.: Richard von Schnitzler]\n",
      "Schnitzler, Richard von [Mitwirkender]\n",
      "47: Neuer Hausrat / Hans Schwippert\n",
      "Schwippert, Hans [Verfasser]\n",
      "48: Neues Haus-neue Welt / Erich Mendelsohn. [Mit Beitr. von Amedée Ozenfant ; Erwin Redslob]\n",
      "Mendelsohn, Erich [Verfasser]\n",
      "49: Umgang mit Buchstaben : Lehrbuch des künstlerischen Schreibens / Hermann Delitsch\n",
      "Delitsch, Hermann [Verfasser]\n",
      "50: Reise ins asiatische Tuwa / Otto Mänchen-Helfen\n",
      "Maenchen-Helfen, Otto [Verfasser]\n",
      "51: Der Baldamus und seine Streiche / Oskar Wöhrle\n",
      "Wöhrle, Oskar [Verfasser]\n",
      "52: Hausierer : Gesellschaftskritischer Roman / Franz Jung\n",
      "Jung, Franz [Verfasser]\n",
      "53: [Bunt inženera Karinskogo] ; Die Rebellion des Ingenieurs Karinski : Roman / Dmitrij Tschetwerikov. [Autor. Übers. von Nina Stein]\n",
      "Četverikov, Boris [Verfasser]\n",
      "54: Neue Verkehrsschrift : Methodischer Lehrgang / Heinrich Wieynck\n",
      "Wieynck, Heinrich [Verfasser]\n",
      "55: Das ewige Handwerk im Kunstgewerbe der Gegenwart : Beispiele modernen kunsthandwerklichen Gestaltens / Hrsg. u. eingel. von G. F. Hartlaub. Mit Sonderbeitr. von ... [Ein grosser Tl d. eingedr. Fotogr. von Kurt Schneyer]\n",
      "Hartlaub, Gustav Friedrich [Mitwirkender]\n",
      "56: Zum neuen Bauen : Vorträge / veranst. v. München Bund ; Bayer. Kunstgewerbeverein ; d. Bayer. Landesverein f. Heimatschutz am 26. Febr. 1931 im Künstlerhaus zu München\n",
      "57: Die neue Wohnung und ihre Möbel / Paul Griesser\n",
      "Griesser, Paul [Verfasser]\n",
      "58: Schriftschreiben für Setzer / Jan Tschichold\n",
      "Tschichold, Jan [Verfasser]\n",
      "59: Tl 2\n",
      "60: Tl 1\n",
      "61: Der Architekt / Hans Poelzig. [Vortr. geh. auf d. 28. ordentl. Bundestag des BDA in Berlin. Hrsg. v. d. Hauptverwaltg des BDA]\n",
      "Poelzig, Hans [Verfasser]\n",
      "62: Farbe und Form in der Baukunst / Max Laeuger\n",
      "Laeuger, Max [Verfasser]\n",
      "63: Eine Stunde Druckgestaltung : Grundbegriffe der neuen Typografie in Bildbeispielen für Setzer, Werbefachleute, Drucksachenverbraucher u. Bibliofilen / Jan Tschichold\n",
      "Tschichold, Jan [Verfasser]\n",
      "64: Hoffmanns Schriftatlas : Das Schriftschaffen der Gegenwart in Alphabeten und Anwendungen / In Verbindg mit Albert Bruckner ; Max Hertwig ; Rudolf Koch hrsg. von Herbert Hoffmann\n",
      "Hoffmann, Herbert [Mitwirkender]\n",
      "65: Moholy-Nagy L. : 60 Fotos / hrsg. von Franz Roh\n",
      "Moholy-Nagy, László [Verfasser]\n",
      "66: 60 Fotos / Aenne Biermann\n",
      "Biermann, Aenne [Verfasser]\n",
      "67: Aus der Werkstatt der Natur : Gemeinverständliche Einführung in die Naturwissenschaften / Hermann Drechsler\n",
      "Drechsler, Hermann [Verfasser]\n",
      "68: Ein neuzeitlicher Grossbau von der Fundierung bis zur Vollendung : Erl. an d. Beispiel des gemeinsam mit Fritz Becker erbauten Palasthotel Mannheimer Hof / Erich Kutzner\n",
      "Kutzner, Erich [Verfasser]\n",
      "69: Das neue Möbel : Neuzeitl. Wohn-, Schlaf- u. Arbeitsräume in 93 [eingedr.] Ansichten u. 119 [eingedr.] Masszeichn. / Paul Griesser\n",
      "Griesser, Paul [Verfasser]\n",
      "70: Mechanisierte Grafik : Schrift, Typo, Foto, Film, Farbe / Paul Renner\n",
      "Renner, Paul [Verfasser]\n",
      "71: Die Stoffmalerei in Kleidung und Heim der modernen Frau : Eine techn. u. künstler. Einf. ; Mit 36 Abb. d. Verf. / Theo Steinoel\n",
      "Steinoel, Theo [Verfasser]\n",
      "72: Über die Verfassung einer Werkschule / Rudolf Schwarz\n",
      "Schwarz, Rudolf [Verfasser]\n",
      "73: Textile Vorbilder / [Schriftl.: Paul Scholz]\n",
      "Scholz, Paul [Mitwirkender]\n",
      "74: Einzelmöbel und neuzeitliche Raumkunst / Alexander Koch\n",
      "Koch, Alexander [Verfasser]\n",
      "75: Materialkunde für den Kunstmaler\n",
      "76: Wandlungen in der Schrift und in der Kunst : Rede, geh. bei d. Jubelfeier d. Vereins Deutscher Schriftgiessereien am Samstag, d. 1. Dez. 1928 in Frankfurt a. M. / Rudolf Kautzsch\n",
      "Kautzsch, Rudolf [Verfasser]\n",
      "77: Ziele des Schriftunterrichts : Ein Beitr. zur modernen Schriftbewegung / F. H. Ehmcke\n",
      "Ehmcke, F. H. [Verfasser]\n",
      "78: Die Schrift : Form, Konstruktion, Verwendung / A. Böld\n",
      "Boeld, Alfred [Verfasser]\n",
      "79: Die Staatliche Kunstgewerbeschule Bremen 1929\n",
      "80: Geschmackbildende Werkstattübungen / P. Groß ; F. Hildebrand\n",
      "Groß, Paul [Verfasser]\n",
      "81: Geldverdienen und gewerbliche Kunst / Paul Danzer\n",
      "Danzer, Paul [Verfasser]\n",
      "82: [Modern European Buildings] ; Moderne Bauten in Europa / F. R. Yerbury\n",
      "Yerbury, Francis Rowland [Verfasser]\n",
      "83: Glas in der Architektur der Gegenwart / Konrad Werner Schulze\n",
      "Schulze, Konrad Werner [Verfasser]\n",
      "84: Foto-auge : 76 Fotos der Zeit = oeil et photo = photo-eye / zsgest. von Franz Roh ; Jan Tschichold\n",
      "Roh, Franz [Verfasser]\n",
      "85: Rußland-Europa-Amerika : Ein architektonischer Querschnitt / Erich Mendelsohn\n",
      "Mendelsohn, Erich [Verfasser]\n",
      "86: Der Stuhl : Stuhltypen aus versch. Ländern u. Versuche neuzeitlicher Lösungen in Ansichten und Masszeichnungen / hrsg. Adolf G. Schneck. Hrsg. im Auftr. d. Württemberg. Landesgewerbeamts\n",
      "Schneck, Adolf G. [Verfasser]\n",
      "87: Führer der Kunstgewerbeschule, Maschinenschule und Deutschen Apparatebauschule Hannover / [Einleitg: F. W. Jochem]\n",
      "Jochem, Wilhelm [Mitwirkender]\n",
      "88: Eine Stunde Architektur / Adolf Behne\n",
      "Behne, Adolf [Verfasser]\n",
      "89: Bauhüttenarbeit / Hrsg. vom Verband sozialer Baubetriebe GmbH, Berlin\n",
      "Moholy-Nagy, László [Buchgestalter]\n",
      "90: Stoffmalerei / Erich Kleinhempel\n",
      "Kleinhempel, Erich [Verfasser]\n",
      "91: Städtische Handwerker- u. Kunstgewerbeschule Wiesbaden : 1928 ; [Programm] / [Franz Kern ; Otto Fischer-Trachau]\n",
      "Kern, Franz Verfasser]\n",
      "92: Ausstellung Neue Baukunst vom 28. Jan. bis 29. Febr. 1928 im Oldenburger Schloss : Vereinigung für junge Kunst\n",
      "93: Union der Sozialistischen Sowjet-Republiken / Pressa, Köln 1928 = Sojuz Sovetskich Socialističeskich Respublik na Meždunarodnoj Vystavke Pečati, Keln 1928\n",
      "Lisickij, Lazarʹ Markovič [Typogr.]\n",
      "94: Beton als Gestalter : Bauten in Eisenbeton u. ihre architekton. Gestaltg ; Ausgeführte Eisenbetonbauten / Julius Vischer ; Ludwig Hilberseimer\n",
      "Vischer, Julius [Verfasser]\n",
      "95: Reden der Münchener Tagung 1928 am 6. Juli 1928 : Werkbundfragen\n",
      "96: Die Entwicklung der Schrift / Martin Räth\n",
      "Räth, Martin [Verfasser]\n",
      "97: Probleme des Bauens : In Zusammenarbeit mit d. Studienausschuss d. Bundes deutscher Architekten f. zeitgemässes Bauen / hrsg. von Fritz Block\n",
      "Block, Fritz [Mitwirkender]\n",
      "98: Europäisches Kunstgewerbe : Städtisches Kunstgewerbe-Museum zu Leipzig ; Grassi-Museum an d. Johanniskirche ; Berichte über d. Ausstellg Europäisches Kunstgewerbe 1927 / von M. R. J. Brinkgreve ; Léon Deshairs ; Richard Graul [u. a.]\n",
      "Brinkgreve, Marius Roelef Johan Mitwirkender]\n",
      "99: Vom Entstehen der Schrift : Dargestellt in 9 Holzschnitten ; Hrsg. aus Anlass s. 25jähr. Bestehens im Jahre 1928 vom Verein Deutscher Schriftgiessereien e. V. / Karl Mahr\n",
      "Mahr, Karl [Verfasser]\n",
      "100: \"Mit Hilfe der Technik\" / [Walter Lehnhoff ; Walter Gieseking ; Otto Ebel von Sosen]. Text von Friedrich Kranich ; Käte Steinitz ; Kurt Schwitters\n",
      "Lehnhoff, Walter [Verfasser]\n",
      "101: Jubiläumsausstellung zum 25 jährigen Gedenktag der Eröffnung des Museumsgebäudes : [Kunstgewerbemuseum der Stadt Flensburg] ; Werke lebender schleswig-holst. Künstler ; Vom 19. August-30. Sept. 1928\n",
      "102: Schrift und Handwerk : Ein Beitrag zu den künstlerischen Fragen der Gegenwart ; Zugleich ein Führer durch eine Ausstellg der Offenbacher Schreiberwerkstatt im Hessischen Gewerbemuseum zu Darmstadt, Jan. bis April 1927 / [Von d. Direktion gemeinsam mit d. beteiligten Künstlern verf.]\n",
      "103: Deutsche Schriftfragen : Das Ergebnis einer Sachverständigen-Aussprache über Fraktur und Antiqua\n",
      "104: Schrift und ihre Anwendung : [März-Ausstellung]\n",
      "105: Beleuchtungskörper-Stilkunde : Ein Leitfaden / Gerhard Schmidt\n",
      "Schmidt, Gerhard [Verfasser]\n",
      "106: Farbiger Hausanstrich / Mühlfeld\n",
      "Mühlfeld, Hans [Verfasser]\n",
      "107: Grossstadt-Architektur : Die Grossstadt ; Städtebau ; Wohnbauten ; Kommerzielle Bauten ; Hochhäuser ; Hallen- u. Theaterbauten ; Verkehrsbauten ; Industriebauten ; Bauhandwerk u. Bauindustrie ; Grossstadtarchitektur / Ludwig Hilberseimer\n",
      "Hilberseimer, Ludwig [Verfasser]\n",
      "108: Internationale neue Baukunst / Im Auftr. d. deutschen Werkbundes hrsg. Ludwig Hilberseimer\n",
      "Hilberseimer, Ludwig [Verfasser]\n",
      "109: Die Stellung der Keramik im künstlerischen Leben der Gegenwart / Edwin Redslob\n",
      "Redslob, Edwin [Verfasser]\n",
      "110: prospekt : bauhaus dessau ; hochschule für gestaltung\n",
      "111: Führer durch die Jubiläumsausstellung der Württ. Staatlichen Kunstgewerbeschule Stuttgart, Mitte Juli-Ende September 1927 / [Werner Büddemann]\n",
      "Büddemann, Werner [Verfasser]\n",
      "112: Ausstellung von Meister- und Schülerarbeiten aus keramischen Lehr- und Versuchswerkstätten in d. vereinigten Staatsschulen f. freie u. angew. Kunst Charlottenburg / Hrsg. von d. Deutschen Keramischen Gesellschaft Berlin 1927. [Vorr.: Nicola Moufang]\n",
      "Moufang, Nicola [Mitwirkender]\n",
      "113: Die Baukunst der Neuesten Zeit / Gustav Adolf Platz\n",
      "Platz, Gustav Adolf [Verfasser]\n",
      "114: 200 Jahre Frommann-Verlag : [1727-1927] / [Hermann Kurtz]\n",
      "Kurtz, Hermann Verfasser]\n",
      "115: Der moderne Raum : Neue Malereien / Paul Maler Grohmann\n",
      "Grohmann, Paul [Verfasser]\n",
      "116: Die Malerfibel : Kurzgefasster Leitfaden für praktisches Zeichnen und Malen ; Vorstufe f. d. \"Unterrichtskursus im Malen u. Zeichnen\" / Johannes Meru\n",
      "Meru, Johannes [Verfasser]\n",
      "117: Die Farbe am Hause / Guido Hengst\n",
      "Hengst, Guido [Verfasser]\n",
      "118: Gold und Silber : Deutsche Goldschmiedearbeiten der Gegenwart / zsgest. u. mit e. Einl. vers. Wilhelm Lotz\n",
      "Lotz, Wilhelm [Verfasser]\n",
      "119: Das deutsche Kunstgewerbe im Jahren der grossen Pariser Ausstellung : Bilder von d. deutschen Abteilung d. internat. Kunstgewerbeausstellung in Monza 1925\n",
      "120: Wandlung der Form im 20. Jahrhundert : Dem Deutschen Werkbund gewidmet / Ernst Kropp. [Vorbemerkg d. Hrsg.: W. Riezler]\n",
      "Kropp, Ernst [Verfasser]\n",
      "121: Werkformen deutscher Kunst / Max Sauerlandt\n",
      "Sauerlandt, Max [Verfasser]\n",
      "122: [Vers une Architecture] ; Kommende Baukunst / LeCorbusier. Übers. u. hrsg. von Hans Hildebrandt\n",
      "Le Corbusier [Verfasser]\n",
      "123: Probleme der angewandten Kunst : Im Auftr. des Vorstandes / von Alfred Rohde ; Hans Dorén hrsg.\n",
      "Rohde, Alfred [Mitwirkender]\n",
      "124: Wie baut Amerika? / Richard J. Neutra. Für d. Druck vorbereitet von Dione Neutra\n",
      "Neutra, Richard [Verfasser]\n",
      "125: Die Kunst des Stahlgravierens / Rudolf Rücklin\n",
      "Rücklin, Rudolf [Verfasser]\n",
      "126: Schrift : Ihre Gestaltung und Entwicklung in neuerer Zeit ; Versuch einer zusammenfassenden Schilderung ; Mit 144 Beispielen ; [Der Gesellsch. d. Bibliophilen zu ihrer Tagung in München am 4. Okt. 1925 gestiftet] / F. H. Ehmcke\n",
      "Ehmcke, F. H. [Verfasser]\n",
      "127: Neues Zierschriftheft : Übungsheft zur Erlernung neuer Rundschrift ; Inh.: Drei neue Zierschriften / Heinrich Wieynck\n",
      "Wieynck, Heinrich [Verfasser]\n",
      "128: Das farbige Strassenbild : Eine Sammlung von Entwürfen für Fassaden von Geschäfts- u. Wohnhäusern u. dergl. / Hrsg. von Rich. Hesse\n",
      "Hesse, Rich. [Mitwirkender]\n",
      "129: Von Kunst zur Gestaltung : Einführung in die moderne Malerei / Adolf Behne\n",
      "Behne, Adolf [Verfasser]\n",
      "130: Farbe am Hause : Der erste deutsche Farbentag in Hamburg ; Vorträge u. Ansprachen / mit e. Einf. von Werner Hellweg\n",
      "Hellweg, Werner [Mitwirkender]\n",
      "131: Blick über die Grenze [Baukunst des Auslandes] / Adolf Behne. Mit e. Beitr. von W. Repsold \"Das Stadthaus in Stockholm\". Hrsg. von H. de Fries\n",
      "Behne, Adolf [Verfasser]\n",
      "132: Das Porzellan als Kunstwerk und Kulturspiegel / Robert Schmidt\n",
      "Schmidt, Robert [Verfasser]\n",
      "133: Führer durch die Ausstellung des Kunstgewerbe-Vereins im Lindenau-Museum vom 6.-27. Sept. 1925 : Altenburg (Thüringen) / [Einf.: Carl Mazukuly]\n",
      "Mazukuly, Carl [Mitwirkender]\n",
      "134: Der neue Stil in Frankreich / Henry van de Velde\n",
      "Velde, Henry van de [Verfasser]\n",
      "135: Die Scheuche : Märchen / Typografisch gestaltet Kurt Schwitters ; Käte Steinitz ; Th. van Doesburg\n",
      "Schwitters, Kurt [Verfasser]\n",
      "136: Das Ornament oder Schmuckwerk / Emil Högg\n",
      "Högg, Emil [Verfasser]\n",
      "137: Kunstgläser der Gegenwart / Gustav E. Pazaurek\n",
      "Pazaurek, Gustav Edmund [Verfasser]\n",
      "138: Die Farbe im Raume / Julius Mössel\n",
      "Mössel, Julius [Verfasser]\n",
      "139: Farbige Häuser / M. Bühler ; H. Jerger. [Geleitw.: Hans Schmid ; N. Stolz]\n",
      "Bühler, Max [Verfasser]\n",
      "140: Architektur / Paul Klopfer. Unter Mitarb. von Gerd Stüber\n",
      "Klopfer, Paul [Verfasser]\n",
      "141: Die Form ohne Ornament : Werkbundausstellung 1924 / Mit e. Einl. von Wolfgang Pfleiderer ; Walter Riezler\n",
      "Pfleiderer, Wolfgang [Mitwirkender]\n",
      "142: Das Märchen von Komanditchen : Fragment / Clemens Brentano. [6 farb. Ill. Taf. von Maria Krauß]\n",
      "Brentano, Clemens [Verfasser]\n",
      "143: Rhythmische Musterkunst der Natur : Die Grundzüge e. neuen Stils / Georg Pieck-Patrik. Bearb. von Fritz Kahn\n",
      "Pieck-Patrik, Georg [Verfasser]\n",
      "144: Künstlerische Erziehung aus eigengesetzlicher Kraft / Christoph Natter\n",
      "Natter, Christoph [Verfasser]\n",
      "145: Die bisherige und zukünftige Arbeit des Staatlichen Bauhauses, Weimar / [Walter Gropius]\n",
      "Gropius, Walter [Verfasser]\n",
      "146: Das ABC der Ornamentik : Mit 70 Abbildungen nach Handskizzen des Verfassers / Hermann Phleps\n",
      "Phleps, Hermann [Verfasser]\n",
      "147: Die Architektur und die technische Hochschule : Zur Hochschulfeier d. Technischen Hochschule, Braun am 18. Januar 1923 / Karl Mühlenpfordt\n",
      "Mühlenpfordt, Carl [Verfasser]\n",
      "148: Das neue Kunsthandwerk in Deutschland und Oesterreich : Unter Berücks. d. Deutschen Gewerbeschau Muenchen 1922 / Von Alexander Koch\n",
      "Koch, Alexander [Mitwirkender]\n",
      "149: Die neue Perspektive des Architekten : hilfslinienfreie Lösung aller Aufgaben / Adolf Reile\n",
      "Reile, Adolf [Verfasser]\n",
      "150: Das Mährchen von Hyacinth und Rosenblüthchen / Novalis. [Von Walter Cyliax ; Johannes Tzschichhold hergest.]\n",
      "Novalis [Verfasser]\n",
      "151: Idee und Aufbau des staatlichen Bauhauses Weimar / Walter Gropius\n",
      "Gropius, Walter [Verfasser]\n",
      "152: Handbuch der Perspektive in 100 Paragraphen mit 203 Abbildungen : Mit einer geometrischen Vorschule u. einem Anhang über Axonometrie / Franz Meyer\n",
      "Meyer, Franz Sales [Verfasser]\n",
      "153: Hymne an die Schönheit / Friedrich Hoelderlin. [Gedr. v. Walter Cyliax in d. Werkstätten d. Staatl. Akad. zu Leipzig]\n",
      "Hölderlin, Friedrich [Verfasser]\n",
      "154: Hand- & Inschrift-Alphabete für Schulen und Fachklassen und für kunstgewerbliche Werkstätten / Edward Johnston. Mit 5 Taf. von A. E. R. Gill. Nach d. 2. verb. Aufl. aus d. Engl. übers. von Anna Simons\n",
      "Johnston, Edward [Verfasser]\n",
      "155: Allgemeine Architektur-Probleme / Max Unglehrt\n",
      "Unglehrt, Max [Verfasser]\n",
      "156: Typografie als Kunst / Paul Renner\n",
      "Renner, Paul [Verfasser]\n",
      "157: Ptica bezymjannaja : Izbrannye stichi 1917-1921 / Aleksandr Kusikov\n",
      "Kusikov, Aleksandr B. [Verfasser]\n",
      "158: Otto Gleichmann, Kurt Schwitters, Wilhelm Gross : XIX. Ausstellung 1. Oktober-22. November 1922  / [Herbert von Garvens-Garvensburg]\n",
      "Garvens, Herbert von [Verfasser]\n",
      "159: Willy Baumeister : [Ausstellung Willy Baumeister 2. Juli-13. Aug. 1922 ; Galerie von Garvens, Hannover] / [Vorw.: Karl Konrad Düssel]\n",
      "Baumeister, Willi [Mitwirkender]\n",
      "160: Alphabete für die Praxis : Die historischen Grundformen / Heinrich Wieynck\n",
      "Wieynck, Heinrich [Verfasser]\n",
      "161: Über das Wesen der Keramik / Max Laeuger\n",
      "Laeuger, Max [Verfasser]\n",
      "162: Das Schreiben als Kunstfertigkeit : Eine ausführliche Anleitung zur Erlernung des für den Beruf des Schreibers notwendigen Schriftarten / Rudolf Koch\n",
      "Koch, Rudolf [Verfasser]\n",
      "163: Expressionismus : Eine Zeitstudie / Heinrich Vogeler\n",
      "Vogeler, Heinrich [Verfasser]\n",
      "164: Die neue deutsche Buchkunst / Hans Loubier\n",
      "Loubier, Hans [Verfasser]\n",
      "165: Die Technik der Malerei : Ein Handbuch für Künstler und Dilettanten / Paul Schultze-Naumburg\n",
      "Schultze-Naumburg, Paul [Verfasser]\n",
      "166: Der Schmuck des Glases / Von Heinrich Strehblow\n",
      "Strehblow, Heinrich [Verfasser]\n",
      "167: Der Kampf um den Stil im Kunstgewerbe und in der Architektur / Von Walter Curt Behrendt\n",
      "Behrendt, Walter Curt [Verfasser]\n",
      "168: Handwerkliche Kunst in alter und neuer Zeit / Hrsg. vom Deutschen Werkbund. [Vorw.: Karl Gross]\n",
      "Groß, Karl [Mitwirkender]\n",
      "169: Kurt Schwitters / [Mit e. Vorw. v. Otto Nebel]\n",
      "Nebel, Otto [Mitwirkender]\n",
      "170: Ruf zum Bauen / [Vorw.: Adolf Behne]\n",
      "Behne, Adolf [Mitwirkender]\n",
      "171: van de Velde : [Leben u. Schaffen des Künstlers] / [von Karl Ernst Osthaus]\n",
      "Osthaus, Karl Ernst [Verfasser]\n",
      "172: Herr von Ribbeck auf Ribbeck im Havelland / Theodor Fontane. [Johannes Tzschichhold scripsit]\n",
      "Fontane, Theodor [Verfasser]\n",
      "173: Der Expressionismus in der Malerei / Wilhelm Hausenstein\n",
      "Hausenstein, Wilhelm [Verfasser]\n",
      "174: Neue Aufgaben der Baukunst / Von Walter Curt Behrendt\n",
      "Behrendt, Walter Curt [Verfasser]\n",
      "175: Grundlagen der Baukunst : Studien zum Beruf des Architekten / von Fritz Schumacher\n",
      "Schumacher, Fritz [Verfasser]\n",
      "176: Ästhetik der Perspektive : Betrachtungen über Wirkung, Stimmung u. Schönheit d. malerischen Perspektive / von Theodor Wedepohl\n",
      "Wedepohl, Theodor [Verfasser]\n",
      "177: Systematisch geordnetes Handbuch der Ornamentik zum Gebrauch für Musterzeichner, Architekten ... : Gr. Bad. Kunstgewerbeschule in Karlsruhe / Hrsg. v. Franz Sales Meyer\n",
      "Meyer, Franz Sales [Verfasser]\n",
      "178: Einführung in die Architektur-Asthetik : Prolegomena zu einer Theorie der Baukunst / von Hermann Sörgel\n",
      "Sörgel, Herman [Verfasser]\n",
      "179: Eine Frakturschrift / nach Zeichnung von Walter Tiemann. Geschnitten u. hrsg. von Gebr. Klingspor, Offenbach am Main\n",
      "Tiemann, Walter [Mitwirkender]\n",
      "180: Die Lehre vom Schmücken : Ein Beitr. zur zweckmäßigen Gestaltung d. ornamentalen Kunstunterrichts ; Mit 350 Abb. d. Verf. / Hermann Maier\n",
      "Maier, Hermann [Verfasser]\n",
      "181: [Amores] ; P. Ovidii Nasonis Amorum libri tres / [Übersetzt von Rudolph Schott. geschr. von Heinrich Wiey͏̈nck. André Lambert radierte d. Schmutztitel u. d. Vignetten]\n",
      "Ovidius Naso, Publius [Verfasser]\n",
      "182: Was ist Fraktur? : Eine wissenschaftl. Auseinandersetzung mit d. Kommerzienrat Friedrich Sönnecken in Bonn / Von Gustav Milchsack\n",
      "Milchsack, Gustav [Verfasser]\n",
      "183: Ich hatt' einen Kameraden : Erzählung aus dem Weltkriege 1914/15 / von Emil Frank. [Umschlagzeichnung von Josef Albers]\n",
      "Frank, Emil [Verfasser]\n",
      "184: Deutsche Form : Die Eigenwerdung der deutschen Modeindustrie, eine nationale und wirtschaftliche Notwendigkeit / Fritz Stahl\n",
      "Stahl, Fritz [Verfasser]\n",
      "185: Baustoff und Farbe\n",
      "Gessner, Wolfgang [Verfasser]\n",
      "186: Übungsheft zur Erlernung der Blockschrift / Bearb. von Heinrich Wieynk\n",
      "Wieynck, Heinrich [Verfasser]\n",
      "187: Eröffnung des neuen Handelshochschul-Gebäudes in Leipzig / [Fritz Schumacher]\n",
      "Schumacher, Fritz [Verfasser]\n",
      "188: Über Zierschriften im Dienste der Kunst : mit mehr. Abb. / v von Rudolf von Larisch\n",
      "Larisch, Rudolf von [Verfasser]\n"
     ]
    }
   ],
   "source": [
    "namespaces = {\n",
    "    'oai': 'http://www.openarchives.org/OAI/2.0/',\n",
    "    'oai_dc': 'http://www.openarchives.org/OAI/2.0/oai_dc/',\n",
    "    'dc': 'http://purl.org/dc/elements/1.1/'\n",
    "}\n",
    "\n",
    "count = 0\n",
    "\n",
    "for record in sickle.ListRecords(**{'metadataPrefix': 'oai_dc','from': '2019-04-30', 'set': 'dnb:digitalisate-oa:projekt28'}):\n",
    "    if 'ger' in record.raw:\n",
    "        tree = etree.ElementTree(record.xml)\n",
    "        result = tree.xpath('/oai:record/oai:metadata/oai_dc:dc/dc:title/text()', namespaces=namespaces)\n",
    "        if result:\n",
    "            count += 1\n",
    "            author = tree.xpath('/oai:record/oai:metadata/oai_dc:dc/dc:creator/text()', namespaces=namespaces)\n",
    "            print(f\"{count}: {result[0]}\")\n",
    "            if author:\n",
    "                print(author[0])\n",
    "            "
   ]
  },
  {
   "cell_type": "markdown",
   "metadata": {
    "collapsed": true,
    "jupyter": {
     "outputs_hidden": true
    }
   },
   "source": [
    "### 3. Zusätzliche Ausgabe der Links zu den Objekten <a class=\"anchor\" id=\"Teil3\"></a>"
   ]
  },
  {
   "cell_type": "markdown",
   "metadata": {},
   "source": [
    "Damit zusätzlich zu den Titeln die Links zu den Objekten ausgegeben werden, wird der URN entsprechend des dc-Schemas /oai:record/oai:metadata/oai_dc:dc/dc:identifier/text() angesprochen und zusammen mit dem Titel angezeigt. Die Ausgabe der Ergebnisse wird in diesem Beispiel über max_results auf die ersten 10 Treffer limitiert."
   ]
  },
  {
   "cell_type": "code",
   "execution_count": null,
   "metadata": {},
   "outputs": [],
   "source": [
    "namespaces = {\n",
    "    'oai': 'http://www.openarchives.org/OAI/2.0/',\n",
    "    'oai_dc': 'http://www.openarchives.org/OAI/2.0/oai_dc/',\n",
    "    'dc': 'http://purl.org/dc/elements/1.1/'\n",
    "}\n",
    "\n",
    "count = 0\n",
    "max_results = 10\n",
    "\n",
    "for record in sickle.ListRecords(**{'metadataPrefix': 'oai_dc', 'from': '2019-04-30', 'set': 'dnb:digitalisate-oa:projekt28'}):\n",
    "    if count >= max_results:\n",
    "        break\n",
    "    \n",
    "    if ('ger' in record.raw):\n",
    "        tree = etree.ElementTree(record.xml)\n",
    "        result = tree.xpath('/oai:record/oai:metadata/oai_dc:dc/dc:title/text()', namespaces=namespaces)\n",
    "        if (result):\n",
    "            count += 1\n",
    "            urn = tree.xpath('/oai:record/oai:metadata/oai_dc:dc/dc:identifier/text()', namespaces=namespaces)\n",
    "            print(f\"{count}: {result[0]}\")\n",
    "            if urn:\n",
    "                print(f\"https://nbn-resolving.org/{urn[0]}\")\n",
    "\n",
    "    if count >= max_results:\n",
    "        break\n"
   ]
  },
  {
   "cell_type": "markdown",
   "metadata": {},
   "source": [
    "### 4. Ausgabe der gescannten Bilder <a class=\"anchor\" id=\"Teil4\"></a>"
   ]
  },
  {
   "cell_type": "markdown",
   "metadata": {},
   "source": [
    "Das Format METS bildet neben den bibliographischen Daten im Format MODS die Struktur der digitalen Objekte bzw. die Reihenfolge der gescannten Bilder ab. Für die gezielte Abfrage der gewünschten Informationen aus dem Metadatenformat METS können bei Bedarf die METS-Spezifikationen http://www.loc.gov/METS/ und https://www.loc.gov/standards/mets/mets.xsd herangezogen werden. Die Links der einzelnen Bilder (Thumbnails und Defaultbilder) können über <xsd:element name=\"fileGrp\"> angesprochen werden. \n",
    "\n",
    "#### 4.1 Ausgabe der Cover-URLs \n",
    "In diesem Beispiel wird jeweils das erste gescannte Bild der ersten 10 Treffer (max_records=10) in einer CSV-Datei ausgegeben."
   ]
  },
  {
   "cell_type": "code",
   "execution_count": 24,
   "metadata": {},
   "outputs": [
    {
     "name": "stdout",
     "output_type": "stream",
     "text": [
      "CSV-Datei 'image_links.csv' wurde erstellt.\n"
     ]
    }
   ],
   "source": [
    "import xml.etree.ElementTree as ET\n",
    "import requests\n",
    "import pandas as pd\n",
    "\n",
    "def fetch_oai_records(url, max_records=10, metadata_prefix='mets', set_spec='dnb:digitalisate-oa:projekt28'):\n",
    "    params = {\n",
    "        'verb': 'ListRecords',\n",
    "        'metadataPrefix': metadata_prefix,\n",
    "        'set': set_spec,\n",
    "        'resumptionToken': None\n",
    "    }\n",
    "    records = []\n",
    "    \n",
    "    while len(records) < max_records:\n",
    "        response = requests.get(url, params=params)\n",
    "        response.raise_for_status()  # Überprüfen, ob die Anfrage erfolgreich war\n",
    "        xml_data = response.content\n",
    "        records.append(xml_data)\n",
    "\n",
    "        # Überprüfen, ob es einen Resumption Token gibt\n",
    "        root = ET.fromstring(xml_data)\n",
    "        resumption_token = root.find('.//{http://www.openarchives.org/OAI/2.0/}resumptionToken')\n",
    "        \n",
    "        if resumption_token is not None:\n",
    "            params['resumptionToken'] = resumption_token.text\n",
    "        else:\n",
    "            break\n",
    "\n",
    "    return records[:max_records]\n",
    "\n",
    "def main():\n",
    "    url = 'http://services.dnb.de/oai2/repository'\n",
    "    xml_records = fetch_oai_records(url)\n",
    "\n",
    "    # Namespace für METS definieren\n",
    "    ns_mets = {'mets': 'http://www.loc.gov/METS/'}\n",
    "    ns_oai = {'oai': 'http://www.openarchives.org/OAI/2.0/'}\n",
    "\n",
    "    hrefs = []\n",
    "    count = 0\n",
    "\n",
    "    for xml_data in xml_records:\n",
    "        root = ET.fromstring(xml_data)\n",
    "        \n",
    "        for record in root.findall('.//oai:record', ns_oai):\n",
    "            if count >= 10:\n",
    "                break\n",
    "            mets_file_sec = record.find('.//mets:fileSec', ns_mets)\n",
    "            if mets_file_sec is not None:\n",
    "                mets_file_grp = mets_file_sec.find('.//mets:fileGrp', ns_mets)\n",
    "                if mets_file_grp is not None:\n",
    "                    if isinstance(mets_file_grp, list):\n",
    "                        # Wenn es eine Liste ist, den ersten Eintrag ausgeben\n",
    "                        mets_file = mets_file_grp[0].find('.//mets:file', ns_mets)\n",
    "                        if mets_file is not None:\n",
    "                            flocat = mets_file.find('.//mets:FLocat', ns_mets)\n",
    "                            if flocat is not None:\n",
    "                                href = flocat.attrib.get('{http://www.w3.org/1999/xlink}href')\n",
    "                                if href:\n",
    "                                    hrefs.append(href)\n",
    "                                    count += 1\n",
    "                    else:\n",
    "                        # Ansonsten direkt ausgeben\n",
    "                        mets_file = mets_file_grp.find('.//mets:file', ns_mets)\n",
    "                        if mets_file is not None:\n",
    "                            flocat = mets_file.find('.//mets:FLocat', ns_mets)\n",
    "                            if flocat is not None:\n",
    "                                href = flocat.attrib.get('{http://www.w3.org/1999/xlink}href')\n",
    "                                if href:\n",
    "                                    hrefs.append(href)\n",
    "                                    count += 1\n",
    "            if count >= 10:\n",
    "                break\n",
    "\n",
    "    # Erstellen eines DataFrames und Speichern als CSV\n",
    "    df = pd.DataFrame(hrefs, columns=['href'])\n",
    "    df.to_csv('cover_links.csv', index=False)\n",
    "    print(\"CSV-Datei 'image_links.csv' wurde erstellt.\")\n",
    "\n",
    "if __name__ == \"__main__\":\n",
    "    main()"
   ]
  },
  {
   "cell_type": "markdown",
   "metadata": {},
   "source": [
    "#### 4.2. Ausgabe der Bild-URLS des ersten Dazensatzes\n",
    "In diesem Beispiel werden alle Bild-URLs des ersten Datensatzes und als CSV-Datei ausgegeben."
   ]
  },
  {
   "cell_type": "code",
   "execution_count": 23,
   "metadata": {
    "scrolled": true
   },
   "outputs": [
    {
     "name": "stdout",
     "output_type": "stream",
     "text": [
      "https://portal.dnb.de/bookviewer/view/1163622826/img/page/1/p.jpg?reduce=24.3\n",
      "https://portal.dnb.de/bookviewer/view/1163622826/img/page/10/p.jpg?reduce=21.6\n",
      "https://portal.dnb.de/bookviewer/view/1163622826/img/page/11/p.jpg?reduce=21.6\n",
      "https://portal.dnb.de/bookviewer/view/1163622826/img/page/12/p.jpg?reduce=21.6\n",
      "https://portal.dnb.de/bookviewer/view/1163622826/img/page/13/p.jpg?reduce=21.6\n",
      "https://portal.dnb.de/bookviewer/view/1163622826/img/page/14/p.jpg?reduce=21.6\n",
      "https://portal.dnb.de/bookviewer/view/1163622826/img/page/15/p.jpg?reduce=21.6\n",
      "https://portal.dnb.de/bookviewer/view/1163622826/img/page/16/p.jpg?reduce=21.6\n",
      "https://portal.dnb.de/bookviewer/view/1163622826/img/page/17/p.jpg?reduce=21.6\n",
      "https://portal.dnb.de/bookviewer/view/1163622826/img/page/18/p.jpg?reduce=21.6\n",
      "https://portal.dnb.de/bookviewer/view/1163622826/img/page/19/p.jpg?reduce=21.6\n",
      "https://portal.dnb.de/bookviewer/view/1163622826/img/page/2/p.jpg?reduce=21.6\n",
      "https://portal.dnb.de/bookviewer/view/1163622826/img/page/20/p.jpg?reduce=21.6\n",
      "https://portal.dnb.de/bookviewer/view/1163622826/img/page/21/p.jpg?reduce=21.6\n",
      "https://portal.dnb.de/bookviewer/view/1163622826/img/page/22/p.jpg?reduce=21.6\n",
      "https://portal.dnb.de/bookviewer/view/1163622826/img/page/23/p.jpg?reduce=21.6\n",
      "https://portal.dnb.de/bookviewer/view/1163622826/img/page/24/p.jpg?reduce=21.6\n",
      "https://portal.dnb.de/bookviewer/view/1163622826/img/page/25/p.jpg?reduce=21.6\n",
      "https://portal.dnb.de/bookviewer/view/1163622826/img/page/26/p.jpg?reduce=21.6\n",
      "https://portal.dnb.de/bookviewer/view/1163622826/img/page/27/p.jpg?reduce=21.6\n",
      "https://portal.dnb.de/bookviewer/view/1163622826/img/page/28/p.jpg?reduce=21.6\n",
      "https://portal.dnb.de/bookviewer/view/1163622826/img/page/29/p.jpg?reduce=21.6\n",
      "https://portal.dnb.de/bookviewer/view/1163622826/img/page/3/p.jpg?reduce=21.6\n",
      "https://portal.dnb.de/bookviewer/view/1163622826/img/page/30/p.jpg?reduce=21.6\n",
      "https://portal.dnb.de/bookviewer/view/1163622826/img/page/31/p.jpg?reduce=21.6\n",
      "https://portal.dnb.de/bookviewer/view/1163622826/img/page/32/p.jpg?reduce=21.6\n",
      "https://portal.dnb.de/bookviewer/view/1163622826/img/page/33/p.jpg?reduce=21.6\n",
      "https://portal.dnb.de/bookviewer/view/1163622826/img/page/34/p.jpg?reduce=21.6\n",
      "https://portal.dnb.de/bookviewer/view/1163622826/img/page/35/p.jpg?reduce=21.6\n",
      "https://portal.dnb.de/bookviewer/view/1163622826/img/page/36/p.jpg?reduce=21.6\n",
      "https://portal.dnb.de/bookviewer/view/1163622826/img/page/37/p.jpg?reduce=21.6\n",
      "https://portal.dnb.de/bookviewer/view/1163622826/img/page/38/p.jpg?reduce=21.6\n",
      "https://portal.dnb.de/bookviewer/view/1163622826/img/page/39/p.jpg?reduce=21.6\n",
      "https://portal.dnb.de/bookviewer/view/1163622826/img/page/4/p.jpg?reduce=21.6\n",
      "https://portal.dnb.de/bookviewer/view/1163622826/img/page/40/p.jpg?reduce=21.6\n",
      "https://portal.dnb.de/bookviewer/view/1163622826/img/page/41/p.jpg?reduce=21.6\n",
      "https://portal.dnb.de/bookviewer/view/1163622826/img/page/42/p.jpg?reduce=21.6\n",
      "https://portal.dnb.de/bookviewer/view/1163622826/img/page/43/p.jpg?reduce=21.6\n",
      "https://portal.dnb.de/bookviewer/view/1163622826/img/page/44/p.jpg?reduce=21.6\n",
      "https://portal.dnb.de/bookviewer/view/1163622826/img/page/45/p.jpg?reduce=21.6\n",
      "https://portal.dnb.de/bookviewer/view/1163622826/img/page/46/p.jpg?reduce=21.6\n",
      "https://portal.dnb.de/bookviewer/view/1163622826/img/page/47/p.jpg?reduce=21.6\n",
      "https://portal.dnb.de/bookviewer/view/1163622826/img/page/48/p.jpg?reduce=21.6\n",
      "https://portal.dnb.de/bookviewer/view/1163622826/img/page/49/p.jpg?reduce=21.6\n",
      "https://portal.dnb.de/bookviewer/view/1163622826/img/page/5/p.jpg?reduce=21.6\n",
      "https://portal.dnb.de/bookviewer/view/1163622826/img/page/50/p.jpg?reduce=21.6\n",
      "https://portal.dnb.de/bookviewer/view/1163622826/img/page/51/p.jpg?reduce=21.6\n",
      "https://portal.dnb.de/bookviewer/view/1163622826/img/page/52/p.jpg?reduce=21.6\n",
      "https://portal.dnb.de/bookviewer/view/1163622826/img/page/53/p.jpg?reduce=21.6\n",
      "https://portal.dnb.de/bookviewer/view/1163622826/img/page/54/p.jpg?reduce=21.6\n",
      "https://portal.dnb.de/bookviewer/view/1163622826/img/page/55/p.jpg?reduce=21.6\n",
      "https://portal.dnb.de/bookviewer/view/1163622826/img/page/56/p.jpg?reduce=21.6\n",
      "https://portal.dnb.de/bookviewer/view/1163622826/img/page/57/p.jpg?reduce=21.6\n",
      "https://portal.dnb.de/bookviewer/view/1163622826/img/page/58/p.jpg?reduce=21.6\n",
      "https://portal.dnb.de/bookviewer/view/1163622826/img/page/59/p.jpg?reduce=21.6\n",
      "https://portal.dnb.de/bookviewer/view/1163622826/img/page/6/p.jpg?reduce=21.6\n",
      "https://portal.dnb.de/bookviewer/view/1163622826/img/page/60/p.jpg?reduce=21.6\n",
      "https://portal.dnb.de/bookviewer/view/1163622826/img/page/61/p.jpg?reduce=21.6\n",
      "https://portal.dnb.de/bookviewer/view/1163622826/img/page/62/p.jpg?reduce=21.6\n",
      "https://portal.dnb.de/bookviewer/view/1163622826/img/page/63/p.jpg?reduce=21.6\n",
      "https://portal.dnb.de/bookviewer/view/1163622826/img/page/64/p.jpg?reduce=21.6\n",
      "https://portal.dnb.de/bookviewer/view/1163622826/img/page/65/p.jpg?reduce=21.6\n",
      "https://portal.dnb.de/bookviewer/view/1163622826/img/page/66/p.jpg?reduce=21.6\n",
      "https://portal.dnb.de/bookviewer/view/1163622826/img/page/67/p.jpg?reduce=21.6\n",
      "https://portal.dnb.de/bookviewer/view/1163622826/img/page/68/p.jpg?reduce=21.6\n",
      "https://portal.dnb.de/bookviewer/view/1163622826/img/page/69/p.jpg?reduce=21.6\n",
      "https://portal.dnb.de/bookviewer/view/1163622826/img/page/7/p.jpg?reduce=21.6\n",
      "https://portal.dnb.de/bookviewer/view/1163622826/img/page/70/p.jpg?reduce=21.6\n",
      "https://portal.dnb.de/bookviewer/view/1163622826/img/page/71/p.jpg?reduce=21.6\n",
      "https://portal.dnb.de/bookviewer/view/1163622826/img/page/72/p.jpg?reduce=21.6\n",
      "https://portal.dnb.de/bookviewer/view/1163622826/img/page/73/p.jpg?reduce=21.6\n",
      "https://portal.dnb.de/bookviewer/view/1163622826/img/page/74/p.jpg?reduce=21.6\n",
      "https://portal.dnb.de/bookviewer/view/1163622826/img/page/75/p.jpg?reduce=21.6\n",
      "https://portal.dnb.de/bookviewer/view/1163622826/img/page/76/p.jpg?reduce=21.6\n",
      "https://portal.dnb.de/bookviewer/view/1163622826/img/page/77/p.jpg?reduce=21.6\n",
      "https://portal.dnb.de/bookviewer/view/1163622826/img/page/78/p.jpg?reduce=21.6\n",
      "https://portal.dnb.de/bookviewer/view/1163622826/img/page/79/p.jpg?reduce=21.6\n",
      "https://portal.dnb.de/bookviewer/view/1163622826/img/page/8/p.jpg?reduce=21.6\n",
      "https://portal.dnb.de/bookviewer/view/1163622826/img/page/80/p.jpg?reduce=21.6\n",
      "https://portal.dnb.de/bookviewer/view/1163622826/img/page/81/p.jpg?reduce=21.6\n",
      "https://portal.dnb.de/bookviewer/view/1163622826/img/page/82/p.jpg?reduce=21.6\n",
      "https://portal.dnb.de/bookviewer/view/1163622826/img/page/83/p.jpg?reduce=21.6\n",
      "https://portal.dnb.de/bookviewer/view/1163622826/img/page/84/p.jpg?reduce=21.6\n",
      "https://portal.dnb.de/bookviewer/view/1163622826/img/page/85/p.jpg?reduce=21.6\n",
      "https://portal.dnb.de/bookviewer/view/1163622826/img/page/86/p.jpg?reduce=21.6\n",
      "https://portal.dnb.de/bookviewer/view/1163622826/img/page/87/p.jpg?reduce=21.6\n",
      "https://portal.dnb.de/bookviewer/view/1163622826/img/page/88/p.jpg?reduce=21.6\n",
      "https://portal.dnb.de/bookviewer/view/1163622826/img/page/89/p.jpg?reduce=21.6\n",
      "https://portal.dnb.de/bookviewer/view/1163622826/img/page/9/p.jpg?reduce=21.6\n",
      "https://portal.dnb.de/bookviewer/view/1163622826/img/page/90/p.jpg?reduce=21.6\n",
      "https://portal.dnb.de/bookviewer/view/1163622826/img/page/91/p.jpg?reduce=21.6\n",
      "https://portal.dnb.de/bookviewer/view/1163622826/img/page/92/p.jpg?reduce=21.6\n",
      "https://portal.dnb.de/bookviewer/view/1163622826/img/page/93/p.jpg?reduce=21.6\n",
      "https://portal.dnb.de/bookviewer/view/1163622826/img/page/94/p.jpg?reduce=21.6\n",
      "https://portal.dnb.de/bookviewer/view/1163622826/img/page/95/p.jpg?reduce=21.6\n",
      "https://portal.dnb.de/bookviewer/view/1163622826/img/page/96/p.jpg?reduce=24.3\n",
      "https://portal.dnb.de/bookviewer/view/1163622826/img/page/97/p.jpg?reduce=24.3\n",
      "CSV-Datei 'image_links.csv' wurde erstellt.\n"
     ]
    }
   ],
   "source": [
    "import xml.etree.ElementTree as ET\n",
    "import requests\n",
    "import pandas as pd\n",
    "\n",
    "# Funktion zum Abrufen der OAI2-Daten\n",
    "def fetch_oai_records(url, metadata_prefix='mets', set_spec='dnb:digitalisate-oa:projekt28'):\n",
    "    params = {\n",
    "        'verb': 'ListRecords',\n",
    "        'metadataPrefix': metadata_prefix,\n",
    "        'set': set_spec\n",
    "    }\n",
    "    \n",
    "    response = requests.get(url, params=params)\n",
    "    response.raise_for_status()  # Überprüfen, ob die Anfrage erfolgreich war\n",
    "    return response.content\n",
    "\n",
    "# Hauptfunktion\n",
    "def main():\n",
    "    url = 'http://services.dnb.de/oai2/repository'\n",
    "    xml_data = fetch_oai_records(url)\n",
    "\n",
    "    # Namespace für METS und OAI definieren\n",
    "    ns_mets = {'mets': 'http://www.loc.gov/METS/'}\n",
    "    ns_oai = {'oai': 'http://www.openarchives.org/OAI/2.0/'}\n",
    "\n",
    "    root = ET.fromstring(xml_data)\n",
    "    \n",
    "    # Den ersten Record finden\n",
    "    first_record = root.find('.//oai:record', ns_oai)\n",
    "\n",
    "    hrefs = []  # Liste zum Speichern der URLs\n",
    "    \n",
    "    if first_record is not None:\n",
    "        mets_file_sec = first_record.find('.//mets:fileSec', ns_mets)\n",
    "        if mets_file_sec is not None:\n",
    "            mets_file_grp = mets_file_sec.find('.//mets:fileGrp', ns_mets)\n",
    "            if mets_file_grp is not None:\n",
    "                for mets_file in mets_file_grp.findall('.//mets:file', ns_mets):\n",
    "                    flocat = mets_file.find('.//mets:FLocat', ns_mets)\n",
    "                    if flocat is not None:\n",
    "                        href = flocat.attrib.get('{http://www.w3.org/1999/xlink}href')\n",
    "                        if href:\n",
    "                            print(href)\n",
    "                            hrefs.append(href)  # URL zur Liste hinzufügen\n",
    "\n",
    "    # Erstellen eines DataFrames und Speichern als CSV\n",
    "    df = pd.DataFrame(hrefs, columns=['href'])\n",
    "    df.to_csv('image_links.csv', index=False)\n",
    "    print(\"CSV-Datei 'image_links.csv' wurde erstellt.\")\n",
    "\n",
    "if __name__ == \"__main__\":\n",
    "    main()\n"
   ]
  },
  {
   "cell_type": "markdown",
   "metadata": {},
   "source": [
    "## OAI- Schnittstelle <a class=\"anchor\" id=\"API3\"></a>"
   ]
  },
  {
   "cell_type": "markdown",
   "metadata": {},
   "source": [
    "Inhaltsverzeichnis:\n",
    "\n",
    "* [1. Grundlegende Funktionen](#Teil5)\n",
    "* [2. Ausgabe von Titeln in bestimmten Zeitraum](#Teil6)\n",
    "* [3. Zusätzliche Ausgabe der Links zu den Objekten](#Teil7)"
   ]
  },
  {
   "cell_type": "markdown",
   "metadata": {},
   "source": [
    "### 1. Grundlegende Funktionen <a class=\"anchor\" id=\"Teil5\"></a>"
   ]
  },
  {
   "cell_type": "markdown",
   "metadata": {},
   "source": [
    "Die Daten werden über die OAI-Schnittstelle standardmäßig als XML-Antwort in verschiedenen Formaten ausgeliefert."
   ]
  },
  {
   "cell_type": "markdown",
   "metadata": {},
   "source": [
    "Die OAI Basis URL ist https://services.dnb.de/oai/repository."
   ]
  },
  {
   "cell_type": "code",
   "execution_count": null,
   "metadata": {},
   "outputs": [],
   "source": [
    "sickle = Sickle('https://services.dnb.de/oai/repository')"
   ]
  },
  {
   "cell_type": "markdown",
   "metadata": {},
   "source": [
    "Im nächsten Schritt werden alle verfügbaren Datensets (Kataloge) mit der Funktion ListSets abgefragt und angezeigt."
   ]
  },
  {
   "cell_type": "code",
   "execution_count": null,
   "metadata": {
    "scrolled": true
   },
   "outputs": [],
   "source": [
    "oai_sets = sickle.ListSets()\n",
    "for oai_set in oai_sets:\n",
    "    print('setSpec value for selective harvesting: ' + oai_set.setSpec)\n",
    "    print('Name of the set (setName): ' + oai_set.setName + '\\n')"
   ]
  },
  {
   "cell_type": "markdown",
   "metadata": {},
   "source": [
    "Hier eine Auswahl der über OAI verfügbaren Titeldaten (oai_sets):\n",
    "\n",
    "| Auswahl | Wert für Parameter \"set\" | \n",
    "| --- | --- | \n",
    "| Deutsche Nationalbibliografie ohne Gemeinsame Normdatei| dnb:wv (nur Datensätze nach abgeschlossener Bearbeitung) | \n",
    "| Deutsche Nationalbibliografie, Reihe A (Publikationen des Verlagsbuchhandels) | dnb:reiheA (inkl. Datensätze in Bearbeitung und abgeschlossene Bearbeitung) |\n",
    "| Deutsche Nationalbibliografie, Reihe B (Publikationen außerhalb des Verlagsbuchhandels) | dnb:reiheB (inkl. Datensätze in Bearbeitung und abgeschlossene Bearbeitung)\n",
    "dnb:wv:reiheB (nur Datensätze nach abgeschlossener Bearbeitung) |\n",
    "| Deutsche Nationalbibliografie, Reihe H (Hochschulschriften)| dnb:reiheH (inkl. Datensätze in Bearbeitung und abgeschlossene Bearbeitung)\n",
    "dnb:wv:reiheH (nur Datensätze nach abgeschlossener Bearbeitung) |\n",
    "| Deutsche Nationalbibliografie, Reihe O (Online-Publikationen) | dnb:reiheO (inkl. Datensätze in Bearbeitung und abgeschlossene Bearbeitung)\n",
    "dnb:wv:reiheO (nur Datensätze nach abgeschlossener Bearbeitung) |\n",
    "| Online-Publikationen ohne Einschränkungen | dnb-all:online |\n",
    "| Deutsche Nationalbibliografie: Digitalisierte Inhaltsverzeichnisse| dnb:toc |"
   ]
  },
  {
   "cell_type": "markdown",
   "metadata": {},
   "source": [
    "Die Daten können über die OAI-Schnittstelle als XML-Antwort in folgenden Formaten ausgeliefert werden: \n",
    "* MARC21-xml http://www.loc.gov/standards/marcxml/schema/MARC21slim.xsd\n",
    "* DNB Casual (oai_dc)\thttp://www.openarchives.org/OAI/2.0/oai_dc.xsd\n",
    "* RDF (RDFxml) http://www.w3.org/2000/07/rdf.xsd"
   ]
  },
  {
   "cell_type": "markdown",
   "metadata": {},
   "source": [
    "### 2. Ausgabe von Titeln eines Projekts in bestimmten Zeitraum <a class=\"anchor\" id=\"Teil6\"></a>\n",
    "Um beispielhaft Online-Dissertationen aus der Sachgruppe „Sozialwissenschaften, Soziologie, Anthropologie“ ab dem 30.04.2023 aufzulisten, müssen für die Abfrage Metadatenformat, Zeitraum und Projekt angegeben werden. Die OAI Funktionen werden unter http://www.openarchives.org/OAI/2.0/ spezifiziert und auf der DNBLab Seite unter Funktionen beschrieben. Die Daten befinden sich in der XML-Antwort als Inhalt zwischen beschreibenden Elementen und werden durchnummeriert angezeigt. Für die gezielte Abfrage der gewünschten Informationen aus dem Metadatenformat DC, können bei Bedarf die DC-Spezifikationen http://www.openarchives.org/OAI/2.0/oai_dc/ und http://purl.org/dc/elements/1.1/ herangezogen werden."
   ]
  },
  {
   "cell_type": "code",
   "execution_count": null,
   "metadata": {},
   "outputs": [],
   "source": [
    "namespaces = {\n",
    "    'oai': 'http://www.openarchives.org/OAI/2.0/',\n",
    "    'oai_dc': 'http://www.openarchives.org/OAI/2.0/oai_dc/',\n",
    "    'dc': 'http://purl.org/dc/elements/1.1/'\n",
    "}\n",
    "\n",
    "count=0\n",
    "\n",
    "for record in sickle.ListRecords(**{'metadataPrefix': 'oai_dc', 'from': '2023-04-30', 'set': 'dnb-all:online:dissertations:sg300'}):\n",
    "    \n",
    "    if ('ger' in record.raw):\n",
    "        tree = etree.ElementTree(record.xml)\n",
    "        result = tree.xpath('/oai:record/oai:metadata/oai_dc:dc/dc:title/text()', namespaces=namespaces)\n",
    "        if (result):\n",
    "            count += 1\n",
    "            author = tree.xpath('/oai:record/oai:metadata/oai_dc:dc/dc:creator/text()', namespaces=namespaces)\n",
    "            print(str(count) + \": \" + result[0])\n",
    "            if author:\n",
    "                print(author[0])"
   ]
  },
  {
   "cell_type": "markdown",
   "metadata": {},
   "source": [
    "### 3. Zusätzliche Ausgabe der Links zu den Objekten <a class=\"anchor\" id=\"Teil7\"></a>\n",
    "Damit zusätzlich zu den Titeln die Links zu den Objekten ausgegeben werden, wird der URN entsprechend des dc-Schemas /oai:record/oai:metadata/oai_dc:dc/dc:identifier/text() angesprochen und zusammen mit dem Titel angezeigt."
   ]
  },
  {
   "cell_type": "code",
   "execution_count": null,
   "metadata": {},
   "outputs": [],
   "source": [
    "namespaces = {\n",
    "    'oai': 'http://www.openarchives.org/OAI/2.0/',\n",
    "    'oai_dc': 'http://www.openarchives.org/OAI/2.0/oai_dc/',\n",
    "    'dc': 'http://purl.org/dc/elements/1.1/'\n",
    "}\n",
    "\n",
    "count=0\n",
    "\n",
    "for record in sickle.ListRecords(**{'metadataPrefix': 'oai_dc', 'from': '2024-04-30', 'set': 'dnb-all:online:dissertations:sg300'}):\n",
    "    \n",
    "    if ('ger' in record.raw):\n",
    "        tree = etree.ElementTree(record.xml)\n",
    "        result = tree.xpath('/oai:record/oai:metadata/oai_dc:dc/dc:title/text()', namespaces=namespaces)\n",
    "        if (result):\n",
    "            count += 1\n",
    "            urn = tree.xpath('/oai:record/oai:metadata/oai_dc:dc/dc:identifier/text()', namespaces=namespaces)\n",
    "            print(str(count) + \": \" + result[0])\n",
    "            if urn:\n",
    "                print(\"https://nbn-resolving.org/\" + urn[0])"
   ]
  }
 ],
 "metadata": {
  "anaconda-cloud": {},
  "kernelspec": {
   "display_name": "Python 3 (ipykernel)",
   "language": "python",
   "name": "python3"
  },
  "language_info": {
   "codemirror_mode": {
    "name": "ipython",
    "version": 3
   },
   "file_extension": ".py",
   "mimetype": "text/x-python",
   "name": "python",
   "nbconvert_exporter": "python",
   "pygments_lexer": "ipython3",
   "version": "3.10.14"
  }
 },
 "nbformat": 4,
 "nbformat_minor": 4
}
