{
 "cells": [
  {
   "cell_type": "markdown",
   "metadata": {
    "nbpresent": {
     "id": "d0d72cd5-034d-4b94-a4e2-54f7753cb9f0"
    }
   },
   "source": [
    "# DNBLab Jupyter Notebook Tutorial"
   ]
  },
  {
   "cell_type": "markdown",
   "metadata": {
    "nbpresent": {
     "id": "558898c3-e162-4e46-92d5-b4c914325790"
    }
   },
   "source": [
    "## OAI(2) - Schnittstellenabfragen, Datenauslieferung und Ergebnisanzeige"
   ]
  },
  {
   "cell_type": "markdown",
   "metadata": {
    "nbpresent": {
     "id": "ee78241c-36e7-45e6-b015-0ef46f1e777d"
    }
   },
   "source": [
    "Diese DNBLab-Tutorials beschreiben Beispielabfragen über die OAI2- und OAI-Schnittstelle mit Python. In der Jupyter Notebook Umgebung kann der dokumentierte Code direkt ausgeführt und angepasst werden. Die Tutorials umfassen die exemplarische Anfrage und Ausgabe der Daten in den verschiedenen Metadatenformaten zur weiteren Verarbeitung.\n",
    "\n",
    "**Inhaltsverzeichnis:** \n",
    "\n",
    "\n",
    "* [Einrichten der Arbeitsumgebung](#API1)\n",
    "* [OAI2 - Schnittstelle ](#API2)\n",
    "* [OAI - Schnittstelle ](#API3)"
   ]
  },
  {
   "cell_type": "markdown",
   "metadata": {},
   "source": [
    "## Einrichten der Arbeitsumgebung <a class=\"anchor\" id=\"API1\"></a>"
   ]
  },
  {
   "cell_type": "markdown",
   "metadata": {},
   "source": [
    "Um die Arbeitsumgebung für die folgenden Schritte passend einzurichten, sollten zunächst die benötigten Python-Bibliotheken importiert werden. Für Anfragen über die OAI(2)-Schnittstellen wird sickle https://sickle.readthedocs.io/en/latest/tutorial.html und zur Verarbeitung der XML-Daten etree https://docs.python.org/3/library/xml.etree.elementtree.html verwendet. Mit dem OAIRecordReader https://polymatheia.readthedocs.io/en/latest/api/polymatheia_data_reader.html können Elemente aus dem METS/MODS Format ausgelesen werden."
   ]
  },
  {
   "cell_type": "code",
   "execution_count": null,
   "metadata": {},
   "outputs": [],
   "source": [
    "from sickle import Sickle\n",
    "from lxml import etree"
   ]
  },
  {
   "cell_type": "markdown",
   "metadata": {},
   "source": [
    "## OAI2- Schnittstelle <a class=\"anchor\" id=\"API2\"></a>"
   ]
  },
  {
   "cell_type": "markdown",
   "metadata": {},
   "source": [
    "Inhaltsverzeichnis:\n",
    "\n",
    "* [1. Grundlegende Funktionen](#Teil1)\n",
    "* [2. Ausgabe von Titeln eines Projekts ab bestimmtem Zeitraum](#Teil2)\n",
    "* [3. Zusätzliche Ausgabe der URNs/Links zu den Objekten](#Teil3)\n",
    "* [4. Ausgabe der gescannten Bilder](#Teil4)\n",
    "\n",
    "\n"
   ]
  },
  {
   "cell_type": "markdown",
   "metadata": {},
   "source": [
    "### 1. Grundlegende Funktionen <a class=\"anchor\" id=\"Teil1\"></a>"
   ]
  },
  {
   "cell_type": "markdown",
   "metadata": {},
   "source": [
    "Die Daten der frei verfügbaren digitalisierten Objekte werden über die OAI2-Schnittstelle standardmäßig als XML-Antwort in dem Format METS/MODS ausgeliefert. Zusätzlich steht die Auslieferung der Daten in Dublin Core (DC) zur Verfügung."
   ]
  },
  {
   "cell_type": "markdown",
   "metadata": {
    "nbpresent": {
     "id": "f08445b9-dca9-4851-a7f7-dad2ba78648a"
    }
   },
   "source": [
    "Die OAI2 Basis URL ist https://services.dnb.de/oai2/repository. "
   ]
  },
  {
   "cell_type": "code",
   "execution_count": null,
   "metadata": {
    "nbpresent": {
     "id": "d94fcab7-8aab-4f9f-b77f-2742528ed82e"
    }
   },
   "outputs": [],
   "source": [
    "sickle = Sickle('https://services.dnb.de/oai2/repository')"
   ]
  },
  {
   "cell_type": "markdown",
   "metadata": {},
   "source": [
    "Im nächsten Schritt werden alle verfügbaren Objektsammlungen (Projekte) mit der Funktion ListSets abgefragt und angezeigt."
   ]
  },
  {
   "cell_type": "code",
   "execution_count": null,
   "metadata": {
    "scrolled": true
   },
   "outputs": [],
   "source": [
    "oai_sets = sickle.ListSets()\n",
    "for oai_set in oai_sets:\n",
    "    print('setSpec value for selective harvesting: ' + oai_set.setSpec)\n",
    "    print('Name of the set (setName): ' + oai_set.setName + '\\n')"
   ]
  },
  {
   "cell_type": "markdown",
   "metadata": {
    "nbpresent": {
     "id": "ce85f36a-f323-4361-ad10-d86ebd8a0752"
    }
   },
   "source": [
    "Die bisher zur Verfügung stehenden freien Objektsammlungen entsprechen folgenden Projekten (oai_sets):\n",
    " \n",
    "| oai_set | Beschreibung | Anzeige im Katalog |\n",
    "| --- | --- | --- |\n",
    "| dnb:digitalisate-oa:projekt4 | 100.000 Seiten aus 30 Titeln, die ein breites Spektrum der Exilpresse 1933-1945 repräsentieren | <a href=\"https://portal.dnb.de/opac.htm?method=showPreviousResultSite&currentResultId=%22exilpresse%22+and+%22digital%22%26any%26dnb.dea.exp%26leipzig&currentPosition=10\">Sammlung im Katalog</a>\n",
    "| dnb:digitalisate-oa:projekt5 | 1.436 Hefte von 26 in NS-Deutschland erschienenen jüdischen Periodika | <a href=\"https://portal.dnb.de/opac.htm?method=moveDown&currentResultId=cod%3Dd005+and+location%3Donlinefree%26any&categoryId=dnb.dea.jup\">Sammlung im Katalog</a>\n",
    "| dnb:digitalisate-oa:projekt7 | Gemeinfreie Digitalisate der Exilsammlungen | <a href=\"https://portal.dnb.de/opac.htm?query=cod%3Dd007+location%3Donlinefree+&method=simpleSearch&cqlMode=true\">Sammlung im Katalog</a>\n",
    "| dnb:digitalisate-oa:projekt8 | Mehr als 1.200 Bücher, Broschüren, Plakate und andere Einblattdrucke zum Weltkrieg 1914-1918 | <a href=\"https://portal.dnb.de/opac.htm?query=cod%3Dd008+location%3Donlinefree+&method=simpleSearch&cqlMode=true\">Sammlung im Katalog</a>\n",
    "| dnb:digitalisate-oa:projekt26 | Mehr als 600 digitalisierte Quellen zur deutschen Revolution 1918/1919 und zur Nachkriegszeit | <a href=\"https://portal.dnb.de/opac.htm?query=cod%3Dd026+location%3Donlinefree+&method=simpleSearch&cqlMode=true\">Sammlung im Katalog</a>\n",
    "| dnb:digitalisate-oa:projekt28 | Digitalisierte Werke aus Architektur, Design, Malerei und Druckkunst von 1918 bis 1933 | <a href=\"https://portal.dnb.de/opac.htm?query=cod%3Dd028+location%3Donlinefree+&method=simpleSearch&cqlMode=true\">Sammlung im Katalog</a>\n",
    "| dnb:digitalisate-oa:projekt29 | Mehr als 2.400 Bildnisse von Buchhändlern, Buchdruckern und Verlegern des 17. bis 20. Jahrhunderts | <a href=\"https://portal.dnb.de/opac.htm?query=cod%3Dd029+location%3Donlinefree+&method=simpleSearch&cqlMode=true\">Sammlung im Katalog</a>\n",
    "\n",
    "Die verfügbaren Metadatenformate können mit der Funktion ListMetadataFormats abgefragt und mit print() ausgegeben werden. \n"
   ]
  },
  {
   "cell_type": "code",
   "execution_count": null,
   "metadata": {},
   "outputs": [],
   "source": [
    "oai_formats = sickle.ListMetadataFormats()\n",
    "for oai_format in oai_formats:\n",
    "    print(oai_format.metadataPrefix)"
   ]
  },
  {
   "cell_type": "markdown",
   "metadata": {},
   "source": [
    "### 2. Ausgabe von Titeln eines Projekts in bestimmten Zeitraum <a class=\"anchor\" id=\"Teil2\"></a>"
   ]
  },
  {
   "cell_type": "markdown",
   "metadata": {},
   "source": [
    "Um beispielhaft alle Datensätze von projekt28 ab dem 01.04.2019 aufzulisten, müssen für die Abfrage Metadatenformat, Zeitraum und Projekt angegeben werden.\n",
    "Die OAI Funktionen werden unter http://www.openarchives.org/OAI/2.0/ spezifiziert und auf der DNBLab Seite unter Funktionen beschrieben.\n",
    "Die Daten befinden sich in der XML-Antwort als Inhalt zwischen beschreibenden Elementen und werden durchnummeriert angezeigt. Für die gezielte Abfrage der gewünschten Informationen aus dem Metadatenformat DC können bei Bedarf die DC-Spezifikationen http://www.openarchives.org/OAI/2.0/oai_dc/ und http://purl.org/dc/elements/1.1/ herangezogen werden.\n"
   ]
  },
  {
   "cell_type": "code",
   "execution_count": null,
   "metadata": {
    "scrolled": true
   },
   "outputs": [],
   "source": [
    "namespaces = {\n",
    "    'oai': 'http://www.openarchives.org/OAI/2.0/',\n",
    "    'oai_dc': 'http://www.openarchives.org/OAI/2.0/oai_dc/',\n",
    "    'dc': 'http://purl.org/dc/elements/1.1/'\n",
    "}\n",
    "\n",
    "count = 0\n",
    "\n",
    "for record in sickle.ListRecords(**{'metadataPrefix': 'oai_dc','from': '2019-04-30', 'set': 'dnb:digitalisate-oa:projekt28'}):\n",
    "    if 'ger' in record.raw:\n",
    "        tree = etree.ElementTree(record.xml)\n",
    "        result = tree.xpath('/oai:record/oai:metadata/oai_dc:dc/dc:title/text()', namespaces=namespaces)\n",
    "        if result:\n",
    "            count += 1\n",
    "            author = tree.xpath('/oai:record/oai:metadata/oai_dc:dc/dc:creator/text()', namespaces=namespaces)\n",
    "            print(f\"{count}: {result[0]}\")\n",
    "            if author:\n",
    "                print(author[0])\n",
    "            "
   ]
  },
  {
   "cell_type": "markdown",
   "metadata": {
    "collapsed": true,
    "jupyter": {
     "outputs_hidden": true
    }
   },
   "source": [
    "### 3. Zusätzliche Ausgabe der Links zu den Objekten <a class=\"anchor\" id=\"Teil3\"></a>"
   ]
  },
  {
   "cell_type": "markdown",
   "metadata": {},
   "source": [
    "Damit zusätzlich zu den Titeln die Links zu den Objekten ausgegeben werden, wird der URN entsprechend des dc-Schemas /oai:record/oai:metadata/oai_dc:dc/dc:identifier/text() angesprochen und zusammen mit dem Titel angezeigt. Die Ausgabe der Ergebnisse wird in diesem Beispiel über max_results auf die ersten 10 Treffer limitiert."
   ]
  },
  {
   "cell_type": "code",
   "execution_count": null,
   "metadata": {},
   "outputs": [],
   "source": [
    "namespaces = {\n",
    "    'oai': 'http://www.openarchives.org/OAI/2.0/',\n",
    "    'oai_dc': 'http://www.openarchives.org/OAI/2.0/oai_dc/',\n",
    "    'dc': 'http://purl.org/dc/elements/1.1/'\n",
    "}\n",
    "\n",
    "count = 0\n",
    "max_results = 10\n",
    "\n",
    "for record in sickle.ListRecords(**{'metadataPrefix': 'oai_dc', 'from': '2019-04-30', 'set': 'dnb:digitalisate-oa:projekt28'}):\n",
    "    if count >= max_results:\n",
    "        break\n",
    "    \n",
    "    if ('ger' in record.raw):\n",
    "        tree = etree.ElementTree(record.xml)\n",
    "        result = tree.xpath('/oai:record/oai:metadata/oai_dc:dc/dc:title/text()', namespaces=namespaces)\n",
    "        if (result):\n",
    "            count += 1\n",
    "            urn = tree.xpath('/oai:record/oai:metadata/oai_dc:dc/dc:identifier/text()', namespaces=namespaces)\n",
    "            print(f\"{count}: {result[0]}\")\n",
    "            if urn:\n",
    "                print(f\"https://nbn-resolving.org/{urn[0]}\")\n",
    "\n",
    "    if count >= max_results:\n",
    "        break\n"
   ]
  },
  {
   "cell_type": "markdown",
   "metadata": {},
   "source": [
    "### 4. Ausgabe der gescannten Bilder <a class=\"anchor\" id=\"Teil4\"></a>"
   ]
  },
  {
   "cell_type": "markdown",
   "metadata": {},
   "source": [
    "Das Format METS bildet neben den bibliographischen Daten im Format MODS die Struktur der digitalen Objekte bzw. die Reihenfolge der gescannten Bilder ab. Für die gezielte Abfrage der gewünschten Informationen aus dem Metadatenformat METS können bei Bedarf die METS-Spezifikationen http://www.loc.gov/METS/ und https://www.loc.gov/standards/mets/mets.xsd herangezogen werden. Die Links der einzelnen Bilder (Thumbnails und Defaultbilder) können über <xsd:element name=\"fileGrp\"> angesprochen werden. \n",
    "\n",
    "#### 4.1 Ausgabe der Cover-URLs \n",
    "In diesem Beispiel wird jeweils das erste gescannte Bild der ersten 10 Treffer (max_records=10) zur weiteren Verarbeitung ausgegeben werden."
   ]
  },
  {
   "cell_type": "code",
   "execution_count": null,
   "metadata": {},
   "outputs": [],
   "source": [
    "import xml.etree.ElementTree as ET\n",
    "import requests\n",
    "\n",
    "# Funktion zum Abrufen der OAI2-Daten\n",
    "def fetch_oai_records(url, max_records=10, metadata_prefix='mets', set_spec='dnb:digitalisate-oa:projekt28'):\n",
    "    params = {\n",
    "        'verb': 'ListRecords',\n",
    "        'metadataPrefix': metadata_prefix,\n",
    "        'set': set_spec,\n",
    "        'resumptionToken': None\n",
    "    }\n",
    "    records = []\n",
    "    \n",
    "    while len(records) < max_records:\n",
    "        response = requests.get(url, params=params)\n",
    "        response.raise_for_status()  # Überprüfen, ob die Anfrage erfolgreich war\n",
    "        xml_data = response.content\n",
    "        records.append(xml_data)\n",
    "\n",
    "        # Überprüfen, ob es einen Resumption Token gibt\n",
    "        root = ET.fromstring(xml_data)\n",
    "        resumption_token = root.find('.//{http://www.openarchives.org/OAI/2.0/}resumptionToken')\n",
    "        \n",
    "        if resumption_token is not None:\n",
    "            params['resumptionToken'] = resumption_token.text\n",
    "        else:\n",
    "            break\n",
    "\n",
    "    return records[:max_records]\n",
    "\n",
    "# Hauptfunktion\n",
    "def main():\n",
    "    url = 'http://services.dnb.de/oai2/repository'\n",
    "    xml_records = fetch_oai_records(url)\n",
    "\n",
    "    # Namespace für METS definieren\n",
    "    ns_mets = {'mets': 'http://www.loc.gov/METS/'}\n",
    "    ns_oai = {'oai': 'http://www.openarchives.org/OAI/2.0/'}\n",
    "\n",
    "    count = 0\n",
    "    # Durch die Datensätze iterieren\n",
    "    for xml_data in xml_records:\n",
    "        root = ET.fromstring(xml_data)\n",
    "        \n",
    "        for record in root.findall('.//oai:record', ns_oai):\n",
    "            if count >= 10:\n",
    "                return\n",
    "            mets_file_sec = record.find('.//mets:fileSec', ns_mets)\n",
    "            if mets_file_sec is not None:\n",
    "                mets_file_grp = mets_file_sec.find('.//mets:fileGrp', ns_mets)\n",
    "                if mets_file_grp is not None:\n",
    "                    if isinstance(mets_file_grp, list):\n",
    "                        # Wenn es eine Liste ist, den ersten Eintrag ausgeben\n",
    "                        mets_file = mets_file_grp[0].find('.//mets:file', ns_mets)\n",
    "                        if mets_file is not None:\n",
    "                            flocat = mets_file.find('.//mets:FLocat', ns_mets)\n",
    "                            if flocat is not None:\n",
    "                                href = flocat.attrib.get('{http://www.w3.org/1999/xlink}href')\n",
    "                                if href:\n",
    "                                    print(href)\n",
    "                                    count += 1\n",
    "                    else:\n",
    "                        # Ansonsten direkt ausgeben\n",
    "                        mets_file = mets_file_grp.find('.//mets:file', ns_mets)\n",
    "                        if mets_file is not None:\n",
    "                            flocat = mets_file.find('.//mets:FLocat', ns_mets)\n",
    "                            if flocat is not None:\n",
    "                                href = flocat.attrib.get('{http://www.w3.org/1999/xlink}href')\n",
    "                                if href:\n",
    "                                    print(href)\n",
    "                                    count += 1\n",
    "            if count >= 10:\n",
    "                return\n",
    "\n",
    "if __name__ == \"__main__\":\n",
    "    main()\n"
   ]
  },
  {
   "cell_type": "markdown",
   "metadata": {},
   "source": [
    "#### 4.2. Ausgabe der Bild-URLS des ersten Dazensatzes\n",
    "In diesem Beispiel werden alle Bild-URLs des ersten Datensatzes ausgegeben."
   ]
  },
  {
   "cell_type": "code",
   "execution_count": null,
   "metadata": {
    "scrolled": true
   },
   "outputs": [],
   "source": [
    "# Funktion zum Abrufen der OAI2-Daten\n",
    "def fetch_oai_records(url, metadata_prefix='mets', set_spec='dnb:digitalisate-oa:projekt28'):\n",
    "    params = {\n",
    "        'verb': 'ListRecords',\n",
    "        'metadataPrefix': metadata_prefix,\n",
    "        'set': set_spec\n",
    "    }\n",
    "    \n",
    "    response = requests.get(url, params=params)\n",
    "    response.raise_for_status()  # Überprüfen, ob die Anfrage erfolgreich war\n",
    "    return response.content\n",
    "\n",
    "# Hauptfunktion\n",
    "def main():\n",
    "    url = 'http://services.dnb.de/oai2/repository'\n",
    "    xml_data = fetch_oai_records(url)\n",
    "\n",
    "    # Namespace für METS und OAI definieren\n",
    "    ns_mets = {'mets': 'http://www.loc.gov/METS/'}\n",
    "    ns_oai = {'oai': 'http://www.openarchives.org/OAI/2.0/'}\n",
    "\n",
    "    root = ET.fromstring(xml_data)\n",
    "    \n",
    "    # Den ersten Record finden\n",
    "    first_record = root.find('.//oai:record', ns_oai)\n",
    "\n",
    "    #    \n",
    "    if first_record is not None:\n",
    "        mets_file_sec = first_record.find('.//mets:fileSec', ns_mets)\n",
    "        if mets_file_sec is not None:\n",
    "            mets_file_grp = mets_file_sec.find('.//mets:fileGrp', ns_mets)\n",
    "            if mets_file_grp is not None:\n",
    "                for mets_file in mets_file_grp.findall('.//mets:file', ns_mets):\n",
    "                    flocat = mets_file.find('.//mets:FLocat', ns_mets)\n",
    "                    if flocat is not None:\n",
    "                        href = flocat.attrib.get('{http://www.w3.org/1999/xlink}href')\n",
    "                        if href:\n",
    "                            print(href)\n",
    "\n",
    "if __name__ == \"__main__\":\n",
    "    main()\n"
   ]
  },
  {
   "cell_type": "markdown",
   "metadata": {},
   "source": [
    "Inhaltsverzeichnis:\n",
    "\n",
    "* [1. Grundlegende Funktionen](#Teil5)\n",
    "* [2. Ausgabe von Titeln in bestimmten Zeitraum](#Teil6)\n",
    "* [3. Zusätzliche Ausgabe der Links zu den Objekten](#Teil7)"
   ]
  },
  {
   "cell_type": "markdown",
   "metadata": {},
   "source": [
    "## OAI- Schnittstelle <a class=\"anchor\" id=\"API3\"></a>"
   ]
  },
  {
   "cell_type": "markdown",
   "metadata": {},
   "source": [
    "### 1. Grundlegende Funktionen <a class=\"anchor\" id=\"Teil5\"></a>"
   ]
  },
  {
   "cell_type": "markdown",
   "metadata": {},
   "source": [
    "Die Daten werden über die OAI-Schnittstelle standardmäßig als XML-Antwort in verschiedenen Formaten ausgeliefert."
   ]
  },
  {
   "cell_type": "markdown",
   "metadata": {},
   "source": [
    "Die OAI Basis URL ist https://services.dnb.de/oai/repository."
   ]
  },
  {
   "cell_type": "code",
   "execution_count": null,
   "metadata": {},
   "outputs": [],
   "source": [
    "sickle = Sickle('https://services.dnb.de/oai/repository')"
   ]
  },
  {
   "cell_type": "markdown",
   "metadata": {},
   "source": [
    "Im nächsten Schritt werden alle verfügbaren Datensets (Kataloge) mit der Funktion ListSets abgefragt und angezeigt."
   ]
  },
  {
   "cell_type": "code",
   "execution_count": null,
   "metadata": {
    "scrolled": true
   },
   "outputs": [],
   "source": [
    "oai_sets = sickle.ListSets()\n",
    "for oai_set in oai_sets:\n",
    "    print('setSpec value for selective harvesting: ' + oai_set.setSpec)\n",
    "    print('Name of the set (setName): ' + oai_set.setName + '\\n')"
   ]
  },
  {
   "cell_type": "markdown",
   "metadata": {},
   "source": [
    "Hier eine Auswahl der über OAI verfügbaren Titeldaten (oai_sets):\n",
    "\n",
    "| Auswahl | Wert für Parameter \"set\" | \n",
    "| --- | --- | \n",
    "| Deutsche Nationalbibliografie ohne Gemeinsame Normdatei| dnb:wv (nur Datensätze nach abgeschlossener Bearbeitung) | \n",
    "| Deutsche Nationalbibliografie, Reihe A (Publikationen des Verlagsbuchhandels) | dnb:reiheA (inkl. Datensätze in Bearbeitung und abgeschlossene Bearbeitung) |\n",
    "| Deutsche Nationalbibliografie, Reihe B (Publikationen außerhalb des Verlagsbuchhandels) | dnb:reiheB (inkl. Datensätze in Bearbeitung und abgeschlossene Bearbeitung)\n",
    "dnb:wv:reiheB (nur Datensätze nach abgeschlossener Bearbeitung) |\n",
    "| Deutsche Nationalbibliografie, Reihe H (Hochschulschriften)| dnb:reiheH (inkl. Datensätze in Bearbeitung und abgeschlossene Bearbeitung)\n",
    "dnb:wv:reiheH (nur Datensätze nach abgeschlossener Bearbeitung) |\n",
    "| Deutsche Nationalbibliografie, Reihe O (Online-Publikationen) | dnb:reiheO (inkl. Datensätze in Bearbeitung und abgeschlossene Bearbeitung)\n",
    "dnb:wv:reiheO (nur Datensätze nach abgeschlossener Bearbeitung) |\n",
    "| Online-Publikationen ohne Einschränkungen | dnb-all:online |\n",
    "| Deutsche Nationalbibliografie: Digitalisierte Inhaltsverzeichnisse| dnb:toc |"
   ]
  },
  {
   "cell_type": "markdown",
   "metadata": {},
   "source": [
    "Die Daten können über die OAI-Schnittstelle als XML-Antwort in folgenden Formaten ausgeliefert werden: \n",
    "* MARC21-xml http://www.loc.gov/standards/marcxml/schema/MARC21slim.xsd\n",
    "* DNB Casual (oai_dc)\thttp://www.openarchives.org/OAI/2.0/oai_dc.xsd\n",
    "* RDF (RDFxml) http://www.w3.org/2000/07/rdf.xsd"
   ]
  },
  {
   "cell_type": "markdown",
   "metadata": {},
   "source": [
    "### 2. Ausgabe von Titeln eines Projekts in bestimmten Zeitraum <a class=\"anchor\" id=\"Teil6\"></a>\n",
    "Um beispielhaft Online-Dissertationen aus der Sachgruppe „Sozialwissenschaften, Soziologie, Anthropologie“ ab dem 30.04.2023 aufzulisten, müssen für die Abfrage Metadatenformat, Zeitraum und Projekt angegeben werden. Die OAI Funktionen werden unter http://www.openarchives.org/OAI/2.0/ spezifiziert und auf der DNBLab Seite unter Funktionen beschrieben. Die Daten befinden sich in der XML-Antwort als Inhalt zwischen beschreibenden Elementen und werden durchnummeriert angezeigt. Für die gezielte Abfrage der gewünschten Informationen aus dem Metadatenformat DC, können bei Bedarf die DC-Spezifikationen http://www.openarchives.org/OAI/2.0/oai_dc/ und http://purl.org/dc/elements/1.1/ herangezogen werden."
   ]
  },
  {
   "cell_type": "code",
   "execution_count": null,
   "metadata": {},
   "outputs": [],
   "source": [
    "namespaces = {\n",
    "    'oai': 'http://www.openarchives.org/OAI/2.0/',\n",
    "    'oai_dc': 'http://www.openarchives.org/OAI/2.0/oai_dc/',\n",
    "    'dc': 'http://purl.org/dc/elements/1.1/'\n",
    "}\n",
    "\n",
    "count=0\n",
    "\n",
    "for record in sickle.ListRecords(**{'metadataPrefix': 'oai_dc', 'from': '2023-04-30', 'set': 'dnb-all:online:dissertations:sg300'}):\n",
    "    \n",
    "    if ('ger' in record.raw):\n",
    "        tree = etree.ElementTree(record.xml)\n",
    "        result = tree.xpath('/oai:record/oai:metadata/oai_dc:dc/dc:title/text()', namespaces=namespaces)\n",
    "        if (result):\n",
    "            count += 1\n",
    "            author = tree.xpath('/oai:record/oai:metadata/oai_dc:dc/dc:creator/text()', namespaces=namespaces)\n",
    "            print(str(count) + \": \" + result[0])\n",
    "            if author:\n",
    "                print(author[0])"
   ]
  },
  {
   "cell_type": "markdown",
   "metadata": {},
   "source": [
    "### 3. Zusätzliche Ausgabe der Links zu den Objekten <a class=\"anchor\" id=\"Teil7\"></a>\n",
    "Damit zusätzlich zu den Titeln die Links zu den Objekten ausgegeben werden, wird der URN entsprechend des dc-Schemas /oai:record/oai:metadata/oai_dc:dc/dc:identifier/text() angesprochen und zusammen mit dem Titel angezeigt."
   ]
  },
  {
   "cell_type": "code",
   "execution_count": null,
   "metadata": {},
   "outputs": [],
   "source": [
    "namespaces = {\n",
    "    'oai': 'http://www.openarchives.org/OAI/2.0/',\n",
    "    'oai_dc': 'http://www.openarchives.org/OAI/2.0/oai_dc/',\n",
    "    'dc': 'http://purl.org/dc/elements/1.1/'\n",
    "}\n",
    "\n",
    "count=0\n",
    "\n",
    "for record in sickle.ListRecords(**{'metadataPrefix': 'oai_dc', 'from': '2024-04-30', 'set': 'dnb-all:online:dissertations:sg300'}):\n",
    "    \n",
    "    if ('ger' in record.raw):\n",
    "        tree = etree.ElementTree(record.xml)\n",
    "        result = tree.xpath('/oai:record/oai:metadata/oai_dc:dc/dc:title/text()', namespaces=namespaces)\n",
    "        if (result):\n",
    "            count += 1\n",
    "            urn = tree.xpath('/oai:record/oai:metadata/oai_dc:dc/dc:identifier/text()', namespaces=namespaces)\n",
    "            print(str(count) + \": \" + result[0])\n",
    "            if urn:\n",
    "                print(\"https://nbn-resolving.org/\" + urn[0])"
   ]
  }
 ],
 "metadata": {
  "anaconda-cloud": {},
  "kernelspec": {
   "display_name": "Python 3 (ipykernel)",
   "language": "python",
   "name": "python3"
  },
  "language_info": {
   "codemirror_mode": {
    "name": "ipython",
    "version": 3
   },
   "file_extension": ".py",
   "mimetype": "text/x-python",
   "name": "python",
   "nbconvert_exporter": "python",
   "pygments_lexer": "ipython3",
   "version": "3.10.14"
  }
 },
 "nbformat": 4,
 "nbformat_minor": 4
}
