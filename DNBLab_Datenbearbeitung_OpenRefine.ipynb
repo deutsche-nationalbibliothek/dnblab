{
 "cells": [
  {
   "cell_type": "markdown",
   "id": "a235c0fa",
   "metadata": {},
   "source": [
    "# DNBLab Tutorial: Daten bereinigen und zusammenführen mittels OpenRefine"
   ]
  },
  {
   "cell_type": "markdown",
   "id": "7efab486",
   "metadata": {},
   "source": [
    "## Part 1: Datenbezug mittels SRU-Schnittstelle"
   ]
  },
  {
   "cell_type": "markdown",
   "id": "a835ec16",
   "metadata": {},
   "source": [
    "Als Datenbasis dienen die Metadaten des Digitalisierungsprojektes \"100 Bände Klassik\". Es enthält namhafte klassische Werke u.a. von Theodor Fontane, J.W. von Goethe und Rainer Maria Rilke und eignet sich daher besonders für einen ersten Einstieg in die Datenanreicherung, da die AutorInnen bereits umfassende Einträge in der GND haben. "
   ]
  },
  {
   "cell_type": "markdown",
   "id": "7bd4b171",
   "metadata": {},
   "source": [
    "Die Daten werden mittels SRU-Schnittstelle bezogen und zur weiteren Verarbeitung in einer csv-Datei gespeichert. "
   ]
  },
  {
   "cell_type": "markdown",
   "id": "c3c1bf1f",
   "metadata": {},
   "source": [
    "## Einrichten der Arbeitsumgebung"
   ]
  },
  {
   "cell_type": "markdown",
   "id": "f3d66639",
   "metadata": {},
   "source": [
    "Um die Arbeitsumgebung für die folgenden Schritte passend einzurichten, sollten zunächst die benötigten Python-Bibliotheken importiert werden. Für Anfragen über die SRU-Schnittstelle wird `Requests` https://docs.python-requests.org/en/latest/ und zur Verarbeitung der XML-Daten `etree` https://docs.python.org/3/library/xml.etree.elementtree.html verwendet. Mit `Pandas` https://pandas.pydata.org/ können Elemente aus dem MARC21-Format ausgelesen werden."
   ]
  },
  {
   "cell_type": "code",
   "execution_count": 1,
   "id": "17e5d771",
   "metadata": {
    "tags": []
   },
   "outputs": [],
   "source": [
    "import requests\n",
    "from bs4 import BeautifulSoup \n",
    "import unicodedata\n",
    "from lxml import etree\n",
    "import pandas as pd\n",
    "import matplotlib.pyplot as plt"
   ]
  },
  {
   "cell_type": "markdown",
   "id": "681af64f",
   "metadata": {},
   "source": [
    "## SRU-Abfrage mit Ausgabe in MARC21-xml"
   ]
  },
  {
   "cell_type": "markdown",
   "id": "780d8207",
   "metadata": {},
   "source": [
    "Die Funktion `dnb_sru` nimmt den Paramter \"query\" der SRU-Abfrage entgegen und liefert alle Ergebnisse als eine Liste von Records aus. Bei mehr als 100 Records werden weitere Datensätze mit \"&startRecord=101\" abgerufen (mögliche Werte 1 bis 99.000). Weitere Informationen und Funktionen der SRU- Schnittstelle werden unter https://www.dnb.de/sru beschrieben."
   ]
  },
  {
   "cell_type": "code",
   "execution_count": 2,
   "id": "201fc688",
   "metadata": {
    "tags": []
   },
   "outputs": [],
   "source": [
    "def dnb_sru(query):\n",
    "    base_url = \"https://services.dnb.de/sru/dnb\"\n",
    "    params = {\n",
    "        'recordSchema': 'MARC21-xml',\n",
    "        'operation': 'searchRetrieve',\n",
    "        'version': '1.1',\n",
    "        'maximumRecords': '100',\n",
    "        'query': query\n",
    "    }\n",
    "\n",
    "    r = requests.get(base_url, params=params)\n",
    "    # Verwende den XML-Parser\n",
    "    xml = BeautifulSoup(r.content, features=\"xml\")\n",
    "    records = xml.find_all('record', {'type': 'Bibliographic'})\n",
    "\n",
    "    if len(records) < 100:\n",
    "        return records\n",
    "    else:\n",
    "        num_records_fetched = 100  # Anzahl der abgerufenen Datensätze\n",
    "        start_record = 101  # Startindex für die nächste Abfrage\n",
    "        while num_records_fetched == 100:\n",
    "            params.update({'startRecord': start_record})\n",
    "            r = requests.get(base_url, params=params)\n",
    "            # Verwende den XML-Parser \n",
    "            xml = BeautifulSoup(r.content, features=\"xml\")\n",
    "            new_records = xml.find_all('record', {'type': 'Bibliographic'})\n",
    "            records += new_records\n",
    "            start_record += 100\n",
    "            num_records_fetched = len(new_records)\n",
    "\n",
    "        return records"
   ]
  },
  {
   "cell_type": "markdown",
   "id": "47b0ba64",
   "metadata": {},
   "source": [
    "# Durchsuchen eines MARC-Feldes"
   ]
  },
  {
   "cell_type": "markdown",
   "id": "008c6382",
   "metadata": {},
   "source": [
    "Die Funktion `parse_records` nimmt als Parameter jeweils ein Record entgegen und sucht über xpath die gewünschte Informationen heraus und liefert diese als Dictionary zurück. Die Schlüssel-Werte-Paare können beliebig angepasst und erweitert werden. \n",
    "\n",
    "Tipp: Schauen Sie sich gern unsere Feldübersicht für MARC21 an. \n",
    "https://www.dnb.de/SharedDocs/Downloads/DE/Professionell/Services/efa2023HandoutInhalteInMarc.pdf?__blob=publicationFile&v=2 "
   ]
  },
  {
   "cell_type": "code",
   "execution_count": 3,
   "id": "e5a5d20a",
   "metadata": {
    "tags": []
   },
   "outputs": [],
   "source": [
    "def parse_record(record):\n",
    "    ns = {\"marc\": \"http://www.loc.gov/MARC21/slim\"}\n",
    "    xml = etree.fromstring(unicodedata.normalize(\"NFC\", str(record)))\n",
    "\n",
    "    def safe_xpath(xpath_expr):\n",
    "        elements = xml.xpath(xpath_expr, namespaces=ns)\n",
    "        return elements[0].text if elements else \"unknown\"\n",
    "\n",
    "    # IDN\n",
    "    idn = safe_xpath(\"marc:controlfield[@tag = '001']\")\n",
    "\n",
    "    # Titel\n",
    "    titel = safe_xpath(\"marc:datafield[@tag = '245']/marc:subfield[@code = 'a']\")\n",
    "\n",
    "    # Erscheinungsjahr\n",
    "    jahr = safe_xpath(\"marc:datafield[@tag = '264']/marc:subfield[@code = 'c']\")\n",
    "\n",
    "    # Verfasserangabe\n",
    "    verfasser = safe_xpath(\"marc:datafield[@tag = '100']/marc:subfield[@code = 'a']\")\n",
    "\n",
    "    # GND-ID\n",
    "    gnd_id = safe_xpath(\"marc:datafield[@tag = '100']/marc:subfield[@code = '0']\")\n",
    "\n",
    "    # URN\n",
    "    urn = safe_xpath(\"marc:datafield[@tag = '856']/marc:subfield[@code = 'u']\")\n",
    "\n",
    "    # Verlag\n",
    "    verlag = safe_xpath(\"marc:datafield[@tag = '264']/marc:subfield[@code = 'b']\")\n",
    "\n",
    "    # Verlagsort\n",
    "    verlagsort = safe_xpath(\"marc:datafield[@tag = '264']/marc:subfield[@code = 'a']\")\n",
    "\n",
    "    meta_dict = {\n",
    "        \"idn\": idn,\n",
    "        \"titel\": titel,\n",
    "        \"jahr\": jahr,\n",
    "        \"verfasser\": verfasser,\n",
    "        \"gnd_id\": gnd_id,\n",
    "        \"urn\": urn,\n",
    "        \"verlag\": verlag,\n",
    "        \"verlagsort\": verlagsort\n",
    "    }\n",
    "\n",
    "    return meta_dict\n"
   ]
  },
  {
   "cell_type": "markdown",
   "id": "a74578c3",
   "metadata": {},
   "source": [
    "Das Digitalisierungsprojekt \"100 Bände Klassik\" kann mt dem Projektcode \"d002\" als Datenset abgefragt und die Ergebnismenge ausgegeben werden."
   ]
  },
  {
   "cell_type": "code",
   "execution_count": 4,
   "id": "5bcba3f8",
   "metadata": {
    "tags": []
   },
   "outputs": [
    {
     "name": "stdout",
     "output_type": "stream",
     "text": [
      "108 Ergebnisse\n"
     ]
    }
   ],
   "source": [
    "records = dnb_sru('cod=d002')\n",
    "print(len(records), 'Ergebnisse')"
   ]
  },
  {
   "cell_type": "markdown",
   "id": "da801857",
   "metadata": {},
   "source": [
    "## CSV Download"
   ]
  },
  {
   "cell_type": "markdown",
   "id": "ed6c3f37",
   "metadata": {},
   "source": [
    "Für die Datenbereinigung und Datenanreicherung wird die Arbeit im csv-Format empfohlen. Hierfür werden die Suchergebnisse im Folgenden in einem Dataframe (Tabelle) ausgegeben und anschließend für die weitere Bearbeitung heruntergeladen. "
   ]
  },
  {
   "cell_type": "code",
   "execution_count": 5,
   "id": "684a40c6",
   "metadata": {
    "tags": []
   },
   "outputs": [
    {
     "data": {
      "text/html": [
       "<div>\n",
       "<style scoped>\n",
       "    .dataframe tbody tr th:only-of-type {\n",
       "        vertical-align: middle;\n",
       "    }\n",
       "\n",
       "    .dataframe tbody tr th {\n",
       "        vertical-align: top;\n",
       "    }\n",
       "\n",
       "    .dataframe thead th {\n",
       "        text-align: right;\n",
       "    }\n",
       "</style>\n",
       "<table border=\"1\" class=\"dataframe\">\n",
       "  <thead>\n",
       "    <tr style=\"text-align: right;\">\n",
       "      <th></th>\n",
       "      <th>idn</th>\n",
       "      <th>titel</th>\n",
       "      <th>jahr</th>\n",
       "      <th>verfasser</th>\n",
       "      <th>gnd_id</th>\n",
       "      <th>urn</th>\n",
       "      <th>verlag</th>\n",
       "      <th>verlagsort</th>\n",
       "    </tr>\n",
       "  </thead>\n",
       "  <tbody>\n",
       "    <tr>\n",
       "      <th>0</th>\n",
       "      <td>1003104487</td>\n",
       "      <td>Egmont</td>\n",
       "      <td>[1946]</td>\n",
       "      <td>Goethe, Johann Wolfgang von</td>\n",
       "      <td>(DE-588)118540238</td>\n",
       "      <td>https://nbn-resolving.org/urn:nbn:de:101:2-201...</td>\n",
       "      <td>Schöningh</td>\n",
       "      <td>Paderborn</td>\n",
       "    </tr>\n",
       "    <tr>\n",
       "      <th>1</th>\n",
       "      <td>999490184</td>\n",
       "      <td>Das Amulett</td>\n",
       "      <td>[1939]</td>\n",
       "      <td>Meyer, Conrad Ferdinand</td>\n",
       "      <td>(DE-588)118581775</td>\n",
       "      <td>https://nbn-resolving.org/urn:nbn:de:101:2-201...</td>\n",
       "      <td>Verl. Dt. Volksbücher</td>\n",
       "      <td>Wiesbaden</td>\n",
       "    </tr>\n",
       "    <tr>\n",
       "      <th>2</th>\n",
       "      <td>1000047377</td>\n",
       "      <td>Der Struwwelpeter oder lustige Geschichten u...</td>\n",
       "      <td>[1939]</td>\n",
       "      <td>Hoffmann, Heinrich</td>\n",
       "      <td>(DE-588)11855249X</td>\n",
       "      <td>https://nbn-resolving.org/urn:nbn:de:101:2-201...</td>\n",
       "      <td>[Loewe]</td>\n",
       "      <td>[Stuttgart]</td>\n",
       "    </tr>\n",
       "    <tr>\n",
       "      <th>3</th>\n",
       "      <td>1000290328</td>\n",
       "      <td>Der Zweikampf</td>\n",
       "      <td>1939</td>\n",
       "      <td>Kleist, Heinrich von</td>\n",
       "      <td>(DE-588)118563076</td>\n",
       "      <td>https://nbn-resolving.org/urn:nbn:de:101:2-201...</td>\n",
       "      <td>Kohlhammer</td>\n",
       "      <td>Stuttgart</td>\n",
       "    </tr>\n",
       "    <tr>\n",
       "      <th>4</th>\n",
       "      <td>99962461X</td>\n",
       "      <td>Heidi</td>\n",
       "      <td>1939</td>\n",
       "      <td>Spyri, Johanna</td>\n",
       "      <td>(DE-588)118616455</td>\n",
       "      <td>https://nbn-resolving.org/urn:nbn:de:101:2-201...</td>\n",
       "      <td>Rascher</td>\n",
       "      <td>Zürich</td>\n",
       "    </tr>\n",
       "    <tr>\n",
       "      <th>...</th>\n",
       "      <td>...</td>\n",
       "      <td>...</td>\n",
       "      <td>...</td>\n",
       "      <td>...</td>\n",
       "      <td>...</td>\n",
       "      <td>...</td>\n",
       "      <td>...</td>\n",
       "      <td>...</td>\n",
       "    </tr>\n",
       "    <tr>\n",
       "      <th>103</th>\n",
       "      <td>1000746348</td>\n",
       "      <td>Leyer und Schwerdt</td>\n",
       "      <td>1913</td>\n",
       "      <td>Körner, Theodor</td>\n",
       "      <td>(DE-588)118713507</td>\n",
       "      <td>https://nbn-resolving.org/urn:nbn:de:101:2-201...</td>\n",
       "      <td>Morawe &amp; Scheffelt</td>\n",
       "      <td>Berlin</td>\n",
       "    </tr>\n",
       "    <tr>\n",
       "      <th>104</th>\n",
       "      <td>100003917X</td>\n",
       "      <td>Schillers Wallenstein</td>\n",
       "      <td>[1913]</td>\n",
       "      <td>Schiller, Friedrich</td>\n",
       "      <td>(DE-588)118607626</td>\n",
       "      <td>https://nbn-resolving.org/urn:nbn:de:101:2-201...</td>\n",
       "      <td>Dt. Bibliothek</td>\n",
       "      <td>Berlin</td>\n",
       "    </tr>\n",
       "    <tr>\n",
       "      <th>105</th>\n",
       "      <td>1000062104</td>\n",
       "      <td>Vor dem Sturm</td>\n",
       "      <td>1913</td>\n",
       "      <td>Fontane, Theodor</td>\n",
       "      <td>(DE-588)118534262</td>\n",
       "      <td>https://nbn-resolving.org/urn:nbn:de:101:2-201...</td>\n",
       "      <td>Cotta</td>\n",
       "      <td>Stuttgart</td>\n",
       "    </tr>\n",
       "    <tr>\n",
       "      <th>106</th>\n",
       "      <td>1000775615</td>\n",
       "      <td>Der Tod des Tizian</td>\n",
       "      <td>[1912]</td>\n",
       "      <td>Hofmannsthal, Hugo von</td>\n",
       "      <td>(DE-588)118552759</td>\n",
       "      <td>https://nbn-resolving.org/urn:nbn:de:101:2-201...</td>\n",
       "      <td>Insel-Verl.</td>\n",
       "      <td>Leipzig</td>\n",
       "    </tr>\n",
       "    <tr>\n",
       "      <th>107</th>\n",
       "      <td>1000778517</td>\n",
       "      <td>Die drei gerechten Kammacher</td>\n",
       "      <td>[1903]</td>\n",
       "      <td>Keller, Gottfried</td>\n",
       "      <td>(DE-588)11856109X</td>\n",
       "      <td>https://nbn-resolving.org/urn:nbn:de:101:2-201...</td>\n",
       "      <td>Cotta</td>\n",
       "      <td>Stuttgart</td>\n",
       "    </tr>\n",
       "  </tbody>\n",
       "</table>\n",
       "<p>108 rows × 8 columns</p>\n",
       "</div>"
      ],
      "text/plain": [
       "            idn                                              titel    jahr  \\\n",
       "0    1003104487                                             Egmont  [1946]   \n",
       "1     999490184                                      Das Amulett  [1939]   \n",
       "2    1000047377  Der Struwwelpeter oder lustige Geschichten u...  [1939]   \n",
       "3    1000290328                                    Der Zweikampf    1939   \n",
       "4     99962461X                                              Heidi    1939   \n",
       "..          ...                                                ...     ...   \n",
       "103  1000746348                                 Leyer und Schwerdt    1913   \n",
       "104  100003917X                              Schillers Wallenstein  [1913]   \n",
       "105  1000062104                                      Vor dem Sturm    1913   \n",
       "106  1000775615                               Der Tod des Tizian  [1912]   \n",
       "107  1000778517                     Die drei gerechten Kammacher  [1903]   \n",
       "\n",
       "                         verfasser             gnd_id  \\\n",
       "0    Goethe, Johann Wolfgang von  (DE-588)118540238   \n",
       "1          Meyer, Conrad Ferdinand  (DE-588)118581775   \n",
       "2               Hoffmann, Heinrich  (DE-588)11855249X   \n",
       "3           Kleist, Heinrich von  (DE-588)118563076   \n",
       "4                   Spyri, Johanna  (DE-588)118616455   \n",
       "..                             ...                ...   \n",
       "103                Körner, Theodor  (DE-588)118713507   \n",
       "104            Schiller, Friedrich  (DE-588)118607626   \n",
       "105               Fontane, Theodor  (DE-588)118534262   \n",
       "106       Hofmannsthal, Hugo von  (DE-588)118552759   \n",
       "107              Keller, Gottfried  (DE-588)11856109X   \n",
       "\n",
       "                                                   urn                 verlag  \\\n",
       "0    https://nbn-resolving.org/urn:nbn:de:101:2-201...              Schöningh   \n",
       "1    https://nbn-resolving.org/urn:nbn:de:101:2-201...  Verl. Dt. Volksbücher   \n",
       "2    https://nbn-resolving.org/urn:nbn:de:101:2-201...                [Loewe]   \n",
       "3    https://nbn-resolving.org/urn:nbn:de:101:2-201...             Kohlhammer   \n",
       "4    https://nbn-resolving.org/urn:nbn:de:101:2-201...                Rascher   \n",
       "..                                                 ...                    ...   \n",
       "103  https://nbn-resolving.org/urn:nbn:de:101:2-201...     Morawe & Scheffelt   \n",
       "104  https://nbn-resolving.org/urn:nbn:de:101:2-201...         Dt. Bibliothek   \n",
       "105  https://nbn-resolving.org/urn:nbn:de:101:2-201...                  Cotta   \n",
       "106  https://nbn-resolving.org/urn:nbn:de:101:2-201...            Insel-Verl.   \n",
       "107  https://nbn-resolving.org/urn:nbn:de:101:2-201...                  Cotta   \n",
       "\n",
       "      verlagsort  \n",
       "0      Paderborn  \n",
       "1      Wiesbaden  \n",
       "2    [Stuttgart]  \n",
       "3      Stuttgart  \n",
       "4         Zürich  \n",
       "..           ...  \n",
       "103       Berlin  \n",
       "104       Berlin  \n",
       "105    Stuttgart  \n",
       "106      Leipzig  \n",
       "107    Stuttgart  \n",
       "\n",
       "[108 rows x 8 columns]"
      ]
     },
     "execution_count": 5,
     "metadata": {},
     "output_type": "execute_result"
    }
   ],
   "source": [
    "output = [parse_record(record) for record in records]\n",
    "df = pd.DataFrame(output)\n",
    "df"
   ]
  },
  {
   "cell_type": "code",
   "execution_count": 6,
   "id": "acd0d64e",
   "metadata": {
    "tags": []
   },
   "outputs": [],
   "source": [
    "# DataFrame als CSV speichern\n",
    "df.to_csv('Klassik.csv', index=False)"
   ]
  },
  {
   "cell_type": "markdown",
   "id": "44b6dc4d",
   "metadata": {},
   "source": [
    "# Part 2: Datenbereinigung "
   ]
  },
  {
   "cell_type": "markdown",
   "id": "b3e2a943-801d-4db9-9a03-de2f184ad55c",
   "metadata": {},
   "source": [
    "In unserer Ausgabe fällt auf, dass viele Titel mit eckigen Klammern ausgegeben werden oder zusätzliche Informationen enthalten, die nicht für die Analysen relevant sind. Grundlage für jede Datenanalyse sind normierte und bereinigte Ausgangsdaten. Diese können wir mittels OpenRefine bereinigen. OpenRefine ist ein Tool zur Datenbereinigung und Datenaufbereitung. Es kann mit sehr großen Datenmengen und mit diversen Formaten umgehen, zb.: .csv, .xml, .json etc. und eignet sich somit gut für die Analyse unserer Metadaten. "
   ]
  },
  {
   "cell_type": "markdown",
   "id": "b7aea664-bc42-4891-829b-47bd1f746e28",
   "metadata": {},
   "source": [
    "Für die Datenbereinigung wird die Open-Source-Software OpenRefine eingesetzt. Eine lokale Installation (https://openrefine.org/download) wird empfohlen. Alternativ kann OpenRefine in der Webumgebung Binder gestartet werden: https://mybinder.org/v2/gh/innovationOUtside/nb_serverproxy_openrefine/main?urlpath=openrefine \n",
    "\n",
    "Bitte beachten Sie, dass die Ladezeiten der Online-Instanz stark variieren können."
   ]
  },
  {
   "cell_type": "markdown",
   "id": "c9cea7dd",
   "metadata": {},
   "source": [
    "![Transform](https://raw.githubusercontent.com/deutsche-nationalbibliothek/dnblab/main/images/1_Datenimport.png)"
   ]
  },
  {
   "cell_type": "markdown",
   "id": "3a872a45",
   "metadata": {},
   "source": [
    "Folgende Felder sollen für eine exemplarische Analyse bereinigt werden. Dafür nutzen wir GREL-Funktionen, um die Werte zu extrahieren. GREL-Funktionen arbeiten mit regulären Ausdrücken. Die genauen Bezeichnungen kann man im Handbuch von OpenRefine nachlesen. \"GREL\" steht für \"General Refine Expression Language\" und bezieht sich auf die Ausdruckssprache, die in OpenRefine verwendet wird. Siehe: https://openrefine.org/docs/manual/grelfunctions "
   ]
  },
  {
   "cell_type": "markdown",
   "id": "4ac8e27a",
   "metadata": {},
   "source": [
    "**Erscheinungsjahr** \n",
    "- `value.find(/(\\b\\d{4}\\b)/)[0]`\n",
    "- Diese GREL-Funktion extrahiert das erste vierstellige Jahr, das in einer Zeichenkette gefunden wird. Dabei wird nach einer vierstelligen Zahl (z.B. \"2024\") gesucht und diese als Ergebnis zurückgegeben. \n",
    "- Hierfür wählen wir im Drop-Down Menü der Spalte den Befehl EDIT CELLS - Transform. Nun können wir unsere GREL-Expression eingeben. \n",
    "\n",
    "\n",
    "\n",
    "\n",
    "\n"
   ]
  },
  {
   "cell_type": "markdown",
   "id": "4162e165",
   "metadata": {},
   "source": [
    "![Transform](https://raw.githubusercontent.com/deutsche-nationalbibliothek/dnblab/main/images/2_Edit_Cells.JPG)"
   ]
  },
  {
   "cell_type": "markdown",
   "id": "8a391731",
   "metadata": {},
   "source": [
    "![Transform](https://raw.githubusercontent.com/deutsche-nationalbibliothek/dnblab/main/images/3_Year.png)\n"
   ]
  },
  {
   "cell_type": "markdown",
   "id": "d52c777d",
   "metadata": {},
   "source": [
    "**GND ID** \n",
    "- `value.replace(/\\(DE-588\\)/, \"\").trim()`\n",
    "- Diese GREL-Funktion entfernt den Text \"(DE-588)\" aus einer Zeichenkette und entfernt anschließend überflüssige Leerzeichen am Anfang oder Ende der Zeichenkette. Das Ergebnis ist die bereinigte GND-ID ohne den Präfix \"(DE-588)\"."
   ]
  },
  {
   "cell_type": "markdown",
   "id": "c92b2909",
   "metadata": {},
   "source": [
    "![Transform](https://raw.githubusercontent.com/deutsche-nationalbibliothek/dnblab/main/images/4_GND.JPG)"
   ]
  },
  {
   "cell_type": "markdown",
   "id": "c711dfef",
   "metadata": {},
   "source": [
    "![Transform](https://raw.githubusercontent.com/deutsche-nationalbibliothek/dnblab/main/images/5_GNDT.JPG)\n"
   ]
  },
  {
   "cell_type": "markdown",
   "id": "73f285c4",
   "metadata": {},
   "source": [
    "**Verlagsort**\n",
    "\n",
    "- Um die Verlagsorte zu bereinigen, nutzen wir eine andere Möglichkeit der Bearbeitung von Open Refine. Zuerst werden wir die Verlagsorte vorselektieren. Dieser Weg eignet sich besonders bei kleinen Datenmengen. \n",
    "- Wir wählen im Drop-Down-Menü das Feld `Facetten - Custom Facet`"
   ]
  },
  {
   "cell_type": "markdown",
   "id": "e2031344",
   "metadata": {},
   "source": [
    "![Transform](https://raw.githubusercontent.com/deutsche-nationalbibliothek/dnblab/main/images/6_Verlag.JPG)\n"
   ]
  },
  {
   "cell_type": "markdown",
   "id": "0e809c21",
   "metadata": {},
   "source": [
    "- In einem Popup sehen wir nun eine Liste aller Verlagsorte. Diese bestätigen wir mit OK. "
   ]
  },
  {
   "cell_type": "markdown",
   "id": "98798dff",
   "metadata": {},
   "source": [
    "![Transform](https://raw.githubusercontent.com/deutsche-nationalbibliothek/dnblab/main/images/7_customfacet.JPG)\n"
   ]
  },
  {
   "cell_type": "markdown",
   "id": "4897632a",
   "metadata": {},
   "source": [
    "- Daraufhin erscheint am linken Bildrand eine Liste. Wir suchen nun nach abweichenden Verlagsnamen und fügen sie mittels `include` zur Liste hinzu.\n"
   ]
  },
  {
   "cell_type": "markdown",
   "id": "8d5d8f23",
   "metadata": {},
   "source": [
    "![Transform](https://raw.githubusercontent.com/deutsche-nationalbibliothek/dnblab/main/images/8_Include.JPG)\n"
   ]
  },
  {
   "cell_type": "markdown",
   "id": "9069daaa",
   "metadata": {},
   "source": [
    "- Die dadurch gebildete Facette sollte nun angezeigt werden.\n",
    "- Mittels Mouse-Over und `Edit` gelangen wir zu dem einzelnen Value. \n"
   ]
  },
  {
   "cell_type": "markdown",
   "id": "8f1e483a",
   "metadata": {},
   "source": [
    "![Transform](https://raw.githubusercontent.com/deutsche-nationalbibliothek/dnblab/main/images/9_edit.JPG)\n"
   ]
  },
  {
   "cell_type": "markdown",
   "id": "704c7d29",
   "metadata": {},
   "source": [
    "- Dieser wird nun in den bereinigten Verlagsort, zb.: Berlin umbenannt und mittels `Apply to all identical cells` wird jeder gleichnamige Value dieser Orte zu Berlin normiert. Diese Variante eignet sich bei überschaubaren Datenmengen.\n",
    "- Zur Entfernung der Filter einfach `reset` in der rechten Spalte wählen "
   ]
  },
  {
   "cell_type": "markdown",
   "id": "fc7c3a9f",
   "metadata": {},
   "source": [
    "![Transform](https://raw.githubusercontent.com/deutsche-nationalbibliothek/dnblab/main/images/10_apply.JPG)\n"
   ]
  },
  {
   "cell_type": "markdown",
   "id": "ecbb2f85",
   "metadata": {},
   "source": [
    "# Part 3: Datenanreicherung mittels Open Refine"
   ]
  },
  {
   "cell_type": "markdown",
   "id": "7254a4e1",
   "metadata": {},
   "source": [
    "In der Gemeinsamen Normdatei (GND) finden wir viele Informationen zu Personen, Werken und Orten. Dort sind unter anderem Informationen zu Berufen, Beziehungen, Sterbe- und Geburtsdaten sowie Wirkungsdaten und Orte verzeichnet. Für unsere exemplarische Analyse reichern wir die Spalte `verfasser`mit Informationen aus der GND an. "
   ]
  },
  {
   "cell_type": "markdown",
   "id": "0e611c44",
   "metadata": {},
   "source": [
    "Folgende Felder sollen angereichert werden: \n",
    "- Geburtsdatum\n",
    "- Geburtsort\n",
    "- Liste der Berufe der Person\n",
    "\n",
    "Weitere Felder. Informieren Sie sich dafür im GND Explorer und fügen Sie ein Feld Ihrer Wahl hinzu:  https://explore.gnd.network/"
   ]
  },
  {
   "cell_type": "markdown",
   "id": "322abb43",
   "metadata": {},
   "source": [
    "- Für die Datenanreicherung wählen wir die Spalte `gnd_id` \n",
    "- Unter dem Punkt `Reconcile` finden wir den Punkt `Start Reconciling`\n"
   ]
  },
  {
   "cell_type": "markdown",
   "id": "9d238b42",
   "metadata": {},
   "source": [
    "![Transform](https://raw.githubusercontent.com/deutsche-nationalbibliothek/dnblab/main/images/11_reconcile.JPG)"
   ]
  },
  {
   "cell_type": "markdown",
   "id": "3f8cf978",
   "metadata": {},
   "source": [
    "- Anschließend den Punkt `Add Standard Service` wählen\n",
    "- Zum Abgleich nutzen wir `https://lobid.org/gnd/reconcile/`\n",
    "- Mit `Add Service` bestätigen\n",
    "- Fenster mit \"Cancel\" schließen"
   ]
  },
  {
   "cell_type": "markdown",
   "id": "fca37783",
   "metadata": {},
   "source": [
    "![Transform](https://raw.githubusercontent.com/deutsche-nationalbibliothek/dnblab/main/images/13_lobid.JPG)"
   ]
  },
  {
   "cell_type": "markdown",
   "id": "14484132",
   "metadata": {},
   "source": [
    "- Nach dem Einrichten des Standard Service können wir nun über `Reconcile` `Use Values as Identifiers` die Verknüpfung mit der GND herstellen\n",
    "- Wir wählen unseren Service `GND reconcililation  for OpenRefine`"
   ]
  },
  {
   "cell_type": "markdown",
   "id": "a01be506",
   "metadata": {},
   "source": [
    "![Transform](https://raw.githubusercontent.com/deutsche-nationalbibliothek/dnblab/main/images/14_values.JPG)"
   ]
  },
  {
   "cell_type": "markdown",
   "id": "2f97fd2c",
   "metadata": {},
   "source": [
    "- Die Daten erscheinen nun als Links. Beim Mouse-Over werden Informationen über den Autor angezeigt.\n",
    "- Um zusätzliche Spalten zu erstellen, wählen wir nun unsere Spalte `gnd_id` `Edit column` `Add column from reconciled values...` und können anschließend unsere gewünschten Werte wählen\n"
   ]
  },
  {
   "cell_type": "markdown",
   "id": "b91a6bfc",
   "metadata": {},
   "source": [
    "![Transform](https://raw.githubusercontent.com/deutsche-nationalbibliothek/dnblab/main/images/15_revalues.JPG)"
   ]
  },
  {
   "cell_type": "markdown",
   "id": "ca271e82",
   "metadata": {},
   "source": [
    "![Transform](https://raw.githubusercontent.com/deutsche-nationalbibliothek/dnblab/main/images/16_new.JPG)"
   ]
  },
  {
   "cell_type": "markdown",
   "id": "bd647574",
   "metadata": {},
   "source": [
    "- `OK` anwählen und einen Moment warten, während Open Refine die neuen Spalten erstellt.\n",
    "- Im Drop-Down Menü unter Exportieren kann die Datei als .csv Datei exportiert werden. "
   ]
  },
  {
   "cell_type": "markdown",
   "id": "c39aba0d",
   "metadata": {},
   "source": [
    "## Part 4: Datenanalyse"
   ]
  },
  {
   "cell_type": "markdown",
   "id": "11cc5bce-b222-40c3-82e7-b7b721aafdfa",
   "metadata": {},
   "source": [
    "## Daten einlesen"
   ]
  },
  {
   "cell_type": "markdown",
   "id": "bea78a0e-1fc0-4d7e-8f1f-8b1124e0e59a",
   "metadata": {},
   "source": [
    "Nachdem die Daten bereinigt und mit Daten aus der GND angereichert wurden, führen wir eine exemplarische Analyse auf unseren angereicherten Daten durch. Zuerst wird die csv-Datei importiert und als Dataframe (Tabelle) ausgegeben. Der Dataframe bildet die Basis für die weiteren Bearbeitungen. \n",
    "\n",
    "Da die Zeilen in Open Refine untereinander angezeigt werden, findet sich bei leeren Werten die Bezeichnung \"NaN\"."
   ]
  },
  {
   "cell_type": "code",
   "execution_count": 8,
   "id": "641be6c8",
   "metadata": {
    "tags": []
   },
   "outputs": [
    {
     "data": {
      "text/html": [
       "<div>\n",
       "<style scoped>\n",
       "    .dataframe tbody tr th:only-of-type {\n",
       "        vertical-align: middle;\n",
       "    }\n",
       "\n",
       "    .dataframe tbody tr th {\n",
       "        vertical-align: top;\n",
       "    }\n",
       "\n",
       "    .dataframe thead th {\n",
       "        text-align: right;\n",
       "    }\n",
       "</style>\n",
       "<table border=\"1\" class=\"dataframe\">\n",
       "  <thead>\n",
       "    <tr style=\"text-align: right;\">\n",
       "      <th></th>\n",
       "      <th>idn</th>\n",
       "      <th>titel</th>\n",
       "      <th>jahr</th>\n",
       "      <th>verfasser</th>\n",
       "      <th>gnd_id</th>\n",
       "      <th>Geburtsdatum</th>\n",
       "      <th>Geburtsort</th>\n",
       "      <th>Beruf oder Beschäftigung</th>\n",
       "      <th>Sterbeort</th>\n",
       "      <th>urn</th>\n",
       "      <th>verlag</th>\n",
       "      <th>verlagsort</th>\n",
       "    </tr>\n",
       "  </thead>\n",
       "  <tbody>\n",
       "    <tr>\n",
       "      <th>0</th>\n",
       "      <td>1003104487</td>\n",
       "      <td>Egmont</td>\n",
       "      <td>1946.0</td>\n",
       "      <td>Goethe, Johann Wolfgang von</td>\n",
       "      <td>118540238</td>\n",
       "      <td>1749-08-28</td>\n",
       "      <td>Frankfurt am Main</td>\n",
       "      <td>Schriftsteller</td>\n",
       "      <td>Weimar</td>\n",
       "      <td>https://nbn-resolving.org/urn:nbn:de:101:2-201...</td>\n",
       "      <td>Schöningh</td>\n",
       "      <td>Paderborn</td>\n",
       "    </tr>\n",
       "    <tr>\n",
       "      <th>1</th>\n",
       "      <td>NaN</td>\n",
       "      <td>NaN</td>\n",
       "      <td>NaN</td>\n",
       "      <td>NaN</td>\n",
       "      <td>NaN</td>\n",
       "      <td>NaN</td>\n",
       "      <td>NaN</td>\n",
       "      <td>Publizist</td>\n",
       "      <td>NaN</td>\n",
       "      <td>NaN</td>\n",
       "      <td>NaN</td>\n",
       "      <td>NaN</td>\n",
       "    </tr>\n",
       "    <tr>\n",
       "      <th>2</th>\n",
       "      <td>NaN</td>\n",
       "      <td>NaN</td>\n",
       "      <td>NaN</td>\n",
       "      <td>NaN</td>\n",
       "      <td>NaN</td>\n",
       "      <td>NaN</td>\n",
       "      <td>NaN</td>\n",
       "      <td>Politiker</td>\n",
       "      <td>NaN</td>\n",
       "      <td>NaN</td>\n",
       "      <td>NaN</td>\n",
       "      <td>NaN</td>\n",
       "    </tr>\n",
       "    <tr>\n",
       "      <th>3</th>\n",
       "      <td>NaN</td>\n",
       "      <td>NaN</td>\n",
       "      <td>NaN</td>\n",
       "      <td>NaN</td>\n",
       "      <td>NaN</td>\n",
       "      <td>NaN</td>\n",
       "      <td>NaN</td>\n",
       "      <td>Jurist</td>\n",
       "      <td>NaN</td>\n",
       "      <td>NaN</td>\n",
       "      <td>NaN</td>\n",
       "      <td>NaN</td>\n",
       "    </tr>\n",
       "    <tr>\n",
       "      <th>4</th>\n",
       "      <td>NaN</td>\n",
       "      <td>NaN</td>\n",
       "      <td>NaN</td>\n",
       "      <td>NaN</td>\n",
       "      <td>NaN</td>\n",
       "      <td>NaN</td>\n",
       "      <td>NaN</td>\n",
       "      <td>Naturwissenschaftler</td>\n",
       "      <td>NaN</td>\n",
       "      <td>NaN</td>\n",
       "      <td>NaN</td>\n",
       "      <td>NaN</td>\n",
       "    </tr>\n",
       "    <tr>\n",
       "      <th>...</th>\n",
       "      <td>...</td>\n",
       "      <td>...</td>\n",
       "      <td>...</td>\n",
       "      <td>...</td>\n",
       "      <td>...</td>\n",
       "      <td>...</td>\n",
       "      <td>...</td>\n",
       "      <td>...</td>\n",
       "      <td>...</td>\n",
       "      <td>...</td>\n",
       "      <td>...</td>\n",
       "      <td>...</td>\n",
       "    </tr>\n",
       "    <tr>\n",
       "      <th>618</th>\n",
       "      <td>1000778517</td>\n",
       "      <td>Die drei gerechten Kammacher</td>\n",
       "      <td>1903.0</td>\n",
       "      <td>Keller, Gottfried</td>\n",
       "      <td>11856109X</td>\n",
       "      <td>1819-07-19</td>\n",
       "      <td>Zürich</td>\n",
       "      <td>Schriftsteller</td>\n",
       "      <td>Zürich</td>\n",
       "      <td>https://nbn-resolving.org/urn:nbn:de:101:2-201...</td>\n",
       "      <td>Cotta</td>\n",
       "      <td>Stuttgart</td>\n",
       "    </tr>\n",
       "    <tr>\n",
       "      <th>619</th>\n",
       "      <td>NaN</td>\n",
       "      <td>NaN</td>\n",
       "      <td>NaN</td>\n",
       "      <td>NaN</td>\n",
       "      <td>NaN</td>\n",
       "      <td>NaN</td>\n",
       "      <td>NaN</td>\n",
       "      <td>Librettist</td>\n",
       "      <td>NaN</td>\n",
       "      <td>NaN</td>\n",
       "      <td>NaN</td>\n",
       "      <td>NaN</td>\n",
       "    </tr>\n",
       "    <tr>\n",
       "      <th>620</th>\n",
       "      <td>NaN</td>\n",
       "      <td>NaN</td>\n",
       "      <td>NaN</td>\n",
       "      <td>NaN</td>\n",
       "      <td>NaN</td>\n",
       "      <td>NaN</td>\n",
       "      <td>NaN</td>\n",
       "      <td>Maler</td>\n",
       "      <td>NaN</td>\n",
       "      <td>NaN</td>\n",
       "      <td>NaN</td>\n",
       "      <td>NaN</td>\n",
       "    </tr>\n",
       "    <tr>\n",
       "      <th>621</th>\n",
       "      <td>NaN</td>\n",
       "      <td>NaN</td>\n",
       "      <td>NaN</td>\n",
       "      <td>NaN</td>\n",
       "      <td>NaN</td>\n",
       "      <td>NaN</td>\n",
       "      <td>NaN</td>\n",
       "      <td>Lyriker</td>\n",
       "      <td>NaN</td>\n",
       "      <td>NaN</td>\n",
       "      <td>NaN</td>\n",
       "      <td>NaN</td>\n",
       "    </tr>\n",
       "    <tr>\n",
       "      <th>622</th>\n",
       "      <td>NaN</td>\n",
       "      <td>NaN</td>\n",
       "      <td>NaN</td>\n",
       "      <td>NaN</td>\n",
       "      <td>NaN</td>\n",
       "      <td>NaN</td>\n",
       "      <td>NaN</td>\n",
       "      <td>Lyriker</td>\n",
       "      <td>NaN</td>\n",
       "      <td>NaN</td>\n",
       "      <td>NaN</td>\n",
       "      <td>NaN</td>\n",
       "    </tr>\n",
       "  </tbody>\n",
       "</table>\n",
       "<p>623 rows × 12 columns</p>\n",
       "</div>"
      ],
      "text/plain": [
       "            idn                           titel    jahr  \\\n",
       "0    1003104487                          Egmont  1946.0   \n",
       "1           NaN                             NaN     NaN   \n",
       "2           NaN                             NaN     NaN   \n",
       "3           NaN                             NaN     NaN   \n",
       "4           NaN                             NaN     NaN   \n",
       "..          ...                             ...     ...   \n",
       "618  1000778517  Die drei gerechten Kammacher  1903.0   \n",
       "619         NaN                             NaN     NaN   \n",
       "620         NaN                             NaN     NaN   \n",
       "621         NaN                             NaN     NaN   \n",
       "622         NaN                             NaN     NaN   \n",
       "\n",
       "                         verfasser     gnd_id Geburtsdatum         Geburtsort  \\\n",
       "0    Goethe, Johann Wolfgang von  118540238   1749-08-28  Frankfurt am Main   \n",
       "1                              NaN        NaN          NaN                NaN   \n",
       "2                              NaN        NaN          NaN                NaN   \n",
       "3                              NaN        NaN          NaN                NaN   \n",
       "4                              NaN        NaN          NaN                NaN   \n",
       "..                             ...        ...          ...                ...   \n",
       "618              Keller, Gottfried  11856109X   1819-07-19             Zürich   \n",
       "619                            NaN        NaN          NaN                NaN   \n",
       "620                            NaN        NaN          NaN                NaN   \n",
       "621                            NaN        NaN          NaN                NaN   \n",
       "622                            NaN        NaN          NaN                NaN   \n",
       "\n",
       "    Beruf oder Beschäftigung Sterbeort  \\\n",
       "0             Schriftsteller    Weimar   \n",
       "1                  Publizist       NaN   \n",
       "2                  Politiker       NaN   \n",
       "3                     Jurist       NaN   \n",
       "4       Naturwissenschaftler       NaN   \n",
       "..                       ...       ...   \n",
       "618           Schriftsteller    Zürich   \n",
       "619               Librettist       NaN   \n",
       "620                    Maler       NaN   \n",
       "621                  Lyriker       NaN   \n",
       "622                  Lyriker       NaN   \n",
       "\n",
       "                                                   urn     verlag verlagsort  \n",
       "0    https://nbn-resolving.org/urn:nbn:de:101:2-201...  Schöningh  Paderborn  \n",
       "1                                                  NaN        NaN        NaN  \n",
       "2                                                  NaN        NaN        NaN  \n",
       "3                                                  NaN        NaN        NaN  \n",
       "4                                                  NaN        NaN        NaN  \n",
       "..                                                 ...        ...        ...  \n",
       "618  https://nbn-resolving.org/urn:nbn:de:101:2-201...      Cotta  Stuttgart  \n",
       "619                                                NaN        NaN        NaN  \n",
       "620                                                NaN        NaN        NaN  \n",
       "621                                                NaN        NaN        NaN  \n",
       "622                                                NaN        NaN        NaN  \n",
       "\n",
       "[623 rows x 12 columns]"
      ]
     },
     "execution_count": 8,
     "metadata": {},
     "output_type": "execute_result"
    }
   ],
   "source": [
    "# Passe den Dateinamen entsprechend an\n",
    "filename = 'Klassik_angereichert.csv'\n",
    "\n",
    "# Daten aus der CSV-Datei in DataFrame laden\n",
    "df = pd.read_csv(filename)\n",
    "\n",
    "df\n"
   ]
  },
  {
   "cell_type": "markdown",
   "id": "a8c0e99e-65bd-46a0-b495-2828f3f55965",
   "metadata": {
    "tags": []
   },
   "source": [
    "## Vertretene AutorInnen"
   ]
  },
  {
   "cell_type": "markdown",
   "id": "70a32249-854b-4c66-a42a-7ba42783618a",
   "metadata": {},
   "source": [
    "Zuerst soll herausgefunden werden, welche AutorInnen mit wie vielen Werken in dem Datenset vorhanden sind. Dazu zählen wir die values in dem gegebenen Dataframe."
   ]
  },
  {
   "cell_type": "code",
   "execution_count": 9,
   "id": "95841108",
   "metadata": {
    "tags": []
   },
   "outputs": [
    {
     "name": "stdout",
     "output_type": "stream",
     "text": [
      "Anzahl der Werke pro AutorIn:\n",
      "                                              Anzahl der Werke\n",
      "verfasser                                                     \n",
      "Kleist, Heinrich von                                       7\n",
      "Goethe, Johann Wolfgang von                                6\n",
      "Fontane, Theodor                                             6\n",
      "Meyer, Conrad Ferdinand                                      5\n",
      "Keller, Gottfried                                            5\n",
      "Eichendorff, Joseph von                                    4\n",
      "Storm, Theodor                                               4\n",
      "Hoffmann, E. T. A.                                           4\n",
      "Schiller, Friedrich                                          4\n",
      "Stifter, Adalbert                                            3\n",
      "Gotthelf, Jeremias                                           3\n",
      "Mörike, Eduard                                               3\n",
      "Wassermann, Jakob                                            3\n",
      "Hofmannsthal, Hugo von                                     2\n",
      "Tieck, Ludwig                                                2\n",
      "Schnitzler, Arthur                                           2\n",
      "Grabbe, Christian Dietrich                                   2\n",
      "Ebner-Eschenbach, Marie von                                2\n",
      "Droste-Hülshoff, Annette von                               2\n",
      "Lessing, Gotthold Ephraim                                    2\n",
      "Hebbel, Friedrich                                            2\n",
      "Raabe, Wilhelm                                               2\n",
      "Anzengruber, Ludwig                                          2\n",
      "Spee, Friedrich von                                        1\n",
      "Ludwig, Otto                                                 1\n",
      "May, Karl                                                    1\n",
      "Horváth, Ödön von                                          1\n",
      "Rilke, Rainer Maria                                          1\n",
      "Hoffmann, Heinrich                                           1\n",
      "Spyri, Johanna                                               1\n",
      "Hauff, Wilhelm                                               1\n",
      "Fouqué, Friedrich de La Motte-                               1\n",
      "Wieland, Christoph Martin                                    1\n",
      "Reinheimer, Sophie                                           1\n",
      "Grimmelshausen, Hans Jakob Christoffel von                 1\n",
      "Chamisso, Adelbert von                                     1\n",
      "Uhland, Ludwig                                               1\n",
      "Hölderlin, Friedrich                                         1\n",
      "Heine, Heinrich                                              1\n",
      "Bassewitz, Gerdt von                                       1\n",
      "Schlegel, Friedrich von                                    1\n",
      "Raimund, Ferdinand                                           1\n",
      "Büchner, Georg                                               1\n",
      "Wedekind, Frank                                              1\n",
      "Marlitt, E.                                                  1\n",
      "Meyrink, Gustav                                              1\n",
      "Trakl, Georg                                                 1\n",
      "Heyse, Paul                                                  1\n",
      "Postl, Karl                                                  1\n",
      "Grillparzer, Franz                                           1\n",
      "Heym, Georg                                                  1\n",
      "Kafka, Franz                                                 1\n",
      "Jean Paul                                                    1\n",
      "Körner, Theodor                                              1\n"
     ]
    }
   ],
   "source": [
    "# Anzahl der Werke pro AutorIn zählen und in ein DataFrame konvertieren\n",
    "anzahl_werke_pro_autor_df = pd.DataFrame(df['verfasser'].value_counts())\n",
    "\n",
    "# Umbenennen der Spalte in 'Anzahl der Werke'\n",
    "anzahl_werke_pro_autor_df.columns = ['Anzahl der Werke']\n",
    "\n",
    "# Anzeige des DataFrames\n",
    "print(\"Anzahl der Werke pro AutorIn:\")\n",
    "print(anzahl_werke_pro_autor_df)"
   ]
  },
  {
   "cell_type": "markdown",
   "id": "d7d1077b-5da9-4689-a84b-ade1c6387951",
   "metadata": {},
   "source": [
    "## Erscheinungsjahre visualisieren "
   ]
  },
  {
   "cell_type": "markdown",
   "id": "1b913b70-846d-4ef7-8d96-bfb88e6fd229",
   "metadata": {},
   "source": [
    "Die Erscheinungsjahre der Publikationen sollen grafisch dargestellt werden.\n",
    "Testen Sie, was passiert, wenn Sie die Werte unter plt.figure(figsize=(15, 8)) & plt.hist(years, bins=50, ändern. "
   ]
  },
  {
   "cell_type": "code",
   "execution_count": 10,
   "id": "71513965",
   "metadata": {},
   "outputs": [
    {
     "data": {
      "image/png": "[encoded data removed]",
      "text/plain": [
       "<Figure size 1500x800 with 1 Axes>"
      ]
     },
     "metadata": {},
     "output_type": "display_data"
    }
   ],
   "source": [
    "# Erscheinungsjahre aus der Spalte 'jahr' im DataFrame df extrahieren\n",
    "years = df['jahr']\n",
    "\n",
    "# Histogramm erstellen\n",
    "plt.figure(figsize=(15, 8)) # definiert die Größe des Diagramms \n",
    "plt.hist(years, bins=50, color='skyblue', edgecolor='black')  # Anzahl der Bins anpassen, um die gewünschte Granularität zu erreichen\n",
    "plt.title('Verteilung der Erscheinungsjahre')\n",
    "plt.xlabel('Erscheinungsjahr')\n",
    "plt.ylabel('Anzahl der Werke')\n",
    "plt.grid(True)\n",
    "plt.show()\n"
   ]
  },
  {
   "cell_type": "markdown",
   "id": "17eb8800-34c3-4d5f-b875-810d77b56fe6",
   "metadata": {},
   "source": [
    "# Berufe visualisieren "
   ]
  },
  {
   "cell_type": "markdown",
   "id": "6ad2f3c9-2679-4908-ba3b-db48e042521f",
   "metadata": {},
   "source": [
    "Was sind die 10 häufigsten Berufe, die unsere enthaltenen AutorInnen ausüben? Dazu können wir mit der matplotlib.pyplot ein Kreisdiagramm erstellen. Aufgrund der Diversität der Berufe wird der Datenbestand auf die Top-10-Berufe beschränkt. \n",
    "Im Codefeld beruf_beschaeftigung_counts = df['Beruf oder Beschäftigung'].value_counts().head(10) lässt sich der Wert 10 beliebig anpassen. Hier sollte man jedoch die Auswirkungen auf die Übersichtlichkeit beachten. "
   ]
  },
  {
   "cell_type": "code",
   "execution_count": 11,
   "id": "61833127",
   "metadata": {},
   "outputs": [
    {
     "data": {
      "image/png": "[encoded data removed]",
      "text/plain": [
       "<Figure size 800x800 with 1 Axes>"
      ]
     },
     "metadata": {},
     "output_type": "display_data"
    }
   ],
   "source": [
    "# Beruf oder Beschäftigung\n",
    "beruf_beschaeftigung_counts = df['Beruf oder Beschäftigung'].value_counts().head(10)  # Nur die 10 häufigsten Werte\n",
    "\n",
    "# Kreisdiagramm erstellen\n",
    "plt.figure(figsize=(8, 8))\n",
    "plt.pie(beruf_beschaeftigung_counts, labels=beruf_beschaeftigung_counts.index, autopct='%1.1f%%', startangle=140)\n",
    "plt.title('Verteilung der 10 häufigsten Berufe oder Beschäftigungen')\n",
    "plt.axis('equal')  \n",
    "plt.show()\n"
   ]
  },
  {
   "cell_type": "markdown",
   "id": "d45b9ef3",
   "metadata": {},
   "source": [
    "# DNBLab Tutorial: Daten bereinigen und zusammenführen mittels OpenRefine"
   ]
  },
  {
   "cell_type": "markdown",
   "id": "6db36fa7",
   "metadata": {},
   "source": [
    "## Part 1: Datenbezug mittels SRU-Schnittstelle"
   ]
  },
  {
   "cell_type": "markdown",
   "id": "e88859b6",
   "metadata": {},
   "source": [
    "Als Datenbasis dienen die Metadaten des Digitalisierungsprojektes \"100 Bände Klassik\". Es enthält namhafte klassische Werke u.a. von Theodor Fontane, J.W. von Goethe und Rainer Maria Rilke und eignet sich daher besonders für einen ersten Einstieg in die Datenanreicherung, da die AutorInnen bereits umfassende Einträge in der GND haben. "
   ]
  },
  {
   "cell_type": "markdown",
   "id": "7f715c5c",
   "metadata": {},
   "source": [
    "Die Daten werden mittels SRU-Schnittstelle bezogen und zur weiteren Verarbeitung in einer csv-Datei gespeichert. "
   ]
  },
  {
   "cell_type": "markdown",
   "id": "80d307a3",
   "metadata": {},
   "source": [
    "## Einrichten der Arbeitsumgebung"
   ]
  },
  {
   "cell_type": "markdown",
   "id": "7861d2fb",
   "metadata": {},
   "source": [
    "Um die Arbeitsumgebung für die folgenden Schritte passend einzurichten, sollten zunächst die benötigten Python-Bibliotheken importiert werden. Für Anfragen über die SRU-Schnittstelle wird `Requests` https://docs.python-requests.org/en/latest/ und zur Verarbeitung der XML-Daten `etree` https://docs.python.org/3/library/xml.etree.elementtree.html verwendet. Mit `Pandas` https://pandas.pydata.org/ können Elemente aus dem MARC21-Format ausgelesen werden."
   ]
  },
  {
   "cell_type": "code",
   "execution_count": 1,
   "id": "bbffb20c",
   "metadata": {
    "tags": []
   },
   "outputs": [],
   "source": [
    "import requests\n",
    "from bs4 import BeautifulSoup \n",
    "import unicodedata\n",
    "from lxml import etree\n",
    "import pandas as pd\n",
    "import matplotlib.pyplot as plt"
   ]
  },
  {
   "cell_type": "markdown",
   "id": "91d4a172",
   "metadata": {},
   "source": [
    "## SRU-Abfrage mit Ausgabe in MARC21-xml"
   ]
  },
  {
   "cell_type": "markdown",
   "id": "3fb3a112",
   "metadata": {},
   "source": [
    "Die Funktion `dnb_sru` nimmt den Paramter \"query\" der SRU-Abfrage entgegen und liefert alle Ergebnisse als eine Liste von Records aus. Bei mehr als 100 Records werden weitere Datensätze mit \"&startRecord=101\" abgerufen (mögliche Werte 1 bis 99.000). Weitere Informationen und Funktionen der SRU- Schnittstelle werden unter https://www.dnb.de/sru beschrieben."
   ]
  },
  {
   "cell_type": "code",
   "execution_count": 2,
   "id": "4cfaba19",
   "metadata": {
    "tags": []
   },
   "outputs": [],
   "source": [
    "def dnb_sru(query):\n",
    "    base_url = \"https://services.dnb.de/sru/dnb\"\n",
    "    params = {\n",
    "        'recordSchema': 'MARC21-xml',\n",
    "        'operation': 'searchRetrieve',\n",
    "        'version': '1.1',\n",
    "        'maximumRecords': '100',\n",
    "        'query': query\n",
    "    }\n",
    "\n",
    "    r = requests.get(base_url, params=params)\n",
    "    # Verwende den XML-Parser\n",
    "    xml = BeautifulSoup(r.content, features=\"xml\")\n",
    "    records = xml.find_all('record', {'type': 'Bibliographic'})\n",
    "\n",
    "    if len(records) < 100:\n",
    "        return records\n",
    "    else:\n",
    "        num_records_fetched = 100  # Anzahl der abgerufenen Datensätze\n",
    "        start_record = 101  # Startindex für die nächste Abfrage\n",
    "        while num_records_fetched == 100:\n",
    "            params.update({'startRecord': start_record})\n",
    "            r = requests.get(base_url, params=params)\n",
    "            # Verwende den XML-Parser \n",
    "            xml = BeautifulSoup(r.content, features=\"xml\")\n",
    "            new_records = xml.find_all('record', {'type': 'Bibliographic'})\n",
    "            records += new_records\n",
    "            start_record += 100\n",
    "            num_records_fetched = len(new_records)\n",
    "\n",
    "        return records"
   ]
  },
  {
   "cell_type": "markdown",
   "id": "8abeb55a",
   "metadata": {},
   "source": [
    "# Durchsuchen eines MARC-Feldes"
   ]
  },
  {
   "cell_type": "markdown",
   "id": "d795e346",
   "metadata": {},
   "source": [
    "Die Funktion `parse_records` nimmt als Parameter jeweils ein Record entgegen und sucht über xpath die gewünschte Informationen heraus und liefert diese als Dictionary zurück. Die Schlüssel-Werte-Paare können beliebig angepasst und erweitert werden. \n",
    "\n",
    "Tipp: Schauen Sie sich gern unsere Feldübersicht für MARC21 an. \n",
    "https://www.dnb.de/SharedDocs/Downloads/DE/Professionell/Services/efa2023HandoutInhalteInMarc.pdf?__blob=publicationFile&v=2 "
   ]
  },
  {
   "cell_type": "code",
   "execution_count": 3,
   "id": "272101af",
   "metadata": {
    "tags": []
   },
   "outputs": [],
   "source": [
    "def parse_record(record):\n",
    "    ns = {\"marc\": \"http://www.loc.gov/MARC21/slim\"}\n",
    "    xml = etree.fromstring(unicodedata.normalize(\"NFC\", str(record)))\n",
    "\n",
    "    def safe_xpath(xpath_expr):\n",
    "        elements = xml.xpath(xpath_expr, namespaces=ns)\n",
    "        return elements[0].text if elements else \"unknown\"\n",
    "\n",
    "    # IDN\n",
    "    idn = safe_xpath(\"marc:controlfield[@tag = '001']\")\n",
    "\n",
    "    # Titel\n",
    "    titel = safe_xpath(\"marc:datafield[@tag = '245']/marc:subfield[@code = 'a']\")\n",
    "\n",
    "    # Erscheinungsjahr\n",
    "    jahr = safe_xpath(\"marc:datafield[@tag = '264']/marc:subfield[@code = 'c']\")\n",
    "\n",
    "    # Verfasserangabe\n",
    "    verfasser = safe_xpath(\"marc:datafield[@tag = '100']/marc:subfield[@code = 'a']\")\n",
    "\n",
    "    # GND-ID\n",
    "    gnd_id = safe_xpath(\"marc:datafield[@tag = '100']/marc:subfield[@code = '0']\")\n",
    "\n",
    "    # URN\n",
    "    urn = safe_xpath(\"marc:datafield[@tag = '856']/marc:subfield[@code = 'u']\")\n",
    "\n",
    "    # Verlag\n",
    "    verlag = safe_xpath(\"marc:datafield[@tag = '264']/marc:subfield[@code = 'b']\")\n",
    "\n",
    "    # Verlagsort\n",
    "    verlagsort = safe_xpath(\"marc:datafield[@tag = '264']/marc:subfield[@code = 'a']\")\n",
    "\n",
    "    meta_dict = {\n",
    "        \"idn\": idn,\n",
    "        \"titel\": titel,\n",
    "        \"jahr\": jahr,\n",
    "        \"verfasser\": verfasser,\n",
    "        \"gnd_id\": gnd_id,\n",
    "        \"urn\": urn,\n",
    "        \"verlag\": verlag,\n",
    "        \"verlagsort\": verlagsort\n",
    "    }\n",
    "\n",
    "    return meta_dict\n"
   ]
  },
  {
   "cell_type": "markdown",
   "id": "8878502a",
   "metadata": {},
   "source": [
    "Das Digitalisierungsprojekt \"100 Bände Klassik\" kann mt dem Projektcode \"d002\" als Datenset abgefragt und die Ergebnismenge ausgegeben werden."
   ]
  },
  {
   "cell_type": "code",
   "execution_count": 4,
   "id": "5465eecb",
   "metadata": {
    "tags": []
   },
   "outputs": [
    {
     "name": "stdout",
     "output_type": "stream",
     "text": [
      "108 Ergebnisse\n"
     ]
    }
   ],
   "source": [
    "records = dnb_sru('cod=d002')\n",
    "print(len(records), 'Ergebnisse')"
   ]
  },
  {
   "cell_type": "markdown",
   "id": "f748072a",
   "metadata": {},
   "source": [
    "## CSV Download"
   ]
  },
  {
   "cell_type": "markdown",
   "id": "d1faedb0",
   "metadata": {},
   "source": [
    "Für die Datenbereinigung und Datenanreicherung wird die Arbeit im csv-Format empfohlen. Hierfür werden die Suchergebnisse im Folgenden in einem Dataframe (Tabelle) ausgegeben und anschließend für die weitere Bearbeitung heruntergeladen. "
   ]
  },
  {
   "cell_type": "code",
   "execution_count": 5,
   "id": "e9fbb5bd",
   "metadata": {
    "tags": []
   },
   "outputs": [
    {
     "data": {
      "text/html": [
       "<div>\n",
       "<style scoped>\n",
       "    .dataframe tbody tr th:only-of-type {\n",
       "        vertical-align: middle;\n",
       "    }\n",
       "\n",
       "    .dataframe tbody tr th {\n",
       "        vertical-align: top;\n",
       "    }\n",
       "\n",
       "    .dataframe thead th {\n",
       "        text-align: right;\n",
       "    }\n",
       "</style>\n",
       "<table border=\"1\" class=\"dataframe\">\n",
       "  <thead>\n",
       "    <tr style=\"text-align: right;\">\n",
       "      <th></th>\n",
       "      <th>idn</th>\n",
       "      <th>titel</th>\n",
       "      <th>jahr</th>\n",
       "      <th>verfasser</th>\n",
       "      <th>gnd_id</th>\n",
       "      <th>urn</th>\n",
       "      <th>verlag</th>\n",
       "      <th>verlagsort</th>\n",
       "    </tr>\n",
       "  </thead>\n",
       "  <tbody>\n",
       "    <tr>\n",
       "      <th>0</th>\n",
       "      <td>1003104487</td>\n",
       "      <td>Egmont</td>\n",
       "      <td>[1946]</td>\n",
       "      <td>Goethe, Johann Wolfgang von</td>\n",
       "      <td>(DE-588)118540238</td>\n",
       "      <td>https://nbn-resolving.org/urn:nbn:de:101:2-201...</td>\n",
       "      <td>Schöningh</td>\n",
       "      <td>Paderborn</td>\n",
       "    </tr>\n",
       "    <tr>\n",
       "      <th>1</th>\n",
       "      <td>999490184</td>\n",
       "      <td>Das Amulett</td>\n",
       "      <td>[1939]</td>\n",
       "      <td>Meyer, Conrad Ferdinand</td>\n",
       "      <td>(DE-588)118581775</td>\n",
       "      <td>https://nbn-resolving.org/urn:nbn:de:101:2-201...</td>\n",
       "      <td>Verl. Dt. Volksbücher</td>\n",
       "      <td>Wiesbaden</td>\n",
       "    </tr>\n",
       "    <tr>\n",
       "      <th>2</th>\n",
       "      <td>1000047377</td>\n",
       "      <td>Der Struwwelpeter oder lustige Geschichten u...</td>\n",
       "      <td>[1939]</td>\n",
       "      <td>Hoffmann, Heinrich</td>\n",
       "      <td>(DE-588)11855249X</td>\n",
       "      <td>https://nbn-resolving.org/urn:nbn:de:101:2-201...</td>\n",
       "      <td>[Loewe]</td>\n",
       "      <td>[Stuttgart]</td>\n",
       "    </tr>\n",
       "    <tr>\n",
       "      <th>3</th>\n",
       "      <td>1000290328</td>\n",
       "      <td>Der Zweikampf</td>\n",
       "      <td>1939</td>\n",
       "      <td>Kleist, Heinrich von</td>\n",
       "      <td>(DE-588)118563076</td>\n",
       "      <td>https://nbn-resolving.org/urn:nbn:de:101:2-201...</td>\n",
       "      <td>Kohlhammer</td>\n",
       "      <td>Stuttgart</td>\n",
       "    </tr>\n",
       "    <tr>\n",
       "      <th>4</th>\n",
       "      <td>99962461X</td>\n",
       "      <td>Heidi</td>\n",
       "      <td>1939</td>\n",
       "      <td>Spyri, Johanna</td>\n",
       "      <td>(DE-588)118616455</td>\n",
       "      <td>https://nbn-resolving.org/urn:nbn:de:101:2-201...</td>\n",
       "      <td>Rascher</td>\n",
       "      <td>Zürich</td>\n",
       "    </tr>\n",
       "    <tr>\n",
       "      <th>...</th>\n",
       "      <td>...</td>\n",
       "      <td>...</td>\n",
       "      <td>...</td>\n",
       "      <td>...</td>\n",
       "      <td>...</td>\n",
       "      <td>...</td>\n",
       "      <td>...</td>\n",
       "      <td>...</td>\n",
       "    </tr>\n",
       "    <tr>\n",
       "      <th>103</th>\n",
       "      <td>1000746348</td>\n",
       "      <td>Leyer und Schwerdt</td>\n",
       "      <td>1913</td>\n",
       "      <td>Körner, Theodor</td>\n",
       "      <td>(DE-588)118713507</td>\n",
       "      <td>https://nbn-resolving.org/urn:nbn:de:101:2-201...</td>\n",
       "      <td>Morawe &amp; Scheffelt</td>\n",
       "      <td>Berlin</td>\n",
       "    </tr>\n",
       "    <tr>\n",
       "      <th>104</th>\n",
       "      <td>100003917X</td>\n",
       "      <td>Schillers Wallenstein</td>\n",
       "      <td>[1913]</td>\n",
       "      <td>Schiller, Friedrich</td>\n",
       "      <td>(DE-588)118607626</td>\n",
       "      <td>https://nbn-resolving.org/urn:nbn:de:101:2-201...</td>\n",
       "      <td>Dt. Bibliothek</td>\n",
       "      <td>Berlin</td>\n",
       "    </tr>\n",
       "    <tr>\n",
       "      <th>105</th>\n",
       "      <td>1000062104</td>\n",
       "      <td>Vor dem Sturm</td>\n",
       "      <td>1913</td>\n",
       "      <td>Fontane, Theodor</td>\n",
       "      <td>(DE-588)118534262</td>\n",
       "      <td>https://nbn-resolving.org/urn:nbn:de:101:2-201...</td>\n",
       "      <td>Cotta</td>\n",
       "      <td>Stuttgart</td>\n",
       "    </tr>\n",
       "    <tr>\n",
       "      <th>106</th>\n",
       "      <td>1000775615</td>\n",
       "      <td>Der Tod des Tizian</td>\n",
       "      <td>[1912]</td>\n",
       "      <td>Hofmannsthal, Hugo von</td>\n",
       "      <td>(DE-588)118552759</td>\n",
       "      <td>https://nbn-resolving.org/urn:nbn:de:101:2-201...</td>\n",
       "      <td>Insel-Verl.</td>\n",
       "      <td>Leipzig</td>\n",
       "    </tr>\n",
       "    <tr>\n",
       "      <th>107</th>\n",
       "      <td>1000778517</td>\n",
       "      <td>Die drei gerechten Kammacher</td>\n",
       "      <td>[1903]</td>\n",
       "      <td>Keller, Gottfried</td>\n",
       "      <td>(DE-588)11856109X</td>\n",
       "      <td>https://nbn-resolving.org/urn:nbn:de:101:2-201...</td>\n",
       "      <td>Cotta</td>\n",
       "      <td>Stuttgart</td>\n",
       "    </tr>\n",
       "  </tbody>\n",
       "</table>\n",
       "<p>108 rows × 8 columns</p>\n",
       "</div>"
      ],
      "text/plain": [
       "            idn                                              titel    jahr  \\\n",
       "0    1003104487                                             Egmont  [1946]   \n",
       "1     999490184                                      Das Amulett  [1939]   \n",
       "2    1000047377  Der Struwwelpeter oder lustige Geschichten u...  [1939]   \n",
       "3    1000290328                                    Der Zweikampf    1939   \n",
       "4     99962461X                                              Heidi    1939   \n",
       "..          ...                                                ...     ...   \n",
       "103  1000746348                                 Leyer und Schwerdt    1913   \n",
       "104  100003917X                              Schillers Wallenstein  [1913]   \n",
       "105  1000062104                                      Vor dem Sturm    1913   \n",
       "106  1000775615                               Der Tod des Tizian  [1912]   \n",
       "107  1000778517                     Die drei gerechten Kammacher  [1903]   \n",
       "\n",
       "                         verfasser             gnd_id  \\\n",
       "0    Goethe, Johann Wolfgang von  (DE-588)118540238   \n",
       "1          Meyer, Conrad Ferdinand  (DE-588)118581775   \n",
       "2               Hoffmann, Heinrich  (DE-588)11855249X   \n",
       "3           Kleist, Heinrich von  (DE-588)118563076   \n",
       "4                   Spyri, Johanna  (DE-588)118616455   \n",
       "..                             ...                ...   \n",
       "103                Körner, Theodor  (DE-588)118713507   \n",
       "104            Schiller, Friedrich  (DE-588)118607626   \n",
       "105               Fontane, Theodor  (DE-588)118534262   \n",
       "106       Hofmannsthal, Hugo von  (DE-588)118552759   \n",
       "107              Keller, Gottfried  (DE-588)11856109X   \n",
       "\n",
       "                                                   urn                 verlag  \\\n",
       "0    https://nbn-resolving.org/urn:nbn:de:101:2-201...              Schöningh   \n",
       "1    https://nbn-resolving.org/urn:nbn:de:101:2-201...  Verl. Dt. Volksbücher   \n",
       "2    https://nbn-resolving.org/urn:nbn:de:101:2-201...                [Loewe]   \n",
       "3    https://nbn-resolving.org/urn:nbn:de:101:2-201...             Kohlhammer   \n",
       "4    https://nbn-resolving.org/urn:nbn:de:101:2-201...                Rascher   \n",
       "..                                                 ...                    ...   \n",
       "103  https://nbn-resolving.org/urn:nbn:de:101:2-201...     Morawe & Scheffelt   \n",
       "104  https://nbn-resolving.org/urn:nbn:de:101:2-201...         Dt. Bibliothek   \n",
       "105  https://nbn-resolving.org/urn:nbn:de:101:2-201...                  Cotta   \n",
       "106  https://nbn-resolving.org/urn:nbn:de:101:2-201...            Insel-Verl.   \n",
       "107  https://nbn-resolving.org/urn:nbn:de:101:2-201...                  Cotta   \n",
       "\n",
       "      verlagsort  \n",
       "0      Paderborn  \n",
       "1      Wiesbaden  \n",
       "2    [Stuttgart]  \n",
       "3      Stuttgart  \n",
       "4         Zürich  \n",
       "..           ...  \n",
       "103       Berlin  \n",
       "104       Berlin  \n",
       "105    Stuttgart  \n",
       "106      Leipzig  \n",
       "107    Stuttgart  \n",
       "\n",
       "[108 rows x 8 columns]"
      ]
     },
     "execution_count": 5,
     "metadata": {},
     "output_type": "execute_result"
    }
   ],
   "source": [
    "output = [parse_record(record) for record in records]\n",
    "df = pd.DataFrame(output)\n",
    "df"
   ]
  },
  {
   "cell_type": "code",
   "execution_count": 6,
   "id": "3421231f",
   "metadata": {
    "tags": []
   },
   "outputs": [],
   "source": [
    "# DataFrame als CSV speichern\n",
    "df.to_csv('Klassik.csv', index=False)"
   ]
  },
  {
   "cell_type": "markdown",
   "id": "9ff59081",
   "metadata": {},
   "source": [
    "# Part 2: Datenbereinigung "
   ]
  },
  {
   "cell_type": "markdown",
   "id": "29f5f942",
   "metadata": {},
   "source": [
    "In unserer Ausgabe fällt auf, dass viele Titel mit eckigen Klammern ausgegeben werden oder zusätzliche Informationen enthalten, die nicht für die Analysen relevant sind. Grundlage für jede Datenanalyse sind normierte und bereinigte Ausgangsdaten. Diese können wir mittels OpenRefine bereinigen. OpenRefine ist ein Tool zur Datenbereinigung und Datenaufbereitung. Es kann mit sehr großen Datenmengen und mit diversen Formaten umgehen, zb.: .csv, .xml, .json etc. und eignet sich somit gut für die Analyse unserer Metadaten. "
   ]
  },
  {
   "cell_type": "markdown",
   "id": "f3c2600e",
   "metadata": {},
   "source": [
    "Für die Datenbereinigung wird die Open-Source-Software OpenRefine eingesetzt. Eine lokale Installation (https://openrefine.org/download) wird empfohlen. Alternativ kann OpenRefine in der Webumgebung Binder gestartet werden: https://mybinder.org/v2/gh/innovationOUtside/nb_serverproxy_openrefine/main?urlpath=openrefine \n",
    "\n",
    "Bitte beachten Sie, dass die Ladezeiten der Online-Instanz stark variieren können."
   ]
  },
  {
   "cell_type": "markdown",
   "id": "2861c31f",
   "metadata": {},
   "source": [
    "![Transform](https://raw.githubusercontent.com/deutsche-nationalbibliothek/dnblab/main/images/1_Datenimport.png)"
   ]
  },
  {
   "cell_type": "markdown",
   "id": "23b03558",
   "metadata": {},
   "source": [
    "Folgende Felder sollen für eine exemplarische Analyse bereinigt werden. Dafür nutzen wir GREL-Funktionen, um die Werte zu extrahieren. GREL-Funktionen arbeiten mit regulären Ausdrücken. Die genauen Bezeichnungen kann man im Handbuch von OpenRefine nachlesen. \"GREL\" steht für \"General Refine Expression Language\" und bezieht sich auf die Ausdruckssprache, die in OpenRefine verwendet wird. Siehe: https://openrefine.org/docs/manual/grelfunctions "
   ]
  },
  {
   "cell_type": "markdown",
   "id": "c7724884",
   "metadata": {},
   "source": [
    "**Erscheinungsjahr** \n",
    "- `value.find(/(\\b\\d{4}\\b)/)[0]`\n",
    "- Diese GREL-Funktion extrahiert das erste vierstellige Jahr, das in einer Zeichenkette gefunden wird. Dabei wird nach einer vierstelligen Zahl (z.B. \"2024\") gesucht und diese als Ergebnis zurückgegeben. \n",
    "- Hierfür wählen wir im Drop-Down Menü der Spalte den Befehl EDIT CELLS - Transform. Nun können wir unsere GREL-Expression eingeben. \n",
    "\n",
    "\n",
    "\n",
    "\n",
    "\n"
   ]
  },
  {
   "cell_type": "markdown",
   "id": "5fc63137",
   "metadata": {},
   "source": [
    "![Transform](https://raw.githubusercontent.com/deutsche-nationalbibliothek/dnblab/main/images/2_Edit_Cells.JPG)"
   ]
  },
  {
   "cell_type": "markdown",
   "id": "6761704b",
   "metadata": {},
   "source": [
    "![Transform](https://raw.githubusercontent.com/deutsche-nationalbibliothek/dnblab/main/images/3_Year.png)\n"
   ]
  },
  {
   "cell_type": "markdown",
   "id": "7cc32584",
   "metadata": {},
   "source": [
    "**GND ID** \n",
    "- `value.replace(/\\(DE-588\\)/, \"\").trim()`\n",
    "- Diese GREL-Funktion entfernt den Text \"(DE-588)\" aus einer Zeichenkette und entfernt anschließend überflüssige Leerzeichen am Anfang oder Ende der Zeichenkette. Das Ergebnis ist die bereinigte GND-ID ohne den Präfix \"(DE-588)\"."
   ]
  },
  {
   "cell_type": "markdown",
   "id": "1913f5ed",
   "metadata": {},
   "source": [
    "![Transform](https://raw.githubusercontent.com/deutsche-nationalbibliothek/dnblab/main/images/4_GND.JPG)"
   ]
  },
  {
   "cell_type": "markdown",
   "id": "103357a5",
   "metadata": {},
   "source": [
    "![Transform](https://raw.githubusercontent.com/deutsche-nationalbibliothek/dnblab/main/images/5_GNDT.JPG)\n"
   ]
  },
  {
   "cell_type": "markdown",
   "id": "b2f6e520",
   "metadata": {},
   "source": [
    "**Verlagsort**\n",
    "\n",
    "- Um die Verlagsorte zu bereinigen, nutzen wir eine andere Möglichkeit der Bearbeitung von Open Refine. Zuerst werden wir die Verlagsorte vorselektieren. Dieser Weg eignet sich besonders bei kleinen Datenmengen. \n",
    "- Wir wählen im Drop-Down-Menü das Feld `Facetten - Custom Facet`"
   ]
  },
  {
   "cell_type": "markdown",
   "id": "5e1a2d97",
   "metadata": {},
   "source": [
    "![Transform](https://raw.githubusercontent.com/deutsche-nationalbibliothek/dnblab/main/images/6_Verlag.JPG)\n"
   ]
  },
  {
   "cell_type": "markdown",
   "id": "9b14e285",
   "metadata": {},
   "source": [
    "- In einem Popup sehen wir nun eine Liste aller Verlagsorte. Diese bestätigen wir mit OK. "
   ]
  },
  {
   "cell_type": "markdown",
   "id": "94d8319f",
   "metadata": {},
   "source": [
    "![Transform](https://raw.githubusercontent.com/deutsche-nationalbibliothek/dnblab/main/images/7_customfacet.JPG)\n"
   ]
  },
  {
   "cell_type": "markdown",
   "id": "39b65883",
   "metadata": {},
   "source": [
    "- Daraufhin erscheint am linken Bildrand eine Liste. Wir suchen nun nach abweichenden Verlagsnamen und fügen sie mittels `include` zur Liste hinzu.\n"
   ]
  },
  {
   "cell_type": "markdown",
   "id": "a5cdab56",
   "metadata": {},
   "source": [
    "![Transform](https://raw.githubusercontent.com/deutsche-nationalbibliothek/dnblab/main/images/8_Include.JPG)\n"
   ]
  },
  {
   "cell_type": "markdown",
   "id": "6949d6ba",
   "metadata": {},
   "source": [
    "- Die dadurch gebildete Facette sollte nun angezeigt werden.\n",
    "- Mittels Mouse-Over und `Edit` gelangen wir zu dem einzelnen Value. \n"
   ]
  },
  {
   "cell_type": "markdown",
   "id": "0eb3ddf5",
   "metadata": {},
   "source": [
    "![Transform](https://raw.githubusercontent.com/deutsche-nationalbibliothek/dnblab/main/images/9_edit.JPG)\n"
   ]
  },
  {
   "cell_type": "markdown",
   "id": "989e9931",
   "metadata": {},
   "source": [
    "- Dieser wird nun in den bereinigten Verlagsort, zb.: Berlin umbenannt und mittels `Apply to all identical cells` wird jeder gleichnamige Value dieser Orte zu Berlin normiert. Diese Variante eignet sich bei überschaubaren Datenmengen.\n",
    "- Zur Entfernung der Filter einfach `reset` in der rechten Spalte wählen "
   ]
  },
  {
   "cell_type": "markdown",
   "id": "dc741ca0",
   "metadata": {},
   "source": [
    "![Transform](https://raw.githubusercontent.com/deutsche-nationalbibliothek/dnblab/main/images/10_apply.JPG)\n"
   ]
  },
  {
   "cell_type": "markdown",
   "id": "dc8815ba",
   "metadata": {},
   "source": [
    "# Part 3: Datenanreicherung mittels Open Refine"
   ]
  },
  {
   "cell_type": "markdown",
   "id": "4dec86d4",
   "metadata": {},
   "source": [
    "In der Gemeinsamen Normdatei (GND) finden wir viele Informationen zu Personen, Werken und Orten. Dort sind unter anderem Informationen zu Berufen, Beziehungen, Sterbe- und Geburtsdaten sowie Wirkungsdaten und Orte verzeichnet. Für unsere exemplarische Analyse reichern wir die Spalte `verfasser`mit Informationen aus der GND an. "
   ]
  },
  {
   "cell_type": "markdown",
   "id": "c607bebb",
   "metadata": {},
   "source": [
    "Folgende Felder sollen angereichert werden: \n",
    "- Geburtsdatum\n",
    "- Geburtsort\n",
    "- Liste der Berufe der Person\n",
    "\n",
    "Weitere Felder. Informieren Sie sich dafür im GND Explorer und fügen Sie ein Feld Ihrer Wahl hinzu:  https://explore.gnd.network/"
   ]
  },
  {
   "cell_type": "markdown",
   "id": "ccb94975",
   "metadata": {},
   "source": [
    "- Für die Datenanreicherung wählen wir die Spalte `gnd_id` \n",
    "- Unter dem Punkt `Reconcile` finden wir den Punkt `Start Reconciling`\n"
   ]
  },
  {
   "cell_type": "markdown",
   "id": "76ddf792",
   "metadata": {},
   "source": [
    "![Transform](https://raw.githubusercontent.com/deutsche-nationalbibliothek/dnblab/main/images/11_reconcile.JPG)"
   ]
  },
  {
   "cell_type": "markdown",
   "id": "a1ec0a92",
   "metadata": {},
   "source": [
    "- Anschließend den Punkt `Add Standard Service` wählen\n",
    "- Zum Abgleich nutzen wir `https://lobid.org/gnd/reconcile/`\n",
    "- Mit `Add Service` bestätigen\n",
    "- Fenster mit \"Cancel\" schließen"
   ]
  },
  {
   "cell_type": "markdown",
   "id": "f0c227a6",
   "metadata": {},
   "source": [
    "![Transform](https://raw.githubusercontent.com/deutsche-nationalbibliothek/dnblab/main/images/13_lobid.JPG)"
   ]
  },
  {
   "cell_type": "markdown",
   "id": "2f92e2a1",
   "metadata": {},
   "source": [
    "- Nach dem Einrichten des Standard Service können wir nun über `Reconcile` `Use Values as Identifiers` die Verknüpfung mit der GND herstellen\n",
    "- Wir wählen unseren Service `GND reconcililation  for OpenRefine`"
   ]
  },
  {
   "cell_type": "markdown",
   "id": "bdfbcf9c",
   "metadata": {},
   "source": [
    "![Transform](https://raw.githubusercontent.com/deutsche-nationalbibliothek/dnblab/main/images/14_values.JPG)"
   ]
  },
  {
   "cell_type": "markdown",
   "id": "c8ed0996",
   "metadata": {},
   "source": [
    "- Die Daten erscheinen nun als Links. Beim Mouse-Over werden Informationen über den Autor angezeigt.\n",
    "- Um zusätzliche Spalten zu erstellen, wählen wir nun unsere Spalte `gnd_id` `Edit column` `Add column from reconciled values...` und können anschließend unsere gewünschten Werte wählen\n"
   ]
  },
  {
   "cell_type": "markdown",
   "id": "a5ca5acb",
   "metadata": {},
   "source": [
    "![Transform](https://raw.githubusercontent.com/deutsche-nationalbibliothek/dnblab/main/images/15_revalues.JPG)"
   ]
  },
  {
   "cell_type": "markdown",
   "id": "47e1bd0c",
   "metadata": {},
   "source": [
    "![Transform](https://raw.githubusercontent.com/deutsche-nationalbibliothek/dnblab/main/images/16_new.JPG)"
   ]
  },
  {
   "cell_type": "markdown",
   "id": "48c2febd",
   "metadata": {},
   "source": [
    "- `OK` anwählen und einen Moment warten, während Open Refine die neuen Spalten erstellt.\n",
    "- Im Drop-Down Menü unter Exportieren kann die Datei als .csv Datei exportiert werden. "
   ]
  },
  {
   "cell_type": "markdown",
   "id": "d3a39137",
   "metadata": {},
   "source": [
    "## Part 4: Datenanalyse"
   ]
  },
  {
   "cell_type": "markdown",
   "id": "9c1c7ebb",
   "metadata": {},
   "source": [
    "## Daten einlesen"
   ]
  },
  {
   "cell_type": "markdown",
   "id": "41b6cf32",
   "metadata": {},
   "source": [
    "Nachdem die Daten bereinigt und mit Daten aus der GND angereichert wurden, führen wir eine exemplarische Analyse auf unseren angereicherten Daten durch. Zuerst wird die csv-Datei importiert und als Dataframe (Tabelle) ausgegeben. Der Dataframe bildet die Basis für die weiteren Bearbeitungen. \n",
    "\n",
    "Da die Zeilen in Open Refine untereinander angezeigt werden, findet sich bei leeren Werten die Bezeichnung \"NaN\"."
   ]
  },
  {
   "cell_type": "code",
   "execution_count": 7,
   "id": "6854f234",
   "metadata": {
    "tags": []
   },
   "outputs": [
    {
     "ename": "FileNotFoundError",
     "evalue": "[Errno 2] No such file or directory: 'Klassik_angereichert.csv'",
     "output_type": "error",
     "traceback": [
      "\u001b[31m---------------------------------------------------------------------------\u001b[39m",
      "\u001b[31mFileNotFoundError\u001b[39m                         Traceback (most recent call last)",
      "\u001b[36mCell\u001b[39m\u001b[36m \u001b[39m\u001b[32mIn[7]\u001b[39m\u001b[32m, line 5\u001b[39m\n\u001b[32m      2\u001b[39m filename = \u001b[33m'\u001b[39m\u001b[33mKlassik_angereichert.csv\u001b[39m\u001b[33m'\u001b[39m\n\u001b[32m      4\u001b[39m \u001b[38;5;66;03m# Daten aus der CSV-Datei in DataFrame laden\u001b[39;00m\n\u001b[32m----> \u001b[39m\u001b[32m5\u001b[39m df = \u001b[43mpd\u001b[49m\u001b[43m.\u001b[49m\u001b[43mread_csv\u001b[49m\u001b[43m(\u001b[49m\u001b[43mfilename\u001b[49m\u001b[43m)\u001b[49m\n\u001b[32m      7\u001b[39m df\n",
      "\u001b[36mFile \u001b[39m\u001b[32m/opt/tljh/user/lib/python3.12/site-packages/pandas/io/parsers/readers.py:1026\u001b[39m, in \u001b[36mread_csv\u001b[39m\u001b[34m(filepath_or_buffer, sep, delimiter, header, names, index_col, usecols, dtype, engine, converters, true_values, false_values, skipinitialspace, skiprows, skipfooter, nrows, na_values, keep_default_na, na_filter, verbose, skip_blank_lines, parse_dates, infer_datetime_format, keep_date_col, date_parser, date_format, dayfirst, cache_dates, iterator, chunksize, compression, thousands, decimal, lineterminator, quotechar, quoting, doublequote, escapechar, comment, encoding, encoding_errors, dialect, on_bad_lines, delim_whitespace, low_memory, memory_map, float_precision, storage_options, dtype_backend)\u001b[39m\n\u001b[32m   1013\u001b[39m kwds_defaults = _refine_defaults_read(\n\u001b[32m   1014\u001b[39m     dialect,\n\u001b[32m   1015\u001b[39m     delimiter,\n\u001b[32m   (...)\u001b[39m\u001b[32m   1022\u001b[39m     dtype_backend=dtype_backend,\n\u001b[32m   1023\u001b[39m )\n\u001b[32m   1024\u001b[39m kwds.update(kwds_defaults)\n\u001b[32m-> \u001b[39m\u001b[32m1026\u001b[39m \u001b[38;5;28;01mreturn\u001b[39;00m \u001b[43m_read\u001b[49m\u001b[43m(\u001b[49m\u001b[43mfilepath_or_buffer\u001b[49m\u001b[43m,\u001b[49m\u001b[43m \u001b[49m\u001b[43mkwds\u001b[49m\u001b[43m)\u001b[49m\n",
      "\u001b[36mFile \u001b[39m\u001b[32m/opt/tljh/user/lib/python3.12/site-packages/pandas/io/parsers/readers.py:620\u001b[39m, in \u001b[36m_read\u001b[39m\u001b[34m(filepath_or_buffer, kwds)\u001b[39m\n\u001b[32m    617\u001b[39m _validate_names(kwds.get(\u001b[33m\"\u001b[39m\u001b[33mnames\u001b[39m\u001b[33m\"\u001b[39m, \u001b[38;5;28;01mNone\u001b[39;00m))\n\u001b[32m    619\u001b[39m \u001b[38;5;66;03m# Create the parser.\u001b[39;00m\n\u001b[32m--> \u001b[39m\u001b[32m620\u001b[39m parser = \u001b[43mTextFileReader\u001b[49m\u001b[43m(\u001b[49m\u001b[43mfilepath_or_buffer\u001b[49m\u001b[43m,\u001b[49m\u001b[43m \u001b[49m\u001b[43m*\u001b[49m\u001b[43m*\u001b[49m\u001b[43mkwds\u001b[49m\u001b[43m)\u001b[49m\n\u001b[32m    622\u001b[39m \u001b[38;5;28;01mif\u001b[39;00m chunksize \u001b[38;5;129;01mor\u001b[39;00m iterator:\n\u001b[32m    623\u001b[39m     \u001b[38;5;28;01mreturn\u001b[39;00m parser\n",
      "\u001b[36mFile \u001b[39m\u001b[32m/opt/tljh/user/lib/python3.12/site-packages/pandas/io/parsers/readers.py:1620\u001b[39m, in \u001b[36mTextFileReader.__init__\u001b[39m\u001b[34m(self, f, engine, **kwds)\u001b[39m\n\u001b[32m   1617\u001b[39m     \u001b[38;5;28mself\u001b[39m.options[\u001b[33m\"\u001b[39m\u001b[33mhas_index_names\u001b[39m\u001b[33m\"\u001b[39m] = kwds[\u001b[33m\"\u001b[39m\u001b[33mhas_index_names\u001b[39m\u001b[33m\"\u001b[39m]\n\u001b[32m   1619\u001b[39m \u001b[38;5;28mself\u001b[39m.handles: IOHandles | \u001b[38;5;28;01mNone\u001b[39;00m = \u001b[38;5;28;01mNone\u001b[39;00m\n\u001b[32m-> \u001b[39m\u001b[32m1620\u001b[39m \u001b[38;5;28mself\u001b[39m._engine = \u001b[38;5;28;43mself\u001b[39;49m\u001b[43m.\u001b[49m\u001b[43m_make_engine\u001b[49m\u001b[43m(\u001b[49m\u001b[43mf\u001b[49m\u001b[43m,\u001b[49m\u001b[43m \u001b[49m\u001b[38;5;28;43mself\u001b[39;49m\u001b[43m.\u001b[49m\u001b[43mengine\u001b[49m\u001b[43m)\u001b[49m\n",
      "\u001b[36mFile \u001b[39m\u001b[32m/opt/tljh/user/lib/python3.12/site-packages/pandas/io/parsers/readers.py:1880\u001b[39m, in \u001b[36mTextFileReader._make_engine\u001b[39m\u001b[34m(self, f, engine)\u001b[39m\n\u001b[32m   1878\u001b[39m     \u001b[38;5;28;01mif\u001b[39;00m \u001b[33m\"\u001b[39m\u001b[33mb\u001b[39m\u001b[33m\"\u001b[39m \u001b[38;5;129;01mnot\u001b[39;00m \u001b[38;5;129;01min\u001b[39;00m mode:\n\u001b[32m   1879\u001b[39m         mode += \u001b[33m\"\u001b[39m\u001b[33mb\u001b[39m\u001b[33m\"\u001b[39m\n\u001b[32m-> \u001b[39m\u001b[32m1880\u001b[39m \u001b[38;5;28mself\u001b[39m.handles = \u001b[43mget_handle\u001b[49m\u001b[43m(\u001b[49m\n\u001b[32m   1881\u001b[39m \u001b[43m    \u001b[49m\u001b[43mf\u001b[49m\u001b[43m,\u001b[49m\n\u001b[32m   1882\u001b[39m \u001b[43m    \u001b[49m\u001b[43mmode\u001b[49m\u001b[43m,\u001b[49m\n\u001b[32m   1883\u001b[39m \u001b[43m    \u001b[49m\u001b[43mencoding\u001b[49m\u001b[43m=\u001b[49m\u001b[38;5;28;43mself\u001b[39;49m\u001b[43m.\u001b[49m\u001b[43moptions\u001b[49m\u001b[43m.\u001b[49m\u001b[43mget\u001b[49m\u001b[43m(\u001b[49m\u001b[33;43m\"\u001b[39;49m\u001b[33;43mencoding\u001b[39;49m\u001b[33;43m\"\u001b[39;49m\u001b[43m,\u001b[49m\u001b[43m \u001b[49m\u001b[38;5;28;43;01mNone\u001b[39;49;00m\u001b[43m)\u001b[49m\u001b[43m,\u001b[49m\n\u001b[32m   1884\u001b[39m \u001b[43m    \u001b[49m\u001b[43mcompression\u001b[49m\u001b[43m=\u001b[49m\u001b[38;5;28;43mself\u001b[39;49m\u001b[43m.\u001b[49m\u001b[43moptions\u001b[49m\u001b[43m.\u001b[49m\u001b[43mget\u001b[49m\u001b[43m(\u001b[49m\u001b[33;43m\"\u001b[39;49m\u001b[33;43mcompression\u001b[39;49m\u001b[33;43m\"\u001b[39;49m\u001b[43m,\u001b[49m\u001b[43m \u001b[49m\u001b[38;5;28;43;01mNone\u001b[39;49;00m\u001b[43m)\u001b[49m\u001b[43m,\u001b[49m\n\u001b[32m   1885\u001b[39m \u001b[43m    \u001b[49m\u001b[43mmemory_map\u001b[49m\u001b[43m=\u001b[49m\u001b[38;5;28;43mself\u001b[39;49m\u001b[43m.\u001b[49m\u001b[43moptions\u001b[49m\u001b[43m.\u001b[49m\u001b[43mget\u001b[49m\u001b[43m(\u001b[49m\u001b[33;43m\"\u001b[39;49m\u001b[33;43mmemory_map\u001b[39;49m\u001b[33;43m\"\u001b[39;49m\u001b[43m,\u001b[49m\u001b[43m \u001b[49m\u001b[38;5;28;43;01mFalse\u001b[39;49;00m\u001b[43m)\u001b[49m\u001b[43m,\u001b[49m\n\u001b[32m   1886\u001b[39m \u001b[43m    \u001b[49m\u001b[43mis_text\u001b[49m\u001b[43m=\u001b[49m\u001b[43mis_text\u001b[49m\u001b[43m,\u001b[49m\n\u001b[32m   1887\u001b[39m \u001b[43m    \u001b[49m\u001b[43merrors\u001b[49m\u001b[43m=\u001b[49m\u001b[38;5;28;43mself\u001b[39;49m\u001b[43m.\u001b[49m\u001b[43moptions\u001b[49m\u001b[43m.\u001b[49m\u001b[43mget\u001b[49m\u001b[43m(\u001b[49m\u001b[33;43m\"\u001b[39;49m\u001b[33;43mencoding_errors\u001b[39;49m\u001b[33;43m\"\u001b[39;49m\u001b[43m,\u001b[49m\u001b[43m \u001b[49m\u001b[33;43m\"\u001b[39;49m\u001b[33;43mstrict\u001b[39;49m\u001b[33;43m\"\u001b[39;49m\u001b[43m)\u001b[49m\u001b[43m,\u001b[49m\n\u001b[32m   1888\u001b[39m \u001b[43m    \u001b[49m\u001b[43mstorage_options\u001b[49m\u001b[43m=\u001b[49m\u001b[38;5;28;43mself\u001b[39;49m\u001b[43m.\u001b[49m\u001b[43moptions\u001b[49m\u001b[43m.\u001b[49m\u001b[43mget\u001b[49m\u001b[43m(\u001b[49m\u001b[33;43m\"\u001b[39;49m\u001b[33;43mstorage_options\u001b[39;49m\u001b[33;43m\"\u001b[39;49m\u001b[43m,\u001b[49m\u001b[43m \u001b[49m\u001b[38;5;28;43;01mNone\u001b[39;49;00m\u001b[43m)\u001b[49m\u001b[43m,\u001b[49m\n\u001b[32m   1889\u001b[39m \u001b[43m\u001b[49m\u001b[43m)\u001b[49m\n\u001b[32m   1890\u001b[39m \u001b[38;5;28;01massert\u001b[39;00m \u001b[38;5;28mself\u001b[39m.handles \u001b[38;5;129;01mis\u001b[39;00m \u001b[38;5;129;01mnot\u001b[39;00m \u001b[38;5;28;01mNone\u001b[39;00m\n\u001b[32m   1891\u001b[39m f = \u001b[38;5;28mself\u001b[39m.handles.handle\n",
      "\u001b[36mFile \u001b[39m\u001b[32m/opt/tljh/user/lib/python3.12/site-packages/pandas/io/common.py:873\u001b[39m, in \u001b[36mget_handle\u001b[39m\u001b[34m(path_or_buf, mode, encoding, compression, memory_map, is_text, errors, storage_options)\u001b[39m\n\u001b[32m    868\u001b[39m \u001b[38;5;28;01melif\u001b[39;00m \u001b[38;5;28misinstance\u001b[39m(handle, \u001b[38;5;28mstr\u001b[39m):\n\u001b[32m    869\u001b[39m     \u001b[38;5;66;03m# Check whether the filename is to be opened in binary mode.\u001b[39;00m\n\u001b[32m    870\u001b[39m     \u001b[38;5;66;03m# Binary mode does not support 'encoding' and 'newline'.\u001b[39;00m\n\u001b[32m    871\u001b[39m     \u001b[38;5;28;01mif\u001b[39;00m ioargs.encoding \u001b[38;5;129;01mand\u001b[39;00m \u001b[33m\"\u001b[39m\u001b[33mb\u001b[39m\u001b[33m\"\u001b[39m \u001b[38;5;129;01mnot\u001b[39;00m \u001b[38;5;129;01min\u001b[39;00m ioargs.mode:\n\u001b[32m    872\u001b[39m         \u001b[38;5;66;03m# Encoding\u001b[39;00m\n\u001b[32m--> \u001b[39m\u001b[32m873\u001b[39m         handle = \u001b[38;5;28;43mopen\u001b[39;49m\u001b[43m(\u001b[49m\n\u001b[32m    874\u001b[39m \u001b[43m            \u001b[49m\u001b[43mhandle\u001b[49m\u001b[43m,\u001b[49m\n\u001b[32m    875\u001b[39m \u001b[43m            \u001b[49m\u001b[43mioargs\u001b[49m\u001b[43m.\u001b[49m\u001b[43mmode\u001b[49m\u001b[43m,\u001b[49m\n\u001b[32m    876\u001b[39m \u001b[43m            \u001b[49m\u001b[43mencoding\u001b[49m\u001b[43m=\u001b[49m\u001b[43mioargs\u001b[49m\u001b[43m.\u001b[49m\u001b[43mencoding\u001b[49m\u001b[43m,\u001b[49m\n\u001b[32m    877\u001b[39m \u001b[43m            \u001b[49m\u001b[43merrors\u001b[49m\u001b[43m=\u001b[49m\u001b[43merrors\u001b[49m\u001b[43m,\u001b[49m\n\u001b[32m    878\u001b[39m \u001b[43m            \u001b[49m\u001b[43mnewline\u001b[49m\u001b[43m=\u001b[49m\u001b[33;43m\"\u001b[39;49m\u001b[33;43m\"\u001b[39;49m\u001b[43m,\u001b[49m\n\u001b[32m    879\u001b[39m \u001b[43m        \u001b[49m\u001b[43m)\u001b[49m\n\u001b[32m    880\u001b[39m     \u001b[38;5;28;01melse\u001b[39;00m:\n\u001b[32m    881\u001b[39m         \u001b[38;5;66;03m# Binary mode\u001b[39;00m\n\u001b[32m    882\u001b[39m         handle = \u001b[38;5;28mopen\u001b[39m(handle, ioargs.mode)\n",
      "\u001b[31mFileNotFoundError\u001b[39m: [Errno 2] No such file or directory: 'Klassik_angereichert.csv'"
     ]
    }
   ],
   "source": [
    "# Passe den Dateinamen entsprechend an\n",
    "filename = 'Klassik_angereichert.csv'\n",
    "\n",
    "# Daten aus der CSV-Datei in DataFrame laden\n",
    "df = pd.read_csv(filename)\n",
    "\n",
    "df\n"
   ]
  },
  {
   "cell_type": "markdown",
   "id": "0d4e0a46",
   "metadata": {
    "tags": []
   },
   "source": [
    "## Vertretene AutorInnen"
   ]
  },
  {
   "cell_type": "markdown",
   "id": "ffd277eb",
   "metadata": {},
   "source": [
    "Zuerst soll herausgefunden werden, welche AutorInnen mit wie vielen Werken in dem Datenset vorhanden sind. Dazu zählen wir die values in dem gegebenen Dataframe."
   ]
  },
  {
   "cell_type": "code",
   "execution_count": 32,
   "id": "d6b194e9",
   "metadata": {
    "tags": []
   },
   "outputs": [
    {
     "name": "stdout",
     "output_type": "stream",
     "text": [
      "Anzahl der Werke pro AutorIn:\n",
      "                                              Anzahl der Werke\n",
      "verfasser                                                     \n",
      "Kleist, Heinrich von                                       7\n",
      "Goethe, Johann Wolfgang von                                6\n",
      "Fontane, Theodor                                             6\n",
      "Meyer, Conrad Ferdinand                                      5\n",
      "Keller, Gottfried                                            5\n",
      "Eichendorff, Joseph von                                    4\n",
      "Schiller, Friedrich                                          4\n",
      "Hoffmann, E. T. A.                                           4\n",
      "Storm, Theodor                                               4\n",
      "Wassermann, Jakob                                            3\n",
      "Stifter, Adalbert                                            3\n",
      "Mörike, Eduard                                               3\n",
      "Gotthelf, Jeremias                                           3\n",
      "Tieck, Ludwig                                                2\n",
      "Anzengruber, Ludwig                                          2\n",
      "Schnitzler, Arthur                                           2\n",
      "Grabbe, Christian Dietrich                                   2\n",
      "Droste-Hülshoff, Annette von                               2\n",
      "Hofmannsthal, Hugo von                                     2\n",
      "Ebner-Eschenbach, Marie von                                2\n",
      "Lessing, Gotthold Ephraim                                    2\n",
      "Hebbel, Friedrich                                            2\n",
      "Raabe, Wilhelm                                               2\n",
      "Hauff, Wilhelm                                               1\n",
      "Meyrink, Gustav                                              1\n",
      "Wedekind, Frank                                              1\n",
      "Büchner, Georg                                               1\n",
      "Rilke, Rainer Maria                                          1\n",
      "Marlitt, E.                                                  1\n",
      "Heyse, Paul                                                  1\n",
      "Trakl, Georg                                                 1\n",
      "Schlegel, Friedrich von                                    1\n",
      "Postl, Karl                                                  1\n",
      "Grillparzer, Franz                                           1\n",
      "Heym, Georg                                                  1\n",
      "Kafka, Franz                                                 1\n",
      "Jean Paul                                                    1\n",
      "Raimund, Ferdinand                                           1\n",
      "Bassewitz, Gerdt von                                       1\n",
      "Heine, Heinrich                                              1\n",
      "Chamisso, Adelbert von                                     1\n",
      "Horváth, Ödön von                                          1\n",
      "Grimmelshausen, Hans Jakob Christoffel von                 1\n",
      "Uhland, Ludwig                                               1\n",
      "Reinheimer, Sophie                                           1\n",
      "Fouqué, Friedrich de La Motte-                               1\n",
      "Spyri, Johanna                                               1\n",
      "May, Karl                                                    1\n",
      "Hoffmann, Heinrich                                           1\n",
      "Wieland, Christoph Martin                                    1\n",
      "Ludwig, Otto                                                 1\n",
      "Hölderlin, Friedrich                                         1\n",
      "Spee, Friedrich von                                        1\n",
      "Körner, Theodor                                              1\n"
     ]
    }
   ],
   "source": [
    "# Anzahl der Werke pro AutorIn zählen und in ein DataFrame konvertieren\n",
    "anzahl_werke_pro_autor_df = pd.DataFrame(df['verfasser'].value_counts())\n",
    "\n",
    "# Umbenennen der Spalte in 'Anzahl der Werke'\n",
    "anzahl_werke_pro_autor_df.columns = ['Anzahl der Werke']\n",
    "\n",
    "# Anzeige des DataFrames\n",
    "print(\"Anzahl der Werke pro AutorIn:\")\n",
    "print(anzahl_werke_pro_autor_df)"
   ]
  },
  {
   "cell_type": "markdown",
   "id": "5fd60962",
   "metadata": {},
   "source": [
    "## Erscheinungsjahre visualisieren "
   ]
  },
  {
   "cell_type": "markdown",
   "id": "edb2b97b",
   "metadata": {},
   "source": [
    "Die Erscheinungsjahre der Publikationen sollen grafisch dargestellt werden.\n",
    "Testen Sie, was passiert, wenn Sie die Werte unter plt.figure(figsize=(15, 8)) & plt.hist(years, bins=50, ändern. "
   ]
  },
  {
   "cell_type": "code",
   "execution_count": 33,
   "id": "fe64d8c0",
   "metadata": {},
   "outputs": [
    {
     "data": {
      "image/png": "[encoded data removed]",
      "text/plain": [
       "<Figure size 1500x800 with 1 Axes>"
      ]
     },
     "metadata": {},
     "output_type": "display_data"
    }
   ],
   "source": [
    "# Erscheinungsjahre aus der Spalte 'jahr' im DataFrame df extrahieren\n",
    "years = df['jahr']\n",
    "\n",
    "# Histogramm erstellen\n",
    "plt.figure(figsize=(15, 8)) # definiert die Größe des Diagramms \n",
    "plt.hist(years, bins=50, color='skyblue', edgecolor='black')  # Anzahl der Bins anpassen, um die gewünschte Granularität zu erreichen\n",
    "plt.title('Verteilung der Erscheinungsjahre')\n",
    "plt.xlabel('Erscheinungsjahr')\n",
    "plt.ylabel('Anzahl der Werke')\n",
    "plt.grid(True)\n",
    "plt.show()\n"
   ]
  },
  {
   "cell_type": "markdown",
   "id": "a267f930",
   "metadata": {},
   "source": [
    "# Berufe visualisieren "
   ]
  },
  {
   "cell_type": "markdown",
   "id": "a40d5a3d",
   "metadata": {},
   "source": [
    "Was sind die 10 häufigsten Berufe, die unsere enthaltenen AutorInnen ausüben? Dazu können wir mit der matplotlib.pyplot ein Kreisdiagramm erstellen. Aufgrund der Diversität der Berufe wird der Datenbestand auf die Top-10-Berufe beschränkt. \n",
    "Im Codefeld beruf_beschaeftigung_counts = df['Beruf oder Beschäftigung'].value_counts().head(10) lässt sich der Wert 10 beliebig anpassen. Hier sollte man jedoch die Auswirkungen auf die Übersichtlichkeit beachten. "
   ]
  },
  {
   "cell_type": "code",
   "execution_count": 34,
   "id": "752fcdc1",
   "metadata": {},
   "outputs": [
    {
     "data": {
      "image/png": "[encoded data removed]",
      "text/plain": [
       "<Figure size 800x800 with 1 Axes>"
      ]
     },
     "metadata": {},
     "output_type": "display_data"
    }
   ],
   "source": [
    "# Beruf oder Beschäftigung\n",
    "beruf_beschaeftigung_counts = df['Beruf oder Beschäftigung'].value_counts().head(10)  # Nur die 10 häufigsten Werte\n",
    "\n",
    "# Kreisdiagramm erstellen\n",
    "plt.figure(figsize=(8, 8))\n",
    "plt.pie(beruf_beschaeftigung_counts, labels=beruf_beschaeftigung_counts.index, autopct='%1.1f%%', startangle=140)\n",
    "plt.title('Verteilung der 10 häufigsten Berufe oder Beschäftigungen')\n",
    "plt.axis('equal')  \n",
    "plt.show()\n"
   ]
  }
 ],
 "metadata": {
  "kernelspec": {
   "display_name": "Python 3 (ipykernel)",
   "language": "python",
   "name": "python3"
  },
  "language_info": {
   "codemirror_mode": {
    "name": "ipython",
    "version": 3
   },
   "file_extension": ".py",
   "mimetype": "text/x-python",
   "name": "python",
   "nbconvert_exporter": "python",
   "pygments_lexer": "ipython3",
   "version": "3.12.6"
  }
 },
 "nbformat": 4,
 "nbformat_minor": 5
}
