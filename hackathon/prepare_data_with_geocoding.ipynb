{
 "cells": [
  {
   "cell_type": "code",
   "execution_count": 28,
   "id": "d43a0fcc",
   "metadata": {},
   "outputs": [],
   "source": [
    "import pandas as pd\n",
    "import unicodedata\n",
    "import geopy\n",
    "from geopy.geocoders import Nominatim"
   ]
  },
  {
   "cell_type": "code",
   "execution_count": 27,
   "id": "d1a26c95",
   "metadata": {},
   "outputs": [
    {
     "name": "stdout",
     "output_type": "stream",
     "text": [
      "27593\n"
     ]
    }
   ],
   "source": [
    "df = pd.read_csv(\"exilarchiv-monografien-mit-geoloc-v6-corr2.csv\", sep=';', encoding=\"utf-8\")\n",
    "print(len(df))\n"
   ]
  },
  {
   "cell_type": "code",
   "execution_count": 4,
   "id": "b3bc13c6",
   "metadata": {},
   "outputs": [],
   "source": [
    "df = df.drop(['lat', 'long'], axis=1)"
   ]
  },
  {
   "cell_type": "code",
   "execution_count": 22,
   "id": "ccd36e5c",
   "metadata": {},
   "outputs": [],
   "source": [
    "df_cord = df[['pubplace']]  # filter by pubplace (brackets already cleared)\n",
    "df_cord = df_cord.drop_duplicates()"
   ]
  },
  {
   "cell_type": "code",
   "execution_count": 23,
   "id": "b2ddef94",
   "metadata": {},
   "outputs": [],
   "source": [
    "def normalize(text): \n",
    "    new = unicodedata.normalize('NFC', text)\n",
    "    return new \n",
    "\n",
    "df_cord.pubplace = df_cord.pubplace.apply(normalize)\n",
    "df_cord.pubplace = df_cord.pubplace.str.strip('\"\"')"
   ]
  },
  {
   "cell_type": "code",
   "execution_count": 24,
   "id": "14fbc617",
   "metadata": {},
   "outputs": [
    {
     "data": {
      "text/html": [
       "<div>\n",
       "<style scoped>\n",
       "    .dataframe tbody tr th:only-of-type {\n",
       "        vertical-align: middle;\n",
       "    }\n",
       "\n",
       "    .dataframe tbody tr th {\n",
       "        vertical-align: top;\n",
       "    }\n",
       "\n",
       "    .dataframe thead th {\n",
       "        text-align: right;\n",
       "    }\n",
       "</style>\n",
       "<table border=\"1\" class=\"dataframe\">\n",
       "  <thead>\n",
       "    <tr style=\"text-align: right;\">\n",
       "      <th></th>\n",
       "      <th>pubplace</th>\n",
       "    </tr>\n",
       "  </thead>\n",
       "  <tbody>\n",
       "    <tr>\n",
       "      <th>451</th>\n",
       "      <td>München</td>\n",
       "    </tr>\n",
       "  </tbody>\n",
       "</table>\n",
       "</div>"
      ],
      "text/plain": [
       "    pubplace\n",
       "451  München"
      ]
     },
     "execution_count": 24,
     "metadata": {},
     "output_type": "execute_result"
    }
   ],
   "source": [
    "df_cord.query(\"pubplace == 'München'\")"
   ]
  },
  {
   "cell_type": "code",
   "execution_count": 29,
   "id": "78c0c016",
   "metadata": {},
   "outputs": [],
   "source": [
    "## Connect to Geolocator:\n",
    "geolocator = Nominatim(timeout=10, user_agent = \"myGeolocator\")"
   ]
  },
  {
   "cell_type": "code",
   "execution_count": 31,
   "id": "9f38c4eb",
   "metadata": {},
   "outputs": [
    {
     "data": {
      "text/html": [
       "<div>\n",
       "<style scoped>\n",
       "    .dataframe tbody tr th:only-of-type {\n",
       "        vertical-align: middle;\n",
       "    }\n",
       "\n",
       "    .dataframe tbody tr th {\n",
       "        vertical-align: top;\n",
       "    }\n",
       "\n",
       "    .dataframe thead th {\n",
       "        text-align: right;\n",
       "    }\n",
       "</style>\n",
       "<table border=\"1\" class=\"dataframe\">\n",
       "  <thead>\n",
       "    <tr style=\"text-align: right;\">\n",
       "      <th></th>\n",
       "      <th>pubplace</th>\n",
       "      <th>gcode</th>\n",
       "    </tr>\n",
       "  </thead>\n",
       "  <tbody>\n",
       "    <tr>\n",
       "      <th>0</th>\n",
       "      <td>London</td>\n",
       "      <td>(London, Greater London, England, United Kingd...</td>\n",
       "    </tr>\n",
       "    <tr>\n",
       "      <th>1</th>\n",
       "      <td>New York</td>\n",
       "      <td>(City of New York, New York, United States, (4...</td>\n",
       "    </tr>\n",
       "    <tr>\n",
       "      <th>2</th>\n",
       "      <td>Praha</td>\n",
       "      <td>(Hlavní město Praha, Praha, Česko, (50.0874654...</td>\n",
       "    </tr>\n",
       "    <tr>\n",
       "      <th>3</th>\n",
       "      <td>Ankara</td>\n",
       "      <td>(Ankara, Çankaya, Ankara, İç Anadolu Bölgesi, ...</td>\n",
       "    </tr>\n",
       "    <tr>\n",
       "      <th>5</th>\n",
       "      <td>Leipzig</td>\n",
       "      <td>(Leipzig, Sachsen, Deutschland, (51.3406321, 1...</td>\n",
       "    </tr>\n",
       "    <tr>\n",
       "      <th>...</th>\n",
       "      <td>...</td>\n",
       "      <td>...</td>\n",
       "    </tr>\n",
       "    <tr>\n",
       "      <th>27443</th>\n",
       "      <td>Madison, NJ</td>\n",
       "      <td>(Madison, Morris County, New Jersey, 07940, Un...</td>\n",
       "    </tr>\n",
       "    <tr>\n",
       "      <th>27455</th>\n",
       "      <td>Adana</td>\n",
       "      <td>(Adana, Seyhan, Adana, Akdeniz Bölgesi, 01010,...</td>\n",
       "    </tr>\n",
       "    <tr>\n",
       "      <th>27496</th>\n",
       "      <td>Providence</td>\n",
       "      <td>(Providence, Providence County, Rhode Island, ...</td>\n",
       "    </tr>\n",
       "    <tr>\n",
       "      <th>27574</th>\n",
       "      <td>Summit, N. J.</td>\n",
       "      <td>(Summit, Union County, New Jersey, United Stat...</td>\n",
       "    </tr>\n",
       "    <tr>\n",
       "      <th>27579</th>\n",
       "      <td>Darien, Conn.</td>\n",
       "      <td>(Darien, Western Connecticut Planning Region, ...</td>\n",
       "    </tr>\n",
       "  </tbody>\n",
       "</table>\n",
       "<p>726 rows × 2 columns</p>\n",
       "</div>"
      ],
      "text/plain": [
       "            pubplace                                              gcode\n",
       "0             London  (London, Greater London, England, United Kingd...\n",
       "1           New York  (City of New York, New York, United States, (4...\n",
       "2              Praha  (Hlavní město Praha, Praha, Česko, (50.0874654...\n",
       "3             Ankara  (Ankara, Çankaya, Ankara, İç Anadolu Bölgesi, ...\n",
       "5            Leipzig  (Leipzig, Sachsen, Deutschland, (51.3406321, 1...\n",
       "...              ...                                                ...\n",
       "27443    Madison, NJ  (Madison, Morris County, New Jersey, 07940, Un...\n",
       "27455          Adana  (Adana, Seyhan, Adana, Akdeniz Bölgesi, 01010,...\n",
       "27496     Providence  (Providence, Providence County, Rhode Island, ...\n",
       "27574  Summit, N. J.  (Summit, Union County, New Jersey, United Stat...\n",
       "27579  Darien, Conn.  (Darien, Western Connecticut Planning Region, ...\n",
       "\n",
       "[726 rows x 2 columns]"
      ]
     },
     "execution_count": 31,
     "metadata": {},
     "output_type": "execute_result"
    }
   ],
   "source": [
    "#Add new colum 'gcode' that contains translated Ort-value to geolocation: \n",
    "#WARNING: THIS MAY TAKE A WHILE\n",
    "\n",
    "df_cord['gcode'] = df_cord.pubplace.apply(geolocator.geocode)\n",
    "df_cord"
   ]
  },
  {
   "cell_type": "code",
   "execution_count": null,
   "id": "c309e5bb",
   "metadata": {},
   "outputs": [],
   "source": []
  }
 ],
 "metadata": {
  "kernelspec": {
   "display_name": "Python 3 (ipykernel)",
   "language": "python",
   "name": "python3"
  },
  "language_info": {
   "codemirror_mode": {
    "name": "ipython",
    "version": 3
   },
   "file_extension": ".py",
   "mimetype": "text/x-python",
   "name": "python",
   "nbconvert_exporter": "python",
   "pygments_lexer": "ipython3",
   "version": "3.10.9"
  }
 },
 "nbformat": 4,
 "nbformat_minor": 5
}
