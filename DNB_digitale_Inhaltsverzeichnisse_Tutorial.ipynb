{
 "cells": [
  {
   "cell_type": "markdown",
   "metadata": {
    "nbpresent": {
     "id": "d0d72cd5-034d-4b94-a4e2-54f7753cb9f0"
    }
   },
   "source": [
    "# DNBLab Jupyter Notebook Tutorial"
   ]
  },
  {
   "cell_type": "markdown",
   "metadata": {
    "nbpresent": {
     "id": "558898c3-e162-4e46-92d5-b4c914325790"
    }
   },
   "source": [
    "## Digitalisierte Inhaltsverzeichnisse: Datenabfrage, Auslieferung und Volltextanalyse"
   ]
  },
  {
   "cell_type": "markdown",
   "metadata": {
    "nbpresent": {
     "id": "ee78241c-36e7-45e6-b015-0ef46f1e777d"
    }
   },
   "source": [
    "Dieses DNBLab-Tutorial beschreibt eine Beispielabfrage zu digitalisierten Inhaltsverzeichnissen über die SRU-Schnittstelle und umfasst das temporäre Speichern der Inhaltsverzeichnisse als Textdateien sowie die Analyse der Volltexte nach \n",
    "\n",
    "* [1. Häufigkeit eines beliebigen Suchwortes](#Teil1)\n",
    "* [2. Vorkommen des Suchwortes in den einzelnen Textdateien](#Teil2)\n",
    "* [3. Top 20 häufigste Wörter in den Textdateien](#Teil3)\n"
   ]
  },
  {
   "cell_type": "markdown",
   "metadata": {
    "nbpresent": {
     "id": "3c6f6024-cb7c-4b65-8646-a753069cb5a4"
    }
   },
   "source": [
    "## Einrichten der Arbeitsumgebung\n",
    "\n",
    "Um die Arbeitsumgebung für die folgenden Schritte passend einzurichten, sollten zunächst die benötigten Python-Bibliotheken importiert werden. Für Anfragen über die SRU-Schnittstelle wird Requests (https://docs.python-requests.org/en/latest/) verwendet, zur Verarbeitung der XML-Daten BeautifulSoup https://www.crummy.com/software/BeautifulSoup/ und etree https://docs.python.org/3/library/xml.etree.elementtree.html. Mit Pandas https://pandas.pydata.org/ werden die  aus dem MARC21-Format ausgelesenen Elemente weiterverarbeitet. In der Jupyter Notebook Umgebung kann der dokumentierte Code direkt ausgeführt und angepasst werden."
   ]
  },
  {
   "cell_type": "code",
   "execution_count": 1,
   "metadata": {},
   "outputs": [],
   "source": [
    "import requests\n",
    "from bs4 import BeautifulSoup as soup\n",
    "import unicodedata\n",
    "from lxml import etree\n",
    "import pandas as pd\n",
    "from collections import Counter"
   ]
  },
  {
   "cell_type": "markdown",
   "metadata": {},
   "source": [
    "## SRU-Abfrage mit Ausgabe in MARC21-xml\n",
    "\n",
    "Die Funktion dnb_sru nimmt den Paramter \"query\" der SRU-Abfrage entgegen und liefert alle Ergebnisse als eine Liste von Records aus. Weitere Informationen und Funktionen der SRU- Schnittstelle werden unter https://www.dnb.de/sru beschrieben."
   ]
  },
  {
   "cell_type": "code",
   "execution_count": 2,
   "metadata": {},
   "outputs": [],
   "source": [
    "def dnb_sru(query):\n",
    "    \n",
    "    base_url = \"https://services.dnb.de/sru/dnb\"\n",
    "    params = {'recordSchema' : 'MARC21-xml',\n",
    "          'operation': 'searchRetrieve',\n",
    "          'version': '1.1',\n",
    "          'maximumRecords': '100',\n",
    "          'query': query\n",
    "         }\n",
    "    r = requests.get(base_url, params=params)\n",
    "    xml = soup(r.content, features=\"xml\")\n",
    "    records = xml.find_all('record', {'type':'Bibliographic'})\n",
    "    \n",
    "    if len(records) < 100:\n",
    "        \n",
    "        return records\n",
    "    \n",
    "    else:\n",
    "        \n",
    "        num_results = 100\n",
    "        i = 101\n",
    "        while num_results == 100:\n",
    "            \n",
    "            params.update({'startRecord': i})\n",
    "            r = requests.get(base_url, params=params)\n",
    "            xml = soup(r.content)\n",
    "            new_records = xml.find_all('record', {'type':'Bibliographic'})\n",
    "            records+=new_records\n",
    "            i+=100\n",
    "            num_results = len(new_records)\n",
    "            \n",
    "        return records"
   ]
  },
  {
   "cell_type": "markdown",
   "metadata": {},
   "source": [
    "## Durchsuchen eines MARC-Feldes\n",
    "\n",
    "Die Funktion parse_records nimmt als Parameter jeweils einen Record entgegen, sucht über xpath die gewünschten Informationen heraus und liefert diese als Dictionary zurück. Die Schlüssel-Werte-Paare können beliebig agepasst und erweitert werden. In diesem Fall werden nur die Permalinks zu den digitalisierten Inhaltsverzeichnissen als \"link\" ausgegeben."
   ]
  },
  {
   "cell_type": "code",
   "execution_count": 3,
   "metadata": {},
   "outputs": [],
   "source": [
    "def parse_record(record):\n",
    "    \n",
    "    ns = {\"marc\":\"http://www.loc.gov/MARC21/slim\"}\n",
    "    xml = etree.fromstring(unicodedata.normalize(\"NFC\", str(record)))\n",
    "    \n",
    "    \n",
    "    descriptions = xml.xpath(\"marc:datafield[@tag = '856']/marc:subfield[@code = '3']\", namespaces=ns)\n",
    "    links = xml.xpath(\"marc:datafield[@tag = '856']/marc:subfield[@code = 'u']\", namespaces=ns)\n",
    "    \n",
    "    try:\n",
    "        description1 = descriptions[0].text\n",
    "    except:\n",
    "        description1 = \"unknown\"\n",
    "        \n",
    "    try: \n",
    "        description2 = descriptions[1].text\n",
    "    except:\n",
    "        description2 = \"unknown\"\n",
    "        \n",
    "        \n",
    "    if description1 == \"Inhaltsverzeichnis\": \n",
    "        link = links[0].text\n",
    "    elif description2 == \"Inhaltsverzeichnis\": \n",
    "        link = links[1].text\n",
    "    else:\n",
    "        link = \"unknown\"\n",
    "\n",
    "    \n",
    "        \n",
    "        \n",
    "    meta_dict = {\"link\":link + '/text'}\n",
    "    \n",
    "    return meta_dict"
   ]
  },
  {
   "cell_type": "markdown",
   "metadata": {},
   "source": [
    "Über verschiedene Indices https://services.dnb.de/sru/dnb?operation=explain&version=1.1 kann die SRU-Abfrage \"dnb_sru\" mittels CQL https://www.dnb.de/DE/Service/Hilfe/Katalog/kataloghilfeExpertensuche.html eingeschränkt werden. Im Folgenden Code wird die Abfrage über das Stichwort \"Sandwespe\" im Volltextindex der digitalisierten Inhaltsverzeichnisse eingeschränkt. Durch Anpassen der SRU-Abfrage kann die Trefferliste beliebig geändert werden."
   ]
  },
  {
   "cell_type": "code",
   "execution_count": 4,
   "metadata": {},
   "outputs": [
    {
     "name": "stdout",
     "output_type": "stream",
     "text": [
      "21 Ergebnisse\n"
     ]
    }
   ],
   "source": [
    "records = dnb_sru('inh=111 Dinge')\n",
    "print(len(records), 'Ergebnisse')"
   ]
  },
  {
   "cell_type": "markdown",
   "metadata": {},
   "source": [
    "## Beispielanzeige zur weiteren Bearbeitung\n",
    "\n",
    "Mit der Bibliothek Pandas für Python wird das Ergebnis (Dictionary-Element \"link\") als Dataframe ausgegeben."
   ]
  },
  {
   "cell_type": "code",
   "execution_count": 5,
   "metadata": {},
   "outputs": [
    {
     "data": {
      "text/html": [
       "<div>\n",
       "<style scoped>\n",
       "    .dataframe tbody tr th:only-of-type {\n",
       "        vertical-align: middle;\n",
       "    }\n",
       "\n",
       "    .dataframe tbody tr th {\n",
       "        vertical-align: top;\n",
       "    }\n",
       "\n",
       "    .dataframe thead th {\n",
       "        text-align: right;\n",
       "    }\n",
       "</style>\n",
       "<table border=\"1\" class=\"dataframe\">\n",
       "  <thead>\n",
       "    <tr style=\"text-align: right;\">\n",
       "      <th></th>\n",
       "      <th>link</th>\n",
       "    </tr>\n",
       "  </thead>\n",
       "  <tbody>\n",
       "    <tr>\n",
       "      <th>0</th>\n",
       "      <td>https://d-nb.info/1231002506/04/text</td>\n",
       "    </tr>\n",
       "    <tr>\n",
       "      <th>1</th>\n",
       "      <td>https://d-nb.info/1231000813/04/text</td>\n",
       "    </tr>\n",
       "    <tr>\n",
       "      <th>2</th>\n",
       "      <td>https://d-nb.info/1231000651/04/text</td>\n",
       "    </tr>\n",
       "    <tr>\n",
       "      <th>3</th>\n",
       "      <td>https://d-nb.info/1207560782/04/text</td>\n",
       "    </tr>\n",
       "    <tr>\n",
       "      <th>4</th>\n",
       "      <td>https://d-nb.info/1200950275/04/text</td>\n",
       "    </tr>\n",
       "    <tr>\n",
       "      <th>5</th>\n",
       "      <td>https://d-nb.info/1218613459/04/text</td>\n",
       "    </tr>\n",
       "    <tr>\n",
       "      <th>6</th>\n",
       "      <td>https://d-nb.info/1209563045/04/text</td>\n",
       "    </tr>\n",
       "    <tr>\n",
       "      <th>7</th>\n",
       "      <td>https://d-nb.info/1183712243/04/text</td>\n",
       "    </tr>\n",
       "    <tr>\n",
       "      <th>8</th>\n",
       "      <td>https://d-nb.info/1179561996/04/text</td>\n",
       "    </tr>\n",
       "    <tr>\n",
       "      <th>9</th>\n",
       "      <td>https://d-nb.info/1148135065/04/text</td>\n",
       "    </tr>\n",
       "    <tr>\n",
       "      <th>10</th>\n",
       "      <td>https://d-nb.info/1138576425/04/text</td>\n",
       "    </tr>\n",
       "    <tr>\n",
       "      <th>11</th>\n",
       "      <td>https://d-nb.info/1058497537/04/text</td>\n",
       "    </tr>\n",
       "    <tr>\n",
       "      <th>12</th>\n",
       "      <td>https://d-nb.info/1064177492/04/text</td>\n",
       "    </tr>\n",
       "    <tr>\n",
       "      <th>13</th>\n",
       "      <td>https://d-nb.info/1057034185/04/text</td>\n",
       "    </tr>\n",
       "    <tr>\n",
       "      <th>14</th>\n",
       "      <td>https://d-nb.info/997573570/04/text</td>\n",
       "    </tr>\n",
       "    <tr>\n",
       "      <th>15</th>\n",
       "      <td>https://d-nb.info/988669412/04/text</td>\n",
       "    </tr>\n",
       "    <tr>\n",
       "      <th>16</th>\n",
       "      <td>https://d-nb.info/982041594/04/text</td>\n",
       "    </tr>\n",
       "    <tr>\n",
       "      <th>17</th>\n",
       "      <td>https://d-nb.info/963032232/04/text</td>\n",
       "    </tr>\n",
       "    <tr>\n",
       "      <th>18</th>\n",
       "      <td>https://d-nb.info/958890544/04/text</td>\n",
       "    </tr>\n",
       "    <tr>\n",
       "      <th>19</th>\n",
       "      <td>https://d-nb.info/830574255/04/text</td>\n",
       "    </tr>\n",
       "    <tr>\n",
       "      <th>20</th>\n",
       "      <td>https://d-nb.info/800125363/04/text</td>\n",
       "    </tr>\n",
       "  </tbody>\n",
       "</table>\n",
       "</div>"
      ],
      "text/plain": [
       "                                    link\n",
       "0   https://d-nb.info/1231002506/04/text\n",
       "1   https://d-nb.info/1231000813/04/text\n",
       "2   https://d-nb.info/1231000651/04/text\n",
       "3   https://d-nb.info/1207560782/04/text\n",
       "4   https://d-nb.info/1200950275/04/text\n",
       "5   https://d-nb.info/1218613459/04/text\n",
       "6   https://d-nb.info/1209563045/04/text\n",
       "7   https://d-nb.info/1183712243/04/text\n",
       "8   https://d-nb.info/1179561996/04/text\n",
       "9   https://d-nb.info/1148135065/04/text\n",
       "10  https://d-nb.info/1138576425/04/text\n",
       "11  https://d-nb.info/1058497537/04/text\n",
       "12  https://d-nb.info/1064177492/04/text\n",
       "13  https://d-nb.info/1057034185/04/text\n",
       "14   https://d-nb.info/997573570/04/text\n",
       "15   https://d-nb.info/988669412/04/text\n",
       "16   https://d-nb.info/982041594/04/text\n",
       "17   https://d-nb.info/963032232/04/text\n",
       "18   https://d-nb.info/958890544/04/text\n",
       "19   https://d-nb.info/830574255/04/text\n",
       "20   https://d-nb.info/800125363/04/text"
      ]
     },
     "execution_count": 5,
     "metadata": {},
     "output_type": "execute_result"
    }
   ],
   "source": [
    "output = [parse_record(record) for record in records]\n",
    "df = pd.DataFrame(output)\n",
    "df\n",
    "\n",
    "#Die Ausgabe der ermittelten Links kann je nach Bedarf über verschiedene Funktionen erfolgen:\n",
    "#print(df.to_string(index=False))\n",
    "#HTML(df.to_html(index=False))\n",
    "#document = df.to_dict(orient='list')\n",
    "#print(document)"
   ]
  },
  {
   "cell_type": "markdown",
   "metadata": {},
   "source": [
    "## Download der Textdateien \n",
    "\n",
    "Mit der folgenden Funktion df.to_csv() werden die Ergebnisse als \"links.csv\" in das Jupyter-Verzeichnins der Einstiegsseite abgelegt und können dort heruntergeladen werden. "
   ]
  },
  {
   "cell_type": "code",
   "execution_count": 6,
   "metadata": {},
   "outputs": [],
   "source": [
    "df.to_csv(\"links.csv\", index=False)"
   ]
  },
  {
   "cell_type": "markdown",
   "metadata": {},
   "source": [
    "Mit wget werden alle in der CSV-Datei gespeicherten Links heruntergeladen und als Textdateien (text, text.1, text.2, usw.) im temporären Jupyter-Verzeichnis gespeichert (Downloadlimit 1MB). "
   ]
  },
  {
   "cell_type": "code",
   "execution_count": 7,
   "metadata": {
    "scrolled": true,
    "tags": []
   },
   "outputs": [
    {
     "name": "stdout",
     "output_type": "stream",
     "text": [
      "--2022-08-02 10:39:28--  http://link/\n",
      "Resolving link (link)... failed: No address associated with hostname.\n",
      "wget: unable to resolve host address ‘link’\n",
      "--2022-08-02 10:39:28--  https://d-nb.info/1231002506/04/text\n",
      "Resolving d-nb.info (d-nb.info)... 193.175.100.223\n",
      "Connecting to d-nb.info (d-nb.info)|193.175.100.223|:443... connected.\n",
      "HTTP request sent, awaiting response... 200 OK\n",
      "Length: 7322 (7.2K) [text/plain]\n",
      "Saving to: ‘text’\n",
      "\n",
      "text                100%[===================>]   7.15K  --.-KB/s    in 0s      \n",
      "\n",
      "2022-08-02 10:39:28 (482 MB/s) - ‘text’ saved [7322/7322]\n",
      "\n",
      "--2022-08-02 10:39:28--  https://d-nb.info/1231000813/04/text\n",
      "Reusing existing connection to d-nb.info:443.\n",
      "HTTP request sent, awaiting response... 200 OK\n",
      "Length: 8132 (7.9K) [text/plain]\n",
      "Saving to: ‘text.1’\n",
      "\n",
      "text.1              100%[===================>]   7.94K  --.-KB/s    in 0s      \n",
      "\n",
      "2022-08-02 10:39:28 (77.7 MB/s) - ‘text.1’ saved [8132/8132]\n",
      "\n",
      "--2022-08-02 10:39:28--  https://d-nb.info/1231000651/04/text\n",
      "Reusing existing connection to d-nb.info:443.\n",
      "HTTP request sent, awaiting response... 200 OK\n",
      "Length: 8010 (7.8K) [text/plain]\n",
      "Saving to: ‘text.2’\n",
      "\n",
      "text.2              100%[===================>]   7.82K  --.-KB/s    in 0s      \n",
      "\n",
      "2022-08-02 10:39:28 (78.2 MB/s) - ‘text.2’ saved [8010/8010]\n",
      "\n",
      "--2022-08-02 10:39:28--  https://d-nb.info/1207560782/04/text\n",
      "Reusing existing connection to d-nb.info:443.\n",
      "HTTP request sent, awaiting response... 200 OK\n",
      "Length: 6881 (6.7K) [text/plain]\n",
      "Saving to: ‘text.3’\n",
      "\n",
      "text.3              100%[===================>]   6.72K  --.-KB/s    in 0s      \n",
      "\n",
      "2022-08-02 10:39:28 (538 MB/s) - ‘text.3’ saved [6881/6881]\n",
      "\n",
      "--2022-08-02 10:39:28--  https://d-nb.info/1200950275/04/text\n",
      "Reusing existing connection to d-nb.info:443.\n",
      "HTTP request sent, awaiting response... 200 OK\n",
      "Length: 13919 (14K) [text/plain]\n",
      "Saving to: ‘text.4’\n",
      "\n",
      "text.4              100%[===================>]  13.59K  --.-KB/s    in 0s      \n",
      "\n",
      "2022-08-02 10:39:28 (80.4 MB/s) - ‘text.4’ saved [13919/13919]\n",
      "\n",
      "--2022-08-02 10:39:28--  https://d-nb.info/1218613459/04/text\n",
      "Reusing existing connection to d-nb.info:443.\n",
      "HTTP request sent, awaiting response... 200 OK\n",
      "Length: 28834 (28K) [text/plain]\n",
      "Saving to: ‘text.5’\n",
      "\n",
      "text.5              100%[===================>]  28.16K  --.-KB/s    in 0s      \n",
      "\n",
      "2022-08-02 10:39:29 (90.9 MB/s) - ‘text.5’ saved [28834/28834]\n",
      "\n",
      "--2022-08-02 10:39:29--  https://d-nb.info/1209563045/04/text\n",
      "Reusing existing connection to d-nb.info:443.\n",
      "HTTP request sent, awaiting response... 200 OK\n",
      "Length: 1182 (1.2K) [text/plain]\n",
      "Saving to: ‘text.6’\n",
      "\n",
      "text.6              100%[===================>]   1.15K  --.-KB/s    in 0s      \n",
      "\n",
      "2022-08-02 10:39:29 (97.9 MB/s) - ‘text.6’ saved [1182/1182]\n",
      "\n",
      "--2022-08-02 10:39:29--  https://d-nb.info/1183712243/04/text\n",
      "Reusing existing connection to d-nb.info:443.\n",
      "HTTP request sent, awaiting response... 200 OK\n",
      "Length: 5953 (5.8K) [text/plain]\n",
      "Saving to: ‘text.7’\n",
      "\n",
      "text.7              100%[===================>]   5.81K  --.-KB/s    in 0s      \n",
      "\n",
      "2022-08-02 10:39:29 (477 MB/s) - ‘text.7’ saved [5953/5953]\n",
      "\n",
      "--2022-08-02 10:39:29--  https://d-nb.info/1179561996/04/text\n",
      "Reusing existing connection to d-nb.info:443.\n",
      "HTTP request sent, awaiting response... 200 OK\n",
      "Length: 7359 (7.2K) [text/plain]\n",
      "Saving to: ‘text.8’\n",
      "\n",
      "text.8              100%[===================>]   7.19K  --.-KB/s    in 0s      \n",
      "\n",
      "2022-08-02 10:39:29 (587 MB/s) - ‘text.8’ saved [7359/7359]\n",
      "\n",
      "--2022-08-02 10:39:29--  https://d-nb.info/1148135065/04/text\n",
      "Reusing existing connection to d-nb.info:443.\n",
      "HTTP request sent, awaiting response... 200 OK\n",
      "Length: 6684 (6.5K) [text/plain]\n",
      "Saving to: ‘text.9’\n",
      "\n",
      "text.9              100%[===================>]   6.53K  --.-KB/s    in 0s      \n",
      "\n",
      "2022-08-02 10:39:29 (521 MB/s) - ‘text.9’ saved [6684/6684]\n",
      "\n",
      "--2022-08-02 10:39:29--  https://d-nb.info/1138576425/04/text\n",
      "Reusing existing connection to d-nb.info:443.\n",
      "HTTP request sent, awaiting response... 200 OK\n",
      "Length: 1154 (1.1K) [text/plain]\n",
      "Saving to: ‘text.10’\n",
      "\n",
      "text.10             100%[===================>]   1.13K  --.-KB/s    in 0s      \n",
      "\n",
      "2022-08-02 10:39:29 (98.0 MB/s) - ‘text.10’ saved [1154/1154]\n",
      "\n",
      "--2022-08-02 10:39:29--  https://d-nb.info/1058497537/04/text\n",
      "Reusing existing connection to d-nb.info:443.\n",
      "HTTP request sent, awaiting response... 200 OK\n",
      "Length: 3220 (3.1K) [text/plain]\n",
      "Saving to: ‘text.11’\n",
      "\n",
      "text.11             100%[===================>]   3.14K  --.-KB/s    in 0s      \n",
      "\n",
      "2022-08-02 10:39:29 (254 MB/s) - ‘text.11’ saved [3220/3220]\n",
      "\n",
      "--2022-08-02 10:39:29--  https://d-nb.info/1064177492/04/text\n",
      "Reusing existing connection to d-nb.info:443.\n",
      "HTTP request sent, awaiting response... 200 OK\n",
      "Length: 6884 (6.7K) [text/plain]\n",
      "Saving to: ‘text.12’\n",
      "\n",
      "text.12             100%[===================>]   6.72K  --.-KB/s    in 0s      \n",
      "\n",
      "2022-08-02 10:39:29 (542 MB/s) - ‘text.12’ saved [6884/6884]\n",
      "\n",
      "--2022-08-02 10:39:29--  https://d-nb.info/1057034185/04/text\n",
      "Reusing existing connection to d-nb.info:443.\n",
      "HTTP request sent, awaiting response... 200 OK\n",
      "Length: 14019 (14K) [text/plain]\n",
      "Saving to: ‘text.13’\n",
      "\n",
      "text.13             100%[===================>]  13.69K  --.-KB/s    in 0s      \n",
      "\n",
      "2022-08-02 10:39:29 (44.9 MB/s) - ‘text.13’ saved [14019/14019]\n",
      "\n",
      "--2022-08-02 10:39:29--  https://d-nb.info/997573570/04/text\n",
      "Reusing existing connection to d-nb.info:443.\n",
      "HTTP request sent, awaiting response... 200 OK\n",
      "Length: 26505 (26K) [text/plain]\n",
      "Saving to: ‘text.14’\n",
      "\n",
      "text.14             100%[===================>]  25.88K  --.-KB/s    in 0s      \n",
      "\n",
      "2022-08-02 10:39:29 (97.1 MB/s) - ‘text.14’ saved [26505/26505]\n",
      "\n",
      "--2022-08-02 10:39:29--  https://d-nb.info/988669412/04/text\n",
      "Reusing existing connection to d-nb.info:443.\n",
      "HTTP request sent, awaiting response... 200 OK\n",
      "Length: 3944 (3.9K) [text/plain]\n",
      "Saving to: ‘text.15’\n",
      "\n",
      "text.15             100%[===================>]   3.85K  --.-KB/s    in 0s      \n",
      "\n",
      "2022-08-02 10:39:29 (300 MB/s) - ‘text.15’ saved [3944/3944]\n",
      "\n",
      "--2022-08-02 10:39:29--  https://d-nb.info/982041594/04/text\n",
      "Reusing existing connection to d-nb.info:443.\n",
      "HTTP request sent, awaiting response... 200 OK\n",
      "Length: 879 [text/plain]\n",
      "Saving to: ‘text.16’\n",
      "\n",
      "text.16             100%[===================>]     879  --.-KB/s    in 0s      \n",
      "\n",
      "2022-08-02 10:39:29 (71.8 MB/s) - ‘text.16’ saved [879/879]\n",
      "\n",
      "--2022-08-02 10:39:29--  https://d-nb.info/963032232/04/text\n",
      "Reusing existing connection to d-nb.info:443.\n",
      "HTTP request sent, awaiting response... 200 OK\n",
      "Length: 6901 (6.7K) [text/plain]\n",
      "Saving to: ‘text.17’\n",
      "\n",
      "text.17             100%[===================>]   6.74K  --.-KB/s    in 0s      \n",
      "\n",
      "2022-08-02 10:39:29 (539 MB/s) - ‘text.17’ saved [6901/6901]\n",
      "\n",
      "--2022-08-02 10:39:29--  https://d-nb.info/958890544/04/text\n",
      "Reusing existing connection to d-nb.info:443.\n",
      "HTTP request sent, awaiting response... 200 OK\n",
      "Length: 92162 (90K) [text/plain]\n",
      "Saving to: ‘text.18’\n",
      "\n",
      "text.18             100%[===================>]  90.00K  --.-KB/s    in 0.02s   \n",
      "\n",
      "2022-08-02 10:39:30 (5.22 MB/s) - ‘text.18’ saved [92162/92162]\n",
      "\n",
      "--2022-08-02 10:39:30--  https://d-nb.info/830574255/04/text\n",
      "Reusing existing connection to d-nb.info:443.\n",
      "HTTP request sent, awaiting response... 200 OK\n",
      "Length: 47974 (47K) [text/plain]\n",
      "Saving to: ‘text.19’\n",
      "\n",
      "text.19             100%[===================>]  46.85K  --.-KB/s    in 0.001s  \n",
      "\n",
      "2022-08-02 10:39:30 (56.8 MB/s) - ‘text.19’ saved [47974/47974]\n",
      "\n",
      "--2022-08-02 10:39:30--  https://d-nb.info/800125363/04/text\n",
      "Reusing existing connection to d-nb.info:443.\n",
      "HTTP request sent, awaiting response... 200 OK\n",
      "Length: 4710 (4.6K) [text/plain]\n",
      "Saving to: ‘text.20’\n",
      "\n",
      "text.20             100%[===================>]   4.60K  --.-KB/s    in 0s      \n",
      "\n",
      "2022-08-02 10:39:30 (383 MB/s) - ‘text.20’ saved [4710/4710]\n",
      "\n",
      "FINISHED --2022-08-02 10:39:30--\n",
      "Total wall clock time: 2.1s\n",
      "Downloaded: 21 files, 296K in 0.02s (15.2 MB/s)\n"
     ]
    }
   ],
   "source": [
    "!wget -Q1m -i links.csv"
   ]
  },
  {
   "cell_type": "markdown",
   "metadata": {},
   "source": [
    "## Volltextanalyse \n",
    "\n",
    "### 1. Häufigkeit eines beliebigen Suchwortes<a class=\"anchor\" id=\"Teil1\"></a>\n",
    "\n",
    "Die heruntergeladenen Textdateien können nach einem Suchwort, z.B. search = \"biene\" durchsucht werden. Als Antwort werden die durchsuchten Textdateien genannt und die Häufigkeit des gesuchten Wortes in den genannten Dateien ausgegeben. Dabei entspricht die Dateibenennung den im Verzeichnis heruntergeladen Textdateien (text, text1, text2 usw.).\n",
    "Das Suchwort kann beliebig geändert und die Suche durch Ausführen des Codes angepasst werden."
   ]
  },
  {
   "cell_type": "code",
   "execution_count": 8,
   "metadata": {},
   "outputs": [
    {
     "data": {
      "application/vnd.jupyter.widget-view+json": {
       "model_id": "de90cbaeacea442faebdd421f9071b66",
       "version_major": 2,
       "version_minor": 0
      },
      "text/plain": [
       "Text(value='biene', description='Suchwort: ')"
      ]
     },
     "metadata": {},
     "output_type": "display_data"
    },
    {
     "data": {
      "application/vnd.jupyter.widget-view+json": {
       "model_id": "7b0d33f818934356b22bb7b62b48a4e7",
       "version_major": 2,
       "version_minor": 0
      },
      "text/plain": [
       "Button(description='Übernehmen!', layout=Layout(width='200px'), style=ButtonStyle(button_color='lightgreen'))"
      ]
     },
     "metadata": {},
     "output_type": "display_data"
    }
   ],
   "source": [
    "# Eingabe des Suchwortes mit Button zur Übernahme der eingegebenen Werte \n",
    "\n",
    "from IPython.display import display \n",
    "import ipywidgets as widgets \n",
    "from ipywidgets import interact, Layout \n",
    "\n",
    "tb1 = widgets.Text(value = 'biene', description ='Suchwort: ');display(tb1);\n",
    "\n",
    "\n",
    "button = widgets.Button(description='Übernehmen!', layout=Layout(width='200px')); \n",
    "button.style.button_color='lightgreen';display(button); \n",
    "def on_button_clicked(sender): \n",
    "    a = tb1.value; \n",
    "    print('Folgendes Suchwort wurde übernommen: ' + str(tb1.value))     \n",
    "button.on_click(on_button_clicked)"
   ]
  },
  {
   "cell_type": "markdown",
   "metadata": {},
   "source": [
    "Nach Übernahme des Suchworts werden alle Treffer in den Dateien gezählt und ausgegeben."
   ]
  },
  {
   "cell_type": "code",
   "execution_count": 18,
   "metadata": {},
   "outputs": [
    {
     "name": "stdout",
     "output_type": "stream",
     "text": [
      "Folgende Textdateien wurden durchsucht: \n",
      " text\n",
      "text.1\n",
      "text.2\n",
      "text.3\n",
      "text.4\n",
      "text.5\n",
      "text.6\n",
      "text.7\n",
      "text.8\n",
      "text.9\n",
      "text.10\n",
      "text.11\n",
      "text.12\n",
      "text.13\n",
      "text.14\n",
      "text.15\n",
      "text.16\n",
      "text.17\n",
      "text.18\n",
      "text.19\n",
      "text.20\n",
      "Insgesamt wurde das Suchwort 8 Mal in den zu durchsuchenden Textdateien gefunden.\n"
     ]
    }
   ],
   "source": [
    "# Automatische Verarbeitung der Dateinamen\n",
    "\n",
    "def adding_name(counter):\n",
    "\n",
    "    i = 1\n",
    "    names = []\n",
    "\n",
    "    for i in range (1, counter): \n",
    "        number = str(i)\n",
    "        name = \"text.\" + number\n",
    "        names.append(name)\n",
    "        i+=1\n",
    "    \n",
    "    return names \n",
    "    \n",
    "\n",
    "\n",
    "counter = len(records)\n",
    "\n",
    "var = adding_name(counter)\n",
    "print(\"Folgende Textdateien wurden durchsucht: \\n text\", *var, sep = \"\\n\") \n",
    "\n",
    "\n",
    "# Suche und Zählen der Zeilen mit Treffern\n",
    "\n",
    "search = str(tb1.value).lower()\n",
    "anzahl = 0 \n",
    "anzahl2 = 0\n",
    "\n",
    "filename = 'text'\n",
    "with open(filename, encoding=\"utf-8\", errors=\"ignore\") as f:\n",
    "    items = f.readlines()\n",
    "    for line in items:\n",
    "        line = line.lower()\n",
    "        if search in line:\n",
    "            anzahl += 1\n",
    "            \n",
    "for name in var: \n",
    "    with open(name, encoding=\"utf-8\", errors=\"ignore\") as f:\n",
    "        for num, line in enumerate(f, 1):\n",
    "            line = line.lower() #Umwandeln in Kleinbuchstaben\n",
    "            if search in line:\n",
    "                anzahl2 += 1\n",
    "\n",
    "print('Insgesamt wurde das Suchwort', anzahl+anzahl2, \"Mal in den zu durchsuchenden Textdateien gefunden.\")"
   ]
  },
  {
   "cell_type": "markdown",
   "metadata": {},
   "source": [
    "### 2. Vorkommen des Suchwortes in den einzelnen Textdateien<a class=\"anchor\" id=\"Teil2\"></a>\n",
    "\n",
    "Alle Treffer werden mit Angabe der Zeile und Datei ausgegeben. \n"
   ]
  },
  {
   "cell_type": "code",
   "execution_count": 19,
   "metadata": {
    "scrolled": true,
    "tags": []
   },
   "outputs": [
    {
     "name": "stdout",
     "output_type": "stream",
     "text": [
      "Das Suchwort \"größe\" wurde gefunden in Zeile: 212 in der Datei  text\n",
      "Das Suchwort \"größe\" wurde gefunden in Zeile: 142 in der Datei  text.9\n",
      "Das Suchwort \"größe\" wurde gefunden in Zeile: 10 in der Datei  text.14\n",
      "Das Suchwort \"größe\" wurde gefunden in Zeile: 12 in der Datei  text.14\n",
      "Das Suchwort \"größe\" wurde gefunden in Zeile: 111 in der Datei  text.14\n",
      "Das Suchwort \"größe\" wurde gefunden in Zeile: 208 in der Datei  text.14\n",
      "Das Suchwort \"größe\" wurde gefunden in Zeile: 364 in der Datei  text.18\n",
      "Das Suchwort \"größe\" wurde gefunden in Zeile: 524 in der Datei  text.19\n"
     ]
    }
   ],
   "source": [
    "search = str(tb1.value).lower() \n",
    "new_file = open('Trefferliste.txt', 'w')\n",
    "\n",
    "filename = 'text'\n",
    "with open(filename, encoding=\"utf-8\", errors=\"ignore\") as f:\n",
    "    for num, line in enumerate(f, 1):\n",
    "        line = line.lower() #Umwandeln in Kleinbuchstaben\n",
    "        if search in line:\n",
    "            print('Das Suchwort \"%s\" wurde gefunden in Zeile:' % search, num , 'in der Datei ',filename)\n",
    "            text = ('Das Suchwort \"%s\" wurde gefunden in Zeile:' % search, num , 'in der Datei ',filename)\n",
    "            new_file.write(str(text) + \"\\n\")\n",
    "            #summary.append(text)\n",
    "            \n",
    "            \n",
    "#Einbau der Schleife erst hier wegen des leicht anderen Formats der Dateinamen... :             \n",
    "for name in var: \n",
    "    with open(name, encoding=\"utf-8\", errors=\"ignore\") as f:\n",
    "        for num, line in enumerate(f, 1):\n",
    "            line = line.lower() #Umwandeln in Kleinbuchstaben\n",
    "            if search in line:\n",
    "                print('Das Suchwort \"%s\" wurde gefunden in Zeile:' % search, num , 'in der Datei ',name) \n",
    "                text2 = ('Das Suchwort \"%s\" wurde gefunden in Zeile:' % search, num , 'in der Datei ',name)\n",
    "                new_file.write(str(text2) + \"\\n\")\n",
    "                \n",
    "new_file.close()\n",
    "\n",
    "with open('Trefferliste.txt') as f:\n",
    "    #lines = f.readlines()\n",
    "    result = f.read()"
   ]
  },
  {
   "cell_type": "markdown",
   "metadata": {},
   "source": [
    "### 3. Top 20 häufigste Wörter in den Textdateien<a class=\"anchor\" id=\"Teil3\"></a>\n",
    "Das Vorkommen der Wörter in den Textdateien wird ausgenommen vordefinierter Stopwörter gezählt und die 20 häufigsten Wörter inklusive Treffermenge ausgegeben."
   ]
  },
  {
   "cell_type": "code",
   "execution_count": 20,
   "metadata": {},
   "outputs": [
    {
     "name": "stderr",
     "output_type": "stream",
     "text": [
      "[nltk_data] Downloading package stopwords to /home/jovyan/nltk_data...\n",
      "[nltk_data]   Unzipping corpora/stopwords.zip.\n"
     ]
    }
   ],
   "source": [
    "content = []\n",
    "\n",
    "filename = 'text'\n",
    "with open(filename, encoding=\"utf-8\", errors=\"ignore\") as f:\n",
    "    file1 = f.read()\n",
    "    content.append(file1.lower())\n",
    "            \n",
    "#Einbau der Schleife erst hier wegen des leicht anderen Formats der Dateinamen... :             \n",
    "for name in var: \n",
    "    with open(name, encoding=\"utf-8\", errors=\"ignore\") as f:\n",
    "        morefiles = f.read()\n",
    "        content.append(morefiles.lower())\n",
    "        \n",
    "import string\n",
    "\n",
    "listofthings = list()\n",
    "\n",
    "for entry in content:      \n",
    "    #Remove punctuation\n",
    "    for c in string.punctuation:\n",
    "        entry= entry.replace(c,\" \")\n",
    "    test = str.split(entry)\n",
    "    listofthings.extend(test)\n",
    "    \n",
    "#Enternen der Seitenzahlen:\n",
    "words = []\n",
    "        \n",
    "for item in listofthings: \n",
    "    if item.isdecimal() is True: \n",
    "        continue\n",
    "    else: \n",
    "        words.append(item)\n",
    "        \n",
    "counts = Counter(words)\n",
    "\n",
    "#Importieren der zu entfernenden Stopwörter (wie bpsw. \"und\", \"der\", etc.):\n",
    "\n",
    "import nltk\n",
    "from nltk.corpus import stopwords\n",
    "from nltk.tokenize import word_tokenize\n",
    "nltk.download('stopwords')\n",
    "\n",
    "stopger = stopwords.words('german')\n",
    "\n",
    "newStopwords = ['a', 'b', 'c', 'd', 'e', 'f', 'g', 'h', 'i', 'j', 'k', 'l',\n",
    "              'm', 'n', 'o', 'p', 'q', 'r', 's', 't', 'u', 'v', 'w', 'x', 'y', 'z', 'vgl', '\\x97', '•', '■', 'v',\n",
    "               'beim', 'inhaltsverzeichnis', 'seite']\n",
    "\n",
    "stopger.extend(newStopwords)\n",
    "\n",
    "tokens_without_sw = [word for word in words if not word in stopger]\n",
    "counts = Counter(tokens_without_sw)\n",
    "\n"
   ]
  },
  {
   "cell_type": "markdown",
   "metadata": {},
   "source": [
    "Die Ausgabe der \"Top-Zahl\" kann beliebig angepasst werden"
   ]
  },
  {
   "cell_type": "code",
   "execution_count": 21,
   "metadata": {},
   "outputs": [
    {
     "name": "stdout",
     "output_type": "stream",
     "text": [
      "[('übersetzt', 232), ('win32', 79), ('ed', 64), ('dinge', 45), ('elefanten', 45), ('kapitel', 41), ('win', 38), ('leben', 35), ('schule', 32), ('—', 30), ('tennis', 30), ('mehr', 29), ('wer', 29), ('us', 28), ('gibt', 26), ('schwein', 26), ('modi', 26), ('lied', 26), ('john', 25), ('immer', 24)]\n"
     ]
    }
   ],
   "source": [
    "# Ändern der Zahl Top 20:\n",
    "print(counts.most_common(20))"
   ]
  },
  {
   "cell_type": "markdown",
   "metadata": {},
   "source": [
    "Die häufigsten Wörter werden in einer Tabelle zur weiteren Bearbeitung angezeigt."
   ]
  },
  {
   "cell_type": "code",
   "execution_count": 22,
   "metadata": {},
   "outputs": [
    {
     "data": {
      "text/html": [
       "<div>\n",
       "<style scoped>\n",
       "    .dataframe tbody tr th:only-of-type {\n",
       "        vertical-align: middle;\n",
       "    }\n",
       "\n",
       "    .dataframe tbody tr th {\n",
       "        vertical-align: top;\n",
       "    }\n",
       "\n",
       "    .dataframe thead th {\n",
       "        text-align: right;\n",
       "    }\n",
       "</style>\n",
       "<table border=\"1\" class=\"dataframe\">\n",
       "  <thead>\n",
       "    <tr style=\"text-align: right;\">\n",
       "      <th></th>\n",
       "      <th>Wort</th>\n",
       "      <th>Häufigkeit</th>\n",
       "    </tr>\n",
       "  </thead>\n",
       "  <tbody>\n",
       "    <tr>\n",
       "      <th>0</th>\n",
       "      <td>übersetzt</td>\n",
       "      <td>232</td>\n",
       "    </tr>\n",
       "    <tr>\n",
       "      <th>1</th>\n",
       "      <td>win32</td>\n",
       "      <td>79</td>\n",
       "    </tr>\n",
       "    <tr>\n",
       "      <th>2</th>\n",
       "      <td>ed</td>\n",
       "      <td>64</td>\n",
       "    </tr>\n",
       "    <tr>\n",
       "      <th>3</th>\n",
       "      <td>dinge</td>\n",
       "      <td>45</td>\n",
       "    </tr>\n",
       "    <tr>\n",
       "      <th>4</th>\n",
       "      <td>elefanten</td>\n",
       "      <td>45</td>\n",
       "    </tr>\n",
       "    <tr>\n",
       "      <th>5</th>\n",
       "      <td>kapitel</td>\n",
       "      <td>41</td>\n",
       "    </tr>\n",
       "    <tr>\n",
       "      <th>6</th>\n",
       "      <td>win</td>\n",
       "      <td>38</td>\n",
       "    </tr>\n",
       "    <tr>\n",
       "      <th>7</th>\n",
       "      <td>leben</td>\n",
       "      <td>35</td>\n",
       "    </tr>\n",
       "    <tr>\n",
       "      <th>8</th>\n",
       "      <td>schule</td>\n",
       "      <td>32</td>\n",
       "    </tr>\n",
       "    <tr>\n",
       "      <th>9</th>\n",
       "      <td>—</td>\n",
       "      <td>30</td>\n",
       "    </tr>\n",
       "    <tr>\n",
       "      <th>10</th>\n",
       "      <td>tennis</td>\n",
       "      <td>30</td>\n",
       "    </tr>\n",
       "    <tr>\n",
       "      <th>11</th>\n",
       "      <td>mehr</td>\n",
       "      <td>29</td>\n",
       "    </tr>\n",
       "    <tr>\n",
       "      <th>12</th>\n",
       "      <td>wer</td>\n",
       "      <td>29</td>\n",
       "    </tr>\n",
       "    <tr>\n",
       "      <th>13</th>\n",
       "      <td>us</td>\n",
       "      <td>28</td>\n",
       "    </tr>\n",
       "    <tr>\n",
       "      <th>14</th>\n",
       "      <td>gibt</td>\n",
       "      <td>26</td>\n",
       "    </tr>\n",
       "    <tr>\n",
       "      <th>15</th>\n",
       "      <td>schwein</td>\n",
       "      <td>26</td>\n",
       "    </tr>\n",
       "    <tr>\n",
       "      <th>16</th>\n",
       "      <td>modi</td>\n",
       "      <td>26</td>\n",
       "    </tr>\n",
       "    <tr>\n",
       "      <th>17</th>\n",
       "      <td>lied</td>\n",
       "      <td>26</td>\n",
       "    </tr>\n",
       "    <tr>\n",
       "      <th>18</th>\n",
       "      <td>john</td>\n",
       "      <td>25</td>\n",
       "    </tr>\n",
       "    <tr>\n",
       "      <th>19</th>\n",
       "      <td>immer</td>\n",
       "      <td>24</td>\n",
       "    </tr>\n",
       "  </tbody>\n",
       "</table>\n",
       "</div>"
      ],
      "text/plain": [
       "         Wort  Häufigkeit\n",
       "0   übersetzt         232\n",
       "1       win32          79\n",
       "2          ed          64\n",
       "3       dinge          45\n",
       "4   elefanten          45\n",
       "5     kapitel          41\n",
       "6         win          38\n",
       "7       leben          35\n",
       "8      schule          32\n",
       "9           —          30\n",
       "10     tennis          30\n",
       "11       mehr          29\n",
       "12        wer          29\n",
       "13         us          28\n",
       "14       gibt          26\n",
       "15    schwein          26\n",
       "16       modi          26\n",
       "17       lied          26\n",
       "18       john          25\n",
       "19      immer          24"
      ]
     },
     "execution_count": 22,
     "metadata": {},
     "output_type": "execute_result"
    }
   ],
   "source": [
    "df = pd.DataFrame(counts.most_common(20), columns=['Wort', 'Häufigkeit'])\n",
    "df"
   ]
  },
  {
   "cell_type": "markdown",
   "metadata": {},
   "source": [
    "Die häufigsten Wörter werden in einem Diagramm ausgegeben."
   ]
  },
  {
   "cell_type": "code",
   "execution_count": 23,
   "metadata": {},
   "outputs": [
    {
     "data": {
      "text/plain": [
       "<AxesSubplot:title={'center':'Worthäufigkeiten'}, xlabel='Wort'>"
      ]
     },
     "execution_count": 23,
     "metadata": {},
     "output_type": "execute_result"
    },
    {
     "data": {
      "image/png": "[encoded data removed]",
      "text/plain": [
       "<Figure size 720x504 with 1 Axes>"
      ]
     },
     "metadata": {
      "needs_background": "light"
     },
     "output_type": "display_data"
    }
   ],
   "source": [
    "import matplotlib.pyplot as plt\n",
    "%matplotlib inline\n",
    "\n",
    "df.plot(kind='bar', x=0, y=1, title='Worthäufigkeiten', figsize=(10,7), color='#86bf91')"
   ]
  },
  {
   "cell_type": "code",
   "execution_count": null,
   "metadata": {},
   "outputs": [],
   "source": []
  },
  {
   "cell_type": "code",
   "execution_count": null,
   "metadata": {},
   "outputs": [],
   "source": []
  }
 ],
 "metadata": {
  "anaconda-cloud": {},
  "kernelspec": {
   "display_name": "Python 3 (ipykernel)",
   "language": "python",
   "name": "python3"
  },
  "language_info": {
   "codemirror_mode": {
    "name": "ipython",
    "version": 3
   },
   "file_extension": ".py",
   "mimetype": "text/x-python",
   "name": "python",
   "nbconvert_exporter": "python",
   "pygments_lexer": "ipython3",
   "version": "3.7.12"
  }
 },
 "nbformat": 4,
 "nbformat_minor": 4
}
