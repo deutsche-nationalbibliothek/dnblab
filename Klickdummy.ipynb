import ipywidgets as widgets
from IPython.display import display, clear_output
import streamlit as st
import pandas as pd

# Streamlit Code in einer Funktion
def streamlit_app():
    # Titel der App
    st.title('DNB Katalog Abfrageformular')

    # 0. Wie alt bist Du?
    alter = st.number_input('0. Wie alt bist Du?', min_value=0, max_value=120)

    # 1. Kennst Du den neuen DNB Katalog?
    st.write('1. Kennst Du den neuen DNB Katalog? (https://katalog.dnb.de/)')
    dnb_kenntnis = st.slider('Antwort 1 bis 5 (5 = sehr gut)', 1, 5, 3)

    # 2. Du bist zuhause und möchtest das digitale Exemplar aufrufen
    st.subheader('2. Digitales Exemplar zuhause aufrufen')
    klickpfad_digital = st.text_area('a) Beschreibe Deinen Klickpfad:')
    gedanken_digital = st.text_area('b) Beschreibe Deine Gedanken beim Klicken:')
    zufriedenheit_digital = st.radio('c) Bist Du zufrieden mit der Benutzungsführung?', ('Ja', 'Nein', 'Teils'))
    aenderung_digital = st.text_area('d) Was würdest Du anders machen/erwarten?')

    # 3. Du möchtest das Medium physisch einsehen
    st.subheader('3. Physische Einsicht des Mediums')
    klickpfad_physisch = st.text_area('a) Beschreibe Deinen Klickpfad:')
    gedanken_physisch = st.text_area('b) Beschreibe Deine Gedanken beim Klicken:')
    zufriedenheit_physisch = st.radio('c) Bist Du zufrieden mit der Benutzungsführung?', ('Ja', 'Nein', 'Teils'))
    aenderung_physisch = st.text_area('d) Was würdest Du anders machen/erwarten?')

    # Button zum Absenden des Formulars
    if st.button('Absenden'):
        # Daten in CSV-Datei speichern
        data = {
            'Alter': alter,
            'DNB Kenntnis': dnb_kenntnis,
            'Klickpfad Digital': klickpfad_digital,
            'Gedanken Digital': gedanken_digital,
            'Zufriedenheit Digital': zufriedenheit_digital,
            'Aenderung Digital': aenderung_digital,
            'Klickpfad Physisch': klickpfad_physisch,
            'Gedanken Physisch': gedanken_physisch,
            'Zufriedenheit Physisch': zufriedenheit_physisch,
            'Aenderung Physisch': aenderung_physisch
        }
        df = pd.DataFrame([data])
        df.to_csv('dnb_ergebnisse.csv', mode='a', header=False, index=False, encoding='utf-8')
        st.success('Daten erfolgreich gespeichert!')

    # Anzeige der gesammelten Ergebnisse
    if st.button('Ergebnisse anzeigen'):
        try:
            ergebnisse = pd.read_csv('dnb_ergebnisse.csv',
                                     names=['Alter', 'DNB Kenntnis', 'Klickpfad Digital',
                                            'Gedanken Digital', 'Zufriedenheit Digital',
                                            'Aenderung Digital', 'Klickpfad Physisch',
                                            'Gedanken Physisch', 'Zufriedenheit Physisch',
                                            'Aenderung Physisch'],
                                     encoding='utf-8')
            st.dataframe(ergebnisse)
        except FileNotFoundError:
            st.warning('Noch keine Ergebnisse vorhanden.')

# Streamlit App aufrufen
streamlit_app()
